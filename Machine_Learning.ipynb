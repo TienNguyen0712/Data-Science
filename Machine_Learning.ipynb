{
 "cells": [
  {
   "cell_type": "markdown",
   "metadata": {},
   "source": [
    "# **01_Làm sao để khai báo dữ liệu trong Python** <a id=\"01\">"
   ]
  },
  {
   "cell_type": "markdown",
   "metadata": {},
   "source": [
    "Một trong những lý do tại sao Python là một trong những ngôn ngữ lập trình phổ biến trong học máy là bởi vỉ nó hỗ trợ nhiều các đóng gói tuyệt vời và dễ dàng dể sử dụng cũng như xây dưng trong việc phân tích dữ liệu. Một trong số đó là thư viện **Pandas**. Trong bài tập này ta sẽ được gới thiệu về thư viện pandas và làm sao để có thể thêm dữ liệu sử dụng những hàm trong pandas. Cuối cùng trong tutorial này bạn sẽ được học\n",
    "* Thế nào là kiểu dữ liệu pandas Series?\n",
    "* Kiểu dữ liệu pandas DataFrame là gì?\n",
    "* Làm sao để khai báo từ file CSV?\n",
    "* Làm sao để khai báo từ file Excel"
   ]
  },
  {
   "cell_type": "markdown",
   "metadata": {},
   "source": [
    "## **Thư viện pandas** <a id = \"01b\">"
   ]
  },
  {
   "cell_type": "code",
   "execution_count": 21,
   "metadata": {},
   "outputs": [],
   "source": [
    "import pandas as pd"
   ]
  },
  {
   "cell_type": "markdown",
   "metadata": {},
   "source": [
    "## **Kiểu dữ liệu pandas Series** <a id = \"01c\">"
   ]
  },
  {
   "cell_type": "code",
   "execution_count": 22,
   "metadata": {},
   "outputs": [
    {
     "data": {
      "text/plain": [
       "0          Brazil\n",
       "1          Russia\n",
       "2           India\n",
       "3           China\n",
       "4    South Africa\n",
       "dtype: object"
      ]
     },
     "execution_count": 22,
     "metadata": {},
     "output_type": "execute_result"
    }
   ],
   "source": [
    "members = [\"Brazil\", \"Russia\", \"India\", \"China\", \"South Africa\"]\n",
    "brics1 = pd.Series(members)\n",
    "brics1"
   ]
  },
  {
   "cell_type": "code",
   "execution_count": 23,
   "metadata": {},
   "outputs": [
    {
     "data": {
      "text/plain": [
       "pandas.core.series.Series"
      ]
     },
     "execution_count": 23,
     "metadata": {},
     "output_type": "execute_result"
    }
   ],
   "source": [
    "type(brics1)"
   ]
  },
  {
   "cell_type": "markdown",
   "metadata": {},
   "source": [
    "## **Kiểu dữ liệu pandas DataFrame** <a id = \"01c\">"
   ]
  },
  {
   "cell_type": "code",
   "execution_count": 24,
   "metadata": {},
   "outputs": [
    {
     "data": {
      "application/vnd.microsoft.datawrangler.viewer.v0+json": {
       "columns": [
        {
         "name": "index",
         "rawType": "int64",
         "type": "integer"
        },
        {
         "name": "country",
         "rawType": "object",
         "type": "string"
        },
        {
         "name": "capital",
         "rawType": "object",
         "type": "string"
        },
        {
         "name": "gdp",
         "rawType": "int64",
         "type": "integer"
        },
        {
         "name": "literacy",
         "rawType": "float64",
         "type": "float"
        },
        {
         "name": "expectancy",
         "rawType": "float64",
         "type": "float"
        },
        {
         "name": "population",
         "rawType": "float64",
         "type": "float"
        }
       ],
       "conversionMethod": "pd.DataFrame",
       "ref": "698d7a63-2b44-4358-9c40-1cf43fe02d6a",
       "rows": [
        [
         "0",
         "Brazil",
         "Brasilia",
         "2750",
         "0.944",
         "76.8",
         "210.87"
        ],
        [
         "1",
         "Russia",
         "Moscow",
         "1658",
         "0.997",
         "72.7",
         "143.96"
        ],
        [
         "2",
         "India",
         "New Delhi",
         "3202",
         "0.721",
         "68.8",
         "1367.09"
        ],
        [
         "3",
         "China",
         "Beijing",
         "15270",
         "0.964",
         "76.4",
         "1415.05"
        ],
        [
         "4",
         "South Africa",
         "Pretoria",
         "370",
         "0.943",
         "63.6",
         "57.4"
        ]
       ],
       "shape": {
        "columns": 6,
        "rows": 5
       }
      },
      "text/html": [
       "<div>\n",
       "<style scoped>\n",
       "    .dataframe tbody tr th:only-of-type {\n",
       "        vertical-align: middle;\n",
       "    }\n",
       "\n",
       "    .dataframe tbody tr th {\n",
       "        vertical-align: top;\n",
       "    }\n",
       "\n",
       "    .dataframe thead th {\n",
       "        text-align: right;\n",
       "    }\n",
       "</style>\n",
       "<table border=\"1\" class=\"dataframe\">\n",
       "  <thead>\n",
       "    <tr style=\"text-align: right;\">\n",
       "      <th></th>\n",
       "      <th>country</th>\n",
       "      <th>capital</th>\n",
       "      <th>gdp</th>\n",
       "      <th>literacy</th>\n",
       "      <th>expectancy</th>\n",
       "      <th>population</th>\n",
       "    </tr>\n",
       "  </thead>\n",
       "  <tbody>\n",
       "    <tr>\n",
       "      <th>0</th>\n",
       "      <td>Brazil</td>\n",
       "      <td>Brasilia</td>\n",
       "      <td>2750</td>\n",
       "      <td>0.944</td>\n",
       "      <td>76.8</td>\n",
       "      <td>210.87</td>\n",
       "    </tr>\n",
       "    <tr>\n",
       "      <th>1</th>\n",
       "      <td>Russia</td>\n",
       "      <td>Moscow</td>\n",
       "      <td>1658</td>\n",
       "      <td>0.997</td>\n",
       "      <td>72.7</td>\n",
       "      <td>143.96</td>\n",
       "    </tr>\n",
       "    <tr>\n",
       "      <th>2</th>\n",
       "      <td>India</td>\n",
       "      <td>New Delhi</td>\n",
       "      <td>3202</td>\n",
       "      <td>0.721</td>\n",
       "      <td>68.8</td>\n",
       "      <td>1367.09</td>\n",
       "    </tr>\n",
       "    <tr>\n",
       "      <th>3</th>\n",
       "      <td>China</td>\n",
       "      <td>Beijing</td>\n",
       "      <td>15270</td>\n",
       "      <td>0.964</td>\n",
       "      <td>76.4</td>\n",
       "      <td>1415.05</td>\n",
       "    </tr>\n",
       "    <tr>\n",
       "      <th>4</th>\n",
       "      <td>South Africa</td>\n",
       "      <td>Pretoria</td>\n",
       "      <td>370</td>\n",
       "      <td>0.943</td>\n",
       "      <td>63.6</td>\n",
       "      <td>57.40</td>\n",
       "    </tr>\n",
       "  </tbody>\n",
       "</table>\n",
       "</div>"
      ],
      "text/plain": [
       "        country    capital    gdp  literacy  expectancy  population\n",
       "0        Brazil   Brasilia   2750     0.944        76.8      210.87\n",
       "1        Russia     Moscow   1658     0.997        72.7      143.96\n",
       "2         India  New Delhi   3202     0.721        68.8     1367.09\n",
       "3         China    Beijing  15270     0.964        76.4     1415.05\n",
       "4  South Africa   Pretoria    370     0.943        63.6       57.40"
      ]
     },
     "execution_count": 24,
     "metadata": {},
     "output_type": "execute_result"
    }
   ],
   "source": [
    "members = {\"country\": [\"Brazil\", \"Russia\", \"India\", \"China\", \"South Africa\"],\n",
    "        \"capital\": [\"Brasilia\", \"Moscow\", \"New Delhi\", \"Beijing\", \"Pretoria\"],\n",
    "        \"gdp\": [2750, 1658, 3202, 15270, 370],\n",
    "        \"literacy\":[.944, .997, .721, .964, .943],\n",
    "        \"expectancy\": [76.8, 72.7, 68.8, 76.4, 63.6],\n",
    "        \"population\": [210.87, 143.96, 1367.09, 1415.05, 57.4]}\n",
    "brics2 = pd.DataFrame(members)\n",
    "brics2"
   ]
  },
  {
   "cell_type": "code",
   "execution_count": 25,
   "metadata": {},
   "outputs": [
    {
     "data": {
      "text/plain": [
       "pandas.core.frame.DataFrame"
      ]
     },
     "execution_count": 25,
     "metadata": {},
     "output_type": "execute_result"
    }
   ],
   "source": [
    "type(brics2)"
   ]
  },
  {
   "cell_type": "code",
   "execution_count": 26,
   "metadata": {},
   "outputs": [
    {
     "data": {
      "application/vnd.microsoft.datawrangler.viewer.v0+json": {
       "columns": [
        {
         "name": "index",
         "rawType": "int64",
         "type": "integer"
        },
        {
         "name": "country",
         "rawType": "object",
         "type": "string"
        },
        {
         "name": "capital",
         "rawType": "object",
         "type": "string"
        },
        {
         "name": "gdp",
         "rawType": "int64",
         "type": "integer"
        },
        {
         "name": "literacy",
         "rawType": "float64",
         "type": "float"
        },
        {
         "name": "expectancy",
         "rawType": "float64",
         "type": "float"
        },
        {
         "name": "population",
         "rawType": "float64",
         "type": "float"
        }
       ],
       "conversionMethod": "pd.DataFrame",
       "ref": "88885c81-692c-4ccb-9cf0-715fb2a2f8d8",
       "rows": [
        [
         "0",
         "Brazil",
         "Brasilia",
         "2750",
         "0.944",
         "76.8",
         "210.87"
        ],
        [
         "1",
         "Russia",
         "Moscow",
         "1658",
         "0.997",
         "72.7",
         "143.96"
        ],
        [
         "2",
         "India",
         "New Delhi",
         "3202",
         "0.721",
         "68.8",
         "1367.09"
        ],
        [
         "3",
         "China",
         "Beijing",
         "15270",
         "0.964",
         "76.4",
         "1415.05"
        ],
        [
         "4",
         "South Africa",
         "Pretoria",
         "370",
         "0.943",
         "63.6",
         "57.4"
        ]
       ],
       "shape": {
        "columns": 6,
        "rows": 5
       }
      },
      "text/html": [
       "<div>\n",
       "<style scoped>\n",
       "    .dataframe tbody tr th:only-of-type {\n",
       "        vertical-align: middle;\n",
       "    }\n",
       "\n",
       "    .dataframe tbody tr th {\n",
       "        vertical-align: top;\n",
       "    }\n",
       "\n",
       "    .dataframe thead th {\n",
       "        text-align: right;\n",
       "    }\n",
       "</style>\n",
       "<table border=\"1\" class=\"dataframe\">\n",
       "  <thead>\n",
       "    <tr style=\"text-align: right;\">\n",
       "      <th></th>\n",
       "      <th>country</th>\n",
       "      <th>capital</th>\n",
       "      <th>gdp</th>\n",
       "      <th>literacy</th>\n",
       "      <th>expectancy</th>\n",
       "      <th>population</th>\n",
       "    </tr>\n",
       "  </thead>\n",
       "  <tbody>\n",
       "    <tr>\n",
       "      <th>0</th>\n",
       "      <td>Brazil</td>\n",
       "      <td>Brasilia</td>\n",
       "      <td>2750</td>\n",
       "      <td>0.944</td>\n",
       "      <td>76.8</td>\n",
       "      <td>210.87</td>\n",
       "    </tr>\n",
       "    <tr>\n",
       "      <th>1</th>\n",
       "      <td>Russia</td>\n",
       "      <td>Moscow</td>\n",
       "      <td>1658</td>\n",
       "      <td>0.997</td>\n",
       "      <td>72.7</td>\n",
       "      <td>143.96</td>\n",
       "    </tr>\n",
       "    <tr>\n",
       "      <th>2</th>\n",
       "      <td>India</td>\n",
       "      <td>New Delhi</td>\n",
       "      <td>3202</td>\n",
       "      <td>0.721</td>\n",
       "      <td>68.8</td>\n",
       "      <td>1367.09</td>\n",
       "    </tr>\n",
       "    <tr>\n",
       "      <th>3</th>\n",
       "      <td>China</td>\n",
       "      <td>Beijing</td>\n",
       "      <td>15270</td>\n",
       "      <td>0.964</td>\n",
       "      <td>76.4</td>\n",
       "      <td>1415.05</td>\n",
       "    </tr>\n",
       "    <tr>\n",
       "      <th>4</th>\n",
       "      <td>South Africa</td>\n",
       "      <td>Pretoria</td>\n",
       "      <td>370</td>\n",
       "      <td>0.943</td>\n",
       "      <td>63.6</td>\n",
       "      <td>57.40</td>\n",
       "    </tr>\n",
       "  </tbody>\n",
       "</table>\n",
       "</div>"
      ],
      "text/plain": [
       "        country    capital    gdp  literacy  expectancy  population\n",
       "0        Brazil   Brasilia   2750     0.944        76.8      210.87\n",
       "1        Russia     Moscow   1658     0.997        72.7      143.96\n",
       "2         India  New Delhi   3202     0.721        68.8     1367.09\n",
       "3         China    Beijing  15270     0.964        76.4     1415.05\n",
       "4  South Africa   Pretoria    370     0.943        63.6       57.40"
      ]
     },
     "execution_count": 26,
     "metadata": {},
     "output_type": "execute_result"
    }
   ],
   "source": [
    "members = [[\"Brazil\", \"Brasilia\", 2750, 0.944, 76.8, 210.87],\n",
    "                     [\"Russia\", \"Moscow\", 1658, 0.997, 72.7, 143.96],\n",
    "                     [\"India\", \"New Delhi\", 3202, 0.721, 68.8, 1367.09],\n",
    "                     [\"China\", \"Beijing\", 15270, 0.964, 76.4, 1415.05],\n",
    "                     [\"South Africa\", \"Pretoria\", 370, 0.943, 63.6, 57.4]]\n",
    "labels = [\"country\", \"capital\", \"gdp\", \"literacy\", \"expectancy\", \"population\"]\n",
    "brics3 = pd.DataFrame(members, columns = labels)\n",
    "brics3"
   ]
  },
  {
   "cell_type": "markdown",
   "metadata": {},
   "source": [
    "Sử dụng **labels** để làm tên các cột trong **DataFrame** và các dữ liệu trong biến **members** kà dữ liệu ứng với từng tên cột có trong **labels**"
   ]
  },
  {
   "cell_type": "code",
   "execution_count": 27,
   "metadata": {},
   "outputs": [
    {
     "data": {
      "text/plain": [
       "0          Brazil\n",
       "1          Russia\n",
       "2           India\n",
       "3           China\n",
       "4    South Africa\n",
       "Name: country, dtype: object"
      ]
     },
     "execution_count": 27,
     "metadata": {},
     "output_type": "execute_result"
    }
   ],
   "source": [
    "brics3['country']"
   ]
  },
  {
   "cell_type": "markdown",
   "metadata": {},
   "source": [
    "## **Làm sao để khai báo dữ liệu từ file CSV** <a id = \"01d\">"
   ]
  },
  {
   "cell_type": "code",
   "execution_count": 28,
   "metadata": {},
   "outputs": [
    {
     "data": {
      "application/vnd.microsoft.datawrangler.viewer.v0+json": {
       "columns": [
        {
         "name": "index",
         "rawType": "int64",
         "type": "integer"
        },
        {
         "name": "country",
         "rawType": "object",
         "type": "string"
        },
        {
         "name": "capital",
         "rawType": "object",
         "type": "string"
        },
        {
         "name": "gdp",
         "rawType": "int64",
         "type": "integer"
        },
        {
         "name": "literacy",
         "rawType": "float64",
         "type": "float"
        },
        {
         "name": "expectancy",
         "rawType": "float64",
         "type": "float"
        },
        {
         "name": "population",
         "rawType": "float64",
         "type": "float"
        }
       ],
       "conversionMethod": "pd.DataFrame",
       "ref": "a544c829-6a51-4e11-8674-a7acd393b404",
       "rows": [
        [
         "0",
         "Brazil",
         "Brasilia",
         "2750",
         "0.944",
         "76.8",
         "210.87"
        ],
        [
         "1",
         "Russia",
         "Moscow",
         "1658",
         "0.997",
         "72.7",
         "143.96"
        ],
        [
         "2",
         "India",
         "New Delhi",
         "3202",
         "0.721",
         "68.8",
         "1367.09"
        ],
        [
         "3",
         "China",
         "Beijing",
         "15270",
         "0.964",
         "76.4",
         "1415.05"
        ],
        [
         "4",
         "South Africa",
         "Pretoria",
         "370",
         "0.943",
         "63.6",
         "57.4"
        ]
       ],
       "shape": {
        "columns": 6,
        "rows": 5
       }
      },
      "text/html": [
       "<div>\n",
       "<style scoped>\n",
       "    .dataframe tbody tr th:only-of-type {\n",
       "        vertical-align: middle;\n",
       "    }\n",
       "\n",
       "    .dataframe tbody tr th {\n",
       "        vertical-align: top;\n",
       "    }\n",
       "\n",
       "    .dataframe thead th {\n",
       "        text-align: right;\n",
       "    }\n",
       "</style>\n",
       "<table border=\"1\" class=\"dataframe\">\n",
       "  <thead>\n",
       "    <tr style=\"text-align: right;\">\n",
       "      <th></th>\n",
       "      <th>country</th>\n",
       "      <th>capital</th>\n",
       "      <th>gdp</th>\n",
       "      <th>literacy</th>\n",
       "      <th>expectancy</th>\n",
       "      <th>population</th>\n",
       "    </tr>\n",
       "  </thead>\n",
       "  <tbody>\n",
       "    <tr>\n",
       "      <th>0</th>\n",
       "      <td>Brazil</td>\n",
       "      <td>Brasilia</td>\n",
       "      <td>2750</td>\n",
       "      <td>0.944</td>\n",
       "      <td>76.8</td>\n",
       "      <td>210.87</td>\n",
       "    </tr>\n",
       "    <tr>\n",
       "      <th>1</th>\n",
       "      <td>Russia</td>\n",
       "      <td>Moscow</td>\n",
       "      <td>1658</td>\n",
       "      <td>0.997</td>\n",
       "      <td>72.7</td>\n",
       "      <td>143.96</td>\n",
       "    </tr>\n",
       "    <tr>\n",
       "      <th>2</th>\n",
       "      <td>India</td>\n",
       "      <td>New Delhi</td>\n",
       "      <td>3202</td>\n",
       "      <td>0.721</td>\n",
       "      <td>68.8</td>\n",
       "      <td>1367.09</td>\n",
       "    </tr>\n",
       "    <tr>\n",
       "      <th>3</th>\n",
       "      <td>China</td>\n",
       "      <td>Beijing</td>\n",
       "      <td>15270</td>\n",
       "      <td>0.964</td>\n",
       "      <td>76.4</td>\n",
       "      <td>1415.05</td>\n",
       "    </tr>\n",
       "    <tr>\n",
       "      <th>4</th>\n",
       "      <td>South Africa</td>\n",
       "      <td>Pretoria</td>\n",
       "      <td>370</td>\n",
       "      <td>0.943</td>\n",
       "      <td>63.6</td>\n",
       "      <td>57.40</td>\n",
       "    </tr>\n",
       "  </tbody>\n",
       "</table>\n",
       "</div>"
      ],
      "text/plain": [
       "        country    capital    gdp  literacy  expectancy  population\n",
       "0        Brazil   Brasilia   2750     0.944        76.8      210.87\n",
       "1        Russia     Moscow   1658     0.997        72.7      143.96\n",
       "2         India  New Delhi   3202     0.721        68.8     1367.09\n",
       "3         China    Beijing  15270     0.964        76.4     1415.05\n",
       "4  South Africa   Pretoria    370     0.943        63.6       57.40"
      ]
     },
     "execution_count": 28,
     "metadata": {},
     "output_type": "execute_result"
    }
   ],
   "source": [
    "# for Mac users\n",
    "# brics4 = pd.read_csv(\"Data/brics.csv\")\n",
    "# for Win users\n",
    "# brics4 = pd.read_csv(\"Data\\\\brics.csv\")\n",
    "# for Google Colab\n",
    "brics4 = pd.read_csv(\"Data/brics.csv\")\n",
    "brics4"
   ]
  },
  {
   "cell_type": "markdown",
   "metadata": {},
   "source": [
    "## **Làm sao để khai báo dữ liệu từ file Excel** <a id = \"01e\">"
   ]
  },
  {
   "cell_type": "code",
   "execution_count": 29,
   "metadata": {},
   "outputs": [
    {
     "data": {
      "application/vnd.microsoft.datawrangler.viewer.v0+json": {
       "columns": [
        {
         "name": "index",
         "rawType": "int64",
         "type": "integer"
        },
        {
         "name": "country",
         "rawType": "object",
         "type": "string"
        },
        {
         "name": "capital",
         "rawType": "object",
         "type": "string"
        },
        {
         "name": "gdp",
         "rawType": "int64",
         "type": "integer"
        },
        {
         "name": "literacy",
         "rawType": "float64",
         "type": "float"
        },
        {
         "name": "expectancy",
         "rawType": "float64",
         "type": "float"
        },
        {
         "name": "population",
         "rawType": "float64",
         "type": "float"
        }
       ],
       "conversionMethod": "pd.DataFrame",
       "ref": "a370371b-6fa4-4b25-a4ed-cbd8f6db47d5",
       "rows": [
        [
         "0",
         "Brazil",
         "Brasilia",
         "2750",
         "0.944",
         "76.8",
         "210.87"
        ],
        [
         "1",
         "Russia",
         "Moscow",
         "1658",
         "0.997",
         "72.7",
         "143.96"
        ],
        [
         "2",
         "India",
         "New Delhi",
         "3202",
         "0.721",
         "68.8",
         "1367.09"
        ],
        [
         "3",
         "China",
         "Beijing",
         "15270",
         "0.964",
         "76.4",
         "1415.05"
        ],
        [
         "4",
         "South Africa",
         "Pretoria",
         "370",
         "0.943",
         "63.6",
         "57.4"
        ]
       ],
       "shape": {
        "columns": 6,
        "rows": 5
       }
      },
      "text/html": [
       "<div>\n",
       "<style scoped>\n",
       "    .dataframe tbody tr th:only-of-type {\n",
       "        vertical-align: middle;\n",
       "    }\n",
       "\n",
       "    .dataframe tbody tr th {\n",
       "        vertical-align: top;\n",
       "    }\n",
       "\n",
       "    .dataframe thead th {\n",
       "        text-align: right;\n",
       "    }\n",
       "</style>\n",
       "<table border=\"1\" class=\"dataframe\">\n",
       "  <thead>\n",
       "    <tr style=\"text-align: right;\">\n",
       "      <th></th>\n",
       "      <th>country</th>\n",
       "      <th>capital</th>\n",
       "      <th>gdp</th>\n",
       "      <th>literacy</th>\n",
       "      <th>expectancy</th>\n",
       "      <th>population</th>\n",
       "    </tr>\n",
       "  </thead>\n",
       "  <tbody>\n",
       "    <tr>\n",
       "      <th>0</th>\n",
       "      <td>Brazil</td>\n",
       "      <td>Brasilia</td>\n",
       "      <td>2750</td>\n",
       "      <td>0.944</td>\n",
       "      <td>76.8</td>\n",
       "      <td>210.87</td>\n",
       "    </tr>\n",
       "    <tr>\n",
       "      <th>1</th>\n",
       "      <td>Russia</td>\n",
       "      <td>Moscow</td>\n",
       "      <td>1658</td>\n",
       "      <td>0.997</td>\n",
       "      <td>72.7</td>\n",
       "      <td>143.96</td>\n",
       "    </tr>\n",
       "    <tr>\n",
       "      <th>2</th>\n",
       "      <td>India</td>\n",
       "      <td>New Delhi</td>\n",
       "      <td>3202</td>\n",
       "      <td>0.721</td>\n",
       "      <td>68.8</td>\n",
       "      <td>1367.09</td>\n",
       "    </tr>\n",
       "    <tr>\n",
       "      <th>3</th>\n",
       "      <td>China</td>\n",
       "      <td>Beijing</td>\n",
       "      <td>15270</td>\n",
       "      <td>0.964</td>\n",
       "      <td>76.4</td>\n",
       "      <td>1415.05</td>\n",
       "    </tr>\n",
       "    <tr>\n",
       "      <th>4</th>\n",
       "      <td>South Africa</td>\n",
       "      <td>Pretoria</td>\n",
       "      <td>370</td>\n",
       "      <td>0.943</td>\n",
       "      <td>63.6</td>\n",
       "      <td>57.40</td>\n",
       "    </tr>\n",
       "  </tbody>\n",
       "</table>\n",
       "</div>"
      ],
      "text/plain": [
       "        country    capital    gdp  literacy  expectancy  population\n",
       "0        Brazil   Brasilia   2750     0.944        76.8      210.87\n",
       "1        Russia     Moscow   1658     0.997        72.7      143.96\n",
       "2         India  New Delhi   3202     0.721        68.8     1367.09\n",
       "3         China    Beijing  15270     0.964        76.4     1415.05\n",
       "4  South Africa   Pretoria    370     0.943        63.6       57.40"
      ]
     },
     "execution_count": 29,
     "metadata": {},
     "output_type": "execute_result"
    }
   ],
   "source": [
    "brics5 = pd.read_excel(\"Data/brics.xlsx\")\n",
    "brics5"
   ]
  },
  {
   "cell_type": "code",
   "execution_count": 30,
   "metadata": {},
   "outputs": [
    {
     "data": {
      "application/vnd.microsoft.datawrangler.viewer.v0+json": {
       "columns": [
        {
         "name": "index",
         "rawType": "int64",
         "type": "integer"
        },
        {
         "name": "summit",
         "rawType": "object",
         "type": "string"
        },
        {
         "name": "date",
         "rawType": "object",
         "type": "string"
        },
        {
         "name": "host",
         "rawType": "object",
         "type": "string"
        },
        {
         "name": "leader",
         "rawType": "object",
         "type": "string"
        },
        {
         "name": "location",
         "rawType": "object",
         "type": "string"
        }
       ],
       "conversionMethod": "pd.DataFrame",
       "ref": "13a9678a-4ba3-4114-8044-94000c0e279b",
       "rows": [
        [
         "0",
         "1st",
         "June 16th, 2009",
         "Russia",
         "Dmitry Medvedev",
         "Yekaterinburg (Sevastianov's House)"
        ],
        [
         "1",
         "2nd",
         "April 15th, 2010",
         "Brazil",
         "Luiz Inácio Lula da Silva",
         "Brasília (Itamaraty Palace)"
        ],
        [
         "2",
         "3rd",
         "April 14th, 2011",
         "China",
         "Hu Jintao",
         "Sanya (Sheraton Sanya Resort)"
        ],
        [
         "3",
         "4th",
         "March 29th, 2012",
         "India",
         "Manmohan Singh",
         "New Delhi (Taj Mahal Hotel)"
        ],
        [
         "4",
         "5th",
         "March 26th – 27th, 2013",
         "South Africa",
         "Jacob Zuma",
         "Durban (Durban ICC)"
        ],
        [
         "5",
         "6th",
         "July 14th – 17th, 2014",
         "Brazil",
         "Dilma Rousseff",
         "Fortaleza (Centro de Eventos do Ceará)"
        ],
        [
         "6",
         "7th",
         "July 8th – 9th, 2015",
         "Russia",
         "Vladimir Putin",
         "Ufa (Congress Hall)"
        ],
        [
         "7",
         "8th",
         "October 15th – 16th, 2016",
         "India",
         "Narendra Modi",
         "Benaulim (Taj Exotica)"
        ],
        [
         "8",
         "9th",
         "September 3th – 5th, 2017",
         "China",
         "Xi Jinping",
         "Xiamen (Xiamen International Conference Center)"
        ],
        [
         "9",
         "10th",
         "July 25th – 27th, 2018",
         "South Africa",
         "Cyril Ramaphosa",
         "Johannesburg (Sandton Convention Centre)"
        ],
        [
         "10",
         "11th",
         "November 13th – 14th, 2019",
         "Brazil",
         "Jair Bolsonaro",
         "Brasília (Itamaraty Palace)"
        ],
        [
         "11",
         "12th",
         "November 17th, 2020",
         "Russia",
         "Vladimir Putin",
         "Saint Petersburg (video conference)"
        ],
        [
         "12",
         "13th",
         "TBA",
         "India",
         "Narendra Modi",
         "New Delhi"
        ]
       ],
       "shape": {
        "columns": 5,
        "rows": 13
       }
      },
      "text/html": [
       "<div>\n",
       "<style scoped>\n",
       "    .dataframe tbody tr th:only-of-type {\n",
       "        vertical-align: middle;\n",
       "    }\n",
       "\n",
       "    .dataframe tbody tr th {\n",
       "        vertical-align: top;\n",
       "    }\n",
       "\n",
       "    .dataframe thead th {\n",
       "        text-align: right;\n",
       "    }\n",
       "</style>\n",
       "<table border=\"1\" class=\"dataframe\">\n",
       "  <thead>\n",
       "    <tr style=\"text-align: right;\">\n",
       "      <th></th>\n",
       "      <th>summit</th>\n",
       "      <th>date</th>\n",
       "      <th>host</th>\n",
       "      <th>leader</th>\n",
       "      <th>location</th>\n",
       "    </tr>\n",
       "  </thead>\n",
       "  <tbody>\n",
       "    <tr>\n",
       "      <th>0</th>\n",
       "      <td>1st</td>\n",
       "      <td>June 16th, 2009</td>\n",
       "      <td>Russia</td>\n",
       "      <td>Dmitry Medvedev</td>\n",
       "      <td>Yekaterinburg (Sevastianov's House)</td>\n",
       "    </tr>\n",
       "    <tr>\n",
       "      <th>1</th>\n",
       "      <td>2nd</td>\n",
       "      <td>April 15th, 2010</td>\n",
       "      <td>Brazil</td>\n",
       "      <td>Luiz Inácio Lula da Silva</td>\n",
       "      <td>Brasília (Itamaraty Palace)</td>\n",
       "    </tr>\n",
       "    <tr>\n",
       "      <th>2</th>\n",
       "      <td>3rd</td>\n",
       "      <td>April 14th, 2011</td>\n",
       "      <td>China</td>\n",
       "      <td>Hu Jintao</td>\n",
       "      <td>Sanya (Sheraton Sanya Resort)</td>\n",
       "    </tr>\n",
       "    <tr>\n",
       "      <th>3</th>\n",
       "      <td>4th</td>\n",
       "      <td>March 29th, 2012</td>\n",
       "      <td>India</td>\n",
       "      <td>Manmohan Singh</td>\n",
       "      <td>New Delhi (Taj Mahal Hotel)</td>\n",
       "    </tr>\n",
       "    <tr>\n",
       "      <th>4</th>\n",
       "      <td>5th</td>\n",
       "      <td>March 26th – 27th, 2013</td>\n",
       "      <td>South Africa</td>\n",
       "      <td>Jacob Zuma</td>\n",
       "      <td>Durban (Durban ICC)</td>\n",
       "    </tr>\n",
       "    <tr>\n",
       "      <th>5</th>\n",
       "      <td>6th</td>\n",
       "      <td>July 14th – 17th, 2014</td>\n",
       "      <td>Brazil</td>\n",
       "      <td>Dilma Rousseff</td>\n",
       "      <td>Fortaleza (Centro de Eventos do Ceará)</td>\n",
       "    </tr>\n",
       "    <tr>\n",
       "      <th>6</th>\n",
       "      <td>7th</td>\n",
       "      <td>July 8th – 9th, 2015</td>\n",
       "      <td>Russia</td>\n",
       "      <td>Vladimir Putin</td>\n",
       "      <td>Ufa (Congress Hall)</td>\n",
       "    </tr>\n",
       "    <tr>\n",
       "      <th>7</th>\n",
       "      <td>8th</td>\n",
       "      <td>October 15th – 16th, 2016</td>\n",
       "      <td>India</td>\n",
       "      <td>Narendra Modi</td>\n",
       "      <td>Benaulim (Taj Exotica)</td>\n",
       "    </tr>\n",
       "    <tr>\n",
       "      <th>8</th>\n",
       "      <td>9th</td>\n",
       "      <td>September 3th – 5th, 2017</td>\n",
       "      <td>China</td>\n",
       "      <td>Xi Jinping</td>\n",
       "      <td>Xiamen (Xiamen International Conference Center)</td>\n",
       "    </tr>\n",
       "    <tr>\n",
       "      <th>9</th>\n",
       "      <td>10th</td>\n",
       "      <td>July 25th – 27th, 2018</td>\n",
       "      <td>South Africa</td>\n",
       "      <td>Cyril Ramaphosa</td>\n",
       "      <td>Johannesburg (Sandton Convention Centre)</td>\n",
       "    </tr>\n",
       "    <tr>\n",
       "      <th>10</th>\n",
       "      <td>11th</td>\n",
       "      <td>November 13th – 14th, 2019</td>\n",
       "      <td>Brazil</td>\n",
       "      <td>Jair Bolsonaro</td>\n",
       "      <td>Brasília (Itamaraty Palace)</td>\n",
       "    </tr>\n",
       "    <tr>\n",
       "      <th>11</th>\n",
       "      <td>12th</td>\n",
       "      <td>November 17th, 2020</td>\n",
       "      <td>Russia</td>\n",
       "      <td>Vladimir Putin</td>\n",
       "      <td>Saint Petersburg (video conference)</td>\n",
       "    </tr>\n",
       "    <tr>\n",
       "      <th>12</th>\n",
       "      <td>13th</td>\n",
       "      <td>TBA</td>\n",
       "      <td>India</td>\n",
       "      <td>Narendra Modi</td>\n",
       "      <td>New Delhi</td>\n",
       "    </tr>\n",
       "  </tbody>\n",
       "</table>\n",
       "</div>"
      ],
      "text/plain": [
       "   summit                        date          host  \\\n",
       "0     1st             June 16th, 2009        Russia   \n",
       "1     2nd            April 15th, 2010        Brazil   \n",
       "2     3rd            April 14th, 2011         China   \n",
       "3     4th            March 29th, 2012         India   \n",
       "4     5th     March 26th – 27th, 2013  South Africa   \n",
       "5     6th      July 14th – 17th, 2014        Brazil   \n",
       "6     7th        July 8th – 9th, 2015        Russia   \n",
       "7     8th   October 15th – 16th, 2016         India   \n",
       "8     9th   September 3th – 5th, 2017         China   \n",
       "9    10th      July 25th – 27th, 2018  South Africa   \n",
       "10   11th  November 13th – 14th, 2019        Brazil   \n",
       "11   12th         November 17th, 2020        Russia   \n",
       "12   13th                         TBA         India   \n",
       "\n",
       "                       leader                                         location  \n",
       "0             Dmitry Medvedev              Yekaterinburg (Sevastianov's House)  \n",
       "1   Luiz Inácio Lula da Silva                      Brasília (Itamaraty Palace)  \n",
       "2                   Hu Jintao                    Sanya (Sheraton Sanya Resort)  \n",
       "3              Manmohan Singh                      New Delhi (Taj Mahal Hotel)  \n",
       "4                  Jacob Zuma                              Durban (Durban ICC)  \n",
       "5              Dilma Rousseff           Fortaleza (Centro de Eventos do Ceará)  \n",
       "6              Vladimir Putin                              Ufa (Congress Hall)  \n",
       "7               Narendra Modi                           Benaulim (Taj Exotica)  \n",
       "8                  Xi Jinping  Xiamen (Xiamen International Conference Center)  \n",
       "9             Cyril Ramaphosa         Johannesburg (Sandton Convention Centre)  \n",
       "10             Jair Bolsonaro                      Brasília (Itamaraty Palace)  \n",
       "11             Vladimir Putin              Saint Petersburg (video conference)  \n",
       "12              Narendra Modi                                        New Delhi  "
      ]
     },
     "execution_count": 30,
     "metadata": {},
     "output_type": "execute_result"
    }
   ],
   "source": [
    "brics6 = pd.read_excel(\"Data/brics.xlsx\", sheet_name = \"Summits\")\n",
    "brics6"
   ]
  },
  {
   "cell_type": "markdown",
   "metadata": {},
   "source": [
    "# **02_Làm sao để tóm tắt dữ liệu trong Python** <a id = \"02\">"
   ]
  },
  {
   "cell_type": "markdown",
   "metadata": {},
   "source": [
    "Khi chúng ta khai phá dữ liệu, một trong những điều quan trọng nhất chúng ta có thể làm là tóm tắt chúng do đó mà chúng ta có thể hiểu rõ hơn về chúng. Một cách thông thường để có thể tóm tắt dữ liệu là phương pháp **tổng hợp tính toán** như **trung bình ( mean )**, **trung vị ( median )**, **giá trị lớn nhất ( maximum )**, **giá trị nhỏ nhất ( minimum )** các phép **tính toán** này hoặc chúng ta có thể hiểu là dạng phân tích diễn giải không đi quá sâu vào các thành phần có trong dữ liệu của chúng ta. Đây là lý do vì sao mà phương pháp này được gọi là **phân tích mô tả ( descriptive statistics )** hay **tóm tắt phân tích ( summary statistics )**. Thư viện pandas DataFame bao gồm các phương thức cho việc phân tích mô tả này. Trong phần cuỗi của tutorial này, chúng ta sẽ được học:\n",
    "* Làm sao để mô tả DataFrame?\n",
    "* Làm sao để thực hiện các tính toán đơn giản?\n",
    "* Làm sao để tính toán tổng hợp với các nhóm ( group-level)?"
   ]
  },
  {
   "cell_type": "markdown",
   "metadata": {},
   "source": [
    "## **Làm sao để mô tả DataFrame** <a id = \"02a\">"
   ]
  },
  {
   "cell_type": "code",
   "execution_count": 31,
   "metadata": {},
   "outputs": [
    {
     "name": "stdout",
     "output_type": "stream",
     "text": [
      "<class 'pandas.core.frame.DataFrame'>\n",
      "RangeIndex: 261 entries, 0 to 260\n",
      "Data columns (total 18 columns):\n",
      " #   Column         Non-Null Count  Dtype  \n",
      "---  ------         --------------  -----  \n",
      " 0   ID             261 non-null    int64  \n",
      " 1   BrandName      261 non-null    object \n",
      " 2   ModelNumber    261 non-null    object \n",
      " 3   UPC            261 non-null    object \n",
      " 4   Configuration  261 non-null    object \n",
      " 5   Features       202 non-null    object \n",
      " 6   Market         261 non-null    object \n",
      " 7   Volume         261 non-null    float64\n",
      " 8   IMEF           261 non-null    float64\n",
      " 9   MinimumIMEF    261 non-null    float64\n",
      " 10  EnergyUse      261 non-null    int64  \n",
      " 11  IWF            261 non-null    float64\n",
      " 12  MaximumIWF     261 non-null    float64\n",
      " 13  WaterUse       261 non-null    int64  \n",
      " 14  DateAvailable  261 non-null    object \n",
      " 15  DateCertified  261 non-null    object \n",
      " 16  Countries      261 non-null    object \n",
      " 17  MostEfficient  261 non-null    object \n",
      "dtypes: float64(5), int64(3), object(10)\n",
      "memory usage: 36.8+ KB\n"
     ]
    }
   ],
   "source": [
    "import pandas as pd\n",
    "washers = pd.read_csv(\"Data/washers.csv\")\n",
    "washers.info()"
   ]
  },
  {
   "cell_type": "code",
   "execution_count": 32,
   "metadata": {},
   "outputs": [
    {
     "data": {
      "application/vnd.microsoft.datawrangler.viewer.v0+json": {
       "columns": [
        {
         "name": "index",
         "rawType": "int64",
         "type": "integer"
        },
        {
         "name": "ID",
         "rawType": "int64",
         "type": "integer"
        },
        {
         "name": "BrandName",
         "rawType": "object",
         "type": "string"
        },
        {
         "name": "ModelNumber",
         "rawType": "object",
         "type": "string"
        },
        {
         "name": "UPC",
         "rawType": "object",
         "type": "string"
        },
        {
         "name": "Configuration",
         "rawType": "object",
         "type": "string"
        },
        {
         "name": "Features",
         "rawType": "object",
         "type": "string"
        },
        {
         "name": "Market",
         "rawType": "object",
         "type": "string"
        },
        {
         "name": "Volume",
         "rawType": "float64",
         "type": "float"
        },
        {
         "name": "IMEF",
         "rawType": "float64",
         "type": "float"
        },
        {
         "name": "MinimumIMEF",
         "rawType": "float64",
         "type": "float"
        },
        {
         "name": "EnergyUse",
         "rawType": "int64",
         "type": "integer"
        },
        {
         "name": "IWF",
         "rawType": "float64",
         "type": "float"
        },
        {
         "name": "MaximumIWF",
         "rawType": "float64",
         "type": "float"
        },
        {
         "name": "WaterUse",
         "rawType": "int64",
         "type": "integer"
        },
        {
         "name": "DateAvailable",
         "rawType": "object",
         "type": "string"
        },
        {
         "name": "DateCertified",
         "rawType": "object",
         "type": "string"
        },
        {
         "name": "Countries",
         "rawType": "object",
         "type": "string"
        },
        {
         "name": "MostEfficient",
         "rawType": "object",
         "type": "string"
        }
       ],
       "conversionMethod": "pd.DataFrame",
       "ref": "2ac26076-8feb-4be4-acd1-7feab69beb2c",
       "rows": [
        [
         "0",
         "2342279",
         "GE",
         "GTW845C*N***",
         "1",
         "Top Load",
         "Gentle Cycle,Delayed Start,Sanitize Option",
         "Residential",
         "5.0",
         "2.06",
         "1.29",
         "192",
         "4.3",
         "8.4",
         "6368",
         "8/5/19",
         "7/31/19",
         "United States, Canada",
         "No"
        ],
        [
         "1",
         "2331684",
         "GE",
         "GUD27EE*N***",
         "84691844198",
         "Top Load",
         "Gentle Cycle",
         "Residential",
         "3.9",
         "2.06",
         "1.29",
         "140",
         "4.3",
         "8.4",
         "4947",
         "12/10/18",
         "11/30/18",
         "United States",
         "No"
        ],
        [
         "2",
         "2331685",
         "GE",
         "GUD27EE*N***",
         "7.57638E+11",
         "Top Load",
         "Gentle Cycle",
         "Residential",
         "3.9",
         "2.06",
         "1.29",
         "140",
         "4.3",
         "8.4",
         "4947",
         "12/10/18",
         "11/30/18",
         "Canada",
         "No"
        ],
        [
         "3",
         "2331687",
         "GE",
         "GUD27GE*N***",
         "84691844181",
         "Top Load",
         "Gentle Cycle",
         "Residential",
         "3.9",
         "2.06",
         "1.29",
         "140",
         "4.3",
         "8.4",
         "4947",
         "12/10/18",
         "11/30/18",
         "United States",
         "No"
        ],
        [
         "4",
         "2331686",
         "GE",
         "GUD37EE*N***",
         "7.57638E+11",
         "Top Load",
         "Gentle Cycle",
         "Residential",
         "3.9",
         "2.06",
         "1.29",
         "140",
         "4.3",
         "8.4",
         "4947",
         "12/10/18",
         "11/30/18",
         "Canada",
         "No"
        ]
       ],
       "shape": {
        "columns": 18,
        "rows": 5
       }
      },
      "text/html": [
       "<div>\n",
       "<style scoped>\n",
       "    .dataframe tbody tr th:only-of-type {\n",
       "        vertical-align: middle;\n",
       "    }\n",
       "\n",
       "    .dataframe tbody tr th {\n",
       "        vertical-align: top;\n",
       "    }\n",
       "\n",
       "    .dataframe thead th {\n",
       "        text-align: right;\n",
       "    }\n",
       "</style>\n",
       "<table border=\"1\" class=\"dataframe\">\n",
       "  <thead>\n",
       "    <tr style=\"text-align: right;\">\n",
       "      <th></th>\n",
       "      <th>ID</th>\n",
       "      <th>BrandName</th>\n",
       "      <th>ModelNumber</th>\n",
       "      <th>UPC</th>\n",
       "      <th>Configuration</th>\n",
       "      <th>Features</th>\n",
       "      <th>Market</th>\n",
       "      <th>Volume</th>\n",
       "      <th>IMEF</th>\n",
       "      <th>MinimumIMEF</th>\n",
       "      <th>EnergyUse</th>\n",
       "      <th>IWF</th>\n",
       "      <th>MaximumIWF</th>\n",
       "      <th>WaterUse</th>\n",
       "      <th>DateAvailable</th>\n",
       "      <th>DateCertified</th>\n",
       "      <th>Countries</th>\n",
       "      <th>MostEfficient</th>\n",
       "    </tr>\n",
       "  </thead>\n",
       "  <tbody>\n",
       "    <tr>\n",
       "      <th>0</th>\n",
       "      <td>2342279</td>\n",
       "      <td>GE</td>\n",
       "      <td>GTW845C*N***</td>\n",
       "      <td>1</td>\n",
       "      <td>Top Load</td>\n",
       "      <td>Gentle Cycle,Delayed Start,Sanitize Option</td>\n",
       "      <td>Residential</td>\n",
       "      <td>5.0</td>\n",
       "      <td>2.06</td>\n",
       "      <td>1.29</td>\n",
       "      <td>192</td>\n",
       "      <td>4.3</td>\n",
       "      <td>8.4</td>\n",
       "      <td>6368</td>\n",
       "      <td>8/5/19</td>\n",
       "      <td>7/31/19</td>\n",
       "      <td>United States, Canada</td>\n",
       "      <td>No</td>\n",
       "    </tr>\n",
       "    <tr>\n",
       "      <th>1</th>\n",
       "      <td>2331684</td>\n",
       "      <td>GE</td>\n",
       "      <td>GUD27EE*N***</td>\n",
       "      <td>84691844198</td>\n",
       "      <td>Top Load</td>\n",
       "      <td>Gentle Cycle</td>\n",
       "      <td>Residential</td>\n",
       "      <td>3.9</td>\n",
       "      <td>2.06</td>\n",
       "      <td>1.29</td>\n",
       "      <td>140</td>\n",
       "      <td>4.3</td>\n",
       "      <td>8.4</td>\n",
       "      <td>4947</td>\n",
       "      <td>12/10/18</td>\n",
       "      <td>11/30/18</td>\n",
       "      <td>United States</td>\n",
       "      <td>No</td>\n",
       "    </tr>\n",
       "    <tr>\n",
       "      <th>2</th>\n",
       "      <td>2331685</td>\n",
       "      <td>GE</td>\n",
       "      <td>GUD27EE*N***</td>\n",
       "      <td>7.57638E+11</td>\n",
       "      <td>Top Load</td>\n",
       "      <td>Gentle Cycle</td>\n",
       "      <td>Residential</td>\n",
       "      <td>3.9</td>\n",
       "      <td>2.06</td>\n",
       "      <td>1.29</td>\n",
       "      <td>140</td>\n",
       "      <td>4.3</td>\n",
       "      <td>8.4</td>\n",
       "      <td>4947</td>\n",
       "      <td>12/10/18</td>\n",
       "      <td>11/30/18</td>\n",
       "      <td>Canada</td>\n",
       "      <td>No</td>\n",
       "    </tr>\n",
       "    <tr>\n",
       "      <th>3</th>\n",
       "      <td>2331687</td>\n",
       "      <td>GE</td>\n",
       "      <td>GUD27GE*N***</td>\n",
       "      <td>84691844181</td>\n",
       "      <td>Top Load</td>\n",
       "      <td>Gentle Cycle</td>\n",
       "      <td>Residential</td>\n",
       "      <td>3.9</td>\n",
       "      <td>2.06</td>\n",
       "      <td>1.29</td>\n",
       "      <td>140</td>\n",
       "      <td>4.3</td>\n",
       "      <td>8.4</td>\n",
       "      <td>4947</td>\n",
       "      <td>12/10/18</td>\n",
       "      <td>11/30/18</td>\n",
       "      <td>United States</td>\n",
       "      <td>No</td>\n",
       "    </tr>\n",
       "    <tr>\n",
       "      <th>4</th>\n",
       "      <td>2331686</td>\n",
       "      <td>GE</td>\n",
       "      <td>GUD37EE*N***</td>\n",
       "      <td>7.57638E+11</td>\n",
       "      <td>Top Load</td>\n",
       "      <td>Gentle Cycle</td>\n",
       "      <td>Residential</td>\n",
       "      <td>3.9</td>\n",
       "      <td>2.06</td>\n",
       "      <td>1.29</td>\n",
       "      <td>140</td>\n",
       "      <td>4.3</td>\n",
       "      <td>8.4</td>\n",
       "      <td>4947</td>\n",
       "      <td>12/10/18</td>\n",
       "      <td>11/30/18</td>\n",
       "      <td>Canada</td>\n",
       "      <td>No</td>\n",
       "    </tr>\n",
       "  </tbody>\n",
       "</table>\n",
       "</div>"
      ],
      "text/plain": [
       "        ID BrandName   ModelNumber          UPC Configuration  \\\n",
       "0  2342279        GE  GTW845C*N***            1      Top Load   \n",
       "1  2331684        GE  GUD27EE*N***  84691844198      Top Load   \n",
       "2  2331685        GE  GUD27EE*N***  7.57638E+11      Top Load   \n",
       "3  2331687        GE  GUD27GE*N***  84691844181      Top Load   \n",
       "4  2331686        GE  GUD37EE*N***  7.57638E+11      Top Load   \n",
       "\n",
       "                                     Features       Market  Volume  IMEF  \\\n",
       "0  Gentle Cycle,Delayed Start,Sanitize Option  Residential     5.0  2.06   \n",
       "1                                Gentle Cycle  Residential     3.9  2.06   \n",
       "2                                Gentle Cycle  Residential     3.9  2.06   \n",
       "3                                Gentle Cycle  Residential     3.9  2.06   \n",
       "4                                Gentle Cycle  Residential     3.9  2.06   \n",
       "\n",
       "   MinimumIMEF  EnergyUse  IWF  MaximumIWF  WaterUse DateAvailable  \\\n",
       "0         1.29        192  4.3         8.4      6368        8/5/19   \n",
       "1         1.29        140  4.3         8.4      4947      12/10/18   \n",
       "2         1.29        140  4.3         8.4      4947      12/10/18   \n",
       "3         1.29        140  4.3         8.4      4947      12/10/18   \n",
       "4         1.29        140  4.3         8.4      4947      12/10/18   \n",
       "\n",
       "  DateCertified              Countries MostEfficient  \n",
       "0       7/31/19  United States, Canada            No  \n",
       "1      11/30/18          United States            No  \n",
       "2      11/30/18                 Canada            No  \n",
       "3      11/30/18          United States            No  \n",
       "4      11/30/18                 Canada            No  "
      ]
     },
     "execution_count": 32,
     "metadata": {},
     "output_type": "execute_result"
    }
   ],
   "source": [
    "washers.head()"
   ]
  },
  {
   "cell_type": "markdown",
   "metadata": {},
   "source": [
    "## **Làm sao để tính toán đơn giản** <a id = \"02b\">"
   ]
  },
  {
   "cell_type": "markdown",
   "metadata": {},
   "source": [
    "Hàm `describe()` trả về một phân tích đã được tóm tắt cho mỗi cột trong DataFrame. Chúng là thứ quan trong để có thể mô tả dữ liệu, phụ thuộc vào kiểu dữ liệu của mỗi cột. Đối với các cột không phải thuộc kiểu số thì hàm sẽ trả lại với phương thưc như:\n",
    "\n",
    "|Tên cột      |   Mô tả  |\n",
    "|-----------------|---------------------|\n",
    "| `count`         | Số lượng dữ liệu không bị thiếu                      |\n",
    "| `unique`       | Số lượng các giá trị khác biệt                   |\n",
    "| `top`       | Giá trị phổ biến nhất   |\n",
    "| `freq`        | Tần suất của giá trị phổ biến nhất|"
   ]
  },
  {
   "cell_type": "code",
   "execution_count": 33,
   "metadata": {},
   "outputs": [
    {
     "data": {
      "application/vnd.microsoft.datawrangler.viewer.v0+json": {
       "columns": [
        {
         "name": "index",
         "rawType": "object",
         "type": "string"
        },
        {
         "name": "BrandName",
         "rawType": "object",
         "type": "unknown"
        }
       ],
       "conversionMethod": "pd.DataFrame",
       "ref": "93113e73-f647-4aaa-8f76-4df0613f107c",
       "rows": [
        [
         "count",
         "261"
        ],
        [
         "unique",
         "22"
        ],
        [
         "top",
         "LG"
        ],
        [
         "freq",
         "50"
        ]
       ],
       "shape": {
        "columns": 1,
        "rows": 4
       }
      },
      "text/html": [
       "<div>\n",
       "<style scoped>\n",
       "    .dataframe tbody tr th:only-of-type {\n",
       "        vertical-align: middle;\n",
       "    }\n",
       "\n",
       "    .dataframe tbody tr th {\n",
       "        vertical-align: top;\n",
       "    }\n",
       "\n",
       "    .dataframe thead th {\n",
       "        text-align: right;\n",
       "    }\n",
       "</style>\n",
       "<table border=\"1\" class=\"dataframe\">\n",
       "  <thead>\n",
       "    <tr style=\"text-align: right;\">\n",
       "      <th></th>\n",
       "      <th>BrandName</th>\n",
       "    </tr>\n",
       "  </thead>\n",
       "  <tbody>\n",
       "    <tr>\n",
       "      <th>count</th>\n",
       "      <td>261</td>\n",
       "    </tr>\n",
       "    <tr>\n",
       "      <th>unique</th>\n",
       "      <td>22</td>\n",
       "    </tr>\n",
       "    <tr>\n",
       "      <th>top</th>\n",
       "      <td>LG</td>\n",
       "    </tr>\n",
       "    <tr>\n",
       "      <th>freq</th>\n",
       "      <td>50</td>\n",
       "    </tr>\n",
       "  </tbody>\n",
       "</table>\n",
       "</div>"
      ],
      "text/plain": [
       "       BrandName\n",
       "count        261\n",
       "unique        22\n",
       "top           LG\n",
       "freq          50"
      ]
     },
     "execution_count": 33,
     "metadata": {},
     "output_type": "execute_result"
    }
   ],
   "source": [
    "washers[['BrandName']].describe()"
   ]
  },
  {
   "cell_type": "markdown",
   "metadata": {},
   "source": [
    "Dối với các kiểu dữ liệu là số. Hàm `describe()` sẽ trả về phương thức phân tích mô tả như sau:\n",
    "\n",
    "\n",
    "|Tên cột      |   Mô tả  |\n",
    "|-----------------|---------------------|\n",
    "| `count`         | Số lượng dữ liệu không bị thiếu                     |\n",
    "| `mean`       | Trung bình của giá trị không bị thiếu                   |\n",
    "| `std`       | Độ lệch chuẩn của giá trị   |\n",
    "| `min`        | Giá trị lớn nhất                  |\n",
    "| `25%`         | Giá trị chiếm 25 phần trắm                       |\n",
    "| `50%`       | Giá trị chiếm 50 phần trăm ( được hiểu giống như trung vị ( median ) )                  |\n",
    "| `75%`       | Giá trị chiếm 75 phần trăm   |\n",
    "| `max`        | Giá trị lớn nhất                 |"
   ]
  },
  {
   "cell_type": "code",
   "execution_count": 34,
   "metadata": {},
   "outputs": [
    {
     "data": {
      "application/vnd.microsoft.datawrangler.viewer.v0+json": {
       "columns": [
        {
         "name": "index",
         "rawType": "object",
         "type": "string"
        },
        {
         "name": "Volume",
         "rawType": "float64",
         "type": "float"
        }
       ],
       "conversionMethod": "pd.DataFrame",
       "ref": "8c0c1a1d-af18-4efd-b72a-3d34f9fca3bf",
       "rows": [
        [
         "count",
         "261.0"
        ],
        [
         "mean",
         "4.374712643678161"
        ],
        [
         "std",
         "0.9658657006665775"
        ],
        [
         "min",
         "1.9"
        ],
        [
         "25%",
         "4.3"
        ],
        [
         "50%",
         "4.5"
        ],
        [
         "75%",
         "5.0"
        ],
        [
         "max",
         "6.2"
        ]
       ],
       "shape": {
        "columns": 1,
        "rows": 8
       }
      },
      "text/html": [
       "<div>\n",
       "<style scoped>\n",
       "    .dataframe tbody tr th:only-of-type {\n",
       "        vertical-align: middle;\n",
       "    }\n",
       "\n",
       "    .dataframe tbody tr th {\n",
       "        vertical-align: top;\n",
       "    }\n",
       "\n",
       "    .dataframe thead th {\n",
       "        text-align: right;\n",
       "    }\n",
       "</style>\n",
       "<table border=\"1\" class=\"dataframe\">\n",
       "  <thead>\n",
       "    <tr style=\"text-align: right;\">\n",
       "      <th></th>\n",
       "      <th>Volume</th>\n",
       "    </tr>\n",
       "  </thead>\n",
       "  <tbody>\n",
       "    <tr>\n",
       "      <th>count</th>\n",
       "      <td>261.000000</td>\n",
       "    </tr>\n",
       "    <tr>\n",
       "      <th>mean</th>\n",
       "      <td>4.374713</td>\n",
       "    </tr>\n",
       "    <tr>\n",
       "      <th>std</th>\n",
       "      <td>0.965866</td>\n",
       "    </tr>\n",
       "    <tr>\n",
       "      <th>min</th>\n",
       "      <td>1.900000</td>\n",
       "    </tr>\n",
       "    <tr>\n",
       "      <th>25%</th>\n",
       "      <td>4.300000</td>\n",
       "    </tr>\n",
       "    <tr>\n",
       "      <th>50%</th>\n",
       "      <td>4.500000</td>\n",
       "    </tr>\n",
       "    <tr>\n",
       "      <th>75%</th>\n",
       "      <td>5.000000</td>\n",
       "    </tr>\n",
       "    <tr>\n",
       "      <th>max</th>\n",
       "      <td>6.200000</td>\n",
       "    </tr>\n",
       "  </tbody>\n",
       "</table>\n",
       "</div>"
      ],
      "text/plain": [
       "           Volume\n",
       "count  261.000000\n",
       "mean     4.374713\n",
       "std      0.965866\n",
       "min      1.900000\n",
       "25%      4.300000\n",
       "50%      4.500000\n",
       "75%      5.000000\n",
       "max      6.200000"
      ]
     },
     "execution_count": 34,
     "metadata": {},
     "output_type": "execute_result"
    }
   ],
   "source": [
    "washers[['Volume']].describe()"
   ]
  },
  {
   "cell_type": "code",
   "execution_count": 35,
   "metadata": {},
   "outputs": [
    {
     "data": {
      "text/plain": [
       "BrandName      \n",
       "LG                 50\n",
       "GE                 49\n",
       "Samsung            47\n",
       "Kenmore            30\n",
       "Whirlpool          26\n",
       "Maytag             18\n",
       "Electrolux          7\n",
       "Bosch               4\n",
       "Miele               4\n",
       "Asko                4\n",
       "Beko                3\n",
       "Blomberg            3\n",
       "Crosley             3\n",
       "Midea               2\n",
       "Magic Chef          2\n",
       "Amana               2\n",
       "Fisher & Paykel     2\n",
       "Insignia            1\n",
       "Inglis              1\n",
       "Gaggenau            1\n",
       "GE Adora            1\n",
       "Haier               1\n",
       "Name: count, dtype: int64"
      ]
     },
     "execution_count": 35,
     "metadata": {},
     "output_type": "execute_result"
    }
   ],
   "source": [
    "washers[['BrandName']].value_counts()"
   ]
  },
  {
   "cell_type": "code",
   "execution_count": 20,
   "metadata": {},
   "outputs": [
    {
     "data": {
      "text/plain": [
       "BrandName      \n",
       "LG                 0.191571\n",
       "GE                 0.187739\n",
       "Samsung            0.180077\n",
       "Kenmore            0.114943\n",
       "Whirlpool          0.099617\n",
       "Maytag             0.068966\n",
       "Electrolux         0.026820\n",
       "Bosch              0.015326\n",
       "Miele              0.015326\n",
       "Asko               0.015326\n",
       "Beko               0.011494\n",
       "Blomberg           0.011494\n",
       "Crosley            0.011494\n",
       "Midea              0.007663\n",
       "Magic Chef         0.007663\n",
       "Amana              0.007663\n",
       "Fisher & Paykel    0.007663\n",
       "Insignia           0.003831\n",
       "Inglis             0.003831\n",
       "Gaggenau           0.003831\n",
       "GE Adora           0.003831\n",
       "Haier              0.003831\n",
       "Name: proportion, dtype: float64"
      ]
     },
     "execution_count": 20,
     "metadata": {},
     "output_type": "execute_result"
    }
   ],
   "source": [
    "washers[['BrandName']].value_counts(normalize = True)"
   ]
  },
  {
   "cell_type": "code",
   "execution_count": 36,
   "metadata": {},
   "outputs": [
    {
     "data": {
      "text/plain": [
       "Volume    4.374713\n",
       "dtype: float64"
      ]
     },
     "execution_count": 36,
     "metadata": {},
     "output_type": "execute_result"
    }
   ],
   "source": [
    "washers[['Volume']].mean()"
   ]
  },
  {
   "cell_type": "markdown",
   "metadata": {},
   "source": [
    "## **Làm sao để tính toán tổng hợp với các nhóm ( group-level)?** <a id = \"02c\">"
   ]
  },
  {
   "cell_type": "code",
   "execution_count": 37,
   "metadata": {},
   "outputs": [
    {
     "data": {
      "application/vnd.microsoft.datawrangler.viewer.v0+json": {
       "columns": [
        {
         "name": "BrandName",
         "rawType": "object",
         "type": "string"
        },
        {
         "name": "Volume",
         "rawType": "float64",
         "type": "float"
        }
       ],
       "conversionMethod": "pd.DataFrame",
       "ref": "aa6eb971-5caa-44aa-b00f-6cc1c8b26426",
       "rows": [
        [
         "Amana",
         "4.25"
        ],
        [
         "Asko",
         "2.5250000000000004"
        ],
        [
         "Beko",
         "2.1333333333333333"
        ],
        [
         "Blomberg",
         "2.3000000000000003"
        ],
        [
         "Bosch",
         "2.2"
        ],
        [
         "Crosley",
         "4.3999999999999995"
        ],
        [
         "Electrolux",
         "3.7857142857142856"
        ],
        [
         "Fisher & Paykel",
         "2.4"
        ],
        [
         "GE",
         "4.328571428571428"
        ],
        [
         "GE Adora",
         "4.2"
        ],
        [
         "Gaggenau",
         "2.2"
        ],
        [
         "Haier",
         "2.4"
        ],
        [
         "Inglis",
         "4.3"
        ],
        [
         "Insignia",
         "4.8"
        ],
        [
         "Kenmore",
         "4.796666666666667"
        ],
        [
         "LG",
         "4.596"
        ],
        [
         "Magic Chef",
         "2.7"
        ],
        [
         "Maytag",
         "4.988888888888889"
        ],
        [
         "Midea",
         "5.2"
        ],
        [
         "Miele",
         "2.3"
        ],
        [
         "Samsung",
         "4.729787234042553"
        ],
        [
         "Whirlpool",
         "4.453846153846154"
        ]
       ],
       "shape": {
        "columns": 1,
        "rows": 22
       }
      },
      "text/html": [
       "<div>\n",
       "<style scoped>\n",
       "    .dataframe tbody tr th:only-of-type {\n",
       "        vertical-align: middle;\n",
       "    }\n",
       "\n",
       "    .dataframe tbody tr th {\n",
       "        vertical-align: top;\n",
       "    }\n",
       "\n",
       "    .dataframe thead th {\n",
       "        text-align: right;\n",
       "    }\n",
       "</style>\n",
       "<table border=\"1\" class=\"dataframe\">\n",
       "  <thead>\n",
       "    <tr style=\"text-align: right;\">\n",
       "      <th></th>\n",
       "      <th>Volume</th>\n",
       "    </tr>\n",
       "    <tr>\n",
       "      <th>BrandName</th>\n",
       "      <th></th>\n",
       "    </tr>\n",
       "  </thead>\n",
       "  <tbody>\n",
       "    <tr>\n",
       "      <th>Amana</th>\n",
       "      <td>4.250000</td>\n",
       "    </tr>\n",
       "    <tr>\n",
       "      <th>Asko</th>\n",
       "      <td>2.525000</td>\n",
       "    </tr>\n",
       "    <tr>\n",
       "      <th>Beko</th>\n",
       "      <td>2.133333</td>\n",
       "    </tr>\n",
       "    <tr>\n",
       "      <th>Blomberg</th>\n",
       "      <td>2.300000</td>\n",
       "    </tr>\n",
       "    <tr>\n",
       "      <th>Bosch</th>\n",
       "      <td>2.200000</td>\n",
       "    </tr>\n",
       "    <tr>\n",
       "      <th>Crosley</th>\n",
       "      <td>4.400000</td>\n",
       "    </tr>\n",
       "    <tr>\n",
       "      <th>Electrolux</th>\n",
       "      <td>3.785714</td>\n",
       "    </tr>\n",
       "    <tr>\n",
       "      <th>Fisher &amp; Paykel</th>\n",
       "      <td>2.400000</td>\n",
       "    </tr>\n",
       "    <tr>\n",
       "      <th>GE</th>\n",
       "      <td>4.328571</td>\n",
       "    </tr>\n",
       "    <tr>\n",
       "      <th>GE Adora</th>\n",
       "      <td>4.200000</td>\n",
       "    </tr>\n",
       "    <tr>\n",
       "      <th>Gaggenau</th>\n",
       "      <td>2.200000</td>\n",
       "    </tr>\n",
       "    <tr>\n",
       "      <th>Haier</th>\n",
       "      <td>2.400000</td>\n",
       "    </tr>\n",
       "    <tr>\n",
       "      <th>Inglis</th>\n",
       "      <td>4.300000</td>\n",
       "    </tr>\n",
       "    <tr>\n",
       "      <th>Insignia</th>\n",
       "      <td>4.800000</td>\n",
       "    </tr>\n",
       "    <tr>\n",
       "      <th>Kenmore</th>\n",
       "      <td>4.796667</td>\n",
       "    </tr>\n",
       "    <tr>\n",
       "      <th>LG</th>\n",
       "      <td>4.596000</td>\n",
       "    </tr>\n",
       "    <tr>\n",
       "      <th>Magic Chef</th>\n",
       "      <td>2.700000</td>\n",
       "    </tr>\n",
       "    <tr>\n",
       "      <th>Maytag</th>\n",
       "      <td>4.988889</td>\n",
       "    </tr>\n",
       "    <tr>\n",
       "      <th>Midea</th>\n",
       "      <td>5.200000</td>\n",
       "    </tr>\n",
       "    <tr>\n",
       "      <th>Miele</th>\n",
       "      <td>2.300000</td>\n",
       "    </tr>\n",
       "    <tr>\n",
       "      <th>Samsung</th>\n",
       "      <td>4.729787</td>\n",
       "    </tr>\n",
       "    <tr>\n",
       "      <th>Whirlpool</th>\n",
       "      <td>4.453846</td>\n",
       "    </tr>\n",
       "  </tbody>\n",
       "</table>\n",
       "</div>"
      ],
      "text/plain": [
       "                   Volume\n",
       "BrandName                \n",
       "Amana            4.250000\n",
       "Asko             2.525000\n",
       "Beko             2.133333\n",
       "Blomberg         2.300000\n",
       "Bosch            2.200000\n",
       "Crosley          4.400000\n",
       "Electrolux       3.785714\n",
       "Fisher & Paykel  2.400000\n",
       "GE               4.328571\n",
       "GE Adora         4.200000\n",
       "Gaggenau         2.200000\n",
       "Haier            2.400000\n",
       "Inglis           4.300000\n",
       "Insignia         4.800000\n",
       "Kenmore          4.796667\n",
       "LG               4.596000\n",
       "Magic Chef       2.700000\n",
       "Maytag           4.988889\n",
       "Midea            5.200000\n",
       "Miele            2.300000\n",
       "Samsung          4.729787\n",
       "Whirlpool        4.453846"
      ]
     },
     "execution_count": 37,
     "metadata": {},
     "output_type": "execute_result"
    }
   ],
   "source": [
    "washers.groupby('BrandName')[['Volume']].mean()"
   ]
  },
  {
   "cell_type": "code",
   "execution_count": 38,
   "metadata": {},
   "outputs": [
    {
     "data": {
      "application/vnd.microsoft.datawrangler.viewer.v0+json": {
       "columns": [
        {
         "name": "BrandName",
         "rawType": "object",
         "type": "string"
        },
        {
         "name": "Volume",
         "rawType": "float64",
         "type": "float"
        }
       ],
       "conversionMethod": "pd.DataFrame",
       "ref": "7e80d7ed-eb7d-423e-9e7f-c51fbb1d2782",
       "rows": [
        [
         "Beko",
         "2.1333333333333333"
        ],
        [
         "Gaggenau",
         "2.2"
        ],
        [
         "Bosch",
         "2.2"
        ],
        [
         "Miele",
         "2.3"
        ],
        [
         "Blomberg",
         "2.3000000000000003"
        ],
        [
         "Fisher & Paykel",
         "2.4"
        ],
        [
         "Haier",
         "2.4"
        ],
        [
         "Asko",
         "2.5250000000000004"
        ],
        [
         "Magic Chef",
         "2.7"
        ],
        [
         "Electrolux",
         "3.7857142857142856"
        ],
        [
         "GE Adora",
         "4.2"
        ],
        [
         "Amana",
         "4.25"
        ],
        [
         "Inglis",
         "4.3"
        ],
        [
         "GE",
         "4.328571428571428"
        ],
        [
         "Crosley",
         "4.3999999999999995"
        ],
        [
         "Whirlpool",
         "4.453846153846154"
        ],
        [
         "LG",
         "4.596"
        ],
        [
         "Samsung",
         "4.729787234042553"
        ],
        [
         "Kenmore",
         "4.796666666666667"
        ],
        [
         "Insignia",
         "4.8"
        ],
        [
         "Maytag",
         "4.988888888888889"
        ],
        [
         "Midea",
         "5.2"
        ]
       ],
       "shape": {
        "columns": 1,
        "rows": 22
       }
      },
      "text/html": [
       "<div>\n",
       "<style scoped>\n",
       "    .dataframe tbody tr th:only-of-type {\n",
       "        vertical-align: middle;\n",
       "    }\n",
       "\n",
       "    .dataframe tbody tr th {\n",
       "        vertical-align: top;\n",
       "    }\n",
       "\n",
       "    .dataframe thead th {\n",
       "        text-align: right;\n",
       "    }\n",
       "</style>\n",
       "<table border=\"1\" class=\"dataframe\">\n",
       "  <thead>\n",
       "    <tr style=\"text-align: right;\">\n",
       "      <th></th>\n",
       "      <th>Volume</th>\n",
       "    </tr>\n",
       "    <tr>\n",
       "      <th>BrandName</th>\n",
       "      <th></th>\n",
       "    </tr>\n",
       "  </thead>\n",
       "  <tbody>\n",
       "    <tr>\n",
       "      <th>Beko</th>\n",
       "      <td>2.133333</td>\n",
       "    </tr>\n",
       "    <tr>\n",
       "      <th>Gaggenau</th>\n",
       "      <td>2.200000</td>\n",
       "    </tr>\n",
       "    <tr>\n",
       "      <th>Bosch</th>\n",
       "      <td>2.200000</td>\n",
       "    </tr>\n",
       "    <tr>\n",
       "      <th>Miele</th>\n",
       "      <td>2.300000</td>\n",
       "    </tr>\n",
       "    <tr>\n",
       "      <th>Blomberg</th>\n",
       "      <td>2.300000</td>\n",
       "    </tr>\n",
       "    <tr>\n",
       "      <th>Fisher &amp; Paykel</th>\n",
       "      <td>2.400000</td>\n",
       "    </tr>\n",
       "    <tr>\n",
       "      <th>Haier</th>\n",
       "      <td>2.400000</td>\n",
       "    </tr>\n",
       "    <tr>\n",
       "      <th>Asko</th>\n",
       "      <td>2.525000</td>\n",
       "    </tr>\n",
       "    <tr>\n",
       "      <th>Magic Chef</th>\n",
       "      <td>2.700000</td>\n",
       "    </tr>\n",
       "    <tr>\n",
       "      <th>Electrolux</th>\n",
       "      <td>3.785714</td>\n",
       "    </tr>\n",
       "    <tr>\n",
       "      <th>GE Adora</th>\n",
       "      <td>4.200000</td>\n",
       "    </tr>\n",
       "    <tr>\n",
       "      <th>Amana</th>\n",
       "      <td>4.250000</td>\n",
       "    </tr>\n",
       "    <tr>\n",
       "      <th>Inglis</th>\n",
       "      <td>4.300000</td>\n",
       "    </tr>\n",
       "    <tr>\n",
       "      <th>GE</th>\n",
       "      <td>4.328571</td>\n",
       "    </tr>\n",
       "    <tr>\n",
       "      <th>Crosley</th>\n",
       "      <td>4.400000</td>\n",
       "    </tr>\n",
       "    <tr>\n",
       "      <th>Whirlpool</th>\n",
       "      <td>4.453846</td>\n",
       "    </tr>\n",
       "    <tr>\n",
       "      <th>LG</th>\n",
       "      <td>4.596000</td>\n",
       "    </tr>\n",
       "    <tr>\n",
       "      <th>Samsung</th>\n",
       "      <td>4.729787</td>\n",
       "    </tr>\n",
       "    <tr>\n",
       "      <th>Kenmore</th>\n",
       "      <td>4.796667</td>\n",
       "    </tr>\n",
       "    <tr>\n",
       "      <th>Insignia</th>\n",
       "      <td>4.800000</td>\n",
       "    </tr>\n",
       "    <tr>\n",
       "      <th>Maytag</th>\n",
       "      <td>4.988889</td>\n",
       "    </tr>\n",
       "    <tr>\n",
       "      <th>Midea</th>\n",
       "      <td>5.200000</td>\n",
       "    </tr>\n",
       "  </tbody>\n",
       "</table>\n",
       "</div>"
      ],
      "text/plain": [
       "                   Volume\n",
       "BrandName                \n",
       "Beko             2.133333\n",
       "Gaggenau         2.200000\n",
       "Bosch            2.200000\n",
       "Miele            2.300000\n",
       "Blomberg         2.300000\n",
       "Fisher & Paykel  2.400000\n",
       "Haier            2.400000\n",
       "Asko             2.525000\n",
       "Magic Chef       2.700000\n",
       "Electrolux       3.785714\n",
       "GE Adora         4.200000\n",
       "Amana            4.250000\n",
       "Inglis           4.300000\n",
       "GE               4.328571\n",
       "Crosley          4.400000\n",
       "Whirlpool        4.453846\n",
       "LG               4.596000\n",
       "Samsung          4.729787\n",
       "Kenmore          4.796667\n",
       "Insignia         4.800000\n",
       "Maytag           4.988889\n",
       "Midea            5.200000"
      ]
     },
     "execution_count": 38,
     "metadata": {},
     "output_type": "execute_result"
    }
   ],
   "source": [
    "washers.groupby('BrandName')[['Volume']].mean().sort_values(by = 'Volume')"
   ]
  },
  {
   "cell_type": "code",
   "execution_count": 39,
   "metadata": {},
   "outputs": [
    {
     "data": {
      "application/vnd.microsoft.datawrangler.viewer.v0+json": {
       "columns": [
        {
         "name": "BrandName",
         "rawType": "object",
         "type": "string"
        },
        {
         "name": "('Volume', 'mean')",
         "rawType": "float64",
         "type": "float"
        },
        {
         "name": "('Volume', 'median')",
         "rawType": "float64",
         "type": "float"
        },
        {
         "name": "('Volume', 'min')",
         "rawType": "float64",
         "type": "float"
        },
        {
         "name": "('Volume', 'max')",
         "rawType": "float64",
         "type": "float"
        }
       ],
       "conversionMethod": "pd.DataFrame",
       "ref": "6f11ba31-d951-40ef-9699-af79bf50884d",
       "rows": [
        [
         "Amana",
         "4.25",
         "4.25",
         "4.2",
         "4.3"
        ],
        [
         "Asko",
         "2.5250000000000004",
         "2.7",
         "2.0",
         "2.7"
        ],
        [
         "Beko",
         "2.1333333333333333",
         "2.0",
         "1.9",
         "2.5"
        ],
        [
         "Blomberg",
         "2.3000000000000003",
         "2.5",
         "1.9",
         "2.5"
        ],
        [
         "Bosch",
         "2.2",
         "2.2",
         "2.2",
         "2.2"
        ],
        [
         "Crosley",
         "4.3999999999999995",
         "4.5",
         "4.2",
         "4.5"
        ],
        [
         "Electrolux",
         "3.7857142857142856",
         "4.3",
         "2.4",
         "4.4"
        ],
        [
         "Fisher & Paykel",
         "2.4",
         "2.4",
         "2.4",
         "2.4"
        ],
        [
         "GE",
         "4.328571428571428",
         "4.5",
         "2.2",
         "5.2"
        ],
        [
         "GE Adora",
         "4.2",
         "4.2",
         "4.2",
         "4.2"
        ],
        [
         "Gaggenau",
         "2.2",
         "2.2",
         "2.2",
         "2.2"
        ],
        [
         "Haier",
         "2.4",
         "2.4",
         "2.4",
         "2.4"
        ],
        [
         "Inglis",
         "4.3",
         "4.3",
         "4.3",
         "4.3"
        ],
        [
         "Insignia",
         "4.8",
         "4.8",
         "4.8",
         "4.8"
        ],
        [
         "Kenmore",
         "4.796666666666667",
         "4.8",
         "2.4",
         "6.2"
        ],
        [
         "LG",
         "4.596",
         "4.5",
         "2.3",
         "5.8"
        ],
        [
         "Magic Chef",
         "2.7",
         "2.7",
         "2.7",
         "2.7"
        ],
        [
         "Maytag",
         "4.988888888888889",
         "4.9",
         "4.4",
         "6.2"
        ],
        [
         "Midea",
         "5.2",
         "5.2",
         "5.2",
         "5.2"
        ],
        [
         "Miele",
         "2.3",
         "2.3",
         "2.3",
         "2.3"
        ],
        [
         "Samsung",
         "4.729787234042553",
         "4.8",
         "2.2",
         "5.6"
        ],
        [
         "Whirlpool",
         "4.453846153846154",
         "4.5",
         "2.0",
         "5.3"
        ]
       ],
       "shape": {
        "columns": 4,
        "rows": 22
       }
      },
      "text/html": [
       "<div>\n",
       "<style scoped>\n",
       "    .dataframe tbody tr th:only-of-type {\n",
       "        vertical-align: middle;\n",
       "    }\n",
       "\n",
       "    .dataframe tbody tr th {\n",
       "        vertical-align: top;\n",
       "    }\n",
       "\n",
       "    .dataframe thead tr th {\n",
       "        text-align: left;\n",
       "    }\n",
       "\n",
       "    .dataframe thead tr:last-of-type th {\n",
       "        text-align: right;\n",
       "    }\n",
       "</style>\n",
       "<table border=\"1\" class=\"dataframe\">\n",
       "  <thead>\n",
       "    <tr>\n",
       "      <th></th>\n",
       "      <th colspan=\"4\" halign=\"left\">Volume</th>\n",
       "    </tr>\n",
       "    <tr>\n",
       "      <th></th>\n",
       "      <th>mean</th>\n",
       "      <th>median</th>\n",
       "      <th>min</th>\n",
       "      <th>max</th>\n",
       "    </tr>\n",
       "    <tr>\n",
       "      <th>BrandName</th>\n",
       "      <th></th>\n",
       "      <th></th>\n",
       "      <th></th>\n",
       "      <th></th>\n",
       "    </tr>\n",
       "  </thead>\n",
       "  <tbody>\n",
       "    <tr>\n",
       "      <th>Amana</th>\n",
       "      <td>4.250000</td>\n",
       "      <td>4.25</td>\n",
       "      <td>4.2</td>\n",
       "      <td>4.3</td>\n",
       "    </tr>\n",
       "    <tr>\n",
       "      <th>Asko</th>\n",
       "      <td>2.525000</td>\n",
       "      <td>2.70</td>\n",
       "      <td>2.0</td>\n",
       "      <td>2.7</td>\n",
       "    </tr>\n",
       "    <tr>\n",
       "      <th>Beko</th>\n",
       "      <td>2.133333</td>\n",
       "      <td>2.00</td>\n",
       "      <td>1.9</td>\n",
       "      <td>2.5</td>\n",
       "    </tr>\n",
       "    <tr>\n",
       "      <th>Blomberg</th>\n",
       "      <td>2.300000</td>\n",
       "      <td>2.50</td>\n",
       "      <td>1.9</td>\n",
       "      <td>2.5</td>\n",
       "    </tr>\n",
       "    <tr>\n",
       "      <th>Bosch</th>\n",
       "      <td>2.200000</td>\n",
       "      <td>2.20</td>\n",
       "      <td>2.2</td>\n",
       "      <td>2.2</td>\n",
       "    </tr>\n",
       "    <tr>\n",
       "      <th>Crosley</th>\n",
       "      <td>4.400000</td>\n",
       "      <td>4.50</td>\n",
       "      <td>4.2</td>\n",
       "      <td>4.5</td>\n",
       "    </tr>\n",
       "    <tr>\n",
       "      <th>Electrolux</th>\n",
       "      <td>3.785714</td>\n",
       "      <td>4.30</td>\n",
       "      <td>2.4</td>\n",
       "      <td>4.4</td>\n",
       "    </tr>\n",
       "    <tr>\n",
       "      <th>Fisher &amp; Paykel</th>\n",
       "      <td>2.400000</td>\n",
       "      <td>2.40</td>\n",
       "      <td>2.4</td>\n",
       "      <td>2.4</td>\n",
       "    </tr>\n",
       "    <tr>\n",
       "      <th>GE</th>\n",
       "      <td>4.328571</td>\n",
       "      <td>4.50</td>\n",
       "      <td>2.2</td>\n",
       "      <td>5.2</td>\n",
       "    </tr>\n",
       "    <tr>\n",
       "      <th>GE Adora</th>\n",
       "      <td>4.200000</td>\n",
       "      <td>4.20</td>\n",
       "      <td>4.2</td>\n",
       "      <td>4.2</td>\n",
       "    </tr>\n",
       "    <tr>\n",
       "      <th>Gaggenau</th>\n",
       "      <td>2.200000</td>\n",
       "      <td>2.20</td>\n",
       "      <td>2.2</td>\n",
       "      <td>2.2</td>\n",
       "    </tr>\n",
       "    <tr>\n",
       "      <th>Haier</th>\n",
       "      <td>2.400000</td>\n",
       "      <td>2.40</td>\n",
       "      <td>2.4</td>\n",
       "      <td>2.4</td>\n",
       "    </tr>\n",
       "    <tr>\n",
       "      <th>Inglis</th>\n",
       "      <td>4.300000</td>\n",
       "      <td>4.30</td>\n",
       "      <td>4.3</td>\n",
       "      <td>4.3</td>\n",
       "    </tr>\n",
       "    <tr>\n",
       "      <th>Insignia</th>\n",
       "      <td>4.800000</td>\n",
       "      <td>4.80</td>\n",
       "      <td>4.8</td>\n",
       "      <td>4.8</td>\n",
       "    </tr>\n",
       "    <tr>\n",
       "      <th>Kenmore</th>\n",
       "      <td>4.796667</td>\n",
       "      <td>4.80</td>\n",
       "      <td>2.4</td>\n",
       "      <td>6.2</td>\n",
       "    </tr>\n",
       "    <tr>\n",
       "      <th>LG</th>\n",
       "      <td>4.596000</td>\n",
       "      <td>4.50</td>\n",
       "      <td>2.3</td>\n",
       "      <td>5.8</td>\n",
       "    </tr>\n",
       "    <tr>\n",
       "      <th>Magic Chef</th>\n",
       "      <td>2.700000</td>\n",
       "      <td>2.70</td>\n",
       "      <td>2.7</td>\n",
       "      <td>2.7</td>\n",
       "    </tr>\n",
       "    <tr>\n",
       "      <th>Maytag</th>\n",
       "      <td>4.988889</td>\n",
       "      <td>4.90</td>\n",
       "      <td>4.4</td>\n",
       "      <td>6.2</td>\n",
       "    </tr>\n",
       "    <tr>\n",
       "      <th>Midea</th>\n",
       "      <td>5.200000</td>\n",
       "      <td>5.20</td>\n",
       "      <td>5.2</td>\n",
       "      <td>5.2</td>\n",
       "    </tr>\n",
       "    <tr>\n",
       "      <th>Miele</th>\n",
       "      <td>2.300000</td>\n",
       "      <td>2.30</td>\n",
       "      <td>2.3</td>\n",
       "      <td>2.3</td>\n",
       "    </tr>\n",
       "    <tr>\n",
       "      <th>Samsung</th>\n",
       "      <td>4.729787</td>\n",
       "      <td>4.80</td>\n",
       "      <td>2.2</td>\n",
       "      <td>5.6</td>\n",
       "    </tr>\n",
       "    <tr>\n",
       "      <th>Whirlpool</th>\n",
       "      <td>4.453846</td>\n",
       "      <td>4.50</td>\n",
       "      <td>2.0</td>\n",
       "      <td>5.3</td>\n",
       "    </tr>\n",
       "  </tbody>\n",
       "</table>\n",
       "</div>"
      ],
      "text/plain": [
       "                   Volume                 \n",
       "                     mean median  min  max\n",
       "BrandName                                 \n",
       "Amana            4.250000   4.25  4.2  4.3\n",
       "Asko             2.525000   2.70  2.0  2.7\n",
       "Beko             2.133333   2.00  1.9  2.5\n",
       "Blomberg         2.300000   2.50  1.9  2.5\n",
       "Bosch            2.200000   2.20  2.2  2.2\n",
       "Crosley          4.400000   4.50  4.2  4.5\n",
       "Electrolux       3.785714   4.30  2.4  4.4\n",
       "Fisher & Paykel  2.400000   2.40  2.4  2.4\n",
       "GE               4.328571   4.50  2.2  5.2\n",
       "GE Adora         4.200000   4.20  4.2  4.2\n",
       "Gaggenau         2.200000   2.20  2.2  2.2\n",
       "Haier            2.400000   2.40  2.4  2.4\n",
       "Inglis           4.300000   4.30  4.3  4.3\n",
       "Insignia         4.800000   4.80  4.8  4.8\n",
       "Kenmore          4.796667   4.80  2.4  6.2\n",
       "LG               4.596000   4.50  2.3  5.8\n",
       "Magic Chef       2.700000   2.70  2.7  2.7\n",
       "Maytag           4.988889   4.90  4.4  6.2\n",
       "Midea            5.200000   5.20  5.2  5.2\n",
       "Miele            2.300000   2.30  2.3  2.3\n",
       "Samsung          4.729787   4.80  2.2  5.6\n",
       "Whirlpool        4.453846   4.50  2.0  5.3"
      ]
     },
     "execution_count": 39,
     "metadata": {},
     "output_type": "execute_result"
    }
   ],
   "source": [
    "washers.groupby('BrandName')[['Volume']].agg(['mean','median','min','max'])"
   ]
  },
  {
   "cell_type": "markdown",
   "metadata": {},
   "source": [
    "# **03_Làm sao để trực quan hoá dữ liệu** <a id = \"03\">"
   ]
  },
  {
   "cell_type": "markdown",
   "metadata": {},
   "source": [
    "Khi chúng ta khám phá dữ liệu, một trong những điều quan trong nhất là chúng ta có thể trực quan hoá chúng để có thể tìm hiểu sâu hơn về chúng. Như một câu nói nổi tiếng đã nói *\"Một bức tranh tệ mà một bức tranh có 1000 từ\"*, trực quan hoá thương hữu ích hơn phân tích tóm tắt trong việc giúp chúng ta hiểu rõ hơn về dữ liệu. Đó là bởi vì trực quan hoá dữ liệu là một công cụ tuyệt vời cho chúng ta có thể hỏi và trả lời những câu hỏi về dữ liệu. Phụ thuộc vào kiểu câu hỏi chúng ta đang cố để trả lời, có 4 phương pháp để trực quan hoá chúng ta có thể sử dụng. Chúng là **Mối quan hệ ( Relationship )**, **Phân bố ( Distribution )**, **So sánh ( Comparison )** và **Thành phần ( Composition )**. Cuối cùng trong tutorial này, bạn sẽ được học:\n",
    "* Làm sao để trực quan các mối quan hệ?\n",
    "* Làm sao để trực quan các phân bố?\n",
    "* Làm sao để trực quan các so sánh?\n",
    "* Làm sao để trực quan các thành phần?\n"
   ]
  },
  {
   "cell_type": "code",
   "execution_count": 40,
   "metadata": {},
   "outputs": [],
   "source": [
    "%matplotlib inline"
   ]
  },
  {
   "cell_type": "markdown",
   "metadata": {},
   "source": [
    "Hãy khai báo và xem qua dữ liệu mà chúng ta sẽ trực quan"
   ]
  },
  {
   "cell_type": "code",
   "execution_count": 41,
   "metadata": {},
   "outputs": [
    {
     "data": {
      "application/vnd.microsoft.datawrangler.viewer.v0+json": {
       "columns": [
        {
         "name": "index",
         "rawType": "int64",
         "type": "integer"
        },
        {
         "name": "citympg",
         "rawType": "float64",
         "type": "float"
        },
        {
         "name": "cylinders",
         "rawType": "int64",
         "type": "integer"
        },
        {
         "name": "displacement",
         "rawType": "float64",
         "type": "float"
        },
        {
         "name": "drive",
         "rawType": "object",
         "type": "string"
        },
        {
         "name": "highwaympg",
         "rawType": "float64",
         "type": "float"
        },
        {
         "name": "make",
         "rawType": "object",
         "type": "string"
        },
        {
         "name": "model",
         "rawType": "object",
         "type": "string"
        },
        {
         "name": "class",
         "rawType": "object",
         "type": "string"
        },
        {
         "name": "year",
         "rawType": "int64",
         "type": "integer"
        },
        {
         "name": "transmissiontype",
         "rawType": "object",
         "type": "string"
        },
        {
         "name": "transmissionspeeds",
         "rawType": "int64",
         "type": "integer"
        },
        {
         "name": "co2emissions",
         "rawType": "float64",
         "type": "float"
        }
       ],
       "conversionMethod": "pd.DataFrame",
       "ref": "176bb577-2d22-4a12-bc06-fec19aa7a0be",
       "rows": [
        [
         "0",
         "14.0",
         "6",
         "4.1",
         "2-Wheel Drive",
         "19.0",
         "Buick",
         "Electra/Park Avenue",
         "Large Cars",
         "1984",
         "Automatic",
         "4",
         "555.4375"
        ],
        [
         "1",
         "14.0",
         "8",
         "5.0",
         "2-Wheel Drive",
         "20.0",
         "Buick",
         "Electra/Park Avenue",
         "Large Cars",
         "1984",
         "Automatic",
         "4",
         "555.4375"
        ],
        [
         "2",
         "18.0",
         "8",
         "5.7",
         "2-Wheel Drive",
         "26.0",
         "Buick",
         "Electra/Park Avenue",
         "Large Cars",
         "1984",
         "Automatic",
         "4",
         "484.7619048"
        ],
        [
         "3",
         "21.0",
         "6",
         "4.3",
         "Rear-Wheel Drive",
         "31.0",
         "Cadillac",
         "Fleetwood/DeVille (FWD)",
         "Large Cars",
         "1984",
         "Automatic",
         "4",
         "424.1666667"
        ],
        [
         "4",
         "14.0",
         "8",
         "4.1",
         "Rear-Wheel Drive",
         "19.0",
         "Cadillac",
         "Brougham/DeVille (RWD)",
         "Large Cars",
         "1984",
         "Automatic",
         "4",
         "555.4375"
        ]
       ],
       "shape": {
        "columns": 12,
        "rows": 5
       }
      },
      "text/html": [
       "<div>\n",
       "<style scoped>\n",
       "    .dataframe tbody tr th:only-of-type {\n",
       "        vertical-align: middle;\n",
       "    }\n",
       "\n",
       "    .dataframe tbody tr th {\n",
       "        vertical-align: top;\n",
       "    }\n",
       "\n",
       "    .dataframe thead th {\n",
       "        text-align: right;\n",
       "    }\n",
       "</style>\n",
       "<table border=\"1\" class=\"dataframe\">\n",
       "  <thead>\n",
       "    <tr style=\"text-align: right;\">\n",
       "      <th></th>\n",
       "      <th>citympg</th>\n",
       "      <th>cylinders</th>\n",
       "      <th>displacement</th>\n",
       "      <th>drive</th>\n",
       "      <th>highwaympg</th>\n",
       "      <th>make</th>\n",
       "      <th>model</th>\n",
       "      <th>class</th>\n",
       "      <th>year</th>\n",
       "      <th>transmissiontype</th>\n",
       "      <th>transmissionspeeds</th>\n",
       "      <th>co2emissions</th>\n",
       "    </tr>\n",
       "  </thead>\n",
       "  <tbody>\n",
       "    <tr>\n",
       "      <th>0</th>\n",
       "      <td>14.0</td>\n",
       "      <td>6</td>\n",
       "      <td>4.1</td>\n",
       "      <td>2-Wheel Drive</td>\n",
       "      <td>19.0</td>\n",
       "      <td>Buick</td>\n",
       "      <td>Electra/Park Avenue</td>\n",
       "      <td>Large Cars</td>\n",
       "      <td>1984</td>\n",
       "      <td>Automatic</td>\n",
       "      <td>4</td>\n",
       "      <td>555.437500</td>\n",
       "    </tr>\n",
       "    <tr>\n",
       "      <th>1</th>\n",
       "      <td>14.0</td>\n",
       "      <td>8</td>\n",
       "      <td>5.0</td>\n",
       "      <td>2-Wheel Drive</td>\n",
       "      <td>20.0</td>\n",
       "      <td>Buick</td>\n",
       "      <td>Electra/Park Avenue</td>\n",
       "      <td>Large Cars</td>\n",
       "      <td>1984</td>\n",
       "      <td>Automatic</td>\n",
       "      <td>4</td>\n",
       "      <td>555.437500</td>\n",
       "    </tr>\n",
       "    <tr>\n",
       "      <th>2</th>\n",
       "      <td>18.0</td>\n",
       "      <td>8</td>\n",
       "      <td>5.7</td>\n",
       "      <td>2-Wheel Drive</td>\n",
       "      <td>26.0</td>\n",
       "      <td>Buick</td>\n",
       "      <td>Electra/Park Avenue</td>\n",
       "      <td>Large Cars</td>\n",
       "      <td>1984</td>\n",
       "      <td>Automatic</td>\n",
       "      <td>4</td>\n",
       "      <td>484.761905</td>\n",
       "    </tr>\n",
       "    <tr>\n",
       "      <th>3</th>\n",
       "      <td>21.0</td>\n",
       "      <td>6</td>\n",
       "      <td>4.3</td>\n",
       "      <td>Rear-Wheel Drive</td>\n",
       "      <td>31.0</td>\n",
       "      <td>Cadillac</td>\n",
       "      <td>Fleetwood/DeVille (FWD)</td>\n",
       "      <td>Large Cars</td>\n",
       "      <td>1984</td>\n",
       "      <td>Automatic</td>\n",
       "      <td>4</td>\n",
       "      <td>424.166667</td>\n",
       "    </tr>\n",
       "    <tr>\n",
       "      <th>4</th>\n",
       "      <td>14.0</td>\n",
       "      <td>8</td>\n",
       "      <td>4.1</td>\n",
       "      <td>Rear-Wheel Drive</td>\n",
       "      <td>19.0</td>\n",
       "      <td>Cadillac</td>\n",
       "      <td>Brougham/DeVille (RWD)</td>\n",
       "      <td>Large Cars</td>\n",
       "      <td>1984</td>\n",
       "      <td>Automatic</td>\n",
       "      <td>4</td>\n",
       "      <td>555.437500</td>\n",
       "    </tr>\n",
       "  </tbody>\n",
       "</table>\n",
       "</div>"
      ],
      "text/plain": [
       "   citympg  cylinders  displacement             drive  highwaympg      make  \\\n",
       "0     14.0          6           4.1     2-Wheel Drive        19.0     Buick   \n",
       "1     14.0          8           5.0     2-Wheel Drive        20.0     Buick   \n",
       "2     18.0          8           5.7     2-Wheel Drive        26.0     Buick   \n",
       "3     21.0          6           4.3  Rear-Wheel Drive        31.0  Cadillac   \n",
       "4     14.0          8           4.1  Rear-Wheel Drive        19.0  Cadillac   \n",
       "\n",
       "                     model       class  year transmissiontype  \\\n",
       "0      Electra/Park Avenue  Large Cars  1984        Automatic   \n",
       "1      Electra/Park Avenue  Large Cars  1984        Automatic   \n",
       "2      Electra/Park Avenue  Large Cars  1984        Automatic   \n",
       "3  Fleetwood/DeVille (FWD)  Large Cars  1984        Automatic   \n",
       "4   Brougham/DeVille (RWD)  Large Cars  1984        Automatic   \n",
       "\n",
       "   transmissionspeeds  co2emissions  \n",
       "0                   4    555.437500  \n",
       "1                   4    555.437500  \n",
       "2                   4    484.761905  \n",
       "3                   4    424.166667  \n",
       "4                   4    555.437500  "
      ]
     },
     "execution_count": 41,
     "metadata": {},
     "output_type": "execute_result"
    }
   ],
   "source": [
    "import pandas as pd\n",
    "vehicles = pd.read_csv(\"Data/vehicles.csv\")\n",
    "vehicles.head()"
   ]
  },
  {
   "cell_type": "markdown",
   "metadata": {},
   "source": [
    "## **Làm sao để trực quan hoá mối quan hệ** <a id = \"03a\">"
   ]
  },
  {
   "cell_type": "code",
   "execution_count": 47,
   "metadata": {},
   "outputs": [
    {
     "data": {
      "text/plain": [
       "<Axes: xlabel='citympg', ylabel='co2emissions'>"
      ]
     },
     "execution_count": 47,
     "metadata": {},
     "output_type": "execute_result"
    }
   ],
   "source": [
    "import seaborn as sns\n",
    "sns.scatterplot(x=vehicles['citympg'], y = vehicles['co2emissions'])"
   ]
  },
  {
   "attachments": {
    "image.png": {
     "image/png": "[encoded data removed]"
    }
   },
   "cell_type": "markdown",
   "metadata": {},
   "source": [
    "![image.png](attachment:image.png)"
   ]
  },
  {
   "cell_type": "markdown",
   "metadata": {},
   "source": [
    "## **Làm sao để trực quan hoá phân bố** <a id = \"03b\">"
   ]
  },
  {
   "cell_type": "code",
   "execution_count": 48,
   "metadata": {},
   "outputs": [
    {
     "data": {
      "text/plain": [
       "<Axes: ylabel='Frequency'>"
      ]
     },
     "execution_count": 48,
     "metadata": {},
     "output_type": "execute_result"
    }
   ],
   "source": [
    "vehicles['co2emissions'].plot(kind = 'hist')"
   ]
  },
  {
   "attachments": {
    "image.png": {
     "image/png": "[encoded data removed]"
    }
   },
   "cell_type": "markdown",
   "metadata": {},
   "source": [
    "![image.png](attachment:image.png)"
   ]
  },
  {
   "cell_type": "markdown",
   "metadata": {},
   "source": [
    "## **Làm sao để trực quan hoá so sánh** <a id = \"03c\">"
   ]
  },
  {
   "cell_type": "code",
   "execution_count": 49,
   "metadata": {},
   "outputs": [
    {
     "data": {
      "application/vnd.microsoft.datawrangler.viewer.v0+json": {
       "columns": [
        {
         "name": "index",
         "rawType": "int64",
         "type": "integer"
        },
        {
         "name": "2-Wheel Drive",
         "rawType": "float64",
         "type": "float"
        },
        {
         "name": "4-Wheel Drive",
         "rawType": "float64",
         "type": "float"
        },
        {
         "name": "All-Wheel Drive",
         "rawType": "float64",
         "type": "float"
        },
        {
         "name": "Front-Wheel Drive",
         "rawType": "float64",
         "type": "float"
        },
        {
         "name": "Rear-Wheel Drive",
         "rawType": "float64",
         "type": "float"
        }
       ],
       "conversionMethod": "pd.DataFrame",
       "ref": "2e23a064-2547-4040-bf54-fe152bef2f32",
       "rows": [
        [
         "0",
         "555.4375",
         null,
         null,
         null,
         null
        ],
        [
         "1",
         "555.4375",
         null,
         null,
         null,
         null
        ],
        [
         "2",
         "484.7619048",
         null,
         null,
         null,
         null
        ],
        [
         "3",
         null,
         null,
         null,
         null,
         "424.1666667"
        ],
        [
         "4",
         null,
         null,
         null,
         null,
         "555.4375"
        ],
        [
         "5",
         null,
         null,
         null,
         null,
         "484.7619048"
        ],
        [
         "6",
         null,
         null,
         null,
         null,
         "555.4375"
        ],
        [
         "7",
         "467.7368421",
         null,
         null,
         null,
         null
        ],
        [
         "8",
         "423.1904762",
         null,
         null,
         null,
         null
        ],
        [
         "9",
         "444.35",
         null,
         null,
         null,
         null
        ],
        [
         "10",
         "467.7368421",
         null,
         null,
         null,
         null
        ],
        [
         "11",
         "493.7222222",
         null,
         null,
         null,
         null
        ],
        [
         "12",
         "444.35",
         null,
         null,
         null,
         null
        ],
        [
         "13",
         "467.7368421",
         null,
         null,
         null,
         null
        ],
        [
         "14",
         "467.7368421",
         null,
         null,
         null,
         null
        ],
        [
         "15",
         "424.1666667",
         null,
         null,
         null,
         null
        ],
        [
         "16",
         "444.35",
         null,
         null,
         null,
         null
        ],
        [
         "17",
         "467.7368421",
         null,
         null,
         null,
         null
        ],
        [
         "18",
         "493.7222222",
         null,
         null,
         null,
         null
        ],
        [
         "19",
         "444.35",
         null,
         null,
         null,
         null
        ],
        [
         "20",
         "467.7368421",
         null,
         null,
         null,
         null
        ],
        [
         "21",
         "444.35",
         null,
         null,
         null,
         null
        ],
        [
         "22",
         "467.7368421",
         null,
         null,
         null,
         null
        ],
        [
         "23",
         "423.1904762",
         null,
         null,
         null,
         null
        ],
        [
         "24",
         "467.7368421",
         null,
         null,
         null,
         null
        ],
        [
         "25",
         "493.7222222",
         null,
         null,
         null,
         null
        ],
        [
         "26",
         "467.7368421",
         null,
         null,
         null,
         null
        ],
        [
         "27",
         "444.35",
         null,
         null,
         null,
         null
        ],
        [
         "28",
         "467.7368421",
         null,
         null,
         null,
         null
        ],
        [
         "29",
         "424.1666667",
         null,
         null,
         null,
         null
        ],
        [
         "30",
         "467.7368421",
         null,
         null,
         null,
         null
        ],
        [
         "31",
         "493.7222222",
         null,
         null,
         null,
         null
        ],
        [
         "32",
         "493.7222222",
         null,
         null,
         null,
         null
        ],
        [
         "33",
         "444.35",
         null,
         null,
         null,
         null
        ],
        [
         "34",
         "444.35",
         null,
         null,
         null,
         null
        ],
        [
         "35",
         "370.2916667",
         null,
         null,
         null,
         null
        ],
        [
         "36",
         "423.1904762",
         null,
         null,
         null,
         null
        ],
        [
         "37",
         "363.5714286",
         null,
         null,
         null,
         null
        ],
        [
         "38",
         "386.3913043",
         null,
         null,
         null,
         null
        ],
        [
         "39",
         "403.9545455",
         null,
         null,
         null,
         null
        ],
        [
         "40",
         "423.1904762",
         null,
         null,
         null,
         null
        ],
        [
         "41",
         "403.9545455",
         null,
         null,
         null,
         null
        ],
        [
         "42",
         "370.2916667",
         null,
         null,
         null,
         null
        ],
        [
         "43",
         "391.5384615",
         null,
         null,
         null,
         null
        ],
        [
         "44",
         "423.1904762",
         null,
         null,
         null,
         null
        ],
        [
         "45",
         "467.7368421",
         null,
         null,
         null,
         null
        ],
        [
         "46",
         "370.2916667",
         null,
         null,
         null,
         null
        ],
        [
         "47",
         "423.1904762",
         null,
         null,
         null,
         null
        ],
        [
         "48",
         "363.5714286",
         null,
         null,
         null,
         null
        ],
        [
         "49",
         "370.2916667",
         null,
         null,
         null,
         null
        ]
       ],
       "shape": {
        "columns": 5,
        "rows": 36979
       }
      },
      "text/html": [
       "<div>\n",
       "<style scoped>\n",
       "    .dataframe tbody tr th:only-of-type {\n",
       "        vertical-align: middle;\n",
       "    }\n",
       "\n",
       "    .dataframe tbody tr th {\n",
       "        vertical-align: top;\n",
       "    }\n",
       "\n",
       "    .dataframe thead th {\n",
       "        text-align: right;\n",
       "    }\n",
       "</style>\n",
       "<table border=\"1\" class=\"dataframe\">\n",
       "  <thead>\n",
       "    <tr style=\"text-align: right;\">\n",
       "      <th>drive</th>\n",
       "      <th>2-Wheel Drive</th>\n",
       "      <th>4-Wheel Drive</th>\n",
       "      <th>All-Wheel Drive</th>\n",
       "      <th>Front-Wheel Drive</th>\n",
       "      <th>Rear-Wheel Drive</th>\n",
       "    </tr>\n",
       "  </thead>\n",
       "  <tbody>\n",
       "    <tr>\n",
       "      <th>0</th>\n",
       "      <td>555.437500</td>\n",
       "      <td>NaN</td>\n",
       "      <td>NaN</td>\n",
       "      <td>NaN</td>\n",
       "      <td>NaN</td>\n",
       "    </tr>\n",
       "    <tr>\n",
       "      <th>1</th>\n",
       "      <td>555.437500</td>\n",
       "      <td>NaN</td>\n",
       "      <td>NaN</td>\n",
       "      <td>NaN</td>\n",
       "      <td>NaN</td>\n",
       "    </tr>\n",
       "    <tr>\n",
       "      <th>2</th>\n",
       "      <td>484.761905</td>\n",
       "      <td>NaN</td>\n",
       "      <td>NaN</td>\n",
       "      <td>NaN</td>\n",
       "      <td>NaN</td>\n",
       "    </tr>\n",
       "    <tr>\n",
       "      <th>3</th>\n",
       "      <td>NaN</td>\n",
       "      <td>NaN</td>\n",
       "      <td>NaN</td>\n",
       "      <td>NaN</td>\n",
       "      <td>424.166667</td>\n",
       "    </tr>\n",
       "    <tr>\n",
       "      <th>4</th>\n",
       "      <td>NaN</td>\n",
       "      <td>NaN</td>\n",
       "      <td>NaN</td>\n",
       "      <td>NaN</td>\n",
       "      <td>555.437500</td>\n",
       "    </tr>\n",
       "    <tr>\n",
       "      <th>...</th>\n",
       "      <td>...</td>\n",
       "      <td>...</td>\n",
       "      <td>...</td>\n",
       "      <td>...</td>\n",
       "      <td>...</td>\n",
       "    </tr>\n",
       "    <tr>\n",
       "      <th>36974</th>\n",
       "      <td>NaN</td>\n",
       "      <td>NaN</td>\n",
       "      <td>NaN</td>\n",
       "      <td>NaN</td>\n",
       "      <td>442.000000</td>\n",
       "    </tr>\n",
       "    <tr>\n",
       "      <th>36975</th>\n",
       "      <td>NaN</td>\n",
       "      <td>NaN</td>\n",
       "      <td>NaN</td>\n",
       "      <td>NaN</td>\n",
       "      <td>466.000000</td>\n",
       "    </tr>\n",
       "    <tr>\n",
       "      <th>36976</th>\n",
       "      <td>NaN</td>\n",
       "      <td>NaN</td>\n",
       "      <td>NaN</td>\n",
       "      <td>NaN</td>\n",
       "      <td>503.000000</td>\n",
       "    </tr>\n",
       "    <tr>\n",
       "      <th>36977</th>\n",
       "      <td>NaN</td>\n",
       "      <td>NaN</td>\n",
       "      <td>NaN</td>\n",
       "      <td>NaN</td>\n",
       "      <td>661.000000</td>\n",
       "    </tr>\n",
       "    <tr>\n",
       "      <th>36978</th>\n",
       "      <td>NaN</td>\n",
       "      <td>NaN</td>\n",
       "      <td>NaN</td>\n",
       "      <td>NaN</td>\n",
       "      <td>546.000000</td>\n",
       "    </tr>\n",
       "  </tbody>\n",
       "</table>\n",
       "<p>36979 rows × 5 columns</p>\n",
       "</div>"
      ],
      "text/plain": [
       "drive  2-Wheel Drive  4-Wheel Drive  All-Wheel Drive  Front-Wheel Drive  \\\n",
       "0         555.437500            NaN              NaN                NaN   \n",
       "1         555.437500            NaN              NaN                NaN   \n",
       "2         484.761905            NaN              NaN                NaN   \n",
       "3                NaN            NaN              NaN                NaN   \n",
       "4                NaN            NaN              NaN                NaN   \n",
       "...              ...            ...              ...                ...   \n",
       "36974            NaN            NaN              NaN                NaN   \n",
       "36975            NaN            NaN              NaN                NaN   \n",
       "36976            NaN            NaN              NaN                NaN   \n",
       "36977            NaN            NaN              NaN                NaN   \n",
       "36978            NaN            NaN              NaN                NaN   \n",
       "\n",
       "drive  Rear-Wheel Drive  \n",
       "0                   NaN  \n",
       "1                   NaN  \n",
       "2                   NaN  \n",
       "3            424.166667  \n",
       "4            555.437500  \n",
       "...                 ...  \n",
       "36974        442.000000  \n",
       "36975        466.000000  \n",
       "36976        503.000000  \n",
       "36977        661.000000  \n",
       "36978        546.000000  \n",
       "\n",
       "[36979 rows x 5 columns]"
      ]
     },
     "execution_count": 49,
     "metadata": {},
     "output_type": "execute_result"
    }
   ],
   "source": [
    "vehicles.pivot(columns = 'drive', values = 'co2emissions')"
   ]
  },
  {
   "cell_type": "code",
   "execution_count": 50,
   "metadata": {},
   "outputs": [
    {
     "data": {
      "text/plain": [
       "<Axes: >"
      ]
     },
     "execution_count": 50,
     "metadata": {},
     "output_type": "execute_result"
    }
   ],
   "source": [
    "vehicles.pivot(columns = 'drive', values = 'co2emissions').plot(kind = 'box', \n",
    "                                                                figsize = (10, 6))"
   ]
  },
  {
   "attachments": {
    "image.png": {
     "image/png": "[encoded data removed]"
    }
   },
   "cell_type": "markdown",
   "metadata": {},
   "source": [
    "![image.png](attachment:image.png)"
   ]
  },
  {
   "cell_type": "markdown",
   "metadata": {},
   "source": [
    "## **Làm sao để trực quan hoá thành phần** <a id = \"03d\">"
   ]
  },
  {
   "cell_type": "code",
   "execution_count": 51,
   "metadata": {},
   "outputs": [
    {
     "data": {
      "text/plain": [
       "year  drive            \n",
       "1984  2-Wheel Drive        477\n",
       "      All-Wheel Drive      301\n",
       "      Rear-Wheel Drive       4\n",
       "1985  Rear-Wheel Drive     772\n",
       "      Front-Wheel Drive    672\n",
       "                          ... \n",
       "2017  4-Wheel Drive        173\n",
       "2018  All-Wheel Drive      245\n",
       "      Rear-Wheel Drive     230\n",
       "      Front-Wheel Drive    193\n",
       "      4-Wheel Drive        124\n",
       "Name: count, Length: 123, dtype: int64"
      ]
     },
     "execution_count": 51,
     "metadata": {},
     "output_type": "execute_result"
    }
   ],
   "source": [
    "vehicles.groupby('year')['drive'].value_counts()"
   ]
  },
  {
   "cell_type": "code",
   "execution_count": 52,
   "metadata": {},
   "outputs": [
    {
     "data": {
      "application/vnd.microsoft.datawrangler.viewer.v0+json": {
       "columns": [
        {
         "name": "year",
         "rawType": "int64",
         "type": "integer"
        },
        {
         "name": "2-Wheel Drive",
         "rawType": "float64",
         "type": "float"
        },
        {
         "name": "4-Wheel Drive",
         "rawType": "float64",
         "type": "float"
        },
        {
         "name": "All-Wheel Drive",
         "rawType": "float64",
         "type": "float"
        },
        {
         "name": "Front-Wheel Drive",
         "rawType": "float64",
         "type": "float"
        },
        {
         "name": "Rear-Wheel Drive",
         "rawType": "float64",
         "type": "float"
        }
       ],
       "conversionMethod": "pd.DataFrame",
       "ref": "be739761-2754-4522-a865-0cc145630ca6",
       "rows": [
        [
         "1984",
         "477.0",
         null,
         "301.0",
         null,
         "4.0"
        ],
        [
         "1985",
         null,
         null,
         "255.0",
         "672.0",
         "772.0"
        ],
        [
         "1986",
         null,
         "1.0",
         "202.0",
         "430.0",
         "576.0"
        ],
        [
         "1987",
         null,
         null,
         "220.0",
         "470.0",
         "557.0"
        ],
        [
         "1988",
         null,
         null,
         "215.0",
         "447.0",
         "468.0"
        ],
        [
         "1989",
         null,
         null,
         "227.0",
         "445.0",
         "480.0"
        ],
        [
         "1990",
         null,
         null,
         "241.0",
         "422.0",
         "413.0"
        ],
        [
         "1991",
         null,
         null,
         "243.0",
         "431.0",
         "456.0"
        ],
        [
         "1992",
         null,
         null,
         "232.0",
         "455.0",
         "432.0"
        ],
        [
         "1993",
         null,
         null,
         "220.0",
         "470.0",
         "401.0"
        ],
        [
         "1994",
         null,
         null,
         "211.0",
         "410.0",
         "361.0"
        ],
        [
         "1995",
         "1.0",
         null,
         "196.0",
         "400.0",
         "370.0"
        ],
        [
         "1996",
         null,
         null,
         "153.0",
         "353.0",
         "266.0"
        ],
        [
         "1997",
         null,
         "10.0",
         "150.0",
         "324.0",
         "277.0"
        ],
        [
         "1998",
         null,
         null,
         "177.0",
         "348.0",
         "283.0"
        ],
        [
         "1999",
         "8.0",
         null,
         "187.0",
         "362.0",
         "287.0"
        ],
        [
         "2000",
         null,
         null,
         "179.0",
         "346.0",
         "310.0"
        ],
        [
         "2001",
         null,
         null,
         "219.0",
         "358.0",
         "324.0"
        ],
        [
         "2002",
         "2.0",
         null,
         "250.0",
         "372.0",
         "338.0"
        ],
        [
         "2003",
         null,
         null,
         "298.0",
         "354.0",
         "374.0"
        ],
        [
         "2004",
         null,
         "1.0",
         "343.0",
         "378.0",
         "383.0"
        ],
        [
         "2005",
         "1.0",
         null,
         "367.0",
         "391.0",
         "382.0"
        ],
        [
         "2006",
         "2.0",
         null,
         "354.0",
         "344.0",
         "379.0"
        ],
        [
         "2007",
         null,
         "2.0",
         "369.0",
         "328.0",
         "389.0"
        ],
        [
         "2008",
         null,
         null,
         "388.0",
         "343.0",
         "410.0"
        ],
        [
         "2009",
         null,
         null,
         "392.0",
         "347.0",
         "390.0"
        ],
        [
         "2010",
         null,
         "153.0",
         "202.0",
         "352.0",
         "345.0"
        ],
        [
         "2011",
         null,
         "134.0",
         "225.0",
         "326.0",
         "375.0"
        ],
        [
         "2012",
         null,
         "146.0",
         "203.0",
         "348.0",
         "381.0"
        ],
        [
         "2013",
         null,
         "128.0",
         "239.0",
         "381.0",
         "356.0"
        ],
        [
         "2014",
         null,
         "151.0",
         "259.0",
         "379.0",
         "352.0"
        ],
        [
         "2015",
         null,
         "163.0",
         "286.0",
         "377.0",
         "377.0"
        ],
        [
         "2016",
         null,
         "163.0",
         "289.0",
         "370.0",
         "350.0"
        ],
        [
         "2017",
         null,
         "173.0",
         "334.0",
         "348.0",
         "346.0"
        ],
        [
         "2018",
         null,
         "124.0",
         "245.0",
         "193.0",
         "230.0"
        ]
       ],
       "shape": {
        "columns": 5,
        "rows": 35
       }
      },
      "text/html": [
       "<div>\n",
       "<style scoped>\n",
       "    .dataframe tbody tr th:only-of-type {\n",
       "        vertical-align: middle;\n",
       "    }\n",
       "\n",
       "    .dataframe tbody tr th {\n",
       "        vertical-align: top;\n",
       "    }\n",
       "\n",
       "    .dataframe thead th {\n",
       "        text-align: right;\n",
       "    }\n",
       "</style>\n",
       "<table border=\"1\" class=\"dataframe\">\n",
       "  <thead>\n",
       "    <tr style=\"text-align: right;\">\n",
       "      <th>drive</th>\n",
       "      <th>2-Wheel Drive</th>\n",
       "      <th>4-Wheel Drive</th>\n",
       "      <th>All-Wheel Drive</th>\n",
       "      <th>Front-Wheel Drive</th>\n",
       "      <th>Rear-Wheel Drive</th>\n",
       "    </tr>\n",
       "    <tr>\n",
       "      <th>year</th>\n",
       "      <th></th>\n",
       "      <th></th>\n",
       "      <th></th>\n",
       "      <th></th>\n",
       "      <th></th>\n",
       "    </tr>\n",
       "  </thead>\n",
       "  <tbody>\n",
       "    <tr>\n",
       "      <th>1984</th>\n",
       "      <td>477.0</td>\n",
       "      <td>NaN</td>\n",
       "      <td>301.0</td>\n",
       "      <td>NaN</td>\n",
       "      <td>4.0</td>\n",
       "    </tr>\n",
       "    <tr>\n",
       "      <th>1985</th>\n",
       "      <td>NaN</td>\n",
       "      <td>NaN</td>\n",
       "      <td>255.0</td>\n",
       "      <td>672.0</td>\n",
       "      <td>772.0</td>\n",
       "    </tr>\n",
       "    <tr>\n",
       "      <th>1986</th>\n",
       "      <td>NaN</td>\n",
       "      <td>1.0</td>\n",
       "      <td>202.0</td>\n",
       "      <td>430.0</td>\n",
       "      <td>576.0</td>\n",
       "    </tr>\n",
       "    <tr>\n",
       "      <th>1987</th>\n",
       "      <td>NaN</td>\n",
       "      <td>NaN</td>\n",
       "      <td>220.0</td>\n",
       "      <td>470.0</td>\n",
       "      <td>557.0</td>\n",
       "    </tr>\n",
       "    <tr>\n",
       "      <th>1988</th>\n",
       "      <td>NaN</td>\n",
       "      <td>NaN</td>\n",
       "      <td>215.0</td>\n",
       "      <td>447.0</td>\n",
       "      <td>468.0</td>\n",
       "    </tr>\n",
       "    <tr>\n",
       "      <th>1989</th>\n",
       "      <td>NaN</td>\n",
       "      <td>NaN</td>\n",
       "      <td>227.0</td>\n",
       "      <td>445.0</td>\n",
       "      <td>480.0</td>\n",
       "    </tr>\n",
       "    <tr>\n",
       "      <th>1990</th>\n",
       "      <td>NaN</td>\n",
       "      <td>NaN</td>\n",
       "      <td>241.0</td>\n",
       "      <td>422.0</td>\n",
       "      <td>413.0</td>\n",
       "    </tr>\n",
       "    <tr>\n",
       "      <th>1991</th>\n",
       "      <td>NaN</td>\n",
       "      <td>NaN</td>\n",
       "      <td>243.0</td>\n",
       "      <td>431.0</td>\n",
       "      <td>456.0</td>\n",
       "    </tr>\n",
       "    <tr>\n",
       "      <th>1992</th>\n",
       "      <td>NaN</td>\n",
       "      <td>NaN</td>\n",
       "      <td>232.0</td>\n",
       "      <td>455.0</td>\n",
       "      <td>432.0</td>\n",
       "    </tr>\n",
       "    <tr>\n",
       "      <th>1993</th>\n",
       "      <td>NaN</td>\n",
       "      <td>NaN</td>\n",
       "      <td>220.0</td>\n",
       "      <td>470.0</td>\n",
       "      <td>401.0</td>\n",
       "    </tr>\n",
       "    <tr>\n",
       "      <th>1994</th>\n",
       "      <td>NaN</td>\n",
       "      <td>NaN</td>\n",
       "      <td>211.0</td>\n",
       "      <td>410.0</td>\n",
       "      <td>361.0</td>\n",
       "    </tr>\n",
       "    <tr>\n",
       "      <th>1995</th>\n",
       "      <td>1.0</td>\n",
       "      <td>NaN</td>\n",
       "      <td>196.0</td>\n",
       "      <td>400.0</td>\n",
       "      <td>370.0</td>\n",
       "    </tr>\n",
       "    <tr>\n",
       "      <th>1996</th>\n",
       "      <td>NaN</td>\n",
       "      <td>NaN</td>\n",
       "      <td>153.0</td>\n",
       "      <td>353.0</td>\n",
       "      <td>266.0</td>\n",
       "    </tr>\n",
       "    <tr>\n",
       "      <th>1997</th>\n",
       "      <td>NaN</td>\n",
       "      <td>10.0</td>\n",
       "      <td>150.0</td>\n",
       "      <td>324.0</td>\n",
       "      <td>277.0</td>\n",
       "    </tr>\n",
       "    <tr>\n",
       "      <th>1998</th>\n",
       "      <td>NaN</td>\n",
       "      <td>NaN</td>\n",
       "      <td>177.0</td>\n",
       "      <td>348.0</td>\n",
       "      <td>283.0</td>\n",
       "    </tr>\n",
       "    <tr>\n",
       "      <th>1999</th>\n",
       "      <td>8.0</td>\n",
       "      <td>NaN</td>\n",
       "      <td>187.0</td>\n",
       "      <td>362.0</td>\n",
       "      <td>287.0</td>\n",
       "    </tr>\n",
       "    <tr>\n",
       "      <th>2000</th>\n",
       "      <td>NaN</td>\n",
       "      <td>NaN</td>\n",
       "      <td>179.0</td>\n",
       "      <td>346.0</td>\n",
       "      <td>310.0</td>\n",
       "    </tr>\n",
       "    <tr>\n",
       "      <th>2001</th>\n",
       "      <td>NaN</td>\n",
       "      <td>NaN</td>\n",
       "      <td>219.0</td>\n",
       "      <td>358.0</td>\n",
       "      <td>324.0</td>\n",
       "    </tr>\n",
       "    <tr>\n",
       "      <th>2002</th>\n",
       "      <td>2.0</td>\n",
       "      <td>NaN</td>\n",
       "      <td>250.0</td>\n",
       "      <td>372.0</td>\n",
       "      <td>338.0</td>\n",
       "    </tr>\n",
       "    <tr>\n",
       "      <th>2003</th>\n",
       "      <td>NaN</td>\n",
       "      <td>NaN</td>\n",
       "      <td>298.0</td>\n",
       "      <td>354.0</td>\n",
       "      <td>374.0</td>\n",
       "    </tr>\n",
       "    <tr>\n",
       "      <th>2004</th>\n",
       "      <td>NaN</td>\n",
       "      <td>1.0</td>\n",
       "      <td>343.0</td>\n",
       "      <td>378.0</td>\n",
       "      <td>383.0</td>\n",
       "    </tr>\n",
       "    <tr>\n",
       "      <th>2005</th>\n",
       "      <td>1.0</td>\n",
       "      <td>NaN</td>\n",
       "      <td>367.0</td>\n",
       "      <td>391.0</td>\n",
       "      <td>382.0</td>\n",
       "    </tr>\n",
       "    <tr>\n",
       "      <th>2006</th>\n",
       "      <td>2.0</td>\n",
       "      <td>NaN</td>\n",
       "      <td>354.0</td>\n",
       "      <td>344.0</td>\n",
       "      <td>379.0</td>\n",
       "    </tr>\n",
       "    <tr>\n",
       "      <th>2007</th>\n",
       "      <td>NaN</td>\n",
       "      <td>2.0</td>\n",
       "      <td>369.0</td>\n",
       "      <td>328.0</td>\n",
       "      <td>389.0</td>\n",
       "    </tr>\n",
       "    <tr>\n",
       "      <th>2008</th>\n",
       "      <td>NaN</td>\n",
       "      <td>NaN</td>\n",
       "      <td>388.0</td>\n",
       "      <td>343.0</td>\n",
       "      <td>410.0</td>\n",
       "    </tr>\n",
       "    <tr>\n",
       "      <th>2009</th>\n",
       "      <td>NaN</td>\n",
       "      <td>NaN</td>\n",
       "      <td>392.0</td>\n",
       "      <td>347.0</td>\n",
       "      <td>390.0</td>\n",
       "    </tr>\n",
       "    <tr>\n",
       "      <th>2010</th>\n",
       "      <td>NaN</td>\n",
       "      <td>153.0</td>\n",
       "      <td>202.0</td>\n",
       "      <td>352.0</td>\n",
       "      <td>345.0</td>\n",
       "    </tr>\n",
       "    <tr>\n",
       "      <th>2011</th>\n",
       "      <td>NaN</td>\n",
       "      <td>134.0</td>\n",
       "      <td>225.0</td>\n",
       "      <td>326.0</td>\n",
       "      <td>375.0</td>\n",
       "    </tr>\n",
       "    <tr>\n",
       "      <th>2012</th>\n",
       "      <td>NaN</td>\n",
       "      <td>146.0</td>\n",
       "      <td>203.0</td>\n",
       "      <td>348.0</td>\n",
       "      <td>381.0</td>\n",
       "    </tr>\n",
       "    <tr>\n",
       "      <th>2013</th>\n",
       "      <td>NaN</td>\n",
       "      <td>128.0</td>\n",
       "      <td>239.0</td>\n",
       "      <td>381.0</td>\n",
       "      <td>356.0</td>\n",
       "    </tr>\n",
       "    <tr>\n",
       "      <th>2014</th>\n",
       "      <td>NaN</td>\n",
       "      <td>151.0</td>\n",
       "      <td>259.0</td>\n",
       "      <td>379.0</td>\n",
       "      <td>352.0</td>\n",
       "    </tr>\n",
       "    <tr>\n",
       "      <th>2015</th>\n",
       "      <td>NaN</td>\n",
       "      <td>163.0</td>\n",
       "      <td>286.0</td>\n",
       "      <td>377.0</td>\n",
       "      <td>377.0</td>\n",
       "    </tr>\n",
       "    <tr>\n",
       "      <th>2016</th>\n",
       "      <td>NaN</td>\n",
       "      <td>163.0</td>\n",
       "      <td>289.0</td>\n",
       "      <td>370.0</td>\n",
       "      <td>350.0</td>\n",
       "    </tr>\n",
       "    <tr>\n",
       "      <th>2017</th>\n",
       "      <td>NaN</td>\n",
       "      <td>173.0</td>\n",
       "      <td>334.0</td>\n",
       "      <td>348.0</td>\n",
       "      <td>346.0</td>\n",
       "    </tr>\n",
       "    <tr>\n",
       "      <th>2018</th>\n",
       "      <td>NaN</td>\n",
       "      <td>124.0</td>\n",
       "      <td>245.0</td>\n",
       "      <td>193.0</td>\n",
       "      <td>230.0</td>\n",
       "    </tr>\n",
       "  </tbody>\n",
       "</table>\n",
       "</div>"
      ],
      "text/plain": [
       "drive  2-Wheel Drive  4-Wheel Drive  All-Wheel Drive  Front-Wheel Drive  \\\n",
       "year                                                                      \n",
       "1984           477.0            NaN            301.0                NaN   \n",
       "1985             NaN            NaN            255.0              672.0   \n",
       "1986             NaN            1.0            202.0              430.0   \n",
       "1987             NaN            NaN            220.0              470.0   \n",
       "1988             NaN            NaN            215.0              447.0   \n",
       "1989             NaN            NaN            227.0              445.0   \n",
       "1990             NaN            NaN            241.0              422.0   \n",
       "1991             NaN            NaN            243.0              431.0   \n",
       "1992             NaN            NaN            232.0              455.0   \n",
       "1993             NaN            NaN            220.0              470.0   \n",
       "1994             NaN            NaN            211.0              410.0   \n",
       "1995             1.0            NaN            196.0              400.0   \n",
       "1996             NaN            NaN            153.0              353.0   \n",
       "1997             NaN           10.0            150.0              324.0   \n",
       "1998             NaN            NaN            177.0              348.0   \n",
       "1999             8.0            NaN            187.0              362.0   \n",
       "2000             NaN            NaN            179.0              346.0   \n",
       "2001             NaN            NaN            219.0              358.0   \n",
       "2002             2.0            NaN            250.0              372.0   \n",
       "2003             NaN            NaN            298.0              354.0   \n",
       "2004             NaN            1.0            343.0              378.0   \n",
       "2005             1.0            NaN            367.0              391.0   \n",
       "2006             2.0            NaN            354.0              344.0   \n",
       "2007             NaN            2.0            369.0              328.0   \n",
       "2008             NaN            NaN            388.0              343.0   \n",
       "2009             NaN            NaN            392.0              347.0   \n",
       "2010             NaN          153.0            202.0              352.0   \n",
       "2011             NaN          134.0            225.0              326.0   \n",
       "2012             NaN          146.0            203.0              348.0   \n",
       "2013             NaN          128.0            239.0              381.0   \n",
       "2014             NaN          151.0            259.0              379.0   \n",
       "2015             NaN          163.0            286.0              377.0   \n",
       "2016             NaN          163.0            289.0              370.0   \n",
       "2017             NaN          173.0            334.0              348.0   \n",
       "2018             NaN          124.0            245.0              193.0   \n",
       "\n",
       "drive  Rear-Wheel Drive  \n",
       "year                     \n",
       "1984                4.0  \n",
       "1985              772.0  \n",
       "1986              576.0  \n",
       "1987              557.0  \n",
       "1988              468.0  \n",
       "1989              480.0  \n",
       "1990              413.0  \n",
       "1991              456.0  \n",
       "1992              432.0  \n",
       "1993              401.0  \n",
       "1994              361.0  \n",
       "1995              370.0  \n",
       "1996              266.0  \n",
       "1997              277.0  \n",
       "1998              283.0  \n",
       "1999              287.0  \n",
       "2000              310.0  \n",
       "2001              324.0  \n",
       "2002              338.0  \n",
       "2003              374.0  \n",
       "2004              383.0  \n",
       "2005              382.0  \n",
       "2006              379.0  \n",
       "2007              389.0  \n",
       "2008              410.0  \n",
       "2009              390.0  \n",
       "2010              345.0  \n",
       "2011              375.0  \n",
       "2012              381.0  \n",
       "2013              356.0  \n",
       "2014              352.0  \n",
       "2015              377.0  \n",
       "2016              350.0  \n",
       "2017              346.0  \n",
       "2018              230.0  "
      ]
     },
     "execution_count": 52,
     "metadata": {},
     "output_type": "execute_result"
    }
   ],
   "source": [
    "vehicles.groupby('year')['drive'].value_counts().unstack()"
   ]
  },
  {
   "cell_type": "code",
   "execution_count": 53,
   "metadata": {},
   "outputs": [
    {
     "data": {
      "text/plain": [
       "<Axes: xlabel='year'>"
      ]
     },
     "execution_count": 53,
     "metadata": {},
     "output_type": "execute_result"
    }
   ],
   "source": [
    "vehicles.groupby('year')['drive'].value_counts().unstack().plot(kind = 'bar', \n",
    "                                                                stacked = True, \n",
    "                                                                figsize = (10, 6))"
   ]
  },
  {
   "attachments": {
    "image.png": {
     "image/png": "[encoded data removed]"
    }
   },
   "cell_type": "markdown",
   "metadata": {},
   "source": [
    "![image.png](attachment:image.png)"
   ]
  },
  {
   "cell_type": "markdown",
   "metadata": {},
   "source": [
    "# **04_Làm sao để giải quyết các dữ liệu bị thiếu ( Missing Data ) trong Python** <a id = \"04\">"
   ]
  },
  {
   "cell_type": "markdown",
   "metadata": {},
   "source": [
    "Trong suốt quá trình phân tích dữ liệu, thật không quá phổ biến khi bảo rằng dữ liệu mà chúng ta có là hoàn hảo. Dữ liệu bị thiếu có thể là kết quả trong quá trình phương thức thu thập dữ liệu, lỗi của con người, bias, hoặc đơn giản là thiếu thông tin đầu vào tin cậy. Có nhiều các để có thể giải quyết các dữ liệu bị thiếu\n",
    "Phần cuối của tutorial này bạn sẽ được học:\n",
    "* Làm sao để lựa chọn các dữ liệu bị thiếu ( missing data )\n",
    "* Làm sao để thay thế các dữ liệu bị thiếu ( missing data )\n",
    "* Làm sao để giải quyết các dữ liệu bị thiếu ( missing data )"
   ]
  },
  {
   "cell_type": "markdown",
   "metadata": {},
   "source": [
    "## **Làm sao để tìm ra các dữ liệu bị thiếu ( missing data )** <a id = \"04a\">"
   ]
  },
  {
   "cell_type": "code",
   "execution_count": 54,
   "metadata": {},
   "outputs": [
    {
     "data": {
      "application/vnd.microsoft.datawrangler.viewer.v0+json": {
       "columns": [
        {
         "name": "index",
         "rawType": "int64",
         "type": "integer"
        },
        {
         "name": "ID",
         "rawType": "int64",
         "type": "integer"
        },
        {
         "name": "FirstName",
         "rawType": "object",
         "type": "string"
        },
        {
         "name": "LastName",
         "rawType": "object",
         "type": "string"
        },
        {
         "name": "Major",
         "rawType": "object",
         "type": "string"
        },
        {
         "name": "Minor",
         "rawType": "object",
         "type": "unknown"
        },
        {
         "name": "Age",
         "rawType": "float64",
         "type": "float"
        },
        {
         "name": "Gender",
         "rawType": "object",
         "type": "unknown"
        },
        {
         "name": "City",
         "rawType": "object",
         "type": "unknown"
        },
        {
         "name": "State",
         "rawType": "object",
         "type": "unknown"
        },
        {
         "name": "Zip",
         "rawType": "float64",
         "type": "float"
        }
       ],
       "conversionMethod": "pd.DataFrame",
       "ref": "9ae23ede-a457-4f48-a08c-1a995fee011b",
       "rows": [
        [
         "0",
         "1869",
         "Hana",
         "Barton",
         "Finance",
         null,
         "22.0",
         "Female",
         null,
         null,
         null
        ],
        [
         "1",
         "2010",
         "Alicia",
         "Kanuri",
         "Management",
         null,
         "21.0",
         "Female",
         "Berrien Springs",
         null,
         null
        ],
        [
         "2",
         "2075",
         "Becca",
         "Swanson",
         "Marketing",
         null,
         "22.0",
         "Female",
         "Chicago",
         "IL",
         "60608.0"
        ],
        [
         "3",
         "2228",
         "Halima",
         "Aminu",
         "Business Analytics",
         null,
         "20.0",
         "Female",
         "Atlanta",
         "GA",
         "30303.0"
        ],
        [
         "4",
         "2442",
         "Holly",
         "Robinson",
         "Finance",
         null,
         "20.0",
         "Female",
         "Charlotte",
         "NC",
         "28202.0"
        ],
        [
         "5",
         "2858",
         "Carla",
         "Harding",
         "Accountancy",
         null,
         null,
         "Female",
         "Youngstown",
         "OH",
         "44502.0"
        ],
        [
         "6",
         "3459",
         "Alex",
         "Swanson",
         "Accountancy",
         null,
         null,
         null,
         "Granger",
         "IN",
         null
        ],
        [
         "7",
         "3585",
         "Aminah",
         "Zalim",
         "Marketing",
         null,
         "20.0",
         "Female",
         "Ashburn",
         "VA",
         "20147.0"
        ],
        [
         "8",
         "5170",
         "Gus",
         "Cunningham",
         "Finance",
         "Innovation",
         "21.0",
         "Male",
         "Massillon",
         "OH",
         "44646.0"
        ],
        [
         "9",
         "5317",
         "Rafael",
         "Solis",
         "Business Analytics",
         "ACMS",
         null,
         null,
         "South Bend",
         "IN",
         "46601.0"
        ],
        [
         "10",
         "5336",
         "Homer",
         "White",
         "Finance",
         null,
         null,
         "Male",
         "St. Paul",
         "MN",
         "55101.0"
        ],
        [
         "11",
         "5495",
         "Lara",
         "Woods",
         "Accountancy",
         null,
         null,
         null,
         "Dallas",
         "TX",
         "75201.0"
        ],
        [
         "12",
         "6453",
         "Otis",
         "Johnson",
         "Management",
         "Political Science",
         "19.0",
         "Male",
         "Anchorage",
         "AK",
         "99501.0"
        ],
        [
         "13",
         "6504",
         "Chantelle",
         "Woods",
         "Business Technology",
         null,
         "18.0",
         "Female",
         "Chicago",
         null,
         "60608.0"
        ],
        [
         "14",
         "6768",
         "Caroline",
         "Marsh",
         "Business Analytics",
         "ACMS",
         "22.0",
         "Female",
         "Niles",
         "MI",
         null
        ],
        [
         "15",
         "7511",
         "Laila",
         "Carroll",
         "Marketing",
         "Innovation",
         "20.0",
         "Female",
         "New York",
         "NY",
         "10001.0"
        ],
        [
         "16",
         "7965",
         "Rocco",
         "Decola",
         "Finance",
         "Innovation",
         "21.0",
         "Male",
         "Oakland",
         "CA",
         "94603.0"
        ],
        [
         "17",
         "9232",
         "Julie",
         "Holmes",
         "Business Technology",
         "Innovation",
         "18.0",
         "Female",
         "Webster",
         "NY",
         "14580.0"
        ],
        [
         "18",
         "9268",
         "Albert",
         "Palmer",
         "Management",
         "Real Estate",
         "21.0",
         "Male",
         "Detroit",
         "MI",
         "48201.0"
        ],
        [
         "19",
         "9941",
         "Zoya",
         "Doyle",
         "Business Analytics",
         null,
         null,
         "Female",
         "Chicago",
         "IL",
         "60608.0"
        ]
       ],
       "shape": {
        "columns": 10,
        "rows": 20
       }
      },
      "text/html": [
       "<div>\n",
       "<style scoped>\n",
       "    .dataframe tbody tr th:only-of-type {\n",
       "        vertical-align: middle;\n",
       "    }\n",
       "\n",
       "    .dataframe tbody tr th {\n",
       "        vertical-align: top;\n",
       "    }\n",
       "\n",
       "    .dataframe thead th {\n",
       "        text-align: right;\n",
       "    }\n",
       "</style>\n",
       "<table border=\"1\" class=\"dataframe\">\n",
       "  <thead>\n",
       "    <tr style=\"text-align: right;\">\n",
       "      <th></th>\n",
       "      <th>ID</th>\n",
       "      <th>FirstName</th>\n",
       "      <th>LastName</th>\n",
       "      <th>Major</th>\n",
       "      <th>Minor</th>\n",
       "      <th>Age</th>\n",
       "      <th>Gender</th>\n",
       "      <th>City</th>\n",
       "      <th>State</th>\n",
       "      <th>Zip</th>\n",
       "    </tr>\n",
       "  </thead>\n",
       "  <tbody>\n",
       "    <tr>\n",
       "      <th>0</th>\n",
       "      <td>1869</td>\n",
       "      <td>Hana</td>\n",
       "      <td>Barton</td>\n",
       "      <td>Finance</td>\n",
       "      <td>NaN</td>\n",
       "      <td>22.0</td>\n",
       "      <td>Female</td>\n",
       "      <td>NaN</td>\n",
       "      <td>NaN</td>\n",
       "      <td>NaN</td>\n",
       "    </tr>\n",
       "    <tr>\n",
       "      <th>1</th>\n",
       "      <td>2010</td>\n",
       "      <td>Alicia</td>\n",
       "      <td>Kanuri</td>\n",
       "      <td>Management</td>\n",
       "      <td>NaN</td>\n",
       "      <td>21.0</td>\n",
       "      <td>Female</td>\n",
       "      <td>Berrien Springs</td>\n",
       "      <td>NaN</td>\n",
       "      <td>NaN</td>\n",
       "    </tr>\n",
       "    <tr>\n",
       "      <th>2</th>\n",
       "      <td>2075</td>\n",
       "      <td>Becca</td>\n",
       "      <td>Swanson</td>\n",
       "      <td>Marketing</td>\n",
       "      <td>NaN</td>\n",
       "      <td>22.0</td>\n",
       "      <td>Female</td>\n",
       "      <td>Chicago</td>\n",
       "      <td>IL</td>\n",
       "      <td>60608.0</td>\n",
       "    </tr>\n",
       "    <tr>\n",
       "      <th>3</th>\n",
       "      <td>2228</td>\n",
       "      <td>Halima</td>\n",
       "      <td>Aminu</td>\n",
       "      <td>Business Analytics</td>\n",
       "      <td>NaN</td>\n",
       "      <td>20.0</td>\n",
       "      <td>Female</td>\n",
       "      <td>Atlanta</td>\n",
       "      <td>GA</td>\n",
       "      <td>30303.0</td>\n",
       "    </tr>\n",
       "    <tr>\n",
       "      <th>4</th>\n",
       "      <td>2442</td>\n",
       "      <td>Holly</td>\n",
       "      <td>Robinson</td>\n",
       "      <td>Finance</td>\n",
       "      <td>NaN</td>\n",
       "      <td>20.0</td>\n",
       "      <td>Female</td>\n",
       "      <td>Charlotte</td>\n",
       "      <td>NC</td>\n",
       "      <td>28202.0</td>\n",
       "    </tr>\n",
       "    <tr>\n",
       "      <th>5</th>\n",
       "      <td>2858</td>\n",
       "      <td>Carla</td>\n",
       "      <td>Harding</td>\n",
       "      <td>Accountancy</td>\n",
       "      <td>NaN</td>\n",
       "      <td>NaN</td>\n",
       "      <td>Female</td>\n",
       "      <td>Youngstown</td>\n",
       "      <td>OH</td>\n",
       "      <td>44502.0</td>\n",
       "    </tr>\n",
       "    <tr>\n",
       "      <th>6</th>\n",
       "      <td>3459</td>\n",
       "      <td>Alex</td>\n",
       "      <td>Swanson</td>\n",
       "      <td>Accountancy</td>\n",
       "      <td>NaN</td>\n",
       "      <td>NaN</td>\n",
       "      <td>NaN</td>\n",
       "      <td>Granger</td>\n",
       "      <td>IN</td>\n",
       "      <td>NaN</td>\n",
       "    </tr>\n",
       "    <tr>\n",
       "      <th>7</th>\n",
       "      <td>3585</td>\n",
       "      <td>Aminah</td>\n",
       "      <td>Zalim</td>\n",
       "      <td>Marketing</td>\n",
       "      <td>NaN</td>\n",
       "      <td>20.0</td>\n",
       "      <td>Female</td>\n",
       "      <td>Ashburn</td>\n",
       "      <td>VA</td>\n",
       "      <td>20147.0</td>\n",
       "    </tr>\n",
       "    <tr>\n",
       "      <th>8</th>\n",
       "      <td>5170</td>\n",
       "      <td>Gus</td>\n",
       "      <td>Cunningham</td>\n",
       "      <td>Finance</td>\n",
       "      <td>Innovation</td>\n",
       "      <td>21.0</td>\n",
       "      <td>Male</td>\n",
       "      <td>Massillon</td>\n",
       "      <td>OH</td>\n",
       "      <td>44646.0</td>\n",
       "    </tr>\n",
       "    <tr>\n",
       "      <th>9</th>\n",
       "      <td>5317</td>\n",
       "      <td>Rafael</td>\n",
       "      <td>Solis</td>\n",
       "      <td>Business Analytics</td>\n",
       "      <td>ACMS</td>\n",
       "      <td>NaN</td>\n",
       "      <td>NaN</td>\n",
       "      <td>South Bend</td>\n",
       "      <td>IN</td>\n",
       "      <td>46601.0</td>\n",
       "    </tr>\n",
       "    <tr>\n",
       "      <th>10</th>\n",
       "      <td>5336</td>\n",
       "      <td>Homer</td>\n",
       "      <td>White</td>\n",
       "      <td>Finance</td>\n",
       "      <td>NaN</td>\n",
       "      <td>NaN</td>\n",
       "      <td>Male</td>\n",
       "      <td>St. Paul</td>\n",
       "      <td>MN</td>\n",
       "      <td>55101.0</td>\n",
       "    </tr>\n",
       "    <tr>\n",
       "      <th>11</th>\n",
       "      <td>5495</td>\n",
       "      <td>Lara</td>\n",
       "      <td>Woods</td>\n",
       "      <td>Accountancy</td>\n",
       "      <td>NaN</td>\n",
       "      <td>NaN</td>\n",
       "      <td>NaN</td>\n",
       "      <td>Dallas</td>\n",
       "      <td>TX</td>\n",
       "      <td>75201.0</td>\n",
       "    </tr>\n",
       "    <tr>\n",
       "      <th>12</th>\n",
       "      <td>6453</td>\n",
       "      <td>Otis</td>\n",
       "      <td>Johnson</td>\n",
       "      <td>Management</td>\n",
       "      <td>Political Science</td>\n",
       "      <td>19.0</td>\n",
       "      <td>Male</td>\n",
       "      <td>Anchorage</td>\n",
       "      <td>AK</td>\n",
       "      <td>99501.0</td>\n",
       "    </tr>\n",
       "    <tr>\n",
       "      <th>13</th>\n",
       "      <td>6504</td>\n",
       "      <td>Chantelle</td>\n",
       "      <td>Woods</td>\n",
       "      <td>Business Technology</td>\n",
       "      <td>NaN</td>\n",
       "      <td>18.0</td>\n",
       "      <td>Female</td>\n",
       "      <td>Chicago</td>\n",
       "      <td>NaN</td>\n",
       "      <td>60608.0</td>\n",
       "    </tr>\n",
       "    <tr>\n",
       "      <th>14</th>\n",
       "      <td>6768</td>\n",
       "      <td>Caroline</td>\n",
       "      <td>Marsh</td>\n",
       "      <td>Business Analytics</td>\n",
       "      <td>ACMS</td>\n",
       "      <td>22.0</td>\n",
       "      <td>Female</td>\n",
       "      <td>Niles</td>\n",
       "      <td>MI</td>\n",
       "      <td>NaN</td>\n",
       "    </tr>\n",
       "    <tr>\n",
       "      <th>15</th>\n",
       "      <td>7511</td>\n",
       "      <td>Laila</td>\n",
       "      <td>Carroll</td>\n",
       "      <td>Marketing</td>\n",
       "      <td>Innovation</td>\n",
       "      <td>20.0</td>\n",
       "      <td>Female</td>\n",
       "      <td>New York</td>\n",
       "      <td>NY</td>\n",
       "      <td>10001.0</td>\n",
       "    </tr>\n",
       "    <tr>\n",
       "      <th>16</th>\n",
       "      <td>7965</td>\n",
       "      <td>Rocco</td>\n",
       "      <td>Decola</td>\n",
       "      <td>Finance</td>\n",
       "      <td>Innovation</td>\n",
       "      <td>21.0</td>\n",
       "      <td>Male</td>\n",
       "      <td>Oakland</td>\n",
       "      <td>CA</td>\n",
       "      <td>94603.0</td>\n",
       "    </tr>\n",
       "    <tr>\n",
       "      <th>17</th>\n",
       "      <td>9232</td>\n",
       "      <td>Julie</td>\n",
       "      <td>Holmes</td>\n",
       "      <td>Business Technology</td>\n",
       "      <td>Innovation</td>\n",
       "      <td>18.0</td>\n",
       "      <td>Female</td>\n",
       "      <td>Webster</td>\n",
       "      <td>NY</td>\n",
       "      <td>14580.0</td>\n",
       "    </tr>\n",
       "    <tr>\n",
       "      <th>18</th>\n",
       "      <td>9268</td>\n",
       "      <td>Albert</td>\n",
       "      <td>Palmer</td>\n",
       "      <td>Management</td>\n",
       "      <td>Real Estate</td>\n",
       "      <td>21.0</td>\n",
       "      <td>Male</td>\n",
       "      <td>Detroit</td>\n",
       "      <td>MI</td>\n",
       "      <td>48201.0</td>\n",
       "    </tr>\n",
       "    <tr>\n",
       "      <th>19</th>\n",
       "      <td>9941</td>\n",
       "      <td>Zoya</td>\n",
       "      <td>Doyle</td>\n",
       "      <td>Business Analytics</td>\n",
       "      <td>NaN</td>\n",
       "      <td>NaN</td>\n",
       "      <td>Female</td>\n",
       "      <td>Chicago</td>\n",
       "      <td>IL</td>\n",
       "      <td>60608.0</td>\n",
       "    </tr>\n",
       "  </tbody>\n",
       "</table>\n",
       "</div>"
      ],
      "text/plain": [
       "      ID  FirstName    LastName                Major              Minor   Age  \\\n",
       "0   1869       Hana      Barton              Finance                NaN  22.0   \n",
       "1   2010     Alicia      Kanuri           Management                NaN  21.0   \n",
       "2   2075      Becca     Swanson            Marketing                NaN  22.0   \n",
       "3   2228     Halima       Aminu   Business Analytics                NaN  20.0   \n",
       "4   2442      Holly    Robinson              Finance                NaN  20.0   \n",
       "5   2858      Carla     Harding          Accountancy                NaN   NaN   \n",
       "6   3459       Alex     Swanson          Accountancy                NaN   NaN   \n",
       "7   3585     Aminah       Zalim            Marketing                NaN  20.0   \n",
       "8   5170        Gus  Cunningham              Finance         Innovation  21.0   \n",
       "9   5317     Rafael       Solis   Business Analytics               ACMS   NaN   \n",
       "10  5336      Homer       White              Finance                NaN   NaN   \n",
       "11  5495       Lara       Woods          Accountancy                NaN   NaN   \n",
       "12  6453       Otis     Johnson           Management  Political Science  19.0   \n",
       "13  6504  Chantelle       Woods  Business Technology                NaN  18.0   \n",
       "14  6768   Caroline       Marsh   Business Analytics               ACMS  22.0   \n",
       "15  7511      Laila     Carroll            Marketing         Innovation  20.0   \n",
       "16  7965      Rocco      Decola              Finance         Innovation  21.0   \n",
       "17  9232      Julie      Holmes  Business Technology         Innovation  18.0   \n",
       "18  9268     Albert      Palmer           Management        Real Estate  21.0   \n",
       "19  9941       Zoya       Doyle   Business Analytics                NaN   NaN   \n",
       "\n",
       "    Gender             City State      Zip  \n",
       "0   Female              NaN   NaN      NaN  \n",
       "1   Female  Berrien Springs   NaN      NaN  \n",
       "2   Female          Chicago    IL  60608.0  \n",
       "3   Female          Atlanta    GA  30303.0  \n",
       "4   Female        Charlotte    NC  28202.0  \n",
       "5   Female       Youngstown    OH  44502.0  \n",
       "6      NaN          Granger    IN      NaN  \n",
       "7   Female          Ashburn    VA  20147.0  \n",
       "8     Male        Massillon    OH  44646.0  \n",
       "9      NaN       South Bend    IN  46601.0  \n",
       "10    Male         St. Paul    MN  55101.0  \n",
       "11     NaN           Dallas    TX  75201.0  \n",
       "12    Male        Anchorage    AK  99501.0  \n",
       "13  Female          Chicago   NaN  60608.0  \n",
       "14  Female            Niles    MI      NaN  \n",
       "15  Female         New York    NY  10001.0  \n",
       "16    Male          Oakland    CA  94603.0  \n",
       "17  Female          Webster    NY  14580.0  \n",
       "18    Male          Detroit    MI  48201.0  \n",
       "19  Female          Chicago    IL  60608.0  "
      ]
     },
     "execution_count": 54,
     "metadata": {},
     "output_type": "execute_result"
    }
   ],
   "source": [
    "import pandas as pd\n",
    "students = pd.read_excel(\"Data/students.xlsx\")\n",
    "students"
   ]
  },
  {
   "cell_type": "code",
   "execution_count": 55,
   "metadata": {},
   "outputs": [
    {
     "data": {
      "text/plain": [
       "0      True\n",
       "1      True\n",
       "2     False\n",
       "3     False\n",
       "4     False\n",
       "5     False\n",
       "6     False\n",
       "7     False\n",
       "8     False\n",
       "9     False\n",
       "10    False\n",
       "11    False\n",
       "12    False\n",
       "13     True\n",
       "14    False\n",
       "15    False\n",
       "16    False\n",
       "17    False\n",
       "18    False\n",
       "19    False\n",
       "Name: State, dtype: bool"
      ]
     },
     "execution_count": 55,
     "metadata": {},
     "output_type": "execute_result"
    }
   ],
   "source": [
    "mask = students['State'].isnull()\n",
    "mask"
   ]
  },
  {
   "cell_type": "code",
   "execution_count": 56,
   "metadata": {},
   "outputs": [
    {
     "data": {
      "application/vnd.microsoft.datawrangler.viewer.v0+json": {
       "columns": [
        {
         "name": "index",
         "rawType": "int64",
         "type": "integer"
        },
        {
         "name": "ID",
         "rawType": "int64",
         "type": "integer"
        },
        {
         "name": "FirstName",
         "rawType": "object",
         "type": "string"
        },
        {
         "name": "LastName",
         "rawType": "object",
         "type": "string"
        },
        {
         "name": "Major",
         "rawType": "object",
         "type": "string"
        },
        {
         "name": "Minor",
         "rawType": "object",
         "type": "unknown"
        },
        {
         "name": "Age",
         "rawType": "float64",
         "type": "float"
        },
        {
         "name": "Gender",
         "rawType": "object",
         "type": "string"
        },
        {
         "name": "City",
         "rawType": "object",
         "type": "unknown"
        },
        {
         "name": "State",
         "rawType": "object",
         "type": "unknown"
        },
        {
         "name": "Zip",
         "rawType": "float64",
         "type": "float"
        }
       ],
       "conversionMethod": "pd.DataFrame",
       "ref": "e4873b6e-3bb1-40be-9c4f-1ea8b137ee1e",
       "rows": [
        [
         "0",
         "1869",
         "Hana",
         "Barton",
         "Finance",
         null,
         "22.0",
         "Female",
         null,
         null,
         null
        ],
        [
         "1",
         "2010",
         "Alicia",
         "Kanuri",
         "Management",
         null,
         "21.0",
         "Female",
         "Berrien Springs",
         null,
         null
        ],
        [
         "13",
         "6504",
         "Chantelle",
         "Woods",
         "Business Technology",
         null,
         "18.0",
         "Female",
         "Chicago",
         null,
         "60608.0"
        ]
       ],
       "shape": {
        "columns": 10,
        "rows": 3
       }
      },
      "text/html": [
       "<div>\n",
       "<style scoped>\n",
       "    .dataframe tbody tr th:only-of-type {\n",
       "        vertical-align: middle;\n",
       "    }\n",
       "\n",
       "    .dataframe tbody tr th {\n",
       "        vertical-align: top;\n",
       "    }\n",
       "\n",
       "    .dataframe thead th {\n",
       "        text-align: right;\n",
       "    }\n",
       "</style>\n",
       "<table border=\"1\" class=\"dataframe\">\n",
       "  <thead>\n",
       "    <tr style=\"text-align: right;\">\n",
       "      <th></th>\n",
       "      <th>ID</th>\n",
       "      <th>FirstName</th>\n",
       "      <th>LastName</th>\n",
       "      <th>Major</th>\n",
       "      <th>Minor</th>\n",
       "      <th>Age</th>\n",
       "      <th>Gender</th>\n",
       "      <th>City</th>\n",
       "      <th>State</th>\n",
       "      <th>Zip</th>\n",
       "    </tr>\n",
       "  </thead>\n",
       "  <tbody>\n",
       "    <tr>\n",
       "      <th>0</th>\n",
       "      <td>1869</td>\n",
       "      <td>Hana</td>\n",
       "      <td>Barton</td>\n",
       "      <td>Finance</td>\n",
       "      <td>NaN</td>\n",
       "      <td>22.0</td>\n",
       "      <td>Female</td>\n",
       "      <td>NaN</td>\n",
       "      <td>NaN</td>\n",
       "      <td>NaN</td>\n",
       "    </tr>\n",
       "    <tr>\n",
       "      <th>1</th>\n",
       "      <td>2010</td>\n",
       "      <td>Alicia</td>\n",
       "      <td>Kanuri</td>\n",
       "      <td>Management</td>\n",
       "      <td>NaN</td>\n",
       "      <td>21.0</td>\n",
       "      <td>Female</td>\n",
       "      <td>Berrien Springs</td>\n",
       "      <td>NaN</td>\n",
       "      <td>NaN</td>\n",
       "    </tr>\n",
       "    <tr>\n",
       "      <th>13</th>\n",
       "      <td>6504</td>\n",
       "      <td>Chantelle</td>\n",
       "      <td>Woods</td>\n",
       "      <td>Business Technology</td>\n",
       "      <td>NaN</td>\n",
       "      <td>18.0</td>\n",
       "      <td>Female</td>\n",
       "      <td>Chicago</td>\n",
       "      <td>NaN</td>\n",
       "      <td>60608.0</td>\n",
       "    </tr>\n",
       "  </tbody>\n",
       "</table>\n",
       "</div>"
      ],
      "text/plain": [
       "      ID  FirstName LastName                Major Minor   Age  Gender  \\\n",
       "0   1869       Hana   Barton              Finance   NaN  22.0  Female   \n",
       "1   2010     Alicia   Kanuri           Management   NaN  21.0  Female   \n",
       "13  6504  Chantelle    Woods  Business Technology   NaN  18.0  Female   \n",
       "\n",
       "               City State      Zip  \n",
       "0               NaN   NaN      NaN  \n",
       "1   Berrien Springs   NaN      NaN  \n",
       "13          Chicago   NaN  60608.0  "
      ]
     },
     "execution_count": 56,
     "metadata": {},
     "output_type": "execute_result"
    }
   ],
   "source": [
    "students[mask]"
   ]
  },
  {
   "cell_type": "markdown",
   "metadata": {},
   "source": [
    "## **Làm sao để thay thế các dữ liệu bị thiếu ( missing data )** <a id = \"04b\">"
   ]
  },
  {
   "cell_type": "code",
   "execution_count": 57,
   "metadata": {},
   "outputs": [
    {
     "data": {
      "application/vnd.microsoft.datawrangler.viewer.v0+json": {
       "columns": [
        {
         "name": "index",
         "rawType": "int64",
         "type": "integer"
        },
        {
         "name": "ID",
         "rawType": "int64",
         "type": "integer"
        },
        {
         "name": "FirstName",
         "rawType": "object",
         "type": "string"
        },
        {
         "name": "LastName",
         "rawType": "object",
         "type": "string"
        },
        {
         "name": "Major",
         "rawType": "object",
         "type": "string"
        },
        {
         "name": "Minor",
         "rawType": "object",
         "type": "string"
        },
        {
         "name": "Age",
         "rawType": "float64",
         "type": "float"
        },
        {
         "name": "Gender",
         "rawType": "object",
         "type": "string"
        },
        {
         "name": "City",
         "rawType": "object",
         "type": "string"
        },
        {
         "name": "State",
         "rawType": "object",
         "type": "string"
        },
        {
         "name": "Zip",
         "rawType": "float64",
         "type": "float"
        }
       ],
       "conversionMethod": "pd.DataFrame",
       "ref": "06e8be10-4251-48cd-b282-61446dd572ec",
       "rows": [
        [
         "8",
         "5170",
         "Gus",
         "Cunningham",
         "Finance",
         "Innovation",
         "21.0",
         "Male",
         "Massillon",
         "OH",
         "44646.0"
        ],
        [
         "12",
         "6453",
         "Otis",
         "Johnson",
         "Management",
         "Political Science",
         "19.0",
         "Male",
         "Anchorage",
         "AK",
         "99501.0"
        ],
        [
         "15",
         "7511",
         "Laila",
         "Carroll",
         "Marketing",
         "Innovation",
         "20.0",
         "Female",
         "New York",
         "NY",
         "10001.0"
        ],
        [
         "16",
         "7965",
         "Rocco",
         "Decola",
         "Finance",
         "Innovation",
         "21.0",
         "Male",
         "Oakland",
         "CA",
         "94603.0"
        ],
        [
         "17",
         "9232",
         "Julie",
         "Holmes",
         "Business Technology",
         "Innovation",
         "18.0",
         "Female",
         "Webster",
         "NY",
         "14580.0"
        ],
        [
         "18",
         "9268",
         "Albert",
         "Palmer",
         "Management",
         "Real Estate",
         "21.0",
         "Male",
         "Detroit",
         "MI",
         "48201.0"
        ]
       ],
       "shape": {
        "columns": 10,
        "rows": 6
       }
      },
      "text/html": [
       "<div>\n",
       "<style scoped>\n",
       "    .dataframe tbody tr th:only-of-type {\n",
       "        vertical-align: middle;\n",
       "    }\n",
       "\n",
       "    .dataframe tbody tr th {\n",
       "        vertical-align: top;\n",
       "    }\n",
       "\n",
       "    .dataframe thead th {\n",
       "        text-align: right;\n",
       "    }\n",
       "</style>\n",
       "<table border=\"1\" class=\"dataframe\">\n",
       "  <thead>\n",
       "    <tr style=\"text-align: right;\">\n",
       "      <th></th>\n",
       "      <th>ID</th>\n",
       "      <th>FirstName</th>\n",
       "      <th>LastName</th>\n",
       "      <th>Major</th>\n",
       "      <th>Minor</th>\n",
       "      <th>Age</th>\n",
       "      <th>Gender</th>\n",
       "      <th>City</th>\n",
       "      <th>State</th>\n",
       "      <th>Zip</th>\n",
       "    </tr>\n",
       "  </thead>\n",
       "  <tbody>\n",
       "    <tr>\n",
       "      <th>8</th>\n",
       "      <td>5170</td>\n",
       "      <td>Gus</td>\n",
       "      <td>Cunningham</td>\n",
       "      <td>Finance</td>\n",
       "      <td>Innovation</td>\n",
       "      <td>21.0</td>\n",
       "      <td>Male</td>\n",
       "      <td>Massillon</td>\n",
       "      <td>OH</td>\n",
       "      <td>44646.0</td>\n",
       "    </tr>\n",
       "    <tr>\n",
       "      <th>12</th>\n",
       "      <td>6453</td>\n",
       "      <td>Otis</td>\n",
       "      <td>Johnson</td>\n",
       "      <td>Management</td>\n",
       "      <td>Political Science</td>\n",
       "      <td>19.0</td>\n",
       "      <td>Male</td>\n",
       "      <td>Anchorage</td>\n",
       "      <td>AK</td>\n",
       "      <td>99501.0</td>\n",
       "    </tr>\n",
       "    <tr>\n",
       "      <th>15</th>\n",
       "      <td>7511</td>\n",
       "      <td>Laila</td>\n",
       "      <td>Carroll</td>\n",
       "      <td>Marketing</td>\n",
       "      <td>Innovation</td>\n",
       "      <td>20.0</td>\n",
       "      <td>Female</td>\n",
       "      <td>New York</td>\n",
       "      <td>NY</td>\n",
       "      <td>10001.0</td>\n",
       "    </tr>\n",
       "    <tr>\n",
       "      <th>16</th>\n",
       "      <td>7965</td>\n",
       "      <td>Rocco</td>\n",
       "      <td>Decola</td>\n",
       "      <td>Finance</td>\n",
       "      <td>Innovation</td>\n",
       "      <td>21.0</td>\n",
       "      <td>Male</td>\n",
       "      <td>Oakland</td>\n",
       "      <td>CA</td>\n",
       "      <td>94603.0</td>\n",
       "    </tr>\n",
       "    <tr>\n",
       "      <th>17</th>\n",
       "      <td>9232</td>\n",
       "      <td>Julie</td>\n",
       "      <td>Holmes</td>\n",
       "      <td>Business Technology</td>\n",
       "      <td>Innovation</td>\n",
       "      <td>18.0</td>\n",
       "      <td>Female</td>\n",
       "      <td>Webster</td>\n",
       "      <td>NY</td>\n",
       "      <td>14580.0</td>\n",
       "    </tr>\n",
       "    <tr>\n",
       "      <th>18</th>\n",
       "      <td>9268</td>\n",
       "      <td>Albert</td>\n",
       "      <td>Palmer</td>\n",
       "      <td>Management</td>\n",
       "      <td>Real Estate</td>\n",
       "      <td>21.0</td>\n",
       "      <td>Male</td>\n",
       "      <td>Detroit</td>\n",
       "      <td>MI</td>\n",
       "      <td>48201.0</td>\n",
       "    </tr>\n",
       "  </tbody>\n",
       "</table>\n",
       "</div>"
      ],
      "text/plain": [
       "      ID FirstName    LastName                Major              Minor   Age  \\\n",
       "8   5170       Gus  Cunningham              Finance         Innovation  21.0   \n",
       "12  6453      Otis     Johnson           Management  Political Science  19.0   \n",
       "15  7511     Laila     Carroll            Marketing         Innovation  20.0   \n",
       "16  7965     Rocco      Decola              Finance         Innovation  21.0   \n",
       "17  9232     Julie      Holmes  Business Technology         Innovation  18.0   \n",
       "18  9268    Albert      Palmer           Management        Real Estate  21.0   \n",
       "\n",
       "    Gender       City State      Zip  \n",
       "8     Male  Massillon    OH  44646.0  \n",
       "12    Male  Anchorage    AK  99501.0  \n",
       "15  Female   New York    NY  10001.0  \n",
       "16    Male    Oakland    CA  94603.0  \n",
       "17  Female    Webster    NY  14580.0  \n",
       "18    Male    Detroit    MI  48201.0  "
      ]
     },
     "execution_count": 57,
     "metadata": {},
     "output_type": "execute_result"
    }
   ],
   "source": [
    "students.dropna()"
   ]
  },
  {
   "cell_type": "code",
   "execution_count": 58,
   "metadata": {},
   "outputs": [
    {
     "data": {
      "application/vnd.microsoft.datawrangler.viewer.v0+json": {
       "columns": [
        {
         "name": "index",
         "rawType": "int64",
         "type": "integer"
        },
        {
         "name": "ID",
         "rawType": "int64",
         "type": "integer"
        },
        {
         "name": "FirstName",
         "rawType": "object",
         "type": "string"
        },
        {
         "name": "LastName",
         "rawType": "object",
         "type": "string"
        },
        {
         "name": "Major",
         "rawType": "object",
         "type": "string"
        },
        {
         "name": "Minor",
         "rawType": "object",
         "type": "unknown"
        },
        {
         "name": "Age",
         "rawType": "float64",
         "type": "float"
        },
        {
         "name": "Gender",
         "rawType": "object",
         "type": "unknown"
        },
        {
         "name": "City",
         "rawType": "object",
         "type": "string"
        },
        {
         "name": "State",
         "rawType": "object",
         "type": "unknown"
        },
        {
         "name": "Zip",
         "rawType": "float64",
         "type": "float"
        }
       ],
       "conversionMethod": "pd.DataFrame",
       "ref": "01a33b9f-475e-407a-9b6e-11f3852123a0",
       "rows": [
        [
         "2",
         "2075",
         "Becca",
         "Swanson",
         "Marketing",
         null,
         "22.0",
         "Female",
         "Chicago",
         "IL",
         "60608.0"
        ],
        [
         "3",
         "2228",
         "Halima",
         "Aminu",
         "Business Analytics",
         null,
         "20.0",
         "Female",
         "Atlanta",
         "GA",
         "30303.0"
        ],
        [
         "4",
         "2442",
         "Holly",
         "Robinson",
         "Finance",
         null,
         "20.0",
         "Female",
         "Charlotte",
         "NC",
         "28202.0"
        ],
        [
         "5",
         "2858",
         "Carla",
         "Harding",
         "Accountancy",
         null,
         null,
         "Female",
         "Youngstown",
         "OH",
         "44502.0"
        ],
        [
         "6",
         "3459",
         "Alex",
         "Swanson",
         "Accountancy",
         null,
         null,
         null,
         "Granger",
         "IN",
         null
        ],
        [
         "7",
         "3585",
         "Aminah",
         "Zalim",
         "Marketing",
         null,
         "20.0",
         "Female",
         "Ashburn",
         "VA",
         "20147.0"
        ],
        [
         "8",
         "5170",
         "Gus",
         "Cunningham",
         "Finance",
         "Innovation",
         "21.0",
         "Male",
         "Massillon",
         "OH",
         "44646.0"
        ],
        [
         "9",
         "5317",
         "Rafael",
         "Solis",
         "Business Analytics",
         "ACMS",
         null,
         null,
         "South Bend",
         "IN",
         "46601.0"
        ],
        [
         "10",
         "5336",
         "Homer",
         "White",
         "Finance",
         null,
         null,
         "Male",
         "St. Paul",
         "MN",
         "55101.0"
        ],
        [
         "11",
         "5495",
         "Lara",
         "Woods",
         "Accountancy",
         null,
         null,
         null,
         "Dallas",
         "TX",
         "75201.0"
        ],
        [
         "12",
         "6453",
         "Otis",
         "Johnson",
         "Management",
         "Political Science",
         "19.0",
         "Male",
         "Anchorage",
         "AK",
         "99501.0"
        ],
        [
         "13",
         "6504",
         "Chantelle",
         "Woods",
         "Business Technology",
         null,
         "18.0",
         "Female",
         "Chicago",
         null,
         "60608.0"
        ],
        [
         "14",
         "6768",
         "Caroline",
         "Marsh",
         "Business Analytics",
         "ACMS",
         "22.0",
         "Female",
         "Niles",
         "MI",
         null
        ],
        [
         "15",
         "7511",
         "Laila",
         "Carroll",
         "Marketing",
         "Innovation",
         "20.0",
         "Female",
         "New York",
         "NY",
         "10001.0"
        ],
        [
         "16",
         "7965",
         "Rocco",
         "Decola",
         "Finance",
         "Innovation",
         "21.0",
         "Male",
         "Oakland",
         "CA",
         "94603.0"
        ],
        [
         "17",
         "9232",
         "Julie",
         "Holmes",
         "Business Technology",
         "Innovation",
         "18.0",
         "Female",
         "Webster",
         "NY",
         "14580.0"
        ],
        [
         "18",
         "9268",
         "Albert",
         "Palmer",
         "Management",
         "Real Estate",
         "21.0",
         "Male",
         "Detroit",
         "MI",
         "48201.0"
        ],
        [
         "19",
         "9941",
         "Zoya",
         "Doyle",
         "Business Analytics",
         null,
         null,
         "Female",
         "Chicago",
         "IL",
         "60608.0"
        ]
       ],
       "shape": {
        "columns": 10,
        "rows": 18
       }
      },
      "text/html": [
       "<div>\n",
       "<style scoped>\n",
       "    .dataframe tbody tr th:only-of-type {\n",
       "        vertical-align: middle;\n",
       "    }\n",
       "\n",
       "    .dataframe tbody tr th {\n",
       "        vertical-align: top;\n",
       "    }\n",
       "\n",
       "    .dataframe thead th {\n",
       "        text-align: right;\n",
       "    }\n",
       "</style>\n",
       "<table border=\"1\" class=\"dataframe\">\n",
       "  <thead>\n",
       "    <tr style=\"text-align: right;\">\n",
       "      <th></th>\n",
       "      <th>ID</th>\n",
       "      <th>FirstName</th>\n",
       "      <th>LastName</th>\n",
       "      <th>Major</th>\n",
       "      <th>Minor</th>\n",
       "      <th>Age</th>\n",
       "      <th>Gender</th>\n",
       "      <th>City</th>\n",
       "      <th>State</th>\n",
       "      <th>Zip</th>\n",
       "    </tr>\n",
       "  </thead>\n",
       "  <tbody>\n",
       "    <tr>\n",
       "      <th>2</th>\n",
       "      <td>2075</td>\n",
       "      <td>Becca</td>\n",
       "      <td>Swanson</td>\n",
       "      <td>Marketing</td>\n",
       "      <td>NaN</td>\n",
       "      <td>22.0</td>\n",
       "      <td>Female</td>\n",
       "      <td>Chicago</td>\n",
       "      <td>IL</td>\n",
       "      <td>60608.0</td>\n",
       "    </tr>\n",
       "    <tr>\n",
       "      <th>3</th>\n",
       "      <td>2228</td>\n",
       "      <td>Halima</td>\n",
       "      <td>Aminu</td>\n",
       "      <td>Business Analytics</td>\n",
       "      <td>NaN</td>\n",
       "      <td>20.0</td>\n",
       "      <td>Female</td>\n",
       "      <td>Atlanta</td>\n",
       "      <td>GA</td>\n",
       "      <td>30303.0</td>\n",
       "    </tr>\n",
       "    <tr>\n",
       "      <th>4</th>\n",
       "      <td>2442</td>\n",
       "      <td>Holly</td>\n",
       "      <td>Robinson</td>\n",
       "      <td>Finance</td>\n",
       "      <td>NaN</td>\n",
       "      <td>20.0</td>\n",
       "      <td>Female</td>\n",
       "      <td>Charlotte</td>\n",
       "      <td>NC</td>\n",
       "      <td>28202.0</td>\n",
       "    </tr>\n",
       "    <tr>\n",
       "      <th>5</th>\n",
       "      <td>2858</td>\n",
       "      <td>Carla</td>\n",
       "      <td>Harding</td>\n",
       "      <td>Accountancy</td>\n",
       "      <td>NaN</td>\n",
       "      <td>NaN</td>\n",
       "      <td>Female</td>\n",
       "      <td>Youngstown</td>\n",
       "      <td>OH</td>\n",
       "      <td>44502.0</td>\n",
       "    </tr>\n",
       "    <tr>\n",
       "      <th>6</th>\n",
       "      <td>3459</td>\n",
       "      <td>Alex</td>\n",
       "      <td>Swanson</td>\n",
       "      <td>Accountancy</td>\n",
       "      <td>NaN</td>\n",
       "      <td>NaN</td>\n",
       "      <td>NaN</td>\n",
       "      <td>Granger</td>\n",
       "      <td>IN</td>\n",
       "      <td>NaN</td>\n",
       "    </tr>\n",
       "    <tr>\n",
       "      <th>7</th>\n",
       "      <td>3585</td>\n",
       "      <td>Aminah</td>\n",
       "      <td>Zalim</td>\n",
       "      <td>Marketing</td>\n",
       "      <td>NaN</td>\n",
       "      <td>20.0</td>\n",
       "      <td>Female</td>\n",
       "      <td>Ashburn</td>\n",
       "      <td>VA</td>\n",
       "      <td>20147.0</td>\n",
       "    </tr>\n",
       "    <tr>\n",
       "      <th>8</th>\n",
       "      <td>5170</td>\n",
       "      <td>Gus</td>\n",
       "      <td>Cunningham</td>\n",
       "      <td>Finance</td>\n",
       "      <td>Innovation</td>\n",
       "      <td>21.0</td>\n",
       "      <td>Male</td>\n",
       "      <td>Massillon</td>\n",
       "      <td>OH</td>\n",
       "      <td>44646.0</td>\n",
       "    </tr>\n",
       "    <tr>\n",
       "      <th>9</th>\n",
       "      <td>5317</td>\n",
       "      <td>Rafael</td>\n",
       "      <td>Solis</td>\n",
       "      <td>Business Analytics</td>\n",
       "      <td>ACMS</td>\n",
       "      <td>NaN</td>\n",
       "      <td>NaN</td>\n",
       "      <td>South Bend</td>\n",
       "      <td>IN</td>\n",
       "      <td>46601.0</td>\n",
       "    </tr>\n",
       "    <tr>\n",
       "      <th>10</th>\n",
       "      <td>5336</td>\n",
       "      <td>Homer</td>\n",
       "      <td>White</td>\n",
       "      <td>Finance</td>\n",
       "      <td>NaN</td>\n",
       "      <td>NaN</td>\n",
       "      <td>Male</td>\n",
       "      <td>St. Paul</td>\n",
       "      <td>MN</td>\n",
       "      <td>55101.0</td>\n",
       "    </tr>\n",
       "    <tr>\n",
       "      <th>11</th>\n",
       "      <td>5495</td>\n",
       "      <td>Lara</td>\n",
       "      <td>Woods</td>\n",
       "      <td>Accountancy</td>\n",
       "      <td>NaN</td>\n",
       "      <td>NaN</td>\n",
       "      <td>NaN</td>\n",
       "      <td>Dallas</td>\n",
       "      <td>TX</td>\n",
       "      <td>75201.0</td>\n",
       "    </tr>\n",
       "    <tr>\n",
       "      <th>12</th>\n",
       "      <td>6453</td>\n",
       "      <td>Otis</td>\n",
       "      <td>Johnson</td>\n",
       "      <td>Management</td>\n",
       "      <td>Political Science</td>\n",
       "      <td>19.0</td>\n",
       "      <td>Male</td>\n",
       "      <td>Anchorage</td>\n",
       "      <td>AK</td>\n",
       "      <td>99501.0</td>\n",
       "    </tr>\n",
       "    <tr>\n",
       "      <th>13</th>\n",
       "      <td>6504</td>\n",
       "      <td>Chantelle</td>\n",
       "      <td>Woods</td>\n",
       "      <td>Business Technology</td>\n",
       "      <td>NaN</td>\n",
       "      <td>18.0</td>\n",
       "      <td>Female</td>\n",
       "      <td>Chicago</td>\n",
       "      <td>NaN</td>\n",
       "      <td>60608.0</td>\n",
       "    </tr>\n",
       "    <tr>\n",
       "      <th>14</th>\n",
       "      <td>6768</td>\n",
       "      <td>Caroline</td>\n",
       "      <td>Marsh</td>\n",
       "      <td>Business Analytics</td>\n",
       "      <td>ACMS</td>\n",
       "      <td>22.0</td>\n",
       "      <td>Female</td>\n",
       "      <td>Niles</td>\n",
       "      <td>MI</td>\n",
       "      <td>NaN</td>\n",
       "    </tr>\n",
       "    <tr>\n",
       "      <th>15</th>\n",
       "      <td>7511</td>\n",
       "      <td>Laila</td>\n",
       "      <td>Carroll</td>\n",
       "      <td>Marketing</td>\n",
       "      <td>Innovation</td>\n",
       "      <td>20.0</td>\n",
       "      <td>Female</td>\n",
       "      <td>New York</td>\n",
       "      <td>NY</td>\n",
       "      <td>10001.0</td>\n",
       "    </tr>\n",
       "    <tr>\n",
       "      <th>16</th>\n",
       "      <td>7965</td>\n",
       "      <td>Rocco</td>\n",
       "      <td>Decola</td>\n",
       "      <td>Finance</td>\n",
       "      <td>Innovation</td>\n",
       "      <td>21.0</td>\n",
       "      <td>Male</td>\n",
       "      <td>Oakland</td>\n",
       "      <td>CA</td>\n",
       "      <td>94603.0</td>\n",
       "    </tr>\n",
       "    <tr>\n",
       "      <th>17</th>\n",
       "      <td>9232</td>\n",
       "      <td>Julie</td>\n",
       "      <td>Holmes</td>\n",
       "      <td>Business Technology</td>\n",
       "      <td>Innovation</td>\n",
       "      <td>18.0</td>\n",
       "      <td>Female</td>\n",
       "      <td>Webster</td>\n",
       "      <td>NY</td>\n",
       "      <td>14580.0</td>\n",
       "    </tr>\n",
       "    <tr>\n",
       "      <th>18</th>\n",
       "      <td>9268</td>\n",
       "      <td>Albert</td>\n",
       "      <td>Palmer</td>\n",
       "      <td>Management</td>\n",
       "      <td>Real Estate</td>\n",
       "      <td>21.0</td>\n",
       "      <td>Male</td>\n",
       "      <td>Detroit</td>\n",
       "      <td>MI</td>\n",
       "      <td>48201.0</td>\n",
       "    </tr>\n",
       "    <tr>\n",
       "      <th>19</th>\n",
       "      <td>9941</td>\n",
       "      <td>Zoya</td>\n",
       "      <td>Doyle</td>\n",
       "      <td>Business Analytics</td>\n",
       "      <td>NaN</td>\n",
       "      <td>NaN</td>\n",
       "      <td>Female</td>\n",
       "      <td>Chicago</td>\n",
       "      <td>IL</td>\n",
       "      <td>60608.0</td>\n",
       "    </tr>\n",
       "  </tbody>\n",
       "</table>\n",
       "</div>"
      ],
      "text/plain": [
       "      ID  FirstName    LastName                Major              Minor   Age  \\\n",
       "2   2075      Becca     Swanson            Marketing                NaN  22.0   \n",
       "3   2228     Halima       Aminu   Business Analytics                NaN  20.0   \n",
       "4   2442      Holly    Robinson              Finance                NaN  20.0   \n",
       "5   2858      Carla     Harding          Accountancy                NaN   NaN   \n",
       "6   3459       Alex     Swanson          Accountancy                NaN   NaN   \n",
       "7   3585     Aminah       Zalim            Marketing                NaN  20.0   \n",
       "8   5170        Gus  Cunningham              Finance         Innovation  21.0   \n",
       "9   5317     Rafael       Solis   Business Analytics               ACMS   NaN   \n",
       "10  5336      Homer       White              Finance                NaN   NaN   \n",
       "11  5495       Lara       Woods          Accountancy                NaN   NaN   \n",
       "12  6453       Otis     Johnson           Management  Political Science  19.0   \n",
       "13  6504  Chantelle       Woods  Business Technology                NaN  18.0   \n",
       "14  6768   Caroline       Marsh   Business Analytics               ACMS  22.0   \n",
       "15  7511      Laila     Carroll            Marketing         Innovation  20.0   \n",
       "16  7965      Rocco      Decola              Finance         Innovation  21.0   \n",
       "17  9232      Julie      Holmes  Business Technology         Innovation  18.0   \n",
       "18  9268     Albert      Palmer           Management        Real Estate  21.0   \n",
       "19  9941       Zoya       Doyle   Business Analytics                NaN   NaN   \n",
       "\n",
       "    Gender        City State      Zip  \n",
       "2   Female     Chicago    IL  60608.0  \n",
       "3   Female     Atlanta    GA  30303.0  \n",
       "4   Female   Charlotte    NC  28202.0  \n",
       "5   Female  Youngstown    OH  44502.0  \n",
       "6      NaN     Granger    IN      NaN  \n",
       "7   Female     Ashburn    VA  20147.0  \n",
       "8     Male   Massillon    OH  44646.0  \n",
       "9      NaN  South Bend    IN  46601.0  \n",
       "10    Male    St. Paul    MN  55101.0  \n",
       "11     NaN      Dallas    TX  75201.0  \n",
       "12    Male   Anchorage    AK  99501.0  \n",
       "13  Female     Chicago   NaN  60608.0  \n",
       "14  Female       Niles    MI      NaN  \n",
       "15  Female    New York    NY  10001.0  \n",
       "16    Male     Oakland    CA  94603.0  \n",
       "17  Female     Webster    NY  14580.0  \n",
       "18    Male     Detroit    MI  48201.0  \n",
       "19  Female     Chicago    IL  60608.0  "
      ]
     },
     "execution_count": 58,
     "metadata": {},
     "output_type": "execute_result"
    }
   ],
   "source": [
    "students = students.dropna(subset = ['State', 'Zip'], how = 'all')\n",
    "students"
   ]
  },
  {
   "cell_type": "code",
   "execution_count": 59,
   "metadata": {},
   "outputs": [
    {
     "data": {
      "application/vnd.microsoft.datawrangler.viewer.v0+json": {
       "columns": [
        {
         "name": "index",
         "rawType": "int64",
         "type": "integer"
        },
        {
         "name": "ID",
         "rawType": "int64",
         "type": "integer"
        },
        {
         "name": "FirstName",
         "rawType": "object",
         "type": "string"
        },
        {
         "name": "LastName",
         "rawType": "object",
         "type": "string"
        },
        {
         "name": "Major",
         "rawType": "object",
         "type": "string"
        },
        {
         "name": "City",
         "rawType": "object",
         "type": "string"
        }
       ],
       "conversionMethod": "pd.DataFrame",
       "ref": "c5c18fea-1e3d-41cf-a645-d441559ec9f8",
       "rows": [
        [
         "2",
         "2075",
         "Becca",
         "Swanson",
         "Marketing",
         "Chicago"
        ],
        [
         "3",
         "2228",
         "Halima",
         "Aminu",
         "Business Analytics",
         "Atlanta"
        ],
        [
         "4",
         "2442",
         "Holly",
         "Robinson",
         "Finance",
         "Charlotte"
        ],
        [
         "5",
         "2858",
         "Carla",
         "Harding",
         "Accountancy",
         "Youngstown"
        ],
        [
         "6",
         "3459",
         "Alex",
         "Swanson",
         "Accountancy",
         "Granger"
        ],
        [
         "7",
         "3585",
         "Aminah",
         "Zalim",
         "Marketing",
         "Ashburn"
        ],
        [
         "8",
         "5170",
         "Gus",
         "Cunningham",
         "Finance",
         "Massillon"
        ],
        [
         "9",
         "5317",
         "Rafael",
         "Solis",
         "Business Analytics",
         "South Bend"
        ],
        [
         "10",
         "5336",
         "Homer",
         "White",
         "Finance",
         "St. Paul"
        ],
        [
         "11",
         "5495",
         "Lara",
         "Woods",
         "Accountancy",
         "Dallas"
        ],
        [
         "12",
         "6453",
         "Otis",
         "Johnson",
         "Management",
         "Anchorage"
        ],
        [
         "13",
         "6504",
         "Chantelle",
         "Woods",
         "Business Technology",
         "Chicago"
        ],
        [
         "14",
         "6768",
         "Caroline",
         "Marsh",
         "Business Analytics",
         "Niles"
        ],
        [
         "15",
         "7511",
         "Laila",
         "Carroll",
         "Marketing",
         "New York"
        ],
        [
         "16",
         "7965",
         "Rocco",
         "Decola",
         "Finance",
         "Oakland"
        ],
        [
         "17",
         "9232",
         "Julie",
         "Holmes",
         "Business Technology",
         "Webster"
        ],
        [
         "18",
         "9268",
         "Albert",
         "Palmer",
         "Management",
         "Detroit"
        ],
        [
         "19",
         "9941",
         "Zoya",
         "Doyle",
         "Business Analytics",
         "Chicago"
        ]
       ],
       "shape": {
        "columns": 5,
        "rows": 18
       }
      },
      "text/html": [
       "<div>\n",
       "<style scoped>\n",
       "    .dataframe tbody tr th:only-of-type {\n",
       "        vertical-align: middle;\n",
       "    }\n",
       "\n",
       "    .dataframe tbody tr th {\n",
       "        vertical-align: top;\n",
       "    }\n",
       "\n",
       "    .dataframe thead th {\n",
       "        text-align: right;\n",
       "    }\n",
       "</style>\n",
       "<table border=\"1\" class=\"dataframe\">\n",
       "  <thead>\n",
       "    <tr style=\"text-align: right;\">\n",
       "      <th></th>\n",
       "      <th>ID</th>\n",
       "      <th>FirstName</th>\n",
       "      <th>LastName</th>\n",
       "      <th>Major</th>\n",
       "      <th>City</th>\n",
       "    </tr>\n",
       "  </thead>\n",
       "  <tbody>\n",
       "    <tr>\n",
       "      <th>2</th>\n",
       "      <td>2075</td>\n",
       "      <td>Becca</td>\n",
       "      <td>Swanson</td>\n",
       "      <td>Marketing</td>\n",
       "      <td>Chicago</td>\n",
       "    </tr>\n",
       "    <tr>\n",
       "      <th>3</th>\n",
       "      <td>2228</td>\n",
       "      <td>Halima</td>\n",
       "      <td>Aminu</td>\n",
       "      <td>Business Analytics</td>\n",
       "      <td>Atlanta</td>\n",
       "    </tr>\n",
       "    <tr>\n",
       "      <th>4</th>\n",
       "      <td>2442</td>\n",
       "      <td>Holly</td>\n",
       "      <td>Robinson</td>\n",
       "      <td>Finance</td>\n",
       "      <td>Charlotte</td>\n",
       "    </tr>\n",
       "    <tr>\n",
       "      <th>5</th>\n",
       "      <td>2858</td>\n",
       "      <td>Carla</td>\n",
       "      <td>Harding</td>\n",
       "      <td>Accountancy</td>\n",
       "      <td>Youngstown</td>\n",
       "    </tr>\n",
       "    <tr>\n",
       "      <th>6</th>\n",
       "      <td>3459</td>\n",
       "      <td>Alex</td>\n",
       "      <td>Swanson</td>\n",
       "      <td>Accountancy</td>\n",
       "      <td>Granger</td>\n",
       "    </tr>\n",
       "    <tr>\n",
       "      <th>7</th>\n",
       "      <td>3585</td>\n",
       "      <td>Aminah</td>\n",
       "      <td>Zalim</td>\n",
       "      <td>Marketing</td>\n",
       "      <td>Ashburn</td>\n",
       "    </tr>\n",
       "    <tr>\n",
       "      <th>8</th>\n",
       "      <td>5170</td>\n",
       "      <td>Gus</td>\n",
       "      <td>Cunningham</td>\n",
       "      <td>Finance</td>\n",
       "      <td>Massillon</td>\n",
       "    </tr>\n",
       "    <tr>\n",
       "      <th>9</th>\n",
       "      <td>5317</td>\n",
       "      <td>Rafael</td>\n",
       "      <td>Solis</td>\n",
       "      <td>Business Analytics</td>\n",
       "      <td>South Bend</td>\n",
       "    </tr>\n",
       "    <tr>\n",
       "      <th>10</th>\n",
       "      <td>5336</td>\n",
       "      <td>Homer</td>\n",
       "      <td>White</td>\n",
       "      <td>Finance</td>\n",
       "      <td>St. Paul</td>\n",
       "    </tr>\n",
       "    <tr>\n",
       "      <th>11</th>\n",
       "      <td>5495</td>\n",
       "      <td>Lara</td>\n",
       "      <td>Woods</td>\n",
       "      <td>Accountancy</td>\n",
       "      <td>Dallas</td>\n",
       "    </tr>\n",
       "    <tr>\n",
       "      <th>12</th>\n",
       "      <td>6453</td>\n",
       "      <td>Otis</td>\n",
       "      <td>Johnson</td>\n",
       "      <td>Management</td>\n",
       "      <td>Anchorage</td>\n",
       "    </tr>\n",
       "    <tr>\n",
       "      <th>13</th>\n",
       "      <td>6504</td>\n",
       "      <td>Chantelle</td>\n",
       "      <td>Woods</td>\n",
       "      <td>Business Technology</td>\n",
       "      <td>Chicago</td>\n",
       "    </tr>\n",
       "    <tr>\n",
       "      <th>14</th>\n",
       "      <td>6768</td>\n",
       "      <td>Caroline</td>\n",
       "      <td>Marsh</td>\n",
       "      <td>Business Analytics</td>\n",
       "      <td>Niles</td>\n",
       "    </tr>\n",
       "    <tr>\n",
       "      <th>15</th>\n",
       "      <td>7511</td>\n",
       "      <td>Laila</td>\n",
       "      <td>Carroll</td>\n",
       "      <td>Marketing</td>\n",
       "      <td>New York</td>\n",
       "    </tr>\n",
       "    <tr>\n",
       "      <th>16</th>\n",
       "      <td>7965</td>\n",
       "      <td>Rocco</td>\n",
       "      <td>Decola</td>\n",
       "      <td>Finance</td>\n",
       "      <td>Oakland</td>\n",
       "    </tr>\n",
       "    <tr>\n",
       "      <th>17</th>\n",
       "      <td>9232</td>\n",
       "      <td>Julie</td>\n",
       "      <td>Holmes</td>\n",
       "      <td>Business Technology</td>\n",
       "      <td>Webster</td>\n",
       "    </tr>\n",
       "    <tr>\n",
       "      <th>18</th>\n",
       "      <td>9268</td>\n",
       "      <td>Albert</td>\n",
       "      <td>Palmer</td>\n",
       "      <td>Management</td>\n",
       "      <td>Detroit</td>\n",
       "    </tr>\n",
       "    <tr>\n",
       "      <th>19</th>\n",
       "      <td>9941</td>\n",
       "      <td>Zoya</td>\n",
       "      <td>Doyle</td>\n",
       "      <td>Business Analytics</td>\n",
       "      <td>Chicago</td>\n",
       "    </tr>\n",
       "  </tbody>\n",
       "</table>\n",
       "</div>"
      ],
      "text/plain": [
       "      ID  FirstName    LastName                Major        City\n",
       "2   2075      Becca     Swanson            Marketing     Chicago\n",
       "3   2228     Halima       Aminu   Business Analytics     Atlanta\n",
       "4   2442      Holly    Robinson              Finance   Charlotte\n",
       "5   2858      Carla     Harding          Accountancy  Youngstown\n",
       "6   3459       Alex     Swanson          Accountancy     Granger\n",
       "7   3585     Aminah       Zalim            Marketing     Ashburn\n",
       "8   5170        Gus  Cunningham              Finance   Massillon\n",
       "9   5317     Rafael       Solis   Business Analytics  South Bend\n",
       "10  5336      Homer       White              Finance    St. Paul\n",
       "11  5495       Lara       Woods          Accountancy      Dallas\n",
       "12  6453       Otis     Johnson           Management   Anchorage\n",
       "13  6504  Chantelle       Woods  Business Technology     Chicago\n",
       "14  6768   Caroline       Marsh   Business Analytics       Niles\n",
       "15  7511      Laila     Carroll            Marketing    New York\n",
       "16  7965      Rocco      Decola              Finance     Oakland\n",
       "17  9232      Julie      Holmes  Business Technology     Webster\n",
       "18  9268     Albert      Palmer           Management     Detroit\n",
       "19  9941       Zoya       Doyle   Business Analytics     Chicago"
      ]
     },
     "execution_count": 59,
     "metadata": {},
     "output_type": "execute_result"
    }
   ],
   "source": [
    "students.dropna(axis = 1)"
   ]
  },
  {
   "cell_type": "code",
   "execution_count": 60,
   "metadata": {},
   "outputs": [
    {
     "data": {
      "application/vnd.microsoft.datawrangler.viewer.v0+json": {
       "columns": [
        {
         "name": "index",
         "rawType": "int64",
         "type": "integer"
        },
        {
         "name": "ID",
         "rawType": "int64",
         "type": "integer"
        },
        {
         "name": "FirstName",
         "rawType": "object",
         "type": "string"
        },
        {
         "name": "LastName",
         "rawType": "object",
         "type": "string"
        },
        {
         "name": "Major",
         "rawType": "object",
         "type": "string"
        },
        {
         "name": "Age",
         "rawType": "float64",
         "type": "float"
        },
        {
         "name": "Gender",
         "rawType": "object",
         "type": "unknown"
        },
        {
         "name": "City",
         "rawType": "object",
         "type": "string"
        },
        {
         "name": "State",
         "rawType": "object",
         "type": "unknown"
        },
        {
         "name": "Zip",
         "rawType": "float64",
         "type": "float"
        }
       ],
       "conversionMethod": "pd.DataFrame",
       "ref": "4e2e1265-ecbb-4e52-8b57-c9c2af35097e",
       "rows": [
        [
         "2",
         "2075",
         "Becca",
         "Swanson",
         "Marketing",
         "22.0",
         "Female",
         "Chicago",
         "IL",
         "60608.0"
        ],
        [
         "3",
         "2228",
         "Halima",
         "Aminu",
         "Business Analytics",
         "20.0",
         "Female",
         "Atlanta",
         "GA",
         "30303.0"
        ],
        [
         "4",
         "2442",
         "Holly",
         "Robinson",
         "Finance",
         "20.0",
         "Female",
         "Charlotte",
         "NC",
         "28202.0"
        ],
        [
         "5",
         "2858",
         "Carla",
         "Harding",
         "Accountancy",
         null,
         "Female",
         "Youngstown",
         "OH",
         "44502.0"
        ],
        [
         "6",
         "3459",
         "Alex",
         "Swanson",
         "Accountancy",
         null,
         null,
         "Granger",
         "IN",
         null
        ],
        [
         "7",
         "3585",
         "Aminah",
         "Zalim",
         "Marketing",
         "20.0",
         "Female",
         "Ashburn",
         "VA",
         "20147.0"
        ],
        [
         "8",
         "5170",
         "Gus",
         "Cunningham",
         "Finance",
         "21.0",
         "Male",
         "Massillon",
         "OH",
         "44646.0"
        ],
        [
         "9",
         "5317",
         "Rafael",
         "Solis",
         "Business Analytics",
         null,
         null,
         "South Bend",
         "IN",
         "46601.0"
        ],
        [
         "10",
         "5336",
         "Homer",
         "White",
         "Finance",
         null,
         "Male",
         "St. Paul",
         "MN",
         "55101.0"
        ],
        [
         "11",
         "5495",
         "Lara",
         "Woods",
         "Accountancy",
         null,
         null,
         "Dallas",
         "TX",
         "75201.0"
        ],
        [
         "12",
         "6453",
         "Otis",
         "Johnson",
         "Management",
         "19.0",
         "Male",
         "Anchorage",
         "AK",
         "99501.0"
        ],
        [
         "13",
         "6504",
         "Chantelle",
         "Woods",
         "Business Technology",
         "18.0",
         "Female",
         "Chicago",
         null,
         "60608.0"
        ],
        [
         "14",
         "6768",
         "Caroline",
         "Marsh",
         "Business Analytics",
         "22.0",
         "Female",
         "Niles",
         "MI",
         null
        ],
        [
         "15",
         "7511",
         "Laila",
         "Carroll",
         "Marketing",
         "20.0",
         "Female",
         "New York",
         "NY",
         "10001.0"
        ],
        [
         "16",
         "7965",
         "Rocco",
         "Decola",
         "Finance",
         "21.0",
         "Male",
         "Oakland",
         "CA",
         "94603.0"
        ],
        [
         "17",
         "9232",
         "Julie",
         "Holmes",
         "Business Technology",
         "18.0",
         "Female",
         "Webster",
         "NY",
         "14580.0"
        ],
        [
         "18",
         "9268",
         "Albert",
         "Palmer",
         "Management",
         "21.0",
         "Male",
         "Detroit",
         "MI",
         "48201.0"
        ],
        [
         "19",
         "9941",
         "Zoya",
         "Doyle",
         "Business Analytics",
         null,
         "Female",
         "Chicago",
         "IL",
         "60608.0"
        ]
       ],
       "shape": {
        "columns": 9,
        "rows": 18
       }
      },
      "text/html": [
       "<div>\n",
       "<style scoped>\n",
       "    .dataframe tbody tr th:only-of-type {\n",
       "        vertical-align: middle;\n",
       "    }\n",
       "\n",
       "    .dataframe tbody tr th {\n",
       "        vertical-align: top;\n",
       "    }\n",
       "\n",
       "    .dataframe thead th {\n",
       "        text-align: right;\n",
       "    }\n",
       "</style>\n",
       "<table border=\"1\" class=\"dataframe\">\n",
       "  <thead>\n",
       "    <tr style=\"text-align: right;\">\n",
       "      <th></th>\n",
       "      <th>ID</th>\n",
       "      <th>FirstName</th>\n",
       "      <th>LastName</th>\n",
       "      <th>Major</th>\n",
       "      <th>Age</th>\n",
       "      <th>Gender</th>\n",
       "      <th>City</th>\n",
       "      <th>State</th>\n",
       "      <th>Zip</th>\n",
       "    </tr>\n",
       "  </thead>\n",
       "  <tbody>\n",
       "    <tr>\n",
       "      <th>2</th>\n",
       "      <td>2075</td>\n",
       "      <td>Becca</td>\n",
       "      <td>Swanson</td>\n",
       "      <td>Marketing</td>\n",
       "      <td>22.0</td>\n",
       "      <td>Female</td>\n",
       "      <td>Chicago</td>\n",
       "      <td>IL</td>\n",
       "      <td>60608.0</td>\n",
       "    </tr>\n",
       "    <tr>\n",
       "      <th>3</th>\n",
       "      <td>2228</td>\n",
       "      <td>Halima</td>\n",
       "      <td>Aminu</td>\n",
       "      <td>Business Analytics</td>\n",
       "      <td>20.0</td>\n",
       "      <td>Female</td>\n",
       "      <td>Atlanta</td>\n",
       "      <td>GA</td>\n",
       "      <td>30303.0</td>\n",
       "    </tr>\n",
       "    <tr>\n",
       "      <th>4</th>\n",
       "      <td>2442</td>\n",
       "      <td>Holly</td>\n",
       "      <td>Robinson</td>\n",
       "      <td>Finance</td>\n",
       "      <td>20.0</td>\n",
       "      <td>Female</td>\n",
       "      <td>Charlotte</td>\n",
       "      <td>NC</td>\n",
       "      <td>28202.0</td>\n",
       "    </tr>\n",
       "    <tr>\n",
       "      <th>5</th>\n",
       "      <td>2858</td>\n",
       "      <td>Carla</td>\n",
       "      <td>Harding</td>\n",
       "      <td>Accountancy</td>\n",
       "      <td>NaN</td>\n",
       "      <td>Female</td>\n",
       "      <td>Youngstown</td>\n",
       "      <td>OH</td>\n",
       "      <td>44502.0</td>\n",
       "    </tr>\n",
       "    <tr>\n",
       "      <th>6</th>\n",
       "      <td>3459</td>\n",
       "      <td>Alex</td>\n",
       "      <td>Swanson</td>\n",
       "      <td>Accountancy</td>\n",
       "      <td>NaN</td>\n",
       "      <td>NaN</td>\n",
       "      <td>Granger</td>\n",
       "      <td>IN</td>\n",
       "      <td>NaN</td>\n",
       "    </tr>\n",
       "    <tr>\n",
       "      <th>7</th>\n",
       "      <td>3585</td>\n",
       "      <td>Aminah</td>\n",
       "      <td>Zalim</td>\n",
       "      <td>Marketing</td>\n",
       "      <td>20.0</td>\n",
       "      <td>Female</td>\n",
       "      <td>Ashburn</td>\n",
       "      <td>VA</td>\n",
       "      <td>20147.0</td>\n",
       "    </tr>\n",
       "    <tr>\n",
       "      <th>8</th>\n",
       "      <td>5170</td>\n",
       "      <td>Gus</td>\n",
       "      <td>Cunningham</td>\n",
       "      <td>Finance</td>\n",
       "      <td>21.0</td>\n",
       "      <td>Male</td>\n",
       "      <td>Massillon</td>\n",
       "      <td>OH</td>\n",
       "      <td>44646.0</td>\n",
       "    </tr>\n",
       "    <tr>\n",
       "      <th>9</th>\n",
       "      <td>5317</td>\n",
       "      <td>Rafael</td>\n",
       "      <td>Solis</td>\n",
       "      <td>Business Analytics</td>\n",
       "      <td>NaN</td>\n",
       "      <td>NaN</td>\n",
       "      <td>South Bend</td>\n",
       "      <td>IN</td>\n",
       "      <td>46601.0</td>\n",
       "    </tr>\n",
       "    <tr>\n",
       "      <th>10</th>\n",
       "      <td>5336</td>\n",
       "      <td>Homer</td>\n",
       "      <td>White</td>\n",
       "      <td>Finance</td>\n",
       "      <td>NaN</td>\n",
       "      <td>Male</td>\n",
       "      <td>St. Paul</td>\n",
       "      <td>MN</td>\n",
       "      <td>55101.0</td>\n",
       "    </tr>\n",
       "    <tr>\n",
       "      <th>11</th>\n",
       "      <td>5495</td>\n",
       "      <td>Lara</td>\n",
       "      <td>Woods</td>\n",
       "      <td>Accountancy</td>\n",
       "      <td>NaN</td>\n",
       "      <td>NaN</td>\n",
       "      <td>Dallas</td>\n",
       "      <td>TX</td>\n",
       "      <td>75201.0</td>\n",
       "    </tr>\n",
       "    <tr>\n",
       "      <th>12</th>\n",
       "      <td>6453</td>\n",
       "      <td>Otis</td>\n",
       "      <td>Johnson</td>\n",
       "      <td>Management</td>\n",
       "      <td>19.0</td>\n",
       "      <td>Male</td>\n",
       "      <td>Anchorage</td>\n",
       "      <td>AK</td>\n",
       "      <td>99501.0</td>\n",
       "    </tr>\n",
       "    <tr>\n",
       "      <th>13</th>\n",
       "      <td>6504</td>\n",
       "      <td>Chantelle</td>\n",
       "      <td>Woods</td>\n",
       "      <td>Business Technology</td>\n",
       "      <td>18.0</td>\n",
       "      <td>Female</td>\n",
       "      <td>Chicago</td>\n",
       "      <td>NaN</td>\n",
       "      <td>60608.0</td>\n",
       "    </tr>\n",
       "    <tr>\n",
       "      <th>14</th>\n",
       "      <td>6768</td>\n",
       "      <td>Caroline</td>\n",
       "      <td>Marsh</td>\n",
       "      <td>Business Analytics</td>\n",
       "      <td>22.0</td>\n",
       "      <td>Female</td>\n",
       "      <td>Niles</td>\n",
       "      <td>MI</td>\n",
       "      <td>NaN</td>\n",
       "    </tr>\n",
       "    <tr>\n",
       "      <th>15</th>\n",
       "      <td>7511</td>\n",
       "      <td>Laila</td>\n",
       "      <td>Carroll</td>\n",
       "      <td>Marketing</td>\n",
       "      <td>20.0</td>\n",
       "      <td>Female</td>\n",
       "      <td>New York</td>\n",
       "      <td>NY</td>\n",
       "      <td>10001.0</td>\n",
       "    </tr>\n",
       "    <tr>\n",
       "      <th>16</th>\n",
       "      <td>7965</td>\n",
       "      <td>Rocco</td>\n",
       "      <td>Decola</td>\n",
       "      <td>Finance</td>\n",
       "      <td>21.0</td>\n",
       "      <td>Male</td>\n",
       "      <td>Oakland</td>\n",
       "      <td>CA</td>\n",
       "      <td>94603.0</td>\n",
       "    </tr>\n",
       "    <tr>\n",
       "      <th>17</th>\n",
       "      <td>9232</td>\n",
       "      <td>Julie</td>\n",
       "      <td>Holmes</td>\n",
       "      <td>Business Technology</td>\n",
       "      <td>18.0</td>\n",
       "      <td>Female</td>\n",
       "      <td>Webster</td>\n",
       "      <td>NY</td>\n",
       "      <td>14580.0</td>\n",
       "    </tr>\n",
       "    <tr>\n",
       "      <th>18</th>\n",
       "      <td>9268</td>\n",
       "      <td>Albert</td>\n",
       "      <td>Palmer</td>\n",
       "      <td>Management</td>\n",
       "      <td>21.0</td>\n",
       "      <td>Male</td>\n",
       "      <td>Detroit</td>\n",
       "      <td>MI</td>\n",
       "      <td>48201.0</td>\n",
       "    </tr>\n",
       "    <tr>\n",
       "      <th>19</th>\n",
       "      <td>9941</td>\n",
       "      <td>Zoya</td>\n",
       "      <td>Doyle</td>\n",
       "      <td>Business Analytics</td>\n",
       "      <td>NaN</td>\n",
       "      <td>Female</td>\n",
       "      <td>Chicago</td>\n",
       "      <td>IL</td>\n",
       "      <td>60608.0</td>\n",
       "    </tr>\n",
       "  </tbody>\n",
       "</table>\n",
       "</div>"
      ],
      "text/plain": [
       "      ID  FirstName    LastName                Major   Age  Gender  \\\n",
       "2   2075      Becca     Swanson            Marketing  22.0  Female   \n",
       "3   2228     Halima       Aminu   Business Analytics  20.0  Female   \n",
       "4   2442      Holly    Robinson              Finance  20.0  Female   \n",
       "5   2858      Carla     Harding          Accountancy   NaN  Female   \n",
       "6   3459       Alex     Swanson          Accountancy   NaN     NaN   \n",
       "7   3585     Aminah       Zalim            Marketing  20.0  Female   \n",
       "8   5170        Gus  Cunningham              Finance  21.0    Male   \n",
       "9   5317     Rafael       Solis   Business Analytics   NaN     NaN   \n",
       "10  5336      Homer       White              Finance   NaN    Male   \n",
       "11  5495       Lara       Woods          Accountancy   NaN     NaN   \n",
       "12  6453       Otis     Johnson           Management  19.0    Male   \n",
       "13  6504  Chantelle       Woods  Business Technology  18.0  Female   \n",
       "14  6768   Caroline       Marsh   Business Analytics  22.0  Female   \n",
       "15  7511      Laila     Carroll            Marketing  20.0  Female   \n",
       "16  7965      Rocco      Decola              Finance  21.0    Male   \n",
       "17  9232      Julie      Holmes  Business Technology  18.0  Female   \n",
       "18  9268     Albert      Palmer           Management  21.0    Male   \n",
       "19  9941       Zoya       Doyle   Business Analytics   NaN  Female   \n",
       "\n",
       "          City State      Zip  \n",
       "2      Chicago    IL  60608.0  \n",
       "3      Atlanta    GA  30303.0  \n",
       "4    Charlotte    NC  28202.0  \n",
       "5   Youngstown    OH  44502.0  \n",
       "6      Granger    IN      NaN  \n",
       "7      Ashburn    VA  20147.0  \n",
       "8    Massillon    OH  44646.0  \n",
       "9   South Bend    IN  46601.0  \n",
       "10    St. Paul    MN  55101.0  \n",
       "11      Dallas    TX  75201.0  \n",
       "12   Anchorage    AK  99501.0  \n",
       "13     Chicago   NaN  60608.0  \n",
       "14       Niles    MI      NaN  \n",
       "15    New York    NY  10001.0  \n",
       "16     Oakland    CA  94603.0  \n",
       "17     Webster    NY  14580.0  \n",
       "18     Detroit    MI  48201.0  \n",
       "19     Chicago    IL  60608.0  "
      ]
     },
     "execution_count": 60,
     "metadata": {},
     "output_type": "execute_result"
    }
   ],
   "source": [
    "students = students.dropna(axis = 1, thresh = 10)\n",
    "students"
   ]
  },
  {
   "cell_type": "markdown",
   "metadata": {},
   "source": [
    "## **Làm sao để giải quyết các dữ liệu bị thiếu ( missing data )** <a id = \"04c\">"
   ]
  },
  {
   "cell_type": "code",
   "execution_count": 61,
   "metadata": {},
   "outputs": [
    {
     "data": {
      "application/vnd.microsoft.datawrangler.viewer.v0+json": {
       "columns": [
        {
         "name": "index",
         "rawType": "int64",
         "type": "integer"
        },
        {
         "name": "ID",
         "rawType": "int64",
         "type": "integer"
        },
        {
         "name": "FirstName",
         "rawType": "object",
         "type": "string"
        },
        {
         "name": "LastName",
         "rawType": "object",
         "type": "string"
        },
        {
         "name": "Major",
         "rawType": "object",
         "type": "string"
        },
        {
         "name": "Age",
         "rawType": "float64",
         "type": "float"
        },
        {
         "name": "Gender",
         "rawType": "object",
         "type": "string"
        },
        {
         "name": "City",
         "rawType": "object",
         "type": "string"
        },
        {
         "name": "State",
         "rawType": "object",
         "type": "unknown"
        },
        {
         "name": "Zip",
         "rawType": "float64",
         "type": "float"
        }
       ],
       "conversionMethod": "pd.DataFrame",
       "ref": "cfe7306b-b53d-448f-b33e-27068842ad7f",
       "rows": [
        [
         "2",
         "2075",
         "Becca",
         "Swanson",
         "Marketing",
         "22.0",
         "Female",
         "Chicago",
         "IL",
         "60608.0"
        ],
        [
         "3",
         "2228",
         "Halima",
         "Aminu",
         "Business Analytics",
         "20.0",
         "Female",
         "Atlanta",
         "GA",
         "30303.0"
        ],
        [
         "4",
         "2442",
         "Holly",
         "Robinson",
         "Finance",
         "20.0",
         "Female",
         "Charlotte",
         "NC",
         "28202.0"
        ],
        [
         "5",
         "2858",
         "Carla",
         "Harding",
         "Accountancy",
         null,
         "Female",
         "Youngstown",
         "OH",
         "44502.0"
        ],
        [
         "6",
         "3459",
         "Alex",
         "Swanson",
         "Accountancy",
         null,
         "Female",
         "Granger",
         "IN",
         null
        ],
        [
         "7",
         "3585",
         "Aminah",
         "Zalim",
         "Marketing",
         "20.0",
         "Female",
         "Ashburn",
         "VA",
         "20147.0"
        ],
        [
         "8",
         "5170",
         "Gus",
         "Cunningham",
         "Finance",
         "21.0",
         "Male",
         "Massillon",
         "OH",
         "44646.0"
        ],
        [
         "9",
         "5317",
         "Rafael",
         "Solis",
         "Business Analytics",
         null,
         "Female",
         "South Bend",
         "IN",
         "46601.0"
        ],
        [
         "10",
         "5336",
         "Homer",
         "White",
         "Finance",
         null,
         "Male",
         "St. Paul",
         "MN",
         "55101.0"
        ],
        [
         "11",
         "5495",
         "Lara",
         "Woods",
         "Accountancy",
         null,
         "Female",
         "Dallas",
         "TX",
         "75201.0"
        ],
        [
         "12",
         "6453",
         "Otis",
         "Johnson",
         "Management",
         "19.0",
         "Male",
         "Anchorage",
         "AK",
         "99501.0"
        ],
        [
         "13",
         "6504",
         "Chantelle",
         "Woods",
         "Business Technology",
         "18.0",
         "Female",
         "Chicago",
         null,
         "60608.0"
        ],
        [
         "14",
         "6768",
         "Caroline",
         "Marsh",
         "Business Analytics",
         "22.0",
         "Female",
         "Niles",
         "MI",
         null
        ],
        [
         "15",
         "7511",
         "Laila",
         "Carroll",
         "Marketing",
         "20.0",
         "Female",
         "New York",
         "NY",
         "10001.0"
        ],
        [
         "16",
         "7965",
         "Rocco",
         "Decola",
         "Finance",
         "21.0",
         "Male",
         "Oakland",
         "CA",
         "94603.0"
        ],
        [
         "17",
         "9232",
         "Julie",
         "Holmes",
         "Business Technology",
         "18.0",
         "Female",
         "Webster",
         "NY",
         "14580.0"
        ],
        [
         "18",
         "9268",
         "Albert",
         "Palmer",
         "Management",
         "21.0",
         "Male",
         "Detroit",
         "MI",
         "48201.0"
        ],
        [
         "19",
         "9941",
         "Zoya",
         "Doyle",
         "Business Analytics",
         null,
         "Female",
         "Chicago",
         "IL",
         "60608.0"
        ]
       ],
       "shape": {
        "columns": 9,
        "rows": 18
       }
      },
      "text/html": [
       "<div>\n",
       "<style scoped>\n",
       "    .dataframe tbody tr th:only-of-type {\n",
       "        vertical-align: middle;\n",
       "    }\n",
       "\n",
       "    .dataframe tbody tr th {\n",
       "        vertical-align: top;\n",
       "    }\n",
       "\n",
       "    .dataframe thead th {\n",
       "        text-align: right;\n",
       "    }\n",
       "</style>\n",
       "<table border=\"1\" class=\"dataframe\">\n",
       "  <thead>\n",
       "    <tr style=\"text-align: right;\">\n",
       "      <th></th>\n",
       "      <th>ID</th>\n",
       "      <th>FirstName</th>\n",
       "      <th>LastName</th>\n",
       "      <th>Major</th>\n",
       "      <th>Age</th>\n",
       "      <th>Gender</th>\n",
       "      <th>City</th>\n",
       "      <th>State</th>\n",
       "      <th>Zip</th>\n",
       "    </tr>\n",
       "  </thead>\n",
       "  <tbody>\n",
       "    <tr>\n",
       "      <th>2</th>\n",
       "      <td>2075</td>\n",
       "      <td>Becca</td>\n",
       "      <td>Swanson</td>\n",
       "      <td>Marketing</td>\n",
       "      <td>22.0</td>\n",
       "      <td>Female</td>\n",
       "      <td>Chicago</td>\n",
       "      <td>IL</td>\n",
       "      <td>60608.0</td>\n",
       "    </tr>\n",
       "    <tr>\n",
       "      <th>3</th>\n",
       "      <td>2228</td>\n",
       "      <td>Halima</td>\n",
       "      <td>Aminu</td>\n",
       "      <td>Business Analytics</td>\n",
       "      <td>20.0</td>\n",
       "      <td>Female</td>\n",
       "      <td>Atlanta</td>\n",
       "      <td>GA</td>\n",
       "      <td>30303.0</td>\n",
       "    </tr>\n",
       "    <tr>\n",
       "      <th>4</th>\n",
       "      <td>2442</td>\n",
       "      <td>Holly</td>\n",
       "      <td>Robinson</td>\n",
       "      <td>Finance</td>\n",
       "      <td>20.0</td>\n",
       "      <td>Female</td>\n",
       "      <td>Charlotte</td>\n",
       "      <td>NC</td>\n",
       "      <td>28202.0</td>\n",
       "    </tr>\n",
       "    <tr>\n",
       "      <th>5</th>\n",
       "      <td>2858</td>\n",
       "      <td>Carla</td>\n",
       "      <td>Harding</td>\n",
       "      <td>Accountancy</td>\n",
       "      <td>NaN</td>\n",
       "      <td>Female</td>\n",
       "      <td>Youngstown</td>\n",
       "      <td>OH</td>\n",
       "      <td>44502.0</td>\n",
       "    </tr>\n",
       "    <tr>\n",
       "      <th>6</th>\n",
       "      <td>3459</td>\n",
       "      <td>Alex</td>\n",
       "      <td>Swanson</td>\n",
       "      <td>Accountancy</td>\n",
       "      <td>NaN</td>\n",
       "      <td>Female</td>\n",
       "      <td>Granger</td>\n",
       "      <td>IN</td>\n",
       "      <td>NaN</td>\n",
       "    </tr>\n",
       "    <tr>\n",
       "      <th>7</th>\n",
       "      <td>3585</td>\n",
       "      <td>Aminah</td>\n",
       "      <td>Zalim</td>\n",
       "      <td>Marketing</td>\n",
       "      <td>20.0</td>\n",
       "      <td>Female</td>\n",
       "      <td>Ashburn</td>\n",
       "      <td>VA</td>\n",
       "      <td>20147.0</td>\n",
       "    </tr>\n",
       "    <tr>\n",
       "      <th>8</th>\n",
       "      <td>5170</td>\n",
       "      <td>Gus</td>\n",
       "      <td>Cunningham</td>\n",
       "      <td>Finance</td>\n",
       "      <td>21.0</td>\n",
       "      <td>Male</td>\n",
       "      <td>Massillon</td>\n",
       "      <td>OH</td>\n",
       "      <td>44646.0</td>\n",
       "    </tr>\n",
       "    <tr>\n",
       "      <th>9</th>\n",
       "      <td>5317</td>\n",
       "      <td>Rafael</td>\n",
       "      <td>Solis</td>\n",
       "      <td>Business Analytics</td>\n",
       "      <td>NaN</td>\n",
       "      <td>Female</td>\n",
       "      <td>South Bend</td>\n",
       "      <td>IN</td>\n",
       "      <td>46601.0</td>\n",
       "    </tr>\n",
       "    <tr>\n",
       "      <th>10</th>\n",
       "      <td>5336</td>\n",
       "      <td>Homer</td>\n",
       "      <td>White</td>\n",
       "      <td>Finance</td>\n",
       "      <td>NaN</td>\n",
       "      <td>Male</td>\n",
       "      <td>St. Paul</td>\n",
       "      <td>MN</td>\n",
       "      <td>55101.0</td>\n",
       "    </tr>\n",
       "    <tr>\n",
       "      <th>11</th>\n",
       "      <td>5495</td>\n",
       "      <td>Lara</td>\n",
       "      <td>Woods</td>\n",
       "      <td>Accountancy</td>\n",
       "      <td>NaN</td>\n",
       "      <td>Female</td>\n",
       "      <td>Dallas</td>\n",
       "      <td>TX</td>\n",
       "      <td>75201.0</td>\n",
       "    </tr>\n",
       "    <tr>\n",
       "      <th>12</th>\n",
       "      <td>6453</td>\n",
       "      <td>Otis</td>\n",
       "      <td>Johnson</td>\n",
       "      <td>Management</td>\n",
       "      <td>19.0</td>\n",
       "      <td>Male</td>\n",
       "      <td>Anchorage</td>\n",
       "      <td>AK</td>\n",
       "      <td>99501.0</td>\n",
       "    </tr>\n",
       "    <tr>\n",
       "      <th>13</th>\n",
       "      <td>6504</td>\n",
       "      <td>Chantelle</td>\n",
       "      <td>Woods</td>\n",
       "      <td>Business Technology</td>\n",
       "      <td>18.0</td>\n",
       "      <td>Female</td>\n",
       "      <td>Chicago</td>\n",
       "      <td>NaN</td>\n",
       "      <td>60608.0</td>\n",
       "    </tr>\n",
       "    <tr>\n",
       "      <th>14</th>\n",
       "      <td>6768</td>\n",
       "      <td>Caroline</td>\n",
       "      <td>Marsh</td>\n",
       "      <td>Business Analytics</td>\n",
       "      <td>22.0</td>\n",
       "      <td>Female</td>\n",
       "      <td>Niles</td>\n",
       "      <td>MI</td>\n",
       "      <td>NaN</td>\n",
       "    </tr>\n",
       "    <tr>\n",
       "      <th>15</th>\n",
       "      <td>7511</td>\n",
       "      <td>Laila</td>\n",
       "      <td>Carroll</td>\n",
       "      <td>Marketing</td>\n",
       "      <td>20.0</td>\n",
       "      <td>Female</td>\n",
       "      <td>New York</td>\n",
       "      <td>NY</td>\n",
       "      <td>10001.0</td>\n",
       "    </tr>\n",
       "    <tr>\n",
       "      <th>16</th>\n",
       "      <td>7965</td>\n",
       "      <td>Rocco</td>\n",
       "      <td>Decola</td>\n",
       "      <td>Finance</td>\n",
       "      <td>21.0</td>\n",
       "      <td>Male</td>\n",
       "      <td>Oakland</td>\n",
       "      <td>CA</td>\n",
       "      <td>94603.0</td>\n",
       "    </tr>\n",
       "    <tr>\n",
       "      <th>17</th>\n",
       "      <td>9232</td>\n",
       "      <td>Julie</td>\n",
       "      <td>Holmes</td>\n",
       "      <td>Business Technology</td>\n",
       "      <td>18.0</td>\n",
       "      <td>Female</td>\n",
       "      <td>Webster</td>\n",
       "      <td>NY</td>\n",
       "      <td>14580.0</td>\n",
       "    </tr>\n",
       "    <tr>\n",
       "      <th>18</th>\n",
       "      <td>9268</td>\n",
       "      <td>Albert</td>\n",
       "      <td>Palmer</td>\n",
       "      <td>Management</td>\n",
       "      <td>21.0</td>\n",
       "      <td>Male</td>\n",
       "      <td>Detroit</td>\n",
       "      <td>MI</td>\n",
       "      <td>48201.0</td>\n",
       "    </tr>\n",
       "    <tr>\n",
       "      <th>19</th>\n",
       "      <td>9941</td>\n",
       "      <td>Zoya</td>\n",
       "      <td>Doyle</td>\n",
       "      <td>Business Analytics</td>\n",
       "      <td>NaN</td>\n",
       "      <td>Female</td>\n",
       "      <td>Chicago</td>\n",
       "      <td>IL</td>\n",
       "      <td>60608.0</td>\n",
       "    </tr>\n",
       "  </tbody>\n",
       "</table>\n",
       "</div>"
      ],
      "text/plain": [
       "      ID  FirstName    LastName                Major   Age  Gender  \\\n",
       "2   2075      Becca     Swanson            Marketing  22.0  Female   \n",
       "3   2228     Halima       Aminu   Business Analytics  20.0  Female   \n",
       "4   2442      Holly    Robinson              Finance  20.0  Female   \n",
       "5   2858      Carla     Harding          Accountancy   NaN  Female   \n",
       "6   3459       Alex     Swanson          Accountancy   NaN  Female   \n",
       "7   3585     Aminah       Zalim            Marketing  20.0  Female   \n",
       "8   5170        Gus  Cunningham              Finance  21.0    Male   \n",
       "9   5317     Rafael       Solis   Business Analytics   NaN  Female   \n",
       "10  5336      Homer       White              Finance   NaN    Male   \n",
       "11  5495       Lara       Woods          Accountancy   NaN  Female   \n",
       "12  6453       Otis     Johnson           Management  19.0    Male   \n",
       "13  6504  Chantelle       Woods  Business Technology  18.0  Female   \n",
       "14  6768   Caroline       Marsh   Business Analytics  22.0  Female   \n",
       "15  7511      Laila     Carroll            Marketing  20.0  Female   \n",
       "16  7965      Rocco      Decola              Finance  21.0    Male   \n",
       "17  9232      Julie      Holmes  Business Technology  18.0  Female   \n",
       "18  9268     Albert      Palmer           Management  21.0    Male   \n",
       "19  9941       Zoya       Doyle   Business Analytics   NaN  Female   \n",
       "\n",
       "          City State      Zip  \n",
       "2      Chicago    IL  60608.0  \n",
       "3      Atlanta    GA  30303.0  \n",
       "4    Charlotte    NC  28202.0  \n",
       "5   Youngstown    OH  44502.0  \n",
       "6      Granger    IN      NaN  \n",
       "7      Ashburn    VA  20147.0  \n",
       "8    Massillon    OH  44646.0  \n",
       "9   South Bend    IN  46601.0  \n",
       "10    St. Paul    MN  55101.0  \n",
       "11      Dallas    TX  75201.0  \n",
       "12   Anchorage    AK  99501.0  \n",
       "13     Chicago   NaN  60608.0  \n",
       "14       Niles    MI      NaN  \n",
       "15    New York    NY  10001.0  \n",
       "16     Oakland    CA  94603.0  \n",
       "17     Webster    NY  14580.0  \n",
       "18     Detroit    MI  48201.0  \n",
       "19     Chicago    IL  60608.0  "
      ]
     },
     "execution_count": 61,
     "metadata": {},
     "output_type": "execute_result"
    }
   ],
   "source": [
    "students = students.fillna({'Gender':'Female'})\n",
    "students"
   ]
  },
  {
   "cell_type": "code",
   "execution_count": 62,
   "metadata": {},
   "outputs": [
    {
     "data": {
      "application/vnd.microsoft.datawrangler.viewer.v0+json": {
       "columns": [
        {
         "name": "index",
         "rawType": "int64",
         "type": "integer"
        },
        {
         "name": "ID",
         "rawType": "int64",
         "type": "integer"
        },
        {
         "name": "FirstName",
         "rawType": "object",
         "type": "string"
        },
        {
         "name": "LastName",
         "rawType": "object",
         "type": "string"
        },
        {
         "name": "Major",
         "rawType": "object",
         "type": "string"
        },
        {
         "name": "Age",
         "rawType": "float64",
         "type": "float"
        },
        {
         "name": "Gender",
         "rawType": "object",
         "type": "string"
        },
        {
         "name": "City",
         "rawType": "object",
         "type": "string"
        },
        {
         "name": "State",
         "rawType": "object",
         "type": "unknown"
        },
        {
         "name": "Zip",
         "rawType": "float64",
         "type": "float"
        }
       ],
       "conversionMethod": "pd.DataFrame",
       "ref": "7eabdf7a-4d9d-43ea-8190-d66dbba86782",
       "rows": [
        [
         "2",
         "2075",
         "Becca",
         "Swanson",
         "Marketing",
         "22.0",
         "Female",
         "Chicago",
         "IL",
         "60608.0"
        ],
        [
         "3",
         "2228",
         "Halima",
         "Aminu",
         "Business Analytics",
         "20.0",
         "Female",
         "Atlanta",
         "GA",
         "30303.0"
        ],
        [
         "4",
         "2442",
         "Holly",
         "Robinson",
         "Finance",
         "20.0",
         "Female",
         "Charlotte",
         "NC",
         "28202.0"
        ],
        [
         "5",
         "2858",
         "Carla",
         "Harding",
         "Accountancy",
         "20.0",
         "Female",
         "Youngstown",
         "OH",
         "44502.0"
        ],
        [
         "6",
         "3459",
         "Alex",
         "Swanson",
         "Accountancy",
         "20.0",
         "Female",
         "Granger",
         "IN",
         null
        ],
        [
         "7",
         "3585",
         "Aminah",
         "Zalim",
         "Marketing",
         "20.0",
         "Female",
         "Ashburn",
         "VA",
         "20147.0"
        ],
        [
         "8",
         "5170",
         "Gus",
         "Cunningham",
         "Finance",
         "21.0",
         "Male",
         "Massillon",
         "OH",
         "44646.0"
        ],
        [
         "9",
         "5317",
         "Rafael",
         "Solis",
         "Business Analytics",
         "20.0",
         "Female",
         "South Bend",
         "IN",
         "46601.0"
        ],
        [
         "10",
         "5336",
         "Homer",
         "White",
         "Finance",
         "20.0",
         "Male",
         "St. Paul",
         "MN",
         "55101.0"
        ],
        [
         "11",
         "5495",
         "Lara",
         "Woods",
         "Accountancy",
         "20.0",
         "Female",
         "Dallas",
         "TX",
         "75201.0"
        ],
        [
         "12",
         "6453",
         "Otis",
         "Johnson",
         "Management",
         "19.0",
         "Male",
         "Anchorage",
         "AK",
         "99501.0"
        ],
        [
         "13",
         "6504",
         "Chantelle",
         "Woods",
         "Business Technology",
         "18.0",
         "Female",
         "Chicago",
         null,
         "60608.0"
        ],
        [
         "14",
         "6768",
         "Caroline",
         "Marsh",
         "Business Analytics",
         "22.0",
         "Female",
         "Niles",
         "MI",
         null
        ],
        [
         "15",
         "7511",
         "Laila",
         "Carroll",
         "Marketing",
         "20.0",
         "Female",
         "New York",
         "NY",
         "10001.0"
        ],
        [
         "16",
         "7965",
         "Rocco",
         "Decola",
         "Finance",
         "21.0",
         "Male",
         "Oakland",
         "CA",
         "94603.0"
        ],
        [
         "17",
         "9232",
         "Julie",
         "Holmes",
         "Business Technology",
         "18.0",
         "Female",
         "Webster",
         "NY",
         "14580.0"
        ],
        [
         "18",
         "9268",
         "Albert",
         "Palmer",
         "Management",
         "21.0",
         "Male",
         "Detroit",
         "MI",
         "48201.0"
        ],
        [
         "19",
         "9941",
         "Zoya",
         "Doyle",
         "Business Analytics",
         "20.0",
         "Female",
         "Chicago",
         "IL",
         "60608.0"
        ]
       ],
       "shape": {
        "columns": 9,
        "rows": 18
       }
      },
      "text/html": [
       "<div>\n",
       "<style scoped>\n",
       "    .dataframe tbody tr th:only-of-type {\n",
       "        vertical-align: middle;\n",
       "    }\n",
       "\n",
       "    .dataframe tbody tr th {\n",
       "        vertical-align: top;\n",
       "    }\n",
       "\n",
       "    .dataframe thead th {\n",
       "        text-align: right;\n",
       "    }\n",
       "</style>\n",
       "<table border=\"1\" class=\"dataframe\">\n",
       "  <thead>\n",
       "    <tr style=\"text-align: right;\">\n",
       "      <th></th>\n",
       "      <th>ID</th>\n",
       "      <th>FirstName</th>\n",
       "      <th>LastName</th>\n",
       "      <th>Major</th>\n",
       "      <th>Age</th>\n",
       "      <th>Gender</th>\n",
       "      <th>City</th>\n",
       "      <th>State</th>\n",
       "      <th>Zip</th>\n",
       "    </tr>\n",
       "  </thead>\n",
       "  <tbody>\n",
       "    <tr>\n",
       "      <th>2</th>\n",
       "      <td>2075</td>\n",
       "      <td>Becca</td>\n",
       "      <td>Swanson</td>\n",
       "      <td>Marketing</td>\n",
       "      <td>22.0</td>\n",
       "      <td>Female</td>\n",
       "      <td>Chicago</td>\n",
       "      <td>IL</td>\n",
       "      <td>60608.0</td>\n",
       "    </tr>\n",
       "    <tr>\n",
       "      <th>3</th>\n",
       "      <td>2228</td>\n",
       "      <td>Halima</td>\n",
       "      <td>Aminu</td>\n",
       "      <td>Business Analytics</td>\n",
       "      <td>20.0</td>\n",
       "      <td>Female</td>\n",
       "      <td>Atlanta</td>\n",
       "      <td>GA</td>\n",
       "      <td>30303.0</td>\n",
       "    </tr>\n",
       "    <tr>\n",
       "      <th>4</th>\n",
       "      <td>2442</td>\n",
       "      <td>Holly</td>\n",
       "      <td>Robinson</td>\n",
       "      <td>Finance</td>\n",
       "      <td>20.0</td>\n",
       "      <td>Female</td>\n",
       "      <td>Charlotte</td>\n",
       "      <td>NC</td>\n",
       "      <td>28202.0</td>\n",
       "    </tr>\n",
       "    <tr>\n",
       "      <th>5</th>\n",
       "      <td>2858</td>\n",
       "      <td>Carla</td>\n",
       "      <td>Harding</td>\n",
       "      <td>Accountancy</td>\n",
       "      <td>20.0</td>\n",
       "      <td>Female</td>\n",
       "      <td>Youngstown</td>\n",
       "      <td>OH</td>\n",
       "      <td>44502.0</td>\n",
       "    </tr>\n",
       "    <tr>\n",
       "      <th>6</th>\n",
       "      <td>3459</td>\n",
       "      <td>Alex</td>\n",
       "      <td>Swanson</td>\n",
       "      <td>Accountancy</td>\n",
       "      <td>20.0</td>\n",
       "      <td>Female</td>\n",
       "      <td>Granger</td>\n",
       "      <td>IN</td>\n",
       "      <td>NaN</td>\n",
       "    </tr>\n",
       "    <tr>\n",
       "      <th>7</th>\n",
       "      <td>3585</td>\n",
       "      <td>Aminah</td>\n",
       "      <td>Zalim</td>\n",
       "      <td>Marketing</td>\n",
       "      <td>20.0</td>\n",
       "      <td>Female</td>\n",
       "      <td>Ashburn</td>\n",
       "      <td>VA</td>\n",
       "      <td>20147.0</td>\n",
       "    </tr>\n",
       "    <tr>\n",
       "      <th>8</th>\n",
       "      <td>5170</td>\n",
       "      <td>Gus</td>\n",
       "      <td>Cunningham</td>\n",
       "      <td>Finance</td>\n",
       "      <td>21.0</td>\n",
       "      <td>Male</td>\n",
       "      <td>Massillon</td>\n",
       "      <td>OH</td>\n",
       "      <td>44646.0</td>\n",
       "    </tr>\n",
       "    <tr>\n",
       "      <th>9</th>\n",
       "      <td>5317</td>\n",
       "      <td>Rafael</td>\n",
       "      <td>Solis</td>\n",
       "      <td>Business Analytics</td>\n",
       "      <td>20.0</td>\n",
       "      <td>Female</td>\n",
       "      <td>South Bend</td>\n",
       "      <td>IN</td>\n",
       "      <td>46601.0</td>\n",
       "    </tr>\n",
       "    <tr>\n",
       "      <th>10</th>\n",
       "      <td>5336</td>\n",
       "      <td>Homer</td>\n",
       "      <td>White</td>\n",
       "      <td>Finance</td>\n",
       "      <td>20.0</td>\n",
       "      <td>Male</td>\n",
       "      <td>St. Paul</td>\n",
       "      <td>MN</td>\n",
       "      <td>55101.0</td>\n",
       "    </tr>\n",
       "    <tr>\n",
       "      <th>11</th>\n",
       "      <td>5495</td>\n",
       "      <td>Lara</td>\n",
       "      <td>Woods</td>\n",
       "      <td>Accountancy</td>\n",
       "      <td>20.0</td>\n",
       "      <td>Female</td>\n",
       "      <td>Dallas</td>\n",
       "      <td>TX</td>\n",
       "      <td>75201.0</td>\n",
       "    </tr>\n",
       "    <tr>\n",
       "      <th>12</th>\n",
       "      <td>6453</td>\n",
       "      <td>Otis</td>\n",
       "      <td>Johnson</td>\n",
       "      <td>Management</td>\n",
       "      <td>19.0</td>\n",
       "      <td>Male</td>\n",
       "      <td>Anchorage</td>\n",
       "      <td>AK</td>\n",
       "      <td>99501.0</td>\n",
       "    </tr>\n",
       "    <tr>\n",
       "      <th>13</th>\n",
       "      <td>6504</td>\n",
       "      <td>Chantelle</td>\n",
       "      <td>Woods</td>\n",
       "      <td>Business Technology</td>\n",
       "      <td>18.0</td>\n",
       "      <td>Female</td>\n",
       "      <td>Chicago</td>\n",
       "      <td>NaN</td>\n",
       "      <td>60608.0</td>\n",
       "    </tr>\n",
       "    <tr>\n",
       "      <th>14</th>\n",
       "      <td>6768</td>\n",
       "      <td>Caroline</td>\n",
       "      <td>Marsh</td>\n",
       "      <td>Business Analytics</td>\n",
       "      <td>22.0</td>\n",
       "      <td>Female</td>\n",
       "      <td>Niles</td>\n",
       "      <td>MI</td>\n",
       "      <td>NaN</td>\n",
       "    </tr>\n",
       "    <tr>\n",
       "      <th>15</th>\n",
       "      <td>7511</td>\n",
       "      <td>Laila</td>\n",
       "      <td>Carroll</td>\n",
       "      <td>Marketing</td>\n",
       "      <td>20.0</td>\n",
       "      <td>Female</td>\n",
       "      <td>New York</td>\n",
       "      <td>NY</td>\n",
       "      <td>10001.0</td>\n",
       "    </tr>\n",
       "    <tr>\n",
       "      <th>16</th>\n",
       "      <td>7965</td>\n",
       "      <td>Rocco</td>\n",
       "      <td>Decola</td>\n",
       "      <td>Finance</td>\n",
       "      <td>21.0</td>\n",
       "      <td>Male</td>\n",
       "      <td>Oakland</td>\n",
       "      <td>CA</td>\n",
       "      <td>94603.0</td>\n",
       "    </tr>\n",
       "    <tr>\n",
       "      <th>17</th>\n",
       "      <td>9232</td>\n",
       "      <td>Julie</td>\n",
       "      <td>Holmes</td>\n",
       "      <td>Business Technology</td>\n",
       "      <td>18.0</td>\n",
       "      <td>Female</td>\n",
       "      <td>Webster</td>\n",
       "      <td>NY</td>\n",
       "      <td>14580.0</td>\n",
       "    </tr>\n",
       "    <tr>\n",
       "      <th>18</th>\n",
       "      <td>9268</td>\n",
       "      <td>Albert</td>\n",
       "      <td>Palmer</td>\n",
       "      <td>Management</td>\n",
       "      <td>21.0</td>\n",
       "      <td>Male</td>\n",
       "      <td>Detroit</td>\n",
       "      <td>MI</td>\n",
       "      <td>48201.0</td>\n",
       "    </tr>\n",
       "    <tr>\n",
       "      <th>19</th>\n",
       "      <td>9941</td>\n",
       "      <td>Zoya</td>\n",
       "      <td>Doyle</td>\n",
       "      <td>Business Analytics</td>\n",
       "      <td>20.0</td>\n",
       "      <td>Female</td>\n",
       "      <td>Chicago</td>\n",
       "      <td>IL</td>\n",
       "      <td>60608.0</td>\n",
       "    </tr>\n",
       "  </tbody>\n",
       "</table>\n",
       "</div>"
      ],
      "text/plain": [
       "      ID  FirstName    LastName                Major   Age  Gender  \\\n",
       "2   2075      Becca     Swanson            Marketing  22.0  Female   \n",
       "3   2228     Halima       Aminu   Business Analytics  20.0  Female   \n",
       "4   2442      Holly    Robinson              Finance  20.0  Female   \n",
       "5   2858      Carla     Harding          Accountancy  20.0  Female   \n",
       "6   3459       Alex     Swanson          Accountancy  20.0  Female   \n",
       "7   3585     Aminah       Zalim            Marketing  20.0  Female   \n",
       "8   5170        Gus  Cunningham              Finance  21.0    Male   \n",
       "9   5317     Rafael       Solis   Business Analytics  20.0  Female   \n",
       "10  5336      Homer       White              Finance  20.0    Male   \n",
       "11  5495       Lara       Woods          Accountancy  20.0  Female   \n",
       "12  6453       Otis     Johnson           Management  19.0    Male   \n",
       "13  6504  Chantelle       Woods  Business Technology  18.0  Female   \n",
       "14  6768   Caroline       Marsh   Business Analytics  22.0  Female   \n",
       "15  7511      Laila     Carroll            Marketing  20.0  Female   \n",
       "16  7965      Rocco      Decola              Finance  21.0    Male   \n",
       "17  9232      Julie      Holmes  Business Technology  18.0  Female   \n",
       "18  9268     Albert      Palmer           Management  21.0    Male   \n",
       "19  9941       Zoya       Doyle   Business Analytics  20.0  Female   \n",
       "\n",
       "          City State      Zip  \n",
       "2      Chicago    IL  60608.0  \n",
       "3      Atlanta    GA  30303.0  \n",
       "4    Charlotte    NC  28202.0  \n",
       "5   Youngstown    OH  44502.0  \n",
       "6      Granger    IN      NaN  \n",
       "7      Ashburn    VA  20147.0  \n",
       "8    Massillon    OH  44646.0  \n",
       "9   South Bend    IN  46601.0  \n",
       "10    St. Paul    MN  55101.0  \n",
       "11      Dallas    TX  75201.0  \n",
       "12   Anchorage    AK  99501.0  \n",
       "13     Chicago   NaN  60608.0  \n",
       "14       Niles    MI      NaN  \n",
       "15    New York    NY  10001.0  \n",
       "16     Oakland    CA  94603.0  \n",
       "17     Webster    NY  14580.0  \n",
       "18     Detroit    MI  48201.0  \n",
       "19     Chicago    IL  60608.0  "
      ]
     },
     "execution_count": 62,
     "metadata": {},
     "output_type": "execute_result"
    }
   ],
   "source": [
    "students = students.fillna({'Age':students['Age'].median()})\n",
    "students"
   ]
  },
  {
   "cell_type": "code",
   "execution_count": 63,
   "metadata": {},
   "outputs": [],
   "source": [
    "mask = (students['City'] == 'Granger') & (students['State'] == 'IN')"
   ]
  },
  {
   "cell_type": "code",
   "execution_count": 64,
   "metadata": {},
   "outputs": [
    {
     "data": {
      "application/vnd.microsoft.datawrangler.viewer.v0+json": {
       "columns": [
        {
         "name": "index",
         "rawType": "int64",
         "type": "integer"
        },
        {
         "name": "ID",
         "rawType": "int64",
         "type": "integer"
        },
        {
         "name": "FirstName",
         "rawType": "object",
         "type": "string"
        },
        {
         "name": "LastName",
         "rawType": "object",
         "type": "string"
        },
        {
         "name": "Major",
         "rawType": "object",
         "type": "string"
        },
        {
         "name": "Age",
         "rawType": "float64",
         "type": "float"
        },
        {
         "name": "Gender",
         "rawType": "object",
         "type": "string"
        },
        {
         "name": "City",
         "rawType": "object",
         "type": "string"
        },
        {
         "name": "State",
         "rawType": "object",
         "type": "string"
        },
        {
         "name": "Zip",
         "rawType": "float64",
         "type": "float"
        }
       ],
       "conversionMethod": "pd.DataFrame",
       "ref": "f8e80fa1-108a-4e48-b461-4a8a592c3555",
       "rows": [
        [
         "6",
         "3459",
         "Alex",
         "Swanson",
         "Accountancy",
         "20.0",
         "Female",
         "Granger",
         "IN",
         null
        ]
       ],
       "shape": {
        "columns": 9,
        "rows": 1
       }
      },
      "text/html": [
       "<div>\n",
       "<style scoped>\n",
       "    .dataframe tbody tr th:only-of-type {\n",
       "        vertical-align: middle;\n",
       "    }\n",
       "\n",
       "    .dataframe tbody tr th {\n",
       "        vertical-align: top;\n",
       "    }\n",
       "\n",
       "    .dataframe thead th {\n",
       "        text-align: right;\n",
       "    }\n",
       "</style>\n",
       "<table border=\"1\" class=\"dataframe\">\n",
       "  <thead>\n",
       "    <tr style=\"text-align: right;\">\n",
       "      <th></th>\n",
       "      <th>ID</th>\n",
       "      <th>FirstName</th>\n",
       "      <th>LastName</th>\n",
       "      <th>Major</th>\n",
       "      <th>Age</th>\n",
       "      <th>Gender</th>\n",
       "      <th>City</th>\n",
       "      <th>State</th>\n",
       "      <th>Zip</th>\n",
       "    </tr>\n",
       "  </thead>\n",
       "  <tbody>\n",
       "    <tr>\n",
       "      <th>6</th>\n",
       "      <td>3459</td>\n",
       "      <td>Alex</td>\n",
       "      <td>Swanson</td>\n",
       "      <td>Accountancy</td>\n",
       "      <td>20.0</td>\n",
       "      <td>Female</td>\n",
       "      <td>Granger</td>\n",
       "      <td>IN</td>\n",
       "      <td>NaN</td>\n",
       "    </tr>\n",
       "  </tbody>\n",
       "</table>\n",
       "</div>"
      ],
      "text/plain": [
       "     ID FirstName LastName        Major   Age  Gender     City State  Zip\n",
       "6  3459      Alex  Swanson  Accountancy  20.0  Female  Granger    IN  NaN"
      ]
     },
     "execution_count": 64,
     "metadata": {},
     "output_type": "execute_result"
    }
   ],
   "source": [
    "students.loc[mask, :]"
   ]
  },
  {
   "cell_type": "code",
   "execution_count": 65,
   "metadata": {},
   "outputs": [
    {
     "data": {
      "application/vnd.microsoft.datawrangler.viewer.v0+json": {
       "columns": [
        {
         "name": "index",
         "rawType": "int64",
         "type": "integer"
        },
        {
         "name": "ID",
         "rawType": "int64",
         "type": "integer"
        },
        {
         "name": "FirstName",
         "rawType": "object",
         "type": "string"
        },
        {
         "name": "LastName",
         "rawType": "object",
         "type": "string"
        },
        {
         "name": "Major",
         "rawType": "object",
         "type": "string"
        },
        {
         "name": "Age",
         "rawType": "float64",
         "type": "float"
        },
        {
         "name": "Gender",
         "rawType": "object",
         "type": "string"
        },
        {
         "name": "City",
         "rawType": "object",
         "type": "string"
        },
        {
         "name": "State",
         "rawType": "object",
         "type": "unknown"
        },
        {
         "name": "Zip",
         "rawType": "float64",
         "type": "float"
        }
       ],
       "conversionMethod": "pd.DataFrame",
       "ref": "e9011d6f-cca7-4242-b409-f3daead6f455",
       "rows": [
        [
         "2",
         "2075",
         "Becca",
         "Swanson",
         "Marketing",
         "22.0",
         "Female",
         "Chicago",
         "IL",
         "60608.0"
        ],
        [
         "3",
         "2228",
         "Halima",
         "Aminu",
         "Business Analytics",
         "20.0",
         "Female",
         "Atlanta",
         "GA",
         "30303.0"
        ],
        [
         "4",
         "2442",
         "Holly",
         "Robinson",
         "Finance",
         "20.0",
         "Female",
         "Charlotte",
         "NC",
         "28202.0"
        ],
        [
         "5",
         "2858",
         "Carla",
         "Harding",
         "Accountancy",
         "20.0",
         "Female",
         "Youngstown",
         "OH",
         "44502.0"
        ],
        [
         "6",
         "3459",
         "Alex",
         "Swanson",
         "Accountancy",
         "20.0",
         "Female",
         "Granger",
         "IN",
         "46530.0"
        ],
        [
         "7",
         "3585",
         "Aminah",
         "Zalim",
         "Marketing",
         "20.0",
         "Female",
         "Ashburn",
         "VA",
         "20147.0"
        ],
        [
         "8",
         "5170",
         "Gus",
         "Cunningham",
         "Finance",
         "21.0",
         "Male",
         "Massillon",
         "OH",
         "44646.0"
        ],
        [
         "9",
         "5317",
         "Rafael",
         "Solis",
         "Business Analytics",
         "20.0",
         "Female",
         "South Bend",
         "IN",
         "46601.0"
        ],
        [
         "10",
         "5336",
         "Homer",
         "White",
         "Finance",
         "20.0",
         "Male",
         "St. Paul",
         "MN",
         "55101.0"
        ],
        [
         "11",
         "5495",
         "Lara",
         "Woods",
         "Accountancy",
         "20.0",
         "Female",
         "Dallas",
         "TX",
         "75201.0"
        ],
        [
         "12",
         "6453",
         "Otis",
         "Johnson",
         "Management",
         "19.0",
         "Male",
         "Anchorage",
         "AK",
         "99501.0"
        ],
        [
         "13",
         "6504",
         "Chantelle",
         "Woods",
         "Business Technology",
         "18.0",
         "Female",
         "Chicago",
         null,
         "60608.0"
        ],
        [
         "14",
         "6768",
         "Caroline",
         "Marsh",
         "Business Analytics",
         "22.0",
         "Female",
         "Niles",
         "MI",
         null
        ],
        [
         "15",
         "7511",
         "Laila",
         "Carroll",
         "Marketing",
         "20.0",
         "Female",
         "New York",
         "NY",
         "10001.0"
        ],
        [
         "16",
         "7965",
         "Rocco",
         "Decola",
         "Finance",
         "21.0",
         "Male",
         "Oakland",
         "CA",
         "94603.0"
        ],
        [
         "17",
         "9232",
         "Julie",
         "Holmes",
         "Business Technology",
         "18.0",
         "Female",
         "Webster",
         "NY",
         "14580.0"
        ],
        [
         "18",
         "9268",
         "Albert",
         "Palmer",
         "Management",
         "21.0",
         "Male",
         "Detroit",
         "MI",
         "48201.0"
        ],
        [
         "19",
         "9941",
         "Zoya",
         "Doyle",
         "Business Analytics",
         "20.0",
         "Female",
         "Chicago",
         "IL",
         "60608.0"
        ]
       ],
       "shape": {
        "columns": 9,
        "rows": 18
       }
      },
      "text/html": [
       "<div>\n",
       "<style scoped>\n",
       "    .dataframe tbody tr th:only-of-type {\n",
       "        vertical-align: middle;\n",
       "    }\n",
       "\n",
       "    .dataframe tbody tr th {\n",
       "        vertical-align: top;\n",
       "    }\n",
       "\n",
       "    .dataframe thead th {\n",
       "        text-align: right;\n",
       "    }\n",
       "</style>\n",
       "<table border=\"1\" class=\"dataframe\">\n",
       "  <thead>\n",
       "    <tr style=\"text-align: right;\">\n",
       "      <th></th>\n",
       "      <th>ID</th>\n",
       "      <th>FirstName</th>\n",
       "      <th>LastName</th>\n",
       "      <th>Major</th>\n",
       "      <th>Age</th>\n",
       "      <th>Gender</th>\n",
       "      <th>City</th>\n",
       "      <th>State</th>\n",
       "      <th>Zip</th>\n",
       "    </tr>\n",
       "  </thead>\n",
       "  <tbody>\n",
       "    <tr>\n",
       "      <th>2</th>\n",
       "      <td>2075</td>\n",
       "      <td>Becca</td>\n",
       "      <td>Swanson</td>\n",
       "      <td>Marketing</td>\n",
       "      <td>22.0</td>\n",
       "      <td>Female</td>\n",
       "      <td>Chicago</td>\n",
       "      <td>IL</td>\n",
       "      <td>60608.0</td>\n",
       "    </tr>\n",
       "    <tr>\n",
       "      <th>3</th>\n",
       "      <td>2228</td>\n",
       "      <td>Halima</td>\n",
       "      <td>Aminu</td>\n",
       "      <td>Business Analytics</td>\n",
       "      <td>20.0</td>\n",
       "      <td>Female</td>\n",
       "      <td>Atlanta</td>\n",
       "      <td>GA</td>\n",
       "      <td>30303.0</td>\n",
       "    </tr>\n",
       "    <tr>\n",
       "      <th>4</th>\n",
       "      <td>2442</td>\n",
       "      <td>Holly</td>\n",
       "      <td>Robinson</td>\n",
       "      <td>Finance</td>\n",
       "      <td>20.0</td>\n",
       "      <td>Female</td>\n",
       "      <td>Charlotte</td>\n",
       "      <td>NC</td>\n",
       "      <td>28202.0</td>\n",
       "    </tr>\n",
       "    <tr>\n",
       "      <th>5</th>\n",
       "      <td>2858</td>\n",
       "      <td>Carla</td>\n",
       "      <td>Harding</td>\n",
       "      <td>Accountancy</td>\n",
       "      <td>20.0</td>\n",
       "      <td>Female</td>\n",
       "      <td>Youngstown</td>\n",
       "      <td>OH</td>\n",
       "      <td>44502.0</td>\n",
       "    </tr>\n",
       "    <tr>\n",
       "      <th>6</th>\n",
       "      <td>3459</td>\n",
       "      <td>Alex</td>\n",
       "      <td>Swanson</td>\n",
       "      <td>Accountancy</td>\n",
       "      <td>20.0</td>\n",
       "      <td>Female</td>\n",
       "      <td>Granger</td>\n",
       "      <td>IN</td>\n",
       "      <td>46530.0</td>\n",
       "    </tr>\n",
       "    <tr>\n",
       "      <th>7</th>\n",
       "      <td>3585</td>\n",
       "      <td>Aminah</td>\n",
       "      <td>Zalim</td>\n",
       "      <td>Marketing</td>\n",
       "      <td>20.0</td>\n",
       "      <td>Female</td>\n",
       "      <td>Ashburn</td>\n",
       "      <td>VA</td>\n",
       "      <td>20147.0</td>\n",
       "    </tr>\n",
       "    <tr>\n",
       "      <th>8</th>\n",
       "      <td>5170</td>\n",
       "      <td>Gus</td>\n",
       "      <td>Cunningham</td>\n",
       "      <td>Finance</td>\n",
       "      <td>21.0</td>\n",
       "      <td>Male</td>\n",
       "      <td>Massillon</td>\n",
       "      <td>OH</td>\n",
       "      <td>44646.0</td>\n",
       "    </tr>\n",
       "    <tr>\n",
       "      <th>9</th>\n",
       "      <td>5317</td>\n",
       "      <td>Rafael</td>\n",
       "      <td>Solis</td>\n",
       "      <td>Business Analytics</td>\n",
       "      <td>20.0</td>\n",
       "      <td>Female</td>\n",
       "      <td>South Bend</td>\n",
       "      <td>IN</td>\n",
       "      <td>46601.0</td>\n",
       "    </tr>\n",
       "    <tr>\n",
       "      <th>10</th>\n",
       "      <td>5336</td>\n",
       "      <td>Homer</td>\n",
       "      <td>White</td>\n",
       "      <td>Finance</td>\n",
       "      <td>20.0</td>\n",
       "      <td>Male</td>\n",
       "      <td>St. Paul</td>\n",
       "      <td>MN</td>\n",
       "      <td>55101.0</td>\n",
       "    </tr>\n",
       "    <tr>\n",
       "      <th>11</th>\n",
       "      <td>5495</td>\n",
       "      <td>Lara</td>\n",
       "      <td>Woods</td>\n",
       "      <td>Accountancy</td>\n",
       "      <td>20.0</td>\n",
       "      <td>Female</td>\n",
       "      <td>Dallas</td>\n",
       "      <td>TX</td>\n",
       "      <td>75201.0</td>\n",
       "    </tr>\n",
       "    <tr>\n",
       "      <th>12</th>\n",
       "      <td>6453</td>\n",
       "      <td>Otis</td>\n",
       "      <td>Johnson</td>\n",
       "      <td>Management</td>\n",
       "      <td>19.0</td>\n",
       "      <td>Male</td>\n",
       "      <td>Anchorage</td>\n",
       "      <td>AK</td>\n",
       "      <td>99501.0</td>\n",
       "    </tr>\n",
       "    <tr>\n",
       "      <th>13</th>\n",
       "      <td>6504</td>\n",
       "      <td>Chantelle</td>\n",
       "      <td>Woods</td>\n",
       "      <td>Business Technology</td>\n",
       "      <td>18.0</td>\n",
       "      <td>Female</td>\n",
       "      <td>Chicago</td>\n",
       "      <td>NaN</td>\n",
       "      <td>60608.0</td>\n",
       "    </tr>\n",
       "    <tr>\n",
       "      <th>14</th>\n",
       "      <td>6768</td>\n",
       "      <td>Caroline</td>\n",
       "      <td>Marsh</td>\n",
       "      <td>Business Analytics</td>\n",
       "      <td>22.0</td>\n",
       "      <td>Female</td>\n",
       "      <td>Niles</td>\n",
       "      <td>MI</td>\n",
       "      <td>NaN</td>\n",
       "    </tr>\n",
       "    <tr>\n",
       "      <th>15</th>\n",
       "      <td>7511</td>\n",
       "      <td>Laila</td>\n",
       "      <td>Carroll</td>\n",
       "      <td>Marketing</td>\n",
       "      <td>20.0</td>\n",
       "      <td>Female</td>\n",
       "      <td>New York</td>\n",
       "      <td>NY</td>\n",
       "      <td>10001.0</td>\n",
       "    </tr>\n",
       "    <tr>\n",
       "      <th>16</th>\n",
       "      <td>7965</td>\n",
       "      <td>Rocco</td>\n",
       "      <td>Decola</td>\n",
       "      <td>Finance</td>\n",
       "      <td>21.0</td>\n",
       "      <td>Male</td>\n",
       "      <td>Oakland</td>\n",
       "      <td>CA</td>\n",
       "      <td>94603.0</td>\n",
       "    </tr>\n",
       "    <tr>\n",
       "      <th>17</th>\n",
       "      <td>9232</td>\n",
       "      <td>Julie</td>\n",
       "      <td>Holmes</td>\n",
       "      <td>Business Technology</td>\n",
       "      <td>18.0</td>\n",
       "      <td>Female</td>\n",
       "      <td>Webster</td>\n",
       "      <td>NY</td>\n",
       "      <td>14580.0</td>\n",
       "    </tr>\n",
       "    <tr>\n",
       "      <th>18</th>\n",
       "      <td>9268</td>\n",
       "      <td>Albert</td>\n",
       "      <td>Palmer</td>\n",
       "      <td>Management</td>\n",
       "      <td>21.0</td>\n",
       "      <td>Male</td>\n",
       "      <td>Detroit</td>\n",
       "      <td>MI</td>\n",
       "      <td>48201.0</td>\n",
       "    </tr>\n",
       "    <tr>\n",
       "      <th>19</th>\n",
       "      <td>9941</td>\n",
       "      <td>Zoya</td>\n",
       "      <td>Doyle</td>\n",
       "      <td>Business Analytics</td>\n",
       "      <td>20.0</td>\n",
       "      <td>Female</td>\n",
       "      <td>Chicago</td>\n",
       "      <td>IL</td>\n",
       "      <td>60608.0</td>\n",
       "    </tr>\n",
       "  </tbody>\n",
       "</table>\n",
       "</div>"
      ],
      "text/plain": [
       "      ID  FirstName    LastName                Major   Age  Gender  \\\n",
       "2   2075      Becca     Swanson            Marketing  22.0  Female   \n",
       "3   2228     Halima       Aminu   Business Analytics  20.0  Female   \n",
       "4   2442      Holly    Robinson              Finance  20.0  Female   \n",
       "5   2858      Carla     Harding          Accountancy  20.0  Female   \n",
       "6   3459       Alex     Swanson          Accountancy  20.0  Female   \n",
       "7   3585     Aminah       Zalim            Marketing  20.0  Female   \n",
       "8   5170        Gus  Cunningham              Finance  21.0    Male   \n",
       "9   5317     Rafael       Solis   Business Analytics  20.0  Female   \n",
       "10  5336      Homer       White              Finance  20.0    Male   \n",
       "11  5495       Lara       Woods          Accountancy  20.0  Female   \n",
       "12  6453       Otis     Johnson           Management  19.0    Male   \n",
       "13  6504  Chantelle       Woods  Business Technology  18.0  Female   \n",
       "14  6768   Caroline       Marsh   Business Analytics  22.0  Female   \n",
       "15  7511      Laila     Carroll            Marketing  20.0  Female   \n",
       "16  7965      Rocco      Decola              Finance  21.0    Male   \n",
       "17  9232      Julie      Holmes  Business Technology  18.0  Female   \n",
       "18  9268     Albert      Palmer           Management  21.0    Male   \n",
       "19  9941       Zoya       Doyle   Business Analytics  20.0  Female   \n",
       "\n",
       "          City State      Zip  \n",
       "2      Chicago    IL  60608.0  \n",
       "3      Atlanta    GA  30303.0  \n",
       "4    Charlotte    NC  28202.0  \n",
       "5   Youngstown    OH  44502.0  \n",
       "6      Granger    IN  46530.0  \n",
       "7      Ashburn    VA  20147.0  \n",
       "8    Massillon    OH  44646.0  \n",
       "9   South Bend    IN  46601.0  \n",
       "10    St. Paul    MN  55101.0  \n",
       "11      Dallas    TX  75201.0  \n",
       "12   Anchorage    AK  99501.0  \n",
       "13     Chicago   NaN  60608.0  \n",
       "14       Niles    MI      NaN  \n",
       "15    New York    NY  10001.0  \n",
       "16     Oakland    CA  94603.0  \n",
       "17     Webster    NY  14580.0  \n",
       "18     Detroit    MI  48201.0  \n",
       "19     Chicago    IL  60608.0  "
      ]
     },
     "execution_count": 65,
     "metadata": {},
     "output_type": "execute_result"
    }
   ],
   "source": [
    "students.loc[mask, 'Zip'] = 46530\n",
    "students"
   ]
  },
  {
   "cell_type": "code",
   "execution_count": 66,
   "metadata": {},
   "outputs": [
    {
     "data": {
      "application/vnd.microsoft.datawrangler.viewer.v0+json": {
       "columns": [
        {
         "name": "index",
         "rawType": "int64",
         "type": "integer"
        },
        {
         "name": "ID",
         "rawType": "int64",
         "type": "integer"
        },
        {
         "name": "FirstName",
         "rawType": "object",
         "type": "string"
        },
        {
         "name": "LastName",
         "rawType": "object",
         "type": "string"
        },
        {
         "name": "Major",
         "rawType": "object",
         "type": "string"
        },
        {
         "name": "Age",
         "rawType": "float64",
         "type": "float"
        },
        {
         "name": "Gender",
         "rawType": "object",
         "type": "string"
        },
        {
         "name": "City",
         "rawType": "object",
         "type": "string"
        },
        {
         "name": "State",
         "rawType": "object",
         "type": "unknown"
        },
        {
         "name": "Zip",
         "rawType": "float64",
         "type": "float"
        }
       ],
       "conversionMethod": "pd.DataFrame",
       "ref": "0403e35f-2db6-426d-8399-5efee6bf2f00",
       "rows": [
        [
         "2",
         "2075",
         "Becca",
         "Swanson",
         "Marketing",
         "22.0",
         "Female",
         "Chicago",
         "IL",
         "60608.0"
        ],
        [
         "3",
         "2228",
         "Halima",
         "Aminu",
         "Business Analytics",
         "20.0",
         "Female",
         "Atlanta",
         "GA",
         "30303.0"
        ],
        [
         "4",
         "2442",
         "Holly",
         "Robinson",
         "Finance",
         "20.0",
         "Female",
         "Charlotte",
         "NC",
         "28202.0"
        ],
        [
         "5",
         "2858",
         "Carla",
         "Harding",
         "Accountancy",
         "20.0",
         "Female",
         "Youngstown",
         "OH",
         "44502.0"
        ],
        [
         "6",
         "3459",
         "Alex",
         "Swanson",
         "Accountancy",
         "20.0",
         "Female",
         "Granger",
         "IN",
         "46530.0"
        ],
        [
         "7",
         "3585",
         "Aminah",
         "Zalim",
         "Marketing",
         "20.0",
         "Female",
         "Ashburn",
         "VA",
         "20147.0"
        ],
        [
         "8",
         "5170",
         "Gus",
         "Cunningham",
         "Finance",
         "21.0",
         "Male",
         "Massillon",
         "OH",
         "44646.0"
        ],
        [
         "9",
         "5317",
         "Rafael",
         "Solis",
         "Business Analytics",
         "20.0",
         "Female",
         "South Bend",
         "IN",
         "46601.0"
        ],
        [
         "10",
         "5336",
         "Homer",
         "White",
         "Finance",
         "20.0",
         "Male",
         "St. Paul",
         "MN",
         "55101.0"
        ],
        [
         "11",
         "5495",
         "Lara",
         "Woods",
         "Accountancy",
         "20.0",
         "Female",
         "Dallas",
         "TX",
         "75201.0"
        ],
        [
         "12",
         "6453",
         "Otis",
         "Johnson",
         "Management",
         "19.0",
         "Male",
         "Anchorage",
         "AK",
         "99501.0"
        ],
        [
         "13",
         "6504",
         "Chantelle",
         "Woods",
         "Business Technology",
         "18.0",
         "Female",
         "Chicago",
         null,
         "60608.0"
        ],
        [
         "14",
         "6768",
         "Caroline",
         "Marsh",
         "Business Analytics",
         "22.0",
         "Female",
         "Niles",
         "MI",
         "49120.0"
        ],
        [
         "15",
         "7511",
         "Laila",
         "Carroll",
         "Marketing",
         "20.0",
         "Female",
         "New York",
         "NY",
         "10001.0"
        ],
        [
         "16",
         "7965",
         "Rocco",
         "Decola",
         "Finance",
         "21.0",
         "Male",
         "Oakland",
         "CA",
         "94603.0"
        ],
        [
         "17",
         "9232",
         "Julie",
         "Holmes",
         "Business Technology",
         "18.0",
         "Female",
         "Webster",
         "NY",
         "14580.0"
        ],
        [
         "18",
         "9268",
         "Albert",
         "Palmer",
         "Management",
         "21.0",
         "Male",
         "Detroit",
         "MI",
         "48201.0"
        ],
        [
         "19",
         "9941",
         "Zoya",
         "Doyle",
         "Business Analytics",
         "20.0",
         "Female",
         "Chicago",
         "IL",
         "60608.0"
        ]
       ],
       "shape": {
        "columns": 9,
        "rows": 18
       }
      },
      "text/html": [
       "<div>\n",
       "<style scoped>\n",
       "    .dataframe tbody tr th:only-of-type {\n",
       "        vertical-align: middle;\n",
       "    }\n",
       "\n",
       "    .dataframe tbody tr th {\n",
       "        vertical-align: top;\n",
       "    }\n",
       "\n",
       "    .dataframe thead th {\n",
       "        text-align: right;\n",
       "    }\n",
       "</style>\n",
       "<table border=\"1\" class=\"dataframe\">\n",
       "  <thead>\n",
       "    <tr style=\"text-align: right;\">\n",
       "      <th></th>\n",
       "      <th>ID</th>\n",
       "      <th>FirstName</th>\n",
       "      <th>LastName</th>\n",
       "      <th>Major</th>\n",
       "      <th>Age</th>\n",
       "      <th>Gender</th>\n",
       "      <th>City</th>\n",
       "      <th>State</th>\n",
       "      <th>Zip</th>\n",
       "    </tr>\n",
       "  </thead>\n",
       "  <tbody>\n",
       "    <tr>\n",
       "      <th>2</th>\n",
       "      <td>2075</td>\n",
       "      <td>Becca</td>\n",
       "      <td>Swanson</td>\n",
       "      <td>Marketing</td>\n",
       "      <td>22.0</td>\n",
       "      <td>Female</td>\n",
       "      <td>Chicago</td>\n",
       "      <td>IL</td>\n",
       "      <td>60608.0</td>\n",
       "    </tr>\n",
       "    <tr>\n",
       "      <th>3</th>\n",
       "      <td>2228</td>\n",
       "      <td>Halima</td>\n",
       "      <td>Aminu</td>\n",
       "      <td>Business Analytics</td>\n",
       "      <td>20.0</td>\n",
       "      <td>Female</td>\n",
       "      <td>Atlanta</td>\n",
       "      <td>GA</td>\n",
       "      <td>30303.0</td>\n",
       "    </tr>\n",
       "    <tr>\n",
       "      <th>4</th>\n",
       "      <td>2442</td>\n",
       "      <td>Holly</td>\n",
       "      <td>Robinson</td>\n",
       "      <td>Finance</td>\n",
       "      <td>20.0</td>\n",
       "      <td>Female</td>\n",
       "      <td>Charlotte</td>\n",
       "      <td>NC</td>\n",
       "      <td>28202.0</td>\n",
       "    </tr>\n",
       "    <tr>\n",
       "      <th>5</th>\n",
       "      <td>2858</td>\n",
       "      <td>Carla</td>\n",
       "      <td>Harding</td>\n",
       "      <td>Accountancy</td>\n",
       "      <td>20.0</td>\n",
       "      <td>Female</td>\n",
       "      <td>Youngstown</td>\n",
       "      <td>OH</td>\n",
       "      <td>44502.0</td>\n",
       "    </tr>\n",
       "    <tr>\n",
       "      <th>6</th>\n",
       "      <td>3459</td>\n",
       "      <td>Alex</td>\n",
       "      <td>Swanson</td>\n",
       "      <td>Accountancy</td>\n",
       "      <td>20.0</td>\n",
       "      <td>Female</td>\n",
       "      <td>Granger</td>\n",
       "      <td>IN</td>\n",
       "      <td>46530.0</td>\n",
       "    </tr>\n",
       "    <tr>\n",
       "      <th>7</th>\n",
       "      <td>3585</td>\n",
       "      <td>Aminah</td>\n",
       "      <td>Zalim</td>\n",
       "      <td>Marketing</td>\n",
       "      <td>20.0</td>\n",
       "      <td>Female</td>\n",
       "      <td>Ashburn</td>\n",
       "      <td>VA</td>\n",
       "      <td>20147.0</td>\n",
       "    </tr>\n",
       "    <tr>\n",
       "      <th>8</th>\n",
       "      <td>5170</td>\n",
       "      <td>Gus</td>\n",
       "      <td>Cunningham</td>\n",
       "      <td>Finance</td>\n",
       "      <td>21.0</td>\n",
       "      <td>Male</td>\n",
       "      <td>Massillon</td>\n",
       "      <td>OH</td>\n",
       "      <td>44646.0</td>\n",
       "    </tr>\n",
       "    <tr>\n",
       "      <th>9</th>\n",
       "      <td>5317</td>\n",
       "      <td>Rafael</td>\n",
       "      <td>Solis</td>\n",
       "      <td>Business Analytics</td>\n",
       "      <td>20.0</td>\n",
       "      <td>Female</td>\n",
       "      <td>South Bend</td>\n",
       "      <td>IN</td>\n",
       "      <td>46601.0</td>\n",
       "    </tr>\n",
       "    <tr>\n",
       "      <th>10</th>\n",
       "      <td>5336</td>\n",
       "      <td>Homer</td>\n",
       "      <td>White</td>\n",
       "      <td>Finance</td>\n",
       "      <td>20.0</td>\n",
       "      <td>Male</td>\n",
       "      <td>St. Paul</td>\n",
       "      <td>MN</td>\n",
       "      <td>55101.0</td>\n",
       "    </tr>\n",
       "    <tr>\n",
       "      <th>11</th>\n",
       "      <td>5495</td>\n",
       "      <td>Lara</td>\n",
       "      <td>Woods</td>\n",
       "      <td>Accountancy</td>\n",
       "      <td>20.0</td>\n",
       "      <td>Female</td>\n",
       "      <td>Dallas</td>\n",
       "      <td>TX</td>\n",
       "      <td>75201.0</td>\n",
       "    </tr>\n",
       "    <tr>\n",
       "      <th>12</th>\n",
       "      <td>6453</td>\n",
       "      <td>Otis</td>\n",
       "      <td>Johnson</td>\n",
       "      <td>Management</td>\n",
       "      <td>19.0</td>\n",
       "      <td>Male</td>\n",
       "      <td>Anchorage</td>\n",
       "      <td>AK</td>\n",
       "      <td>99501.0</td>\n",
       "    </tr>\n",
       "    <tr>\n",
       "      <th>13</th>\n",
       "      <td>6504</td>\n",
       "      <td>Chantelle</td>\n",
       "      <td>Woods</td>\n",
       "      <td>Business Technology</td>\n",
       "      <td>18.0</td>\n",
       "      <td>Female</td>\n",
       "      <td>Chicago</td>\n",
       "      <td>NaN</td>\n",
       "      <td>60608.0</td>\n",
       "    </tr>\n",
       "    <tr>\n",
       "      <th>14</th>\n",
       "      <td>6768</td>\n",
       "      <td>Caroline</td>\n",
       "      <td>Marsh</td>\n",
       "      <td>Business Analytics</td>\n",
       "      <td>22.0</td>\n",
       "      <td>Female</td>\n",
       "      <td>Niles</td>\n",
       "      <td>MI</td>\n",
       "      <td>49120.0</td>\n",
       "    </tr>\n",
       "    <tr>\n",
       "      <th>15</th>\n",
       "      <td>7511</td>\n",
       "      <td>Laila</td>\n",
       "      <td>Carroll</td>\n",
       "      <td>Marketing</td>\n",
       "      <td>20.0</td>\n",
       "      <td>Female</td>\n",
       "      <td>New York</td>\n",
       "      <td>NY</td>\n",
       "      <td>10001.0</td>\n",
       "    </tr>\n",
       "    <tr>\n",
       "      <th>16</th>\n",
       "      <td>7965</td>\n",
       "      <td>Rocco</td>\n",
       "      <td>Decola</td>\n",
       "      <td>Finance</td>\n",
       "      <td>21.0</td>\n",
       "      <td>Male</td>\n",
       "      <td>Oakland</td>\n",
       "      <td>CA</td>\n",
       "      <td>94603.0</td>\n",
       "    </tr>\n",
       "    <tr>\n",
       "      <th>17</th>\n",
       "      <td>9232</td>\n",
       "      <td>Julie</td>\n",
       "      <td>Holmes</td>\n",
       "      <td>Business Technology</td>\n",
       "      <td>18.0</td>\n",
       "      <td>Female</td>\n",
       "      <td>Webster</td>\n",
       "      <td>NY</td>\n",
       "      <td>14580.0</td>\n",
       "    </tr>\n",
       "    <tr>\n",
       "      <th>18</th>\n",
       "      <td>9268</td>\n",
       "      <td>Albert</td>\n",
       "      <td>Palmer</td>\n",
       "      <td>Management</td>\n",
       "      <td>21.0</td>\n",
       "      <td>Male</td>\n",
       "      <td>Detroit</td>\n",
       "      <td>MI</td>\n",
       "      <td>48201.0</td>\n",
       "    </tr>\n",
       "    <tr>\n",
       "      <th>19</th>\n",
       "      <td>9941</td>\n",
       "      <td>Zoya</td>\n",
       "      <td>Doyle</td>\n",
       "      <td>Business Analytics</td>\n",
       "      <td>20.0</td>\n",
       "      <td>Female</td>\n",
       "      <td>Chicago</td>\n",
       "      <td>IL</td>\n",
       "      <td>60608.0</td>\n",
       "    </tr>\n",
       "  </tbody>\n",
       "</table>\n",
       "</div>"
      ],
      "text/plain": [
       "      ID  FirstName    LastName                Major   Age  Gender  \\\n",
       "2   2075      Becca     Swanson            Marketing  22.0  Female   \n",
       "3   2228     Halima       Aminu   Business Analytics  20.0  Female   \n",
       "4   2442      Holly    Robinson              Finance  20.0  Female   \n",
       "5   2858      Carla     Harding          Accountancy  20.0  Female   \n",
       "6   3459       Alex     Swanson          Accountancy  20.0  Female   \n",
       "7   3585     Aminah       Zalim            Marketing  20.0  Female   \n",
       "8   5170        Gus  Cunningham              Finance  21.0    Male   \n",
       "9   5317     Rafael       Solis   Business Analytics  20.0  Female   \n",
       "10  5336      Homer       White              Finance  20.0    Male   \n",
       "11  5495       Lara       Woods          Accountancy  20.0  Female   \n",
       "12  6453       Otis     Johnson           Management  19.0    Male   \n",
       "13  6504  Chantelle       Woods  Business Technology  18.0  Female   \n",
       "14  6768   Caroline       Marsh   Business Analytics  22.0  Female   \n",
       "15  7511      Laila     Carroll            Marketing  20.0  Female   \n",
       "16  7965      Rocco      Decola              Finance  21.0    Male   \n",
       "17  9232      Julie      Holmes  Business Technology  18.0  Female   \n",
       "18  9268     Albert      Palmer           Management  21.0    Male   \n",
       "19  9941       Zoya       Doyle   Business Analytics  20.0  Female   \n",
       "\n",
       "          City State      Zip  \n",
       "2      Chicago    IL  60608.0  \n",
       "3      Atlanta    GA  30303.0  \n",
       "4    Charlotte    NC  28202.0  \n",
       "5   Youngstown    OH  44502.0  \n",
       "6      Granger    IN  46530.0  \n",
       "7      Ashburn    VA  20147.0  \n",
       "8    Massillon    OH  44646.0  \n",
       "9   South Bend    IN  46601.0  \n",
       "10    St. Paul    MN  55101.0  \n",
       "11      Dallas    TX  75201.0  \n",
       "12   Anchorage    AK  99501.0  \n",
       "13     Chicago   NaN  60608.0  \n",
       "14       Niles    MI  49120.0  \n",
       "15    New York    NY  10001.0  \n",
       "16     Oakland    CA  94603.0  \n",
       "17     Webster    NY  14580.0  \n",
       "18     Detroit    MI  48201.0  \n",
       "19     Chicago    IL  60608.0  "
      ]
     },
     "execution_count": 66,
     "metadata": {},
     "output_type": "execute_result"
    }
   ],
   "source": [
    "mask = (students['City'] == 'Niles') & (students['State'] == 'MI')\n",
    "students.loc[mask, 'Zip'] = 49120\n",
    "students"
   ]
  },
  {
   "cell_type": "markdown",
   "metadata": {},
   "source": [
    "# **05_Làm sao để chuẩn hoá dữ liệu về cùng một đơn vị** <a id = \"05\">"
   ]
  },
  {
   "cell_type": "markdown",
   "metadata": {},
   "source": [
    "Một phần khác trong công việc tiền xử lý dữ liệu đó chính là việc chuyển đổi dữ liệu của chúng ta về chung một đơn vị để gia tăng khả năng phù hợp hơn trong công việc học máy. Trong suốt quá trình này, chúng ta sẽ phải tái cấu trúc phần lớn dữ liệu để phù hợp về một đơn vị cụ thể. Điều này được biết đến là **chuẩn hoá ( normalization )** hay **standardization**. Chúng là bước thường để có thể chuẩn hoá dữ liệu trong Python. Trong phần cuối của tutorial này chúng ta sẽ được học:\n",
    "* Làm cách nào để thực hiện chuẩn hoá min_max\n",
    "* Làm cách nào để thực hiện chuẩn hoá điểm z ( z-score )"
   ]
  },
  {
   "cell_type": "code",
   "execution_count": 68,
   "metadata": {},
   "outputs": [
    {
     "data": {
      "application/vnd.microsoft.datawrangler.viewer.v0+json": {
       "columns": [
        {
         "name": "index",
         "rawType": "int64",
         "type": "integer"
        },
        {
         "name": "citympg",
         "rawType": "float64",
         "type": "float"
        },
        {
         "name": "cylinders",
         "rawType": "int64",
         "type": "integer"
        },
        {
         "name": "displacement",
         "rawType": "float64",
         "type": "float"
        },
        {
         "name": "drive",
         "rawType": "object",
         "type": "string"
        },
        {
         "name": "highwaympg",
         "rawType": "float64",
         "type": "float"
        },
        {
         "name": "make",
         "rawType": "object",
         "type": "string"
        },
        {
         "name": "model",
         "rawType": "object",
         "type": "string"
        },
        {
         "name": "class",
         "rawType": "object",
         "type": "string"
        },
        {
         "name": "year",
         "rawType": "int64",
         "type": "integer"
        },
        {
         "name": "transmissiontype",
         "rawType": "object",
         "type": "string"
        },
        {
         "name": "transmissionspeeds",
         "rawType": "int64",
         "type": "integer"
        },
        {
         "name": "co2emissions",
         "rawType": "float64",
         "type": "float"
        }
       ],
       "conversionMethod": "pd.DataFrame",
       "ref": "3f304a60-bf91-455e-be93-4dacd81f0648",
       "rows": [
        [
         "0",
         "14.0",
         "6",
         "4.1",
         "2-Wheel Drive",
         "19.0",
         "Buick",
         "Electra/Park Avenue",
         "Large Cars",
         "1984",
         "Automatic",
         "4",
         "555.4375"
        ],
        [
         "1",
         "14.0",
         "8",
         "5.0",
         "2-Wheel Drive",
         "20.0",
         "Buick",
         "Electra/Park Avenue",
         "Large Cars",
         "1984",
         "Automatic",
         "4",
         "555.4375"
        ],
        [
         "2",
         "18.0",
         "8",
         "5.7",
         "2-Wheel Drive",
         "26.0",
         "Buick",
         "Electra/Park Avenue",
         "Large Cars",
         "1984",
         "Automatic",
         "4",
         "484.7619048"
        ],
        [
         "3",
         "21.0",
         "6",
         "4.3",
         "Rear-Wheel Drive",
         "31.0",
         "Cadillac",
         "Fleetwood/DeVille (FWD)",
         "Large Cars",
         "1984",
         "Automatic",
         "4",
         "424.1666667"
        ],
        [
         "4",
         "14.0",
         "8",
         "4.1",
         "Rear-Wheel Drive",
         "19.0",
         "Cadillac",
         "Brougham/DeVille (RWD)",
         "Large Cars",
         "1984",
         "Automatic",
         "4",
         "555.4375"
        ]
       ],
       "shape": {
        "columns": 12,
        "rows": 5
       }
      },
      "text/html": [
       "<div>\n",
       "<style scoped>\n",
       "    .dataframe tbody tr th:only-of-type {\n",
       "        vertical-align: middle;\n",
       "    }\n",
       "\n",
       "    .dataframe tbody tr th {\n",
       "        vertical-align: top;\n",
       "    }\n",
       "\n",
       "    .dataframe thead th {\n",
       "        text-align: right;\n",
       "    }\n",
       "</style>\n",
       "<table border=\"1\" class=\"dataframe\">\n",
       "  <thead>\n",
       "    <tr style=\"text-align: right;\">\n",
       "      <th></th>\n",
       "      <th>citympg</th>\n",
       "      <th>cylinders</th>\n",
       "      <th>displacement</th>\n",
       "      <th>drive</th>\n",
       "      <th>highwaympg</th>\n",
       "      <th>make</th>\n",
       "      <th>model</th>\n",
       "      <th>class</th>\n",
       "      <th>year</th>\n",
       "      <th>transmissiontype</th>\n",
       "      <th>transmissionspeeds</th>\n",
       "      <th>co2emissions</th>\n",
       "    </tr>\n",
       "  </thead>\n",
       "  <tbody>\n",
       "    <tr>\n",
       "      <th>0</th>\n",
       "      <td>14.0</td>\n",
       "      <td>6</td>\n",
       "      <td>4.1</td>\n",
       "      <td>2-Wheel Drive</td>\n",
       "      <td>19.0</td>\n",
       "      <td>Buick</td>\n",
       "      <td>Electra/Park Avenue</td>\n",
       "      <td>Large Cars</td>\n",
       "      <td>1984</td>\n",
       "      <td>Automatic</td>\n",
       "      <td>4</td>\n",
       "      <td>555.437500</td>\n",
       "    </tr>\n",
       "    <tr>\n",
       "      <th>1</th>\n",
       "      <td>14.0</td>\n",
       "      <td>8</td>\n",
       "      <td>5.0</td>\n",
       "      <td>2-Wheel Drive</td>\n",
       "      <td>20.0</td>\n",
       "      <td>Buick</td>\n",
       "      <td>Electra/Park Avenue</td>\n",
       "      <td>Large Cars</td>\n",
       "      <td>1984</td>\n",
       "      <td>Automatic</td>\n",
       "      <td>4</td>\n",
       "      <td>555.437500</td>\n",
       "    </tr>\n",
       "    <tr>\n",
       "      <th>2</th>\n",
       "      <td>18.0</td>\n",
       "      <td>8</td>\n",
       "      <td>5.7</td>\n",
       "      <td>2-Wheel Drive</td>\n",
       "      <td>26.0</td>\n",
       "      <td>Buick</td>\n",
       "      <td>Electra/Park Avenue</td>\n",
       "      <td>Large Cars</td>\n",
       "      <td>1984</td>\n",
       "      <td>Automatic</td>\n",
       "      <td>4</td>\n",
       "      <td>484.761905</td>\n",
       "    </tr>\n",
       "    <tr>\n",
       "      <th>3</th>\n",
       "      <td>21.0</td>\n",
       "      <td>6</td>\n",
       "      <td>4.3</td>\n",
       "      <td>Rear-Wheel Drive</td>\n",
       "      <td>31.0</td>\n",
       "      <td>Cadillac</td>\n",
       "      <td>Fleetwood/DeVille (FWD)</td>\n",
       "      <td>Large Cars</td>\n",
       "      <td>1984</td>\n",
       "      <td>Automatic</td>\n",
       "      <td>4</td>\n",
       "      <td>424.166667</td>\n",
       "    </tr>\n",
       "    <tr>\n",
       "      <th>4</th>\n",
       "      <td>14.0</td>\n",
       "      <td>8</td>\n",
       "      <td>4.1</td>\n",
       "      <td>Rear-Wheel Drive</td>\n",
       "      <td>19.0</td>\n",
       "      <td>Cadillac</td>\n",
       "      <td>Brougham/DeVille (RWD)</td>\n",
       "      <td>Large Cars</td>\n",
       "      <td>1984</td>\n",
       "      <td>Automatic</td>\n",
       "      <td>4</td>\n",
       "      <td>555.437500</td>\n",
       "    </tr>\n",
       "  </tbody>\n",
       "</table>\n",
       "</div>"
      ],
      "text/plain": [
       "   citympg  cylinders  displacement             drive  highwaympg      make  \\\n",
       "0     14.0          6           4.1     2-Wheel Drive        19.0     Buick   \n",
       "1     14.0          8           5.0     2-Wheel Drive        20.0     Buick   \n",
       "2     18.0          8           5.7     2-Wheel Drive        26.0     Buick   \n",
       "3     21.0          6           4.3  Rear-Wheel Drive        31.0  Cadillac   \n",
       "4     14.0          8           4.1  Rear-Wheel Drive        19.0  Cadillac   \n",
       "\n",
       "                     model       class  year transmissiontype  \\\n",
       "0      Electra/Park Avenue  Large Cars  1984        Automatic   \n",
       "1      Electra/Park Avenue  Large Cars  1984        Automatic   \n",
       "2      Electra/Park Avenue  Large Cars  1984        Automatic   \n",
       "3  Fleetwood/DeVille (FWD)  Large Cars  1984        Automatic   \n",
       "4   Brougham/DeVille (RWD)  Large Cars  1984        Automatic   \n",
       "\n",
       "   transmissionspeeds  co2emissions  \n",
       "0                   4    555.437500  \n",
       "1                   4    555.437500  \n",
       "2                   4    484.761905  \n",
       "3                   4    424.166667  \n",
       "4                   4    555.437500  "
      ]
     },
     "execution_count": 68,
     "metadata": {},
     "output_type": "execute_result"
    }
   ],
   "source": [
    "import pandas as pd\n",
    "vehicles = pd.read_csv(\"Data/vehicles.csv\")\n",
    "vehicles.head()"
   ]
  },
  {
   "cell_type": "code",
   "execution_count": 69,
   "metadata": {},
   "outputs": [
    {
     "data": {
      "application/vnd.microsoft.datawrangler.viewer.v0+json": {
       "columns": [
        {
         "name": "index",
         "rawType": "object",
         "type": "string"
        },
        {
         "name": "co2emissions",
         "rawType": "float64",
         "type": "float"
        }
       ],
       "conversionMethod": "pd.DataFrame",
       "ref": "45c5b084-f9e2-4d6e-9340-3bec5af0efba",
       "rows": [
        [
         "count",
         "36979.0"
        ],
        [
         "mean",
         "476.5507034874875"
        ],
        [
         "std",
         "117.79135668983778"
        ],
        [
         "min",
         "29.0"
        ],
        [
         "25%",
         "400.0"
        ],
        [
         "50%",
         "467.7368421"
        ],
        [
         "75%",
         "555.4375"
        ],
        [
         "max",
         "1269.571429"
        ]
       ],
       "shape": {
        "columns": 1,
        "rows": 8
       }
      },
      "text/html": [
       "<div>\n",
       "<style scoped>\n",
       "    .dataframe tbody tr th:only-of-type {\n",
       "        vertical-align: middle;\n",
       "    }\n",
       "\n",
       "    .dataframe tbody tr th {\n",
       "        vertical-align: top;\n",
       "    }\n",
       "\n",
       "    .dataframe thead th {\n",
       "        text-align: right;\n",
       "    }\n",
       "</style>\n",
       "<table border=\"1\" class=\"dataframe\">\n",
       "  <thead>\n",
       "    <tr style=\"text-align: right;\">\n",
       "      <th></th>\n",
       "      <th>co2emissions</th>\n",
       "    </tr>\n",
       "  </thead>\n",
       "  <tbody>\n",
       "    <tr>\n",
       "      <th>count</th>\n",
       "      <td>36979.000000</td>\n",
       "    </tr>\n",
       "    <tr>\n",
       "      <th>mean</th>\n",
       "      <td>476.550703</td>\n",
       "    </tr>\n",
       "    <tr>\n",
       "      <th>std</th>\n",
       "      <td>117.791357</td>\n",
       "    </tr>\n",
       "    <tr>\n",
       "      <th>min</th>\n",
       "      <td>29.000000</td>\n",
       "    </tr>\n",
       "    <tr>\n",
       "      <th>25%</th>\n",
       "      <td>400.000000</td>\n",
       "    </tr>\n",
       "    <tr>\n",
       "      <th>50%</th>\n",
       "      <td>467.736842</td>\n",
       "    </tr>\n",
       "    <tr>\n",
       "      <th>75%</th>\n",
       "      <td>555.437500</td>\n",
       "    </tr>\n",
       "    <tr>\n",
       "      <th>max</th>\n",
       "      <td>1269.571429</td>\n",
       "    </tr>\n",
       "  </tbody>\n",
       "</table>\n",
       "</div>"
      ],
      "text/plain": [
       "       co2emissions\n",
       "count  36979.000000\n",
       "mean     476.550703\n",
       "std      117.791357\n",
       "min       29.000000\n",
       "25%      400.000000\n",
       "50%      467.736842\n",
       "75%      555.437500\n",
       "max     1269.571429"
      ]
     },
     "execution_count": 69,
     "metadata": {},
     "output_type": "execute_result"
    }
   ],
   "source": [
    "vehicles[['co2emissions']].describe()"
   ]
  },
  {
   "cell_type": "code",
   "execution_count": 70,
   "metadata": {},
   "outputs": [
    {
     "data": {
      "text/plain": [
       "<Axes: ylabel='Frequency'>"
      ]
     },
     "execution_count": 70,
     "metadata": {},
     "output_type": "execute_result"
    }
   ],
   "source": [
    "%matplotlib inline\n",
    "vehicles[['co2emissions']].plot(kind = 'hist', \n",
    "                                bins = 20, \n",
    "                                figsize = (10, 6))"
   ]
  },
  {
   "attachments": {
    "image.png": {
     "image/png": "[encoded data removed]"
    }
   },
   "cell_type": "markdown",
   "metadata": {},
   "source": [
    "![image.png](attachment:image.png)"
   ]
  },
  {
   "cell_type": "markdown",
   "metadata": {},
   "source": [
    "## **Làm cách nào để thực hiện chuẩn hoá min_max** <a id = \"05a\">"
   ]
  },
  {
   "cell_type": "code",
   "execution_count": 71,
   "metadata": {},
   "outputs": [],
   "source": [
    "from sklearn.preprocessing import MinMaxScaler"
   ]
  },
  {
   "cell_type": "code",
   "execution_count": 72,
   "metadata": {},
   "outputs": [
    {
     "data": {
      "text/plain": [
       "array([[0.42435082],\n",
       "       [0.42435082],\n",
       "       [0.36738062],\n",
       "       ...,\n",
       "       [0.38208199],\n",
       "       [0.50944265],\n",
       "       [0.41674344]])"
      ]
     },
     "execution_count": 72,
     "metadata": {},
     "output_type": "execute_result"
    }
   ],
   "source": [
    "co2emissions_mm = MinMaxScaler().fit_transform(vehicles[['co2emissions']])\n",
    "co2emissions_mm"
   ]
  },
  {
   "cell_type": "code",
   "execution_count": 73,
   "metadata": {},
   "outputs": [
    {
     "data": {
      "application/vnd.microsoft.datawrangler.viewer.v0+json": {
       "columns": [
        {
         "name": "index",
         "rawType": "int64",
         "type": "integer"
        },
        {
         "name": "co2emissions",
         "rawType": "float64",
         "type": "float"
        }
       ],
       "conversionMethod": "pd.DataFrame",
       "ref": "3023fe0e-4987-4e97-9fea-61d135c54def",
       "rows": [
        [
         "0",
         "0.42435081744898057"
        ],
        [
         "1",
         "0.42435081744898057"
        ],
        [
         "2",
         "0.36738062327243876"
        ],
        [
         "3",
         "0.3185360048300774"
        ],
        [
         "4",
         "0.42435081744898057"
        ],
        [
         "5",
         "0.36738062327243876"
        ],
        [
         "6",
         "0.42435081744898057"
        ],
        [
         "7",
         "0.35365705822651183"
        ],
        [
         "8",
         "0.3177491170482211"
        ],
        [
         "9",
         "0.334805389105894"
        ],
        [
         "10",
         "0.35365705822651183"
        ],
        [
         "11",
         "0.374603357240464"
        ],
        [
         "12",
         "0.334805389105894"
        ],
        [
         "13",
         "0.35365705822651183"
        ],
        [
         "14",
         "0.35365705822651183"
        ],
        [
         "15",
         "0.3185360048300774"
        ],
        [
         "16",
         "0.334805389105894"
        ],
        [
         "17",
         "0.35365705822651183"
        ],
        [
         "18",
         "0.374603357240464"
        ],
        [
         "19",
         "0.334805389105894"
        ],
        [
         "20",
         "0.35365705822651183"
        ],
        [
         "21",
         "0.334805389105894"
        ],
        [
         "22",
         "0.35365705822651183"
        ],
        [
         "23",
         "0.3177491170482211"
        ],
        [
         "24",
         "0.35365705822651183"
        ],
        [
         "25",
         "0.374603357240464"
        ],
        [
         "26",
         "0.35365705822651183"
        ],
        [
         "27",
         "0.334805389105894"
        ],
        [
         "28",
         "0.35365705822651183"
        ],
        [
         "29",
         "0.3185360048300774"
        ],
        [
         "30",
         "0.35365705822651183"
        ],
        [
         "31",
         "0.374603357240464"
        ],
        [
         "32",
         "0.374603357240464"
        ],
        [
         "33",
         "0.334805389105894"
        ],
        [
         "34",
         "0.334805389105894"
        ],
        [
         "35",
         "0.275108436904039"
        ],
        [
         "36",
         "0.3177491170482211"
        ],
        [
         "37",
         "0.269691386387716"
        ],
        [
         "38",
         "0.2880860351492103"
        ],
        [
         "39",
         "0.30224341519959347"
        ],
        [
         "40",
         "0.3177491170482211"
        ],
        [
         "41",
         "0.30224341519959347"
        ],
        [
         "42",
         "0.275108436904039"
        ],
        [
         "43",
         "0.2922350563822311"
        ],
        [
         "44",
         "0.3177491170482211"
        ],
        [
         "45",
         "0.35365705822651183"
        ],
        [
         "46",
         "0.275108436904039"
        ],
        [
         "47",
         "0.3177491170482211"
        ],
        [
         "48",
         "0.269691386387716"
        ],
        [
         "49",
         "0.275108436904039"
        ]
       ],
       "shape": {
        "columns": 1,
        "rows": 36979
       }
      },
      "text/html": [
       "<div>\n",
       "<style scoped>\n",
       "    .dataframe tbody tr th:only-of-type {\n",
       "        vertical-align: middle;\n",
       "    }\n",
       "\n",
       "    .dataframe tbody tr th {\n",
       "        vertical-align: top;\n",
       "    }\n",
       "\n",
       "    .dataframe thead th {\n",
       "        text-align: right;\n",
       "    }\n",
       "</style>\n",
       "<table border=\"1\" class=\"dataframe\">\n",
       "  <thead>\n",
       "    <tr style=\"text-align: right;\">\n",
       "      <th></th>\n",
       "      <th>co2emissions</th>\n",
       "    </tr>\n",
       "  </thead>\n",
       "  <tbody>\n",
       "    <tr>\n",
       "      <th>0</th>\n",
       "      <td>0.424351</td>\n",
       "    </tr>\n",
       "    <tr>\n",
       "      <th>1</th>\n",
       "      <td>0.424351</td>\n",
       "    </tr>\n",
       "    <tr>\n",
       "      <th>2</th>\n",
       "      <td>0.367381</td>\n",
       "    </tr>\n",
       "    <tr>\n",
       "      <th>3</th>\n",
       "      <td>0.318536</td>\n",
       "    </tr>\n",
       "    <tr>\n",
       "      <th>4</th>\n",
       "      <td>0.424351</td>\n",
       "    </tr>\n",
       "    <tr>\n",
       "      <th>...</th>\n",
       "      <td>...</td>\n",
       "    </tr>\n",
       "    <tr>\n",
       "      <th>36974</th>\n",
       "      <td>0.332911</td>\n",
       "    </tr>\n",
       "    <tr>\n",
       "      <th>36975</th>\n",
       "      <td>0.352257</td>\n",
       "    </tr>\n",
       "    <tr>\n",
       "      <th>36976</th>\n",
       "      <td>0.382082</td>\n",
       "    </tr>\n",
       "    <tr>\n",
       "      <th>36977</th>\n",
       "      <td>0.509443</td>\n",
       "    </tr>\n",
       "    <tr>\n",
       "      <th>36978</th>\n",
       "      <td>0.416743</td>\n",
       "    </tr>\n",
       "  </tbody>\n",
       "</table>\n",
       "<p>36979 rows × 1 columns</p>\n",
       "</div>"
      ],
      "text/plain": [
       "       co2emissions\n",
       "0          0.424351\n",
       "1          0.424351\n",
       "2          0.367381\n",
       "3          0.318536\n",
       "4          0.424351\n",
       "...             ...\n",
       "36974      0.332911\n",
       "36975      0.352257\n",
       "36976      0.382082\n",
       "36977      0.509443\n",
       "36978      0.416743\n",
       "\n",
       "[36979 rows x 1 columns]"
      ]
     },
     "execution_count": 73,
     "metadata": {},
     "output_type": "execute_result"
    }
   ],
   "source": [
    "co2emissions_mm = pd.DataFrame(co2emissions_mm, columns = ['co2emissions'])\n",
    "co2emissions_mm"
   ]
  },
  {
   "cell_type": "code",
   "execution_count": 74,
   "metadata": {},
   "outputs": [
    {
     "data": {
      "application/vnd.microsoft.datawrangler.viewer.v0+json": {
       "columns": [
        {
         "name": "index",
         "rawType": "object",
         "type": "string"
        },
        {
         "name": "co2emissions",
         "rawType": "float64",
         "type": "float"
        }
       ],
       "conversionMethod": "pd.DataFrame",
       "ref": "3976e52e-3a17-4bd6-87a7-1174c7a409e1",
       "rows": [
        [
         "count",
         "36979.0"
        ],
        [
         "mean",
         "0.3607617369104246"
        ],
        [
         "std",
         "0.09494927412989729"
        ],
        [
         "min",
         "0.0"
        ],
        [
         "25%",
         "0.2990557345811645"
        ],
        [
         "50%",
         "0.35365705822651183"
        ],
        [
         "75%",
         "0.42435081744898057"
        ],
        [
         "max",
         "1.0"
        ]
       ],
       "shape": {
        "columns": 1,
        "rows": 8
       }
      },
      "text/html": [
       "<div>\n",
       "<style scoped>\n",
       "    .dataframe tbody tr th:only-of-type {\n",
       "        vertical-align: middle;\n",
       "    }\n",
       "\n",
       "    .dataframe tbody tr th {\n",
       "        vertical-align: top;\n",
       "    }\n",
       "\n",
       "    .dataframe thead th {\n",
       "        text-align: right;\n",
       "    }\n",
       "</style>\n",
       "<table border=\"1\" class=\"dataframe\">\n",
       "  <thead>\n",
       "    <tr style=\"text-align: right;\">\n",
       "      <th></th>\n",
       "      <th>co2emissions</th>\n",
       "    </tr>\n",
       "  </thead>\n",
       "  <tbody>\n",
       "    <tr>\n",
       "      <th>count</th>\n",
       "      <td>36979.000000</td>\n",
       "    </tr>\n",
       "    <tr>\n",
       "      <th>mean</th>\n",
       "      <td>0.360762</td>\n",
       "    </tr>\n",
       "    <tr>\n",
       "      <th>std</th>\n",
       "      <td>0.094949</td>\n",
       "    </tr>\n",
       "    <tr>\n",
       "      <th>min</th>\n",
       "      <td>0.000000</td>\n",
       "    </tr>\n",
       "    <tr>\n",
       "      <th>25%</th>\n",
       "      <td>0.299056</td>\n",
       "    </tr>\n",
       "    <tr>\n",
       "      <th>50%</th>\n",
       "      <td>0.353657</td>\n",
       "    </tr>\n",
       "    <tr>\n",
       "      <th>75%</th>\n",
       "      <td>0.424351</td>\n",
       "    </tr>\n",
       "    <tr>\n",
       "      <th>max</th>\n",
       "      <td>1.000000</td>\n",
       "    </tr>\n",
       "  </tbody>\n",
       "</table>\n",
       "</div>"
      ],
      "text/plain": [
       "       co2emissions\n",
       "count  36979.000000\n",
       "mean       0.360762\n",
       "std        0.094949\n",
       "min        0.000000\n",
       "25%        0.299056\n",
       "50%        0.353657\n",
       "75%        0.424351\n",
       "max        1.000000"
      ]
     },
     "execution_count": 74,
     "metadata": {},
     "output_type": "execute_result"
    }
   ],
   "source": [
    "co2emissions_mm.describe()"
   ]
  },
  {
   "cell_type": "code",
   "execution_count": 75,
   "metadata": {},
   "outputs": [
    {
     "data": {
      "text/plain": [
       "<Axes: ylabel='Frequency'>"
      ]
     },
     "execution_count": 75,
     "metadata": {},
     "output_type": "execute_result"
    }
   ],
   "source": [
    "co2emissions_mm.plot(kind = 'hist', \n",
    "                     bins = 20, \n",
    "                     figsize = (10, 6))"
   ]
  },
  {
   "attachments": {
    "image.png": {
     "image/png": "[encoded data removed]"
    }
   },
   "cell_type": "markdown",
   "metadata": {},
   "source": [
    "![image.png](attachment:image.png)"
   ]
  },
  {
   "cell_type": "markdown",
   "metadata": {},
   "source": [
    "## **Làm cách nào để thực hiện chuẩn hoá điểm z ( z-score )** <a id = \"05b\">"
   ]
  },
  {
   "cell_type": "code",
   "execution_count": 76,
   "metadata": {},
   "outputs": [],
   "source": [
    "from sklearn.preprocessing import StandardScaler"
   ]
  },
  {
   "cell_type": "code",
   "execution_count": 77,
   "metadata": {},
   "outputs": [
    {
     "data": {
      "application/vnd.microsoft.datawrangler.viewer.v0+json": {
       "columns": [
        {
         "name": "index",
         "rawType": "object",
         "type": "string"
        },
        {
         "name": "co2emissions",
         "rawType": "float64",
         "type": "float"
        }
       ],
       "conversionMethod": "pd.DataFrame",
       "ref": "7da6441d-bb58-4085-afcf-916aa1859a08",
       "rows": [
        [
         "count",
         "36979.0"
        ],
        [
         "mean",
         "-1.844617286377934e-16"
        ],
        [
         "std",
         "1.0000135214618906"
        ],
        [
         "min",
         "-3.799572121457045"
        ],
        [
         "25%",
         "-0.6498926637417606"
        ],
        [
         "50%",
         "-0.0748270570224242"
        ],
        [
         "75%",
         "0.6697253974674564"
        ],
        [
         "max",
         "6.732509673016798"
        ]
       ],
       "shape": {
        "columns": 1,
        "rows": 8
       }
      },
      "text/html": [
       "<div>\n",
       "<style scoped>\n",
       "    .dataframe tbody tr th:only-of-type {\n",
       "        vertical-align: middle;\n",
       "    }\n",
       "\n",
       "    .dataframe tbody tr th {\n",
       "        vertical-align: top;\n",
       "    }\n",
       "\n",
       "    .dataframe thead th {\n",
       "        text-align: right;\n",
       "    }\n",
       "</style>\n",
       "<table border=\"1\" class=\"dataframe\">\n",
       "  <thead>\n",
       "    <tr style=\"text-align: right;\">\n",
       "      <th></th>\n",
       "      <th>co2emissions</th>\n",
       "    </tr>\n",
       "  </thead>\n",
       "  <tbody>\n",
       "    <tr>\n",
       "      <th>count</th>\n",
       "      <td>3.697900e+04</td>\n",
       "    </tr>\n",
       "    <tr>\n",
       "      <th>mean</th>\n",
       "      <td>-1.844617e-16</td>\n",
       "    </tr>\n",
       "    <tr>\n",
       "      <th>std</th>\n",
       "      <td>1.000014e+00</td>\n",
       "    </tr>\n",
       "    <tr>\n",
       "      <th>min</th>\n",
       "      <td>-3.799572e+00</td>\n",
       "    </tr>\n",
       "    <tr>\n",
       "      <th>25%</th>\n",
       "      <td>-6.498927e-01</td>\n",
       "    </tr>\n",
       "    <tr>\n",
       "      <th>50%</th>\n",
       "      <td>-7.482706e-02</td>\n",
       "    </tr>\n",
       "    <tr>\n",
       "      <th>75%</th>\n",
       "      <td>6.697254e-01</td>\n",
       "    </tr>\n",
       "    <tr>\n",
       "      <th>max</th>\n",
       "      <td>6.732510e+00</td>\n",
       "    </tr>\n",
       "  </tbody>\n",
       "</table>\n",
       "</div>"
      ],
      "text/plain": [
       "       co2emissions\n",
       "count  3.697900e+04\n",
       "mean  -1.844617e-16\n",
       "std    1.000014e+00\n",
       "min   -3.799572e+00\n",
       "25%   -6.498927e-01\n",
       "50%   -7.482706e-02\n",
       "75%    6.697254e-01\n",
       "max    6.732510e+00"
      ]
     },
     "execution_count": 77,
     "metadata": {},
     "output_type": "execute_result"
    }
   ],
   "source": [
    "co2emissions_zm = StandardScaler().fit_transform(vehicles[['co2emissions']])\n",
    "co2emissions_zm = pd.DataFrame(co2emissions_zm, columns = ['co2emissions'])\n",
    "co2emissions_zm.describe()"
   ]
  },
  {
   "cell_type": "code",
   "execution_count": 78,
   "metadata": {},
   "outputs": [
    {
     "data": {
      "text/plain": [
       "<Axes: ylabel='Frequency'>"
      ]
     },
     "execution_count": 78,
     "metadata": {},
     "output_type": "execute_result"
    }
   ],
   "source": [
    "co2emissions_zm.plot(kind = 'hist', \n",
    "                     bins = 20, \n",
    "                     figsize = (10, 6))"
   ]
  },
  {
   "attachments": {
    "image.png": {
     "image/png": "[encoded data removed]"
    }
   },
   "cell_type": "markdown",
   "metadata": {},
   "source": [
    "![image.png](attachment:image.png)"
   ]
  },
  {
   "cell_type": "markdown",
   "metadata": {},
   "source": [
    "# **06_Làm sao để lựa chọn dữ liệu mẫu trong Python** <a id = \"06\">"
   ]
  },
  {
   "cell_type": "markdown",
   "metadata": {},
   "source": [
    "Để không phải vướng vào các đánh giá mang tính khách quan từ hiệu suất đánh giá của một mô hình máy học có giám sát, chúng ta cần phâi đánh giá chúng dựa vào dự liệu mà trước đây chúng chưa từng gặp phải trong suốt quá trình huấn luyện. Để làm được điều này, đầu tiên chúng ta phải chia tập dữ liệu thành các tập nhỏ một tập để kiểm tra một tập để huấn luyện. Một cách thường thấy chính là chia dữ liệu thành các tập con không trùng lặp với nhau và giống với dữ liệu gốc ban đầu sử dụng các phương thức **lây mẫu ( sampling )**. Cuối của tutorial này bạn sẽ được học:\n",
    "* Làm sao để có thể lựa chọn dữ liệu mẫu một cách ngẫu nhiên\n",
    "* Làm sao để có thể lựa chọn dữ liệu mẫu phân tầng ngẫu nhiên"
   ]
  },
  {
   "cell_type": "code",
   "execution_count": 80,
   "metadata": {},
   "outputs": [
    {
     "data": {
      "application/vnd.microsoft.datawrangler.viewer.v0+json": {
       "columns": [
        {
         "name": "index",
         "rawType": "int64",
         "type": "integer"
        },
        {
         "name": "citympg",
         "rawType": "float64",
         "type": "float"
        },
        {
         "name": "cylinders",
         "rawType": "int64",
         "type": "integer"
        },
        {
         "name": "displacement",
         "rawType": "float64",
         "type": "float"
        },
        {
         "name": "drive",
         "rawType": "object",
         "type": "string"
        },
        {
         "name": "highwaympg",
         "rawType": "float64",
         "type": "float"
        },
        {
         "name": "make",
         "rawType": "object",
         "type": "string"
        },
        {
         "name": "model",
         "rawType": "object",
         "type": "string"
        },
        {
         "name": "class",
         "rawType": "object",
         "type": "string"
        },
        {
         "name": "year",
         "rawType": "int64",
         "type": "integer"
        },
        {
         "name": "transmissiontype",
         "rawType": "object",
         "type": "string"
        },
        {
         "name": "transmissionspeeds",
         "rawType": "int64",
         "type": "integer"
        },
        {
         "name": "co2emissions",
         "rawType": "float64",
         "type": "float"
        }
       ],
       "conversionMethod": "pd.DataFrame",
       "ref": "11870956-2dca-41e9-8b1a-cfc083b76f1b",
       "rows": [
        [
         "0",
         "14.0",
         "6",
         "4.1",
         "2-Wheel Drive",
         "19.0",
         "Buick",
         "Electra/Park Avenue",
         "Large Cars",
         "1984",
         "Automatic",
         "4",
         "555.4375"
        ],
        [
         "1",
         "14.0",
         "8",
         "5.0",
         "2-Wheel Drive",
         "20.0",
         "Buick",
         "Electra/Park Avenue",
         "Large Cars",
         "1984",
         "Automatic",
         "4",
         "555.4375"
        ],
        [
         "2",
         "18.0",
         "8",
         "5.7",
         "2-Wheel Drive",
         "26.0",
         "Buick",
         "Electra/Park Avenue",
         "Large Cars",
         "1984",
         "Automatic",
         "4",
         "484.7619048"
        ],
        [
         "3",
         "21.0",
         "6",
         "4.3",
         "Rear-Wheel Drive",
         "31.0",
         "Cadillac",
         "Fleetwood/DeVille (FWD)",
         "Large Cars",
         "1984",
         "Automatic",
         "4",
         "424.1666667"
        ],
        [
         "4",
         "14.0",
         "8",
         "4.1",
         "Rear-Wheel Drive",
         "19.0",
         "Cadillac",
         "Brougham/DeVille (RWD)",
         "Large Cars",
         "1984",
         "Automatic",
         "4",
         "555.4375"
        ],
        [
         "5",
         "18.0",
         "8",
         "5.7",
         "Rear-Wheel Drive",
         "26.0",
         "Cadillac",
         "Brougham/DeVille (RWD)",
         "Large Cars",
         "1984",
         "Automatic",
         "4",
         "484.7619048"
        ],
        [
         "6",
         "14.0",
         "8",
         "4.1",
         "Rear-Wheel Drive",
         "19.0",
         "Cadillac",
         "Brougham/DeVille (RWD)",
         "Large Cars",
         "1984",
         "Automatic",
         "4",
         "555.4375"
        ],
        [
         "7",
         "18.0",
         "4",
         "2.4",
         "2-Wheel Drive",
         "21.0",
         "Nissan",
         "Pickup 2WD",
         "Pickup",
         "1984",
         "Automatic",
         "3",
         "467.7368421"
        ],
        [
         "8",
         "18.0",
         "4",
         "2.2",
         "2-Wheel Drive",
         "24.0",
         "Dodge",
         "Rampage Pickup 2WD",
         "Pickup",
         "1984",
         "Automatic",
         "3",
         "423.1904762"
        ],
        [
         "9",
         "20.0",
         "4",
         "2.0",
         "2-Wheel Drive",
         "21.0",
         "Dodge",
         "Ram 50 Pickup 2WD",
         "Pickup",
         "1984",
         "Automatic",
         "3",
         "444.35"
        ],
        [
         "10",
         "18.0",
         "4",
         "2.0",
         "2-Wheel Drive",
         "20.0",
         "Dodge",
         "Ram 50 Pickup 2WD",
         "Pickup",
         "1984",
         "Automatic",
         "3",
         "467.7368421"
        ],
        [
         "11",
         "18.0",
         "4",
         "2.6",
         "2-Wheel Drive",
         "19.0",
         "Dodge",
         "Ram 50 Pickup 2WD",
         "Pickup",
         "1984",
         "Automatic",
         "3",
         "493.7222222"
        ],
        [
         "12",
         "19.0",
         "4",
         "2.6",
         "2-Wheel Drive",
         "20.0",
         "Dodge",
         "Ram 50 Pickup 2WD",
         "Pickup",
         "1984",
         "Automatic",
         "3",
         "444.35"
        ],
        [
         "13",
         "18.0",
         "4",
         "2.3",
         "2-Wheel Drive",
         "22.0",
         "Ford",
         "Ranger Pickup 2WD",
         "Pickup",
         "1984",
         "Automatic",
         "3",
         "467.7368421"
        ],
        [
         "14",
         "18.0",
         "4",
         "2.0",
         "2-Wheel Drive",
         "20.0",
         "Isuzu",
         "Pickup 2WD",
         "Pickup",
         "1984",
         "Automatic",
         "3",
         "467.7368421"
        ],
        [
         "15",
         "23.0",
         "4",
         "2.2",
         "2-Wheel Drive",
         "24.0",
         "Isuzu",
         "Pickup 2WD",
         "Pickup",
         "1984",
         "Automatic",
         "3",
         "424.1666667"
        ],
        [
         "16",
         "20.0",
         "4",
         "2.0",
         "2-Wheel Drive",
         "21.0",
         "Mitsubishi",
         "Truck 2WD",
         "Pickup",
         "1984",
         "Automatic",
         "3",
         "444.35"
        ],
        [
         "17",
         "18.0",
         "4",
         "2.0",
         "2-Wheel Drive",
         "20.0",
         "Mitsubishi",
         "Truck 2WD",
         "Pickup",
         "1984",
         "Automatic",
         "3",
         "467.7368421"
        ],
        [
         "18",
         "18.0",
         "4",
         "2.6",
         "2-Wheel Drive",
         "19.0",
         "Mitsubishi",
         "Truck 2WD",
         "Pickup",
         "1984",
         "Automatic",
         "3",
         "493.7222222"
        ],
        [
         "19",
         "19.0",
         "4",
         "2.6",
         "2-Wheel Drive",
         "20.0",
         "Mitsubishi",
         "Truck 2WD",
         "Pickup",
         "1984",
         "Automatic",
         "3",
         "444.35"
        ],
        [
         "20",
         "18.0",
         "4",
         "2.0",
         "2-Wheel Drive",
         "20.0",
         "Mazda",
         "B2000/B2200 Pickup 2WD",
         "Pickup",
         "1984",
         "Automatic",
         "3",
         "467.7368421"
        ],
        [
         "21",
         "18.0",
         "4",
         "2.0",
         "2-Wheel Drive",
         "24.0",
         "Chevrolet",
         "S10 Pickup 2WD",
         "Pickup",
         "1984",
         "Automatic",
         "3",
         "444.35"
        ],
        [
         "22",
         "18.0",
         "4",
         "2.4",
         "2-Wheel Drive",
         "21.0",
         "Nissan",
         "Pickup 2WD",
         "Pickup",
         "1984",
         "Automatic",
         "3",
         "467.7368421"
        ],
        [
         "23",
         "19.0",
         "4",
         "2.2",
         "2-Wheel Drive",
         "24.0",
         "Dodge",
         "Rampage Pickup 2WD",
         "Pickup",
         "1984",
         "Automatic",
         "3",
         "423.1904762"
        ],
        [
         "24",
         "18.0",
         "4",
         "2.0",
         "2-Wheel Drive",
         "20.0",
         "Dodge",
         "Ram 50 Pickup 2WD",
         "Pickup",
         "1984",
         "Automatic",
         "3",
         "467.7368421"
        ],
        [
         "25",
         "18.0",
         "4",
         "2.6",
         "2-Wheel Drive",
         "19.0",
         "Dodge",
         "Ram 50 Pickup 2WD",
         "Pickup",
         "1984",
         "Automatic",
         "3",
         "493.7222222"
        ],
        [
         "26",
         "18.0",
         "4",
         "2.3",
         "2-Wheel Drive",
         "20.0",
         "Ford",
         "Ranger Pickup 2WD",
         "Pickup",
         "1984",
         "Automatic",
         "3",
         "467.7368421"
        ],
        [
         "27",
         "18.0",
         "4",
         "2.0",
         "2-Wheel Drive",
         "24.0",
         "GMC",
         "S15 Pickup 2WD",
         "Pickup",
         "1984",
         "Automatic",
         "3",
         "444.35"
        ],
        [
         "28",
         "18.0",
         "4",
         "2.0",
         "2-Wheel Drive",
         "21.0",
         "Isuzu",
         "Pickup 2WD",
         "Pickup",
         "1984",
         "Automatic",
         "3",
         "467.7368421"
        ],
        [
         "29",
         "23.0",
         "4",
         "2.2",
         "2-Wheel Drive",
         "24.0",
         "Isuzu",
         "Pickup 2WD",
         "Pickup",
         "1984",
         "Automatic",
         "3",
         "424.1666667"
        ],
        [
         "30",
         "18.0",
         "4",
         "2.0",
         "2-Wheel Drive",
         "20.0",
         "Mitsubishi",
         "Truck 2WD",
         "Pickup",
         "1984",
         "Automatic",
         "3",
         "467.7368421"
        ],
        [
         "31",
         "18.0",
         "4",
         "2.6",
         "2-Wheel Drive",
         "19.0",
         "Mitsubishi",
         "Truck 2WD",
         "Pickup",
         "1984",
         "Automatic",
         "3",
         "493.7222222"
        ],
        [
         "32",
         "17.0",
         "4",
         "2.0",
         "2-Wheel Drive",
         "19.0",
         "Mazda",
         "B2000/B2200 Pickup 2WD",
         "Pickup",
         "1984",
         "Automatic",
         "3",
         "493.7222222"
        ],
        [
         "33",
         "18.0",
         "4",
         "2.0",
         "2-Wheel Drive",
         "24.0",
         "Chevrolet",
         "S10 Pickup 2WD",
         "Pickup",
         "1984",
         "Automatic",
         "4",
         "444.35"
        ],
        [
         "34",
         "18.0",
         "4",
         "2.0",
         "2-Wheel Drive",
         "24.0",
         "GMC",
         "S15 Pickup 2WD",
         "Pickup",
         "1984",
         "Automatic",
         "4",
         "444.35"
        ],
        [
         "35",
         "21.0",
         "4",
         "2.0",
         "2-Wheel Drive",
         "29.0",
         "Chevrolet",
         "S10 Pickup 2WD",
         "Pickup",
         "1984",
         "Manual",
         "4",
         "370.2916667"
        ],
        [
         "36",
         "19.0",
         "4",
         "2.0",
         "2-Wheel Drive",
         "25.0",
         "Chevrolet",
         "S10 Pickup 2WD",
         "Pickup",
         "1984",
         "Manual",
         "4",
         "423.1904762"
        ],
        [
         "37",
         "26.0",
         "4",
         "2.2",
         "2-Wheel Drive",
         "31.0",
         "Chevrolet",
         "S10 Pickup 2WD",
         "Pickup",
         "1984",
         "Manual",
         "4",
         "363.5714286"
        ],
        [
         "38",
         "21.0",
         "4",
         "2.2",
         "2-Wheel Drive",
         "28.0",
         "Dodge",
         "Rampage Pickup 2WD",
         "Pickup",
         "1984",
         "Manual",
         "4",
         "386.3913043"
        ],
        [
         "39",
         "21.0",
         "4",
         "2.0",
         "2-Wheel Drive",
         "23.0",
         "Dodge",
         "Ram 50 Pickup 2WD",
         "Pickup",
         "1984",
         "Manual",
         "4",
         "403.9545455"
        ],
        [
         "40",
         "20.0",
         "4",
         "2.0",
         "2-Wheel Drive",
         "22.0",
         "Dodge",
         "Ram 50 Pickup 2WD",
         "Pickup",
         "1984",
         "Manual",
         "4",
         "423.1904762"
        ],
        [
         "41",
         "21.0",
         "4",
         "2.0",
         "2-Wheel Drive",
         "25.0",
         "Ford",
         "Courier Pickup 2WD",
         "Pickup",
         "1984",
         "Manual",
         "4",
         "403.9545455"
        ],
        [
         "42",
         "21.0",
         "4",
         "2.0",
         "2-Wheel Drive",
         "28.0",
         "Ford",
         "Ranger Pickup 2WD",
         "Pickup",
         "1984",
         "Manual",
         "4",
         "370.2916667"
        ],
        [
         "43",
         "25.0",
         "4",
         "2.2",
         "2-Wheel Drive",
         "28.0",
         "Ford",
         "Ranger Pickup 2WD",
         "Pickup",
         "1984",
         "Manual",
         "4",
         "391.5384615"
        ],
        [
         "44",
         "19.0",
         "4",
         "2.3",
         "2-Wheel Drive",
         "24.0",
         "Ford",
         "Ranger Pickup 2WD",
         "Pickup",
         "1984",
         "Manual",
         "4",
         "423.1904762"
        ],
        [
         "45",
         "17.0",
         "4",
         "2.3",
         "2-Wheel Drive",
         "22.0",
         "Ford",
         "Ranger Pickup 2WD",
         "Pickup",
         "1984",
         "Manual",
         "4",
         "467.7368421"
        ],
        [
         "46",
         "21.0",
         "4",
         "2.0",
         "2-Wheel Drive",
         "29.0",
         "GMC",
         "S15 Pickup 2WD",
         "Pickup",
         "1984",
         "Manual",
         "4",
         "370.2916667"
        ],
        [
         "47",
         "19.0",
         "4",
         "2.0",
         "2-Wheel Drive",
         "25.0",
         "GMC",
         "S15 Pickup 2WD",
         "Pickup",
         "1984",
         "Manual",
         "4",
         "423.1904762"
        ],
        [
         "48",
         "26.0",
         "4",
         "2.2",
         "2-Wheel Drive",
         "31.0",
         "GMC",
         "S15 Pickup 2WD",
         "Pickup",
         "1984",
         "Manual",
         "4",
         "363.5714286"
        ],
        [
         "49",
         "22.0",
         "4",
         "2.0",
         "2-Wheel Drive",
         "28.0",
         "Isuzu",
         "Pickup 2WD",
         "Pickup",
         "1984",
         "Manual",
         "4",
         "370.2916667"
        ]
       ],
       "shape": {
        "columns": 12,
        "rows": 36979
       }
      },
      "text/html": [
       "<div>\n",
       "<style scoped>\n",
       "    .dataframe tbody tr th:only-of-type {\n",
       "        vertical-align: middle;\n",
       "    }\n",
       "\n",
       "    .dataframe tbody tr th {\n",
       "        vertical-align: top;\n",
       "    }\n",
       "\n",
       "    .dataframe thead th {\n",
       "        text-align: right;\n",
       "    }\n",
       "</style>\n",
       "<table border=\"1\" class=\"dataframe\">\n",
       "  <thead>\n",
       "    <tr style=\"text-align: right;\">\n",
       "      <th></th>\n",
       "      <th>citympg</th>\n",
       "      <th>cylinders</th>\n",
       "      <th>displacement</th>\n",
       "      <th>drive</th>\n",
       "      <th>highwaympg</th>\n",
       "      <th>make</th>\n",
       "      <th>model</th>\n",
       "      <th>class</th>\n",
       "      <th>year</th>\n",
       "      <th>transmissiontype</th>\n",
       "      <th>transmissionspeeds</th>\n",
       "      <th>co2emissions</th>\n",
       "    </tr>\n",
       "  </thead>\n",
       "  <tbody>\n",
       "    <tr>\n",
       "      <th>0</th>\n",
       "      <td>14.0</td>\n",
       "      <td>6</td>\n",
       "      <td>4.1</td>\n",
       "      <td>2-Wheel Drive</td>\n",
       "      <td>19.0</td>\n",
       "      <td>Buick</td>\n",
       "      <td>Electra/Park Avenue</td>\n",
       "      <td>Large Cars</td>\n",
       "      <td>1984</td>\n",
       "      <td>Automatic</td>\n",
       "      <td>4</td>\n",
       "      <td>555.437500</td>\n",
       "    </tr>\n",
       "    <tr>\n",
       "      <th>1</th>\n",
       "      <td>14.0</td>\n",
       "      <td>8</td>\n",
       "      <td>5.0</td>\n",
       "      <td>2-Wheel Drive</td>\n",
       "      <td>20.0</td>\n",
       "      <td>Buick</td>\n",
       "      <td>Electra/Park Avenue</td>\n",
       "      <td>Large Cars</td>\n",
       "      <td>1984</td>\n",
       "      <td>Automatic</td>\n",
       "      <td>4</td>\n",
       "      <td>555.437500</td>\n",
       "    </tr>\n",
       "    <tr>\n",
       "      <th>2</th>\n",
       "      <td>18.0</td>\n",
       "      <td>8</td>\n",
       "      <td>5.7</td>\n",
       "      <td>2-Wheel Drive</td>\n",
       "      <td>26.0</td>\n",
       "      <td>Buick</td>\n",
       "      <td>Electra/Park Avenue</td>\n",
       "      <td>Large Cars</td>\n",
       "      <td>1984</td>\n",
       "      <td>Automatic</td>\n",
       "      <td>4</td>\n",
       "      <td>484.761905</td>\n",
       "    </tr>\n",
       "    <tr>\n",
       "      <th>3</th>\n",
       "      <td>21.0</td>\n",
       "      <td>6</td>\n",
       "      <td>4.3</td>\n",
       "      <td>Rear-Wheel Drive</td>\n",
       "      <td>31.0</td>\n",
       "      <td>Cadillac</td>\n",
       "      <td>Fleetwood/DeVille (FWD)</td>\n",
       "      <td>Large Cars</td>\n",
       "      <td>1984</td>\n",
       "      <td>Automatic</td>\n",
       "      <td>4</td>\n",
       "      <td>424.166667</td>\n",
       "    </tr>\n",
       "    <tr>\n",
       "      <th>4</th>\n",
       "      <td>14.0</td>\n",
       "      <td>8</td>\n",
       "      <td>4.1</td>\n",
       "      <td>Rear-Wheel Drive</td>\n",
       "      <td>19.0</td>\n",
       "      <td>Cadillac</td>\n",
       "      <td>Brougham/DeVille (RWD)</td>\n",
       "      <td>Large Cars</td>\n",
       "      <td>1984</td>\n",
       "      <td>Automatic</td>\n",
       "      <td>4</td>\n",
       "      <td>555.437500</td>\n",
       "    </tr>\n",
       "    <tr>\n",
       "      <th>...</th>\n",
       "      <td>...</td>\n",
       "      <td>...</td>\n",
       "      <td>...</td>\n",
       "      <td>...</td>\n",
       "      <td>...</td>\n",
       "      <td>...</td>\n",
       "      <td>...</td>\n",
       "      <td>...</td>\n",
       "      <td>...</td>\n",
       "      <td>...</td>\n",
       "      <td>...</td>\n",
       "      <td>...</td>\n",
       "    </tr>\n",
       "    <tr>\n",
       "      <th>36974</th>\n",
       "      <td>17.0</td>\n",
       "      <td>8</td>\n",
       "      <td>4.7</td>\n",
       "      <td>Rear-Wheel Drive</td>\n",
       "      <td>25.0</td>\n",
       "      <td>Mercedes-Benz</td>\n",
       "      <td>SL550</td>\n",
       "      <td>Two Seaters</td>\n",
       "      <td>2018</td>\n",
       "      <td>Automatic</td>\n",
       "      <td>9</td>\n",
       "      <td>442.000000</td>\n",
       "    </tr>\n",
       "    <tr>\n",
       "      <th>36975</th>\n",
       "      <td>16.0</td>\n",
       "      <td>8</td>\n",
       "      <td>6.2</td>\n",
       "      <td>Rear-Wheel Drive</td>\n",
       "      <td>25.0</td>\n",
       "      <td>Chevrolet</td>\n",
       "      <td>Corvette</td>\n",
       "      <td>Two Seaters</td>\n",
       "      <td>2018</td>\n",
       "      <td>Manual</td>\n",
       "      <td>7</td>\n",
       "      <td>466.000000</td>\n",
       "    </tr>\n",
       "    <tr>\n",
       "      <th>36976</th>\n",
       "      <td>15.0</td>\n",
       "      <td>8</td>\n",
       "      <td>6.2</td>\n",
       "      <td>Rear-Wheel Drive</td>\n",
       "      <td>22.0</td>\n",
       "      <td>Chevrolet</td>\n",
       "      <td>Corvette</td>\n",
       "      <td>Two Seaters</td>\n",
       "      <td>2018</td>\n",
       "      <td>Manual</td>\n",
       "      <td>7</td>\n",
       "      <td>503.000000</td>\n",
       "    </tr>\n",
       "    <tr>\n",
       "      <th>36977</th>\n",
       "      <td>12.0</td>\n",
       "      <td>12</td>\n",
       "      <td>6.5</td>\n",
       "      <td>Rear-Wheel Drive</td>\n",
       "      <td>16.0</td>\n",
       "      <td>Ferrari</td>\n",
       "      <td>812 Superfast</td>\n",
       "      <td>Two Seaters</td>\n",
       "      <td>2018</td>\n",
       "      <td>Automatic</td>\n",
       "      <td>7</td>\n",
       "      <td>661.000000</td>\n",
       "    </tr>\n",
       "    <tr>\n",
       "      <th>36978</th>\n",
       "      <td>13.0</td>\n",
       "      <td>12</td>\n",
       "      <td>6.0</td>\n",
       "      <td>Rear-Wheel Drive</td>\n",
       "      <td>22.0</td>\n",
       "      <td>Mercedes-Benz</td>\n",
       "      <td>AMG SL65</td>\n",
       "      <td>Two Seaters</td>\n",
       "      <td>2018</td>\n",
       "      <td>Automatic</td>\n",
       "      <td>7</td>\n",
       "      <td>546.000000</td>\n",
       "    </tr>\n",
       "  </tbody>\n",
       "</table>\n",
       "<p>36979 rows × 12 columns</p>\n",
       "</div>"
      ],
      "text/plain": [
       "       citympg  cylinders  displacement             drive  highwaympg  \\\n",
       "0         14.0          6           4.1     2-Wheel Drive        19.0   \n",
       "1         14.0          8           5.0     2-Wheel Drive        20.0   \n",
       "2         18.0          8           5.7     2-Wheel Drive        26.0   \n",
       "3         21.0          6           4.3  Rear-Wheel Drive        31.0   \n",
       "4         14.0          8           4.1  Rear-Wheel Drive        19.0   \n",
       "...        ...        ...           ...               ...         ...   \n",
       "36974     17.0          8           4.7  Rear-Wheel Drive        25.0   \n",
       "36975     16.0          8           6.2  Rear-Wheel Drive        25.0   \n",
       "36976     15.0          8           6.2  Rear-Wheel Drive        22.0   \n",
       "36977     12.0         12           6.5  Rear-Wheel Drive        16.0   \n",
       "36978     13.0         12           6.0  Rear-Wheel Drive        22.0   \n",
       "\n",
       "                make                    model        class  year  \\\n",
       "0              Buick      Electra/Park Avenue   Large Cars  1984   \n",
       "1              Buick      Electra/Park Avenue   Large Cars  1984   \n",
       "2              Buick      Electra/Park Avenue   Large Cars  1984   \n",
       "3           Cadillac  Fleetwood/DeVille (FWD)   Large Cars  1984   \n",
       "4           Cadillac   Brougham/DeVille (RWD)   Large Cars  1984   \n",
       "...              ...                      ...          ...   ...   \n",
       "36974  Mercedes-Benz                    SL550  Two Seaters  2018   \n",
       "36975      Chevrolet                 Corvette  Two Seaters  2018   \n",
       "36976      Chevrolet                 Corvette  Two Seaters  2018   \n",
       "36977        Ferrari            812 Superfast  Two Seaters  2018   \n",
       "36978  Mercedes-Benz                 AMG SL65  Two Seaters  2018   \n",
       "\n",
       "      transmissiontype  transmissionspeeds  co2emissions  \n",
       "0            Automatic                   4    555.437500  \n",
       "1            Automatic                   4    555.437500  \n",
       "2            Automatic                   4    484.761905  \n",
       "3            Automatic                   4    424.166667  \n",
       "4            Automatic                   4    555.437500  \n",
       "...                ...                 ...           ...  \n",
       "36974        Automatic                   9    442.000000  \n",
       "36975           Manual                   7    466.000000  \n",
       "36976           Manual                   7    503.000000  \n",
       "36977        Automatic                   7    661.000000  \n",
       "36978        Automatic                   7    546.000000  \n",
       "\n",
       "[36979 rows x 12 columns]"
      ]
     },
     "execution_count": 80,
     "metadata": {},
     "output_type": "execute_result"
    }
   ],
   "source": [
    "import pandas as pd\n",
    "vehicles = pd.read_csv(\"Data/vehicles.csv\")\n",
    "vehicles"
   ]
  },
  {
   "cell_type": "code",
   "execution_count": 81,
   "metadata": {},
   "outputs": [
    {
     "data": {
      "application/vnd.microsoft.datawrangler.viewer.v0+json": {
       "columns": [
        {
         "name": "index",
         "rawType": "int64",
         "type": "integer"
        },
        {
         "name": "co2emissions",
         "rawType": "float64",
         "type": "float"
        }
       ],
       "conversionMethod": "pd.DataFrame",
       "ref": "37a92dc8-e255-409f-86b1-56951aa52008",
       "rows": [
        [
         "0",
         "555.4375"
        ],
        [
         "1",
         "555.4375"
        ],
        [
         "2",
         "484.7619048"
        ],
        [
         "3",
         "424.1666667"
        ],
        [
         "4",
         "555.4375"
        ]
       ],
       "shape": {
        "columns": 1,
        "rows": 5
       }
      },
      "text/html": [
       "<div>\n",
       "<style scoped>\n",
       "    .dataframe tbody tr th:only-of-type {\n",
       "        vertical-align: middle;\n",
       "    }\n",
       "\n",
       "    .dataframe tbody tr th {\n",
       "        vertical-align: top;\n",
       "    }\n",
       "\n",
       "    .dataframe thead th {\n",
       "        text-align: right;\n",
       "    }\n",
       "</style>\n",
       "<table border=\"1\" class=\"dataframe\">\n",
       "  <thead>\n",
       "    <tr style=\"text-align: right;\">\n",
       "      <th></th>\n",
       "      <th>co2emissions</th>\n",
       "    </tr>\n",
       "  </thead>\n",
       "  <tbody>\n",
       "    <tr>\n",
       "      <th>0</th>\n",
       "      <td>555.437500</td>\n",
       "    </tr>\n",
       "    <tr>\n",
       "      <th>1</th>\n",
       "      <td>555.437500</td>\n",
       "    </tr>\n",
       "    <tr>\n",
       "      <th>2</th>\n",
       "      <td>484.761905</td>\n",
       "    </tr>\n",
       "    <tr>\n",
       "      <th>3</th>\n",
       "      <td>424.166667</td>\n",
       "    </tr>\n",
       "    <tr>\n",
       "      <th>4</th>\n",
       "      <td>555.437500</td>\n",
       "    </tr>\n",
       "  </tbody>\n",
       "</table>\n",
       "</div>"
      ],
      "text/plain": [
       "   co2emissions\n",
       "0    555.437500\n",
       "1    555.437500\n",
       "2    484.761905\n",
       "3    424.166667\n",
       "4    555.437500"
      ]
     },
     "execution_count": 81,
     "metadata": {},
     "output_type": "execute_result"
    }
   ],
   "source": [
    "response = 'co2emissions'\n",
    "y = vehicles[[response]]\n",
    "y.head()"
   ]
  },
  {
   "cell_type": "code",
   "execution_count": 82,
   "metadata": {},
   "outputs": [
    {
     "data": {
      "text/plain": [
       "['citympg',\n",
       " 'cylinders',\n",
       " 'displacement',\n",
       " 'drive',\n",
       " 'highwaympg',\n",
       " 'make',\n",
       " 'model',\n",
       " 'class',\n",
       " 'year',\n",
       " 'transmissiontype',\n",
       " 'transmissionspeeds',\n",
       " 'co2emissions']"
      ]
     },
     "execution_count": 82,
     "metadata": {},
     "output_type": "execute_result"
    }
   ],
   "source": [
    "predictors = list(vehicles.columns)\n",
    "predictors"
   ]
  },
  {
   "cell_type": "code",
   "execution_count": 83,
   "metadata": {},
   "outputs": [
    {
     "data": {
      "text/plain": [
       "['citympg',\n",
       " 'cylinders',\n",
       " 'displacement',\n",
       " 'drive',\n",
       " 'highwaympg',\n",
       " 'make',\n",
       " 'model',\n",
       " 'class',\n",
       " 'year',\n",
       " 'transmissiontype',\n",
       " 'transmissionspeeds']"
      ]
     },
     "execution_count": 83,
     "metadata": {},
     "output_type": "execute_result"
    }
   ],
   "source": [
    "predictors.remove(response)\n",
    "predictors"
   ]
  },
  {
   "cell_type": "code",
   "execution_count": 84,
   "metadata": {},
   "outputs": [
    {
     "data": {
      "application/vnd.microsoft.datawrangler.viewer.v0+json": {
       "columns": [
        {
         "name": "index",
         "rawType": "int64",
         "type": "integer"
        },
        {
         "name": "citympg",
         "rawType": "float64",
         "type": "float"
        },
        {
         "name": "cylinders",
         "rawType": "int64",
         "type": "integer"
        },
        {
         "name": "displacement",
         "rawType": "float64",
         "type": "float"
        },
        {
         "name": "drive",
         "rawType": "object",
         "type": "string"
        },
        {
         "name": "highwaympg",
         "rawType": "float64",
         "type": "float"
        },
        {
         "name": "make",
         "rawType": "object",
         "type": "string"
        },
        {
         "name": "model",
         "rawType": "object",
         "type": "string"
        },
        {
         "name": "class",
         "rawType": "object",
         "type": "string"
        },
        {
         "name": "year",
         "rawType": "int64",
         "type": "integer"
        },
        {
         "name": "transmissiontype",
         "rawType": "object",
         "type": "string"
        },
        {
         "name": "transmissionspeeds",
         "rawType": "int64",
         "type": "integer"
        }
       ],
       "conversionMethod": "pd.DataFrame",
       "ref": "decc2e3a-e3b5-42bf-a4aa-32f59640a6ca",
       "rows": [
        [
         "0",
         "14.0",
         "6",
         "4.1",
         "2-Wheel Drive",
         "19.0",
         "Buick",
         "Electra/Park Avenue",
         "Large Cars",
         "1984",
         "Automatic",
         "4"
        ],
        [
         "1",
         "14.0",
         "8",
         "5.0",
         "2-Wheel Drive",
         "20.0",
         "Buick",
         "Electra/Park Avenue",
         "Large Cars",
         "1984",
         "Automatic",
         "4"
        ],
        [
         "2",
         "18.0",
         "8",
         "5.7",
         "2-Wheel Drive",
         "26.0",
         "Buick",
         "Electra/Park Avenue",
         "Large Cars",
         "1984",
         "Automatic",
         "4"
        ],
        [
         "3",
         "21.0",
         "6",
         "4.3",
         "Rear-Wheel Drive",
         "31.0",
         "Cadillac",
         "Fleetwood/DeVille (FWD)",
         "Large Cars",
         "1984",
         "Automatic",
         "4"
        ],
        [
         "4",
         "14.0",
         "8",
         "4.1",
         "Rear-Wheel Drive",
         "19.0",
         "Cadillac",
         "Brougham/DeVille (RWD)",
         "Large Cars",
         "1984",
         "Automatic",
         "4"
        ]
       ],
       "shape": {
        "columns": 11,
        "rows": 5
       }
      },
      "text/html": [
       "<div>\n",
       "<style scoped>\n",
       "    .dataframe tbody tr th:only-of-type {\n",
       "        vertical-align: middle;\n",
       "    }\n",
       "\n",
       "    .dataframe tbody tr th {\n",
       "        vertical-align: top;\n",
       "    }\n",
       "\n",
       "    .dataframe thead th {\n",
       "        text-align: right;\n",
       "    }\n",
       "</style>\n",
       "<table border=\"1\" class=\"dataframe\">\n",
       "  <thead>\n",
       "    <tr style=\"text-align: right;\">\n",
       "      <th></th>\n",
       "      <th>citympg</th>\n",
       "      <th>cylinders</th>\n",
       "      <th>displacement</th>\n",
       "      <th>drive</th>\n",
       "      <th>highwaympg</th>\n",
       "      <th>make</th>\n",
       "      <th>model</th>\n",
       "      <th>class</th>\n",
       "      <th>year</th>\n",
       "      <th>transmissiontype</th>\n",
       "      <th>transmissionspeeds</th>\n",
       "    </tr>\n",
       "  </thead>\n",
       "  <tbody>\n",
       "    <tr>\n",
       "      <th>0</th>\n",
       "      <td>14.0</td>\n",
       "      <td>6</td>\n",
       "      <td>4.1</td>\n",
       "      <td>2-Wheel Drive</td>\n",
       "      <td>19.0</td>\n",
       "      <td>Buick</td>\n",
       "      <td>Electra/Park Avenue</td>\n",
       "      <td>Large Cars</td>\n",
       "      <td>1984</td>\n",
       "      <td>Automatic</td>\n",
       "      <td>4</td>\n",
       "    </tr>\n",
       "    <tr>\n",
       "      <th>1</th>\n",
       "      <td>14.0</td>\n",
       "      <td>8</td>\n",
       "      <td>5.0</td>\n",
       "      <td>2-Wheel Drive</td>\n",
       "      <td>20.0</td>\n",
       "      <td>Buick</td>\n",
       "      <td>Electra/Park Avenue</td>\n",
       "      <td>Large Cars</td>\n",
       "      <td>1984</td>\n",
       "      <td>Automatic</td>\n",
       "      <td>4</td>\n",
       "    </tr>\n",
       "    <tr>\n",
       "      <th>2</th>\n",
       "      <td>18.0</td>\n",
       "      <td>8</td>\n",
       "      <td>5.7</td>\n",
       "      <td>2-Wheel Drive</td>\n",
       "      <td>26.0</td>\n",
       "      <td>Buick</td>\n",
       "      <td>Electra/Park Avenue</td>\n",
       "      <td>Large Cars</td>\n",
       "      <td>1984</td>\n",
       "      <td>Automatic</td>\n",
       "      <td>4</td>\n",
       "    </tr>\n",
       "    <tr>\n",
       "      <th>3</th>\n",
       "      <td>21.0</td>\n",
       "      <td>6</td>\n",
       "      <td>4.3</td>\n",
       "      <td>Rear-Wheel Drive</td>\n",
       "      <td>31.0</td>\n",
       "      <td>Cadillac</td>\n",
       "      <td>Fleetwood/DeVille (FWD)</td>\n",
       "      <td>Large Cars</td>\n",
       "      <td>1984</td>\n",
       "      <td>Automatic</td>\n",
       "      <td>4</td>\n",
       "    </tr>\n",
       "    <tr>\n",
       "      <th>4</th>\n",
       "      <td>14.0</td>\n",
       "      <td>8</td>\n",
       "      <td>4.1</td>\n",
       "      <td>Rear-Wheel Drive</td>\n",
       "      <td>19.0</td>\n",
       "      <td>Cadillac</td>\n",
       "      <td>Brougham/DeVille (RWD)</td>\n",
       "      <td>Large Cars</td>\n",
       "      <td>1984</td>\n",
       "      <td>Automatic</td>\n",
       "      <td>4</td>\n",
       "    </tr>\n",
       "  </tbody>\n",
       "</table>\n",
       "</div>"
      ],
      "text/plain": [
       "   citympg  cylinders  displacement             drive  highwaympg      make  \\\n",
       "0     14.0          6           4.1     2-Wheel Drive        19.0     Buick   \n",
       "1     14.0          8           5.0     2-Wheel Drive        20.0     Buick   \n",
       "2     18.0          8           5.7     2-Wheel Drive        26.0     Buick   \n",
       "3     21.0          6           4.3  Rear-Wheel Drive        31.0  Cadillac   \n",
       "4     14.0          8           4.1  Rear-Wheel Drive        19.0  Cadillac   \n",
       "\n",
       "                     model       class  year transmissiontype  \\\n",
       "0      Electra/Park Avenue  Large Cars  1984        Automatic   \n",
       "1      Electra/Park Avenue  Large Cars  1984        Automatic   \n",
       "2      Electra/Park Avenue  Large Cars  1984        Automatic   \n",
       "3  Fleetwood/DeVille (FWD)  Large Cars  1984        Automatic   \n",
       "4   Brougham/DeVille (RWD)  Large Cars  1984        Automatic   \n",
       "\n",
       "   transmissionspeeds  \n",
       "0                   4  \n",
       "1                   4  \n",
       "2                   4  \n",
       "3                   4  \n",
       "4                   4  "
      ]
     },
     "execution_count": 84,
     "metadata": {},
     "output_type": "execute_result"
    }
   ],
   "source": [
    "x = vehicles[predictors]\n",
    "x.head()"
   ]
  },
  {
   "cell_type": "markdown",
   "metadata": {},
   "source": [
    "## **Làm sao để có thể lựa chọn dữ liệu mẫu một cách ngẫu nhiên** <a id = \"05a\">"
   ]
  },
  {
   "cell_type": "code",
   "execution_count": 85,
   "metadata": {},
   "outputs": [],
   "source": [
    "from sklearn.model_selection import train_test_split"
   ]
  },
  {
   "cell_type": "code",
   "execution_count": 86,
   "metadata": {},
   "outputs": [],
   "source": [
    "x_train, x_test, y_train, y_test = train_test_split(x, y) "
   ]
  },
  {
   "cell_type": "code",
   "execution_count": 88,
   "metadata": {},
   "outputs": [
    {
     "data": {
      "text/plain": [
       "(27734, 11)"
      ]
     },
     "execution_count": 88,
     "metadata": {},
     "output_type": "execute_result"
    }
   ],
   "source": [
    "x_train.shape"
   ]
  },
  {
   "cell_type": "code",
   "execution_count": 87,
   "metadata": {},
   "outputs": [
    {
     "data": {
      "text/plain": [
       "(27734, 1)"
      ]
     },
     "execution_count": 87,
     "metadata": {},
     "output_type": "execute_result"
    }
   ],
   "source": [
    "y_train.shape"
   ]
  },
  {
   "cell_type": "code",
   "execution_count": 89,
   "metadata": {},
   "outputs": [
    {
     "data": {
      "text/plain": [
       "(9245, 11)"
      ]
     },
     "execution_count": 89,
     "metadata": {},
     "output_type": "execute_result"
    }
   ],
   "source": [
    "x_test.shape"
   ]
  },
  {
   "cell_type": "code",
   "execution_count": 90,
   "metadata": {},
   "outputs": [
    {
     "data": {
      "text/plain": [
       "(9245, 1)"
      ]
     },
     "execution_count": 90,
     "metadata": {},
     "output_type": "execute_result"
    }
   ],
   "source": [
    "y_test.shape"
   ]
  },
  {
   "cell_type": "code",
   "execution_count": 91,
   "metadata": {},
   "outputs": [
    {
     "data": {
      "text/plain": [
       "(14792, 11)"
      ]
     },
     "execution_count": 91,
     "metadata": {},
     "output_type": "execute_result"
    }
   ],
   "source": [
    "x_train, x_test, y_train, y_test = train_test_split(x, y, \n",
    "                                                    test_size = 0.4) \n",
    "x_test.shape"
   ]
  },
  {
   "cell_type": "markdown",
   "metadata": {},
   "source": [
    "## **Làm sao để có thể lựa chọn dữ liệu mẫu phân tầng ngẫu nhiên** <a id=\"05b\">"
   ]
  },
  {
   "cell_type": "code",
   "execution_count": 92,
   "metadata": {},
   "outputs": [],
   "source": [
    "x_train, x_test, y_train, y_test = train_test_split(x, y, \n",
    "                                                    test_size = 0.01, \n",
    "                                                    random_state = 1234) "
   ]
  },
  {
   "cell_type": "code",
   "execution_count": 93,
   "metadata": {},
   "outputs": [
    {
     "data": {
      "text/plain": [
       "drive\n",
       "Rear-Wheel Drive     0.356797\n",
       "Front-Wheel Drive    0.353552\n",
       "All-Wheel Drive      0.239893\n",
       "4-Wheel Drive        0.036480\n",
       "2-Wheel Drive        0.013278\n",
       "Name: proportion, dtype: float64"
      ]
     },
     "execution_count": 93,
     "metadata": {},
     "output_type": "execute_result"
    }
   ],
   "source": [
    "x['drive'].value_counts(normalize = True)"
   ]
  },
  {
   "cell_type": "code",
   "execution_count": 94,
   "metadata": {},
   "outputs": [
    {
     "data": {
      "text/plain": [
       "drive\n",
       "Front-Wheel Drive    0.364865\n",
       "Rear-Wheel Drive     0.332432\n",
       "All-Wheel Drive      0.248649\n",
       "4-Wheel Drive        0.035135\n",
       "2-Wheel Drive        0.018919\n",
       "Name: proportion, dtype: float64"
      ]
     },
     "execution_count": 94,
     "metadata": {},
     "output_type": "execute_result"
    }
   ],
   "source": [
    "x_test['drive'].value_counts(normalize = True)"
   ]
  },
  {
   "cell_type": "code",
   "execution_count": 95,
   "metadata": {},
   "outputs": [],
   "source": [
    "x_train, x_test, y_train, y_test = train_test_split(x, y, \n",
    "                                                    test_size = 0.01, \n",
    "                                                    random_state = 1234, \n",
    "                                                    stratify = x['drive']) "
   ]
  },
  {
   "cell_type": "code",
   "execution_count": 96,
   "metadata": {},
   "outputs": [
    {
     "data": {
      "text/plain": [
       "drive\n",
       "Rear-Wheel Drive     0.356757\n",
       "Front-Wheel Drive    0.354054\n",
       "All-Wheel Drive      0.240541\n",
       "4-Wheel Drive        0.035135\n",
       "2-Wheel Drive        0.013514\n",
       "Name: proportion, dtype: float64"
      ]
     },
     "execution_count": 96,
     "metadata": {},
     "output_type": "execute_result"
    }
   ],
   "source": [
    "x_test['drive'].value_counts(normalize = True)"
   ]
  }
 ],
 "metadata": {
  "kernelspec": {
   "display_name": "base",
   "language": "python",
   "name": "python3"
  },
  "language_info": {
   "codemirror_mode": {
    "name": "ipython",
    "version": 3
   },
   "file_extension": ".py",
   "mimetype": "text/x-python",
   "name": "python",
   "nbconvert_exporter": "python",
   "pygments_lexer": "ipython3",
   "version": "3.12.7"
  }
 },
 "nbformat": 4,
 "nbformat_minor": 2
}
