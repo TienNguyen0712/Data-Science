{
  "nbformat": 4,
  "nbformat_minor": 0,
  "metadata": {
    "colab": {
      "provenance": [],
      "include_colab_link": true
    },
    "kernelspec": {
      "name": "python3",
      "display_name": "Python 3"
    },
    "language_info": {
      "name": "python"
    }
  },
  "cells": [
    {
      "cell_type": "markdown",
      "metadata": {
        "id": "view-in-github",
        "colab_type": "text"
      },
      "source": [
        "<a href=\"https://colab.research.google.com/github/TienNguyen0712/Data-Science/blob/main/Book/Master_Machine_Learning_Algorthms/Part03_Linear_Algorithms.ipynb\" target=\"_parent\"><img src=\"https://colab.research.google.com/assets/colab-badge.svg\" alt=\"Open In Colab\"/></a>"
      ]
    },
    {
      "cell_type": "markdown",
      "source": [
        "## **Chương 8: Cấp tốc về bảng Tính toán**"
      ],
      "metadata": {
        "id": "NRuzqqMI6Rg4"
      }
    },
    {
      "cell_type": "markdown",
      "source": [
        "Chương này ta sẽ đi qua nhanh về các khái niệm, hàm chức năng trong Toán học. Cụ thể như:\n",
        "* Làm sao để thực hiện các phép tính toán học trong *spreadsheet*\n",
        "* Làm sao để sử dụng các hàm trong thống kê để mô tả dữ liệu\n",
        "* Làm sao để tạo các số ngẫu nhiên để sử dụng trong tập *test* kiểm thử\n",
        "\n",
        "Ta đã không quá xa lạ đối với đối tượng *spreadsheet* hay là bảng tính. Tất cả những hàm cơ bản được xử dụng trong bảng tính đều tương tự khi ta áp dụng trong nhiều chương trình khác như:\n",
        "* Excel\n",
        "* Libre\n",
        "* Google Sheets\n"
      ],
      "metadata": {
        "id": "YnLjq5uU6Rku"
      }
    },
    {
      "cell_type": "markdown",
      "source": [
        "## **8.1. Số học (Arithmetic)**"
      ],
      "metadata": {
        "id": "X7J1aT2m6RoW"
      }
    },
    {
      "cell_type": "markdown",
      "source": [
        "Bắt đầu với thành phàn cơ bản nhất như việc điều hướng *bảng tính* và số học\n",
        "* Một *cell* có thể đánh giá một *phép tính hay công thức* thông qua dấu **(=)** và sau đó là các phép tính Ví dụ như **= 1 + 1** thì kết quả sẽ là **2**\n",
        "* Ta có thể sử dụng các hàm trên một *cell* như hàm **=SUM()** tính tống các phần tử số. Ví dụ như **=SUM(A1:F1)** cộng tất cả các phần tử số từ dòng A1 đến F1\n",
        "* Cũng có thể sử dụng hàm **=COUNT()** để có thể đếm các *cell* có dữ liệu (không null)\n",
        "* Có thể biểu diễn số mũ qua toán từ **^**. Ví dụ muốn biểu diễu **2 bình phương** thì ta có thể **=2^2**\n",
        "* Sử dụng hàm **=LOG()** để biểu diễn logarit và dùng **=SQRT()** để biểu diễn căn bậc\n",
        "* Ta có thể sử dụng hàm **EXP()** để tính hệ số *Ơ-clit* lấy ví dụ như **EXP(2)** sẽ biểu diễn cho *e^2*\n",
        "* Hay ta có thể suy ngược lại từ hệ số Ơ clit để suy ra số mũ dựa theo hàm **LN()**\n",
        "* Biểu diễn PI trong toán học sử dụng hàm **=PI()**"
      ],
      "metadata": {
        "id": "7goTmUP56RrE"
      }
    },
    {
      "cell_type": "markdown",
      "source": [
        "## **8.2. Tóm tắt thống kê (Statistical Summaries)**"
      ],
      "metadata": {
        "id": "ubdc9Wyi6RuD"
      }
    },
    {
      "cell_type": "markdown",
      "source": [
        "Trong nhiều thuật toán học máy việc biết tóm tắt thống kê là cực kì quan trọng. Hãy đến với các hàm được sử dụng để tóm tắt thống kê dữ liệu *input* đầu vào:\n",
        "* Hàm **=AVERAGE()** để tính giá trị *mean (giá trị trung bình)* của dữ liệu\n",
        "* Sử dùng hàm **=MODE()** để tìm giá trị *mode (giá trị xuất hiện nhiều nhất)* của dữ liệu\n",
        "* Dùng hàm **=STDEV()** để tính toán *Statistical Summaries (độ lệch chuẩn)* thường tham chiếu qua kí hiệu *sigma*\n",
        "* Ta cũng có thể tính toán hệ số quan hệ **correlation (chính là điểm cân bằng giữa hai danh sách dữ liệu)** giữa hai danh sách dữ liệu số sử dụng **=PEARSON**"
      ],
      "metadata": {
        "id": "1ZCbcb4m6RxU"
      }
    },
    {
      "cell_type": "markdown",
      "source": [
        "## **8.3. Số ngẫu nhiên**"
      ],
      "metadata": {
        "id": "Za2xQ5PS6R0l"
      }
    },
    {
      "cell_type": "markdown",
      "source": [
        "Trong quá trình đào tạo mô hình học máy ta cần sử dụng dữ liệu mẫu *sampling* và không bị trùng nhau. Điều đó khiến ta phải dự dụng số ngẫu nhiên\n",
        "\n",
        "* Sử dụng hàm **=RAND** để sinh số ngẫu nhiên từ 0 đến 1\n",
        "* Ta có thể tính các số ngẫu nhiên Gauss bằng hàm **NORMINV()** Nhiều thuật toán tuyến tính đều sử dụng phân phối *Gauss*. Ví dụ như **=NORMINV(RAND(), 10, 1)** sẽ tạo ra một dãy số ngẫu nhiên theo phân phối *Gauss* với *mean* của chúng là 10 và *a standard deviation* là 1"
      ],
      "metadata": {
        "id": "yY81g6Ej6R32"
      }
    },
    {
      "cell_type": "markdown",
      "source": [
        "## **8.4. Flow Control (Điều kiện)**"
      ],
      "metadata": {
        "id": "_72uHamc6R7v"
      }
    },
    {
      "cell_type": "markdown",
      "source": [
        "Ta có thể sử dụng hàm **=IF(điều kiện, mệnh đề 1, mệnh đề 2)** để thực hiện đặt điều kiện cho một hàng nếu \"điều kiện\" đúng thì mệnh đề 1 sẽ thực hiện và nếu sai thì mệnh đề 2 sẽ thực hiện"
      ],
      "metadata": {
        "id": "BNrv-VsZ6R-d"
      }
    },
    {
      "cell_type": "markdown",
      "source": [
        "## **8.5. Tóm tắt**"
      ],
      "metadata": {
        "id": "wdRKr3ZA6SB8"
      }
    },
    {
      "cell_type": "markdown",
      "source": [
        "Ta đã biết được một số các hàm toán học đại số để thực hiện thap tác trên *bảng tính*\n",
        "* Làm sao để có thể diễn tả các hàm toán học với dữ liệu số trong bảng tính như hàm đếm, cộng, logarit và hệ số e\n",
        "* Làm sao để sử dụng các hàm thống kê để tính toán nhằm tóm tắt dữ liệu như mean, mode hay std\n",
        "* Làm sao để có thể tạo ra sự đồng nhất và số ngẫu nhiên Gauss để sử dụng trong *test data*"
      ],
      "metadata": {
        "id": "9YV-yE-v6SFJ"
      }
    },
    {
      "cell_type": "markdown",
      "source": [
        "## **Chương 9: Gradient Descent Trong Học Máy**"
      ],
      "metadata": {
        "id": "DFg25x5E6SIU"
      }
    },
    {
      "cell_type": "markdown",
      "source": [
        "Tối ưu hoá là phần lớn nhất trong học máy. Nhiều thuật toán máy học lấy việc tối ưu hoá làm phần cốt lõi. Trong chương này chúng ta sẽ tìm hiểu thuật toán tối ưu đơn giản nhất để áp dụng với tất cả các thuật toán máy học:\n",
        "* Chúng ta sẽ học về thuật toán gradient descent thuật toán tối ưu\n",
        "* Làm sao để có thể sử dụng thuật toán gradient descent vào mô hình máy học\n",
        "* Làm sao để thuật toán gradient descent tính toán với một dữ liệu lớn\n",
        "* Mẹo để có thể luyện tập xây dựng thuật toán gradient descent"
      ],
      "metadata": {
        "id": "K-l7PYQJ6SLk"
      }
    },
    {
      "cell_type": "markdown",
      "source": [
        "## **9.1. Gradient Descent**"
      ],
      "metadata": {
        "id": "aqW9ODGN6SOv"
      }
    },
    {
      "cell_type": "markdown",
      "source": [
        "Là một thuật toán tối ưu được sử dụng để tìm các giá trị tham số của hàm *(f)* có thể giới hạn khoảng giá trị của hàm chi phí *(cost)*. Thuật toán này được sử dụng nhiều nhất khi mà các tham số không thể dược tính toán theo phương pháp phân tích và phải được tìm kiếm bằng huật toán tối ưu"
      ],
      "metadata": {
        "id": "7yMkjIn96SSH"
      }
    },
    {
      "cell_type": "markdown",
      "source": [
        "### **9.1.1. Intuition for Gradient Descent**"
      ],
      "metadata": {
        "id": "XYTt5qTS6SWJ"
      }
    },
    {
      "cell_type": "markdown",
      "source": [
        "Mục đích của *Gradient Descent* là thử nghiệm nhiều giá trị tham số khác nhau nhằm đánh giá các hàm chi phí và lựa chọn một tham số mới có thể làm giảm giá trị của hàm chi phí. Lặp lại quá trình này cho đến khi kết quả của hàm chi phí đạt mức gần nhỏ nhất"
      ],
      "metadata": {
        "id": "E_0aB2I-6SbP"
      }
    },
    {
      "cell_type": "markdown",
      "source": [
        "### **9.1.2. Gradient Descent Procedure**"
      ],
      "metadata": {
        "id": "j3UvXiGG6Sdk"
      }
    },
    {
      "cell_type": "markdown",
      "source": [
        "Thuật toán bắt đầu bằng một giá trị tham số giả định có thể là 0.0 hay một giá trị ngẫu nhiên rất nhỏ\n",
        "\n",
        "Các tham số được đư vào các hàm *f* nhằm dự đoán cũng như tính toán chi phí\n",
        "\n",
        "> *cost = f(hệ số)*    \n",
        "   *cost = evaluate(f(hệ số))*\n",
        "\n",
        "Tính toán đạo hàm của hàm chi phí. Ta cần biết được độ dốc vì thế mà chúng ta cũng cần được biét đạo hàm để có thể điều chỉnh tham số sao cho hàm chi phí đạt giá trị nhỏ nhất\n",
        "\n",
        "> *delta = đạo hàm (cost)*\n",
        "\n",
        "Trong quá trình nâng cáp giá trị tham số. Tham số tỉ lệ quá trình học *(alpha)* phải được chỉ định nhằm chỉ định số lượng thay đổi của tham số sau mỗi lần update\n",
        "\n",
        "> *Tham số = Tham số - (delta x alpha)*\n",
        "\n",
        "Quá trình này lặp đi lặp lại cho đến khi hệ số của hàm chi phí bằng 0 hoặc không thể cải thiện thêm về hàm chi phí. Đối với thuật toán đơn giản nhất chúng yêu cầu ta biết về gradient của hàm chi phí của ta hoặc một hàm mà ta có thể tối ưu."
      ],
      "metadata": {
        "id": "P2Ivh60B6SgX"
      }
    },
    {
      "cell_type": "markdown",
      "source": [
        "## **9.2. Batch Gradient Descent**"
      ],
      "metadata": {
        "id": "iptxAYEt6Si_"
      }
    },
    {
      "cell_type": "markdown",
      "source": [
        "Mục đích của tát cả các thuật toán học máy là có thể ước lượng một hàm mục tiêu tốt nhất *(f)* mà có thể map với dữ liệu đàu vào *(X)* để tạo thành một hàm output *(Y)*. Điều này cũng giống với cả tuyến tính hay phân loại. Nhiều thuật toán học máy có những tham số đặc trưng cho thuật toán nhằm ước lượng một hàm mục tiêu *(f)*. Khác với thuật toán có cách diễn dãi và các tham số khác nhau, nhưng phần lớn chúng yêu cầu việc tối ưu để tìm một tham số sao cho két quả tối ưu nhất về hàm mục tiêu. Các ví dụ thường thấy là thuật toán Gradient Descent được sử dụng cho thuật toán Hồi quy và Logistic\n",
        "\n",
        "Những đánh giá theo những con số khác nhau đồng nghĩa với việc là các thuật toán fit với dữ liệu như thế nào. Một hàm mất mất bao gồm đánh giá các tham số của mô hình bằng cách tính toán các dự đoán cho một kết quả của tập huấn luyện và so sánh các dự đoán để đạt đến một output chính xác sau đó tính toán tổng hoặc trung bình sai sô (như Sum Squared Residuals hay SSR trong thuật toán hồi quy tuyến tính)\n",
        "\n",
        "Từ hàm chi phí ta có thể tính toán mỗi hệ số vì thế mà có thể nâng cấp xử dụng chính xác lại cái hệ số đã sử dụng trước đó. Chi phí được tính toán chojn một thuật toán trong suốt quá trình huấn luyện với mỗi đạo hàm của gradient. một sự lặp lại được gọi là 1 batch. Batch Gradient Descent là form thường thấy của thuật toán gradient\n",
        "\n",
        "Đây chinh là thuật toán Gradient Descent thuật toán của nó thực hiện sử dụng tất cả cảc dữ liệu huấn luyện x và lặp lại việc đạo hàm tất cả dữ liệu này khi có một dữ liệu mới"
      ],
      "metadata": {
        "id": "bscci1Pl6Sl-"
      }
    },
    {
      "cell_type": "markdown",
      "source": [
        "## **9.3 Stochastic Gradient Descent**"
      ],
      "metadata": {
        "id": "BYcn4T-L6SpO"
      }
    },
    {
      "cell_type": "markdown",
      "source": [
        "Gradient Descent có thể hoạt động chậm đối với tệp dữ liệu lớn. Bời vì sau mỗi lần lặp của thuật toán *gradient descent* yêu cầu dự đoán cho mỗi *instance* trong một tệp dữ liệu huấn luyện, ta sẽ phải chơ một thời gian dài khi ta có một 100 ngìn *instance*. Điều này sinh ra một thuật toán *Stochastic Gradient Descent* được xem là tối ưu và hiệu quả hơn *Batch Gradient Descent*\n",
        "\n",
        "Bước đầu tiên của thuật toán đối với tập dữ liệu huán luyện là ngẫu nhiên. Điều này kết hợp giữa việc tính toán tham số vừa phải cập nhật. Bởi vì khi cập nhật tham số nhiều lần ta phải tính toán chúng qua tập huấn luyện nhiều lần, việc cập nhạt sẽ bị nhiễu, và lưu trữ ở nhièu nơi, nếu cập nhiều tham số nhiều lần qua các bước nhảy ngẫu nhiên ta có thể gặp lỗi\n",
        "\n",
        "Sự cập nhật các tham số giống với cách thức ở trên, nhưng hàm mất mát không phải cộng hay tính trung bình trên tập huấn luyện, thay vầo đó la tính toán chỉ trên một tập dữ liệu nhỏ. Việc học có thể sẽ nhanh hơn với *stochastic gradient descent* với dữ liệu huấn luyện và thưởng chỉ cần một con số nhỏ để có thể đủ tốt hay đạt một tham số nhât định\n",
        "\n",
        "Thực hiện việc đạo hàm mất mát dựa trên chỉ một điểm dữ liệu rồi cập nhật vào hàm tổng dưa trên đạo hàm này. Việc này được thực hiện nhiều lần với những điểm trên toàn bộ dữ liệu, sau đó lặp lại quá trình trên, thay vì duyệt toàn bộ dữ liệu thì ta chỉ duyệt 1 dữ liệu duy nhất thường là 10 epoch đầu tiên rồi cập nhật vào tập dữ liệu chính"
      ],
      "metadata": {
        "id": "GxOrRwI96Stg"
      }
    },
    {
      "cell_type": "markdown",
      "source": [
        "## **9.4. Mẹo khi sử dụng thuật toán Gradient Descent**"
      ],
      "metadata": {
        "id": "z71UTN3r__ag"
      }
    },
    {
      "cell_type": "markdown",
      "source": [
        "Mục này nhằm miêu tả các kĩ thuyoocj và mẹo để có thể thuần thục các thuật toán Gradient Descent\n",
        "\n",
        "- **Biểu đồ hoá quá trình cập nhật của hàm chi phi qua thời gian**: Thu thập và plot các giá trị mất mát đã được tính qua mỗi lần lặp.Kỳ vọng cải thiện khả hiệu năng của thuật toán\n",
        "- **Tỷ lệ học**: Tỷ lệ học là một giá trị số thực nhỏ như là 0.001 hay 0.01. Thử nhiều tỷ lệ khác nhau để có thể thây được thuật toán hoạt động tốt nhất đối với con số nào\n",
        "- **Rescale Input**: Thuật toán sẽ đạt tới giá trị mất mát nhỏ nhất nhanh hơn khi hình dáng của hàm mất mát không quá lệch hay méo mó. Ta có thể thay đổi hình dạng bằng cách rescale tất cả những biến *input (x)* về cùn một khoảng như khoảng giữa 0 đến 1\n",
        "- **Ít lớp**: Thuật toán Stochastic gradient descent thường không cần quá nhiều 1 đến 10 lóp trong suốt quá trình huấn luyện để có thể đạt được một tham số tốt nhất\n",
        "- **Plot Mean Cost**: Cập nhật sau mỗi lần huấn luyện một *instance* trong bảng dữ liệu có thể xảy ra các kết quả bị nhiễu *plot giá trị trung bình của hàm mất mát* trong suốt cảc quá trinh khi sử dụng thuật toán stochastic gradient descent. Lấy giấ trị trung bình khoảng 10, 100, 1000 làn cập nhật có thể giúp ta biét hơn về quá trình xu hướng học của mô hình thuật toán"
      ],
      "metadata": {
        "id": "_gCsk97V6SwT"
      }
    },
    {
      "cell_type": "markdown",
      "source": [
        "## **9.5. Tóm tắt**"
      ],
      "metadata": {
        "id": "AVCnb7UF6Szm"
      }
    },
    {
      "cell_type": "markdown",
      "source": [
        "Chương này nhằm giúp ta khám phá về thuật toán tối ưu Gradient Descent trong học máy:\n",
        "* Tối ưu hoá là một phần lớn trong học máy\n",
        "* Thuật toán Gradient descent là thuật toán đơn giản nhất trong việc tối ưu hoá và có thể sử dụng với nhiều thuật toán học máy\n",
        "* Batch gradient descent thực hiện tính toán đạo hàm của toàn bộ tập dữ liệu rồi sau đó cập nhật\n",
        "* Stochastic gradient descent thực hiện đạo hàm cho mỗi tập dữ liệu instance và cập nhập ngay lập tức\n"
      ],
      "metadata": {
        "id": "V_yC7p2V6S22"
      }
    },
    {
      "cell_type": "markdown",
      "source": [
        "## **Chương 10: Hồi quy tuyến tính (Linear Regression)**"
      ],
      "metadata": {
        "id": "2T_vtvZI6S6I"
      }
    },
    {
      "cell_type": "markdown",
      "source": [
        "Linear Regression là một trong những thuật toán dễ hiểu và dễ tiếp cận nhất trong thống kê và học máy. Chương này ta sẽ khám phá:\n",
        "- Tại sao thuật toán Linear Regression lại xuất hiện trong cả thống kê và học máy\n",
        "- Những tên gọi trong Linear Regression cần biết\n",
        "- Biểu diễn và học các thuật toán để tạo mô hình Linear Regression\n",
        "- Làm sao để có thể fit dữ liệu của ta khi tạo mô hình sử dụng thuật toán Linear Regression"
      ],
      "metadata": {
        "id": "sh3GyDPn6S9W"
      }
    },
    {
      "cell_type": "markdown",
      "source": [
        "## **10.1. Có phải Linear Regression đến từ thống kê?**"
      ],
      "metadata": {
        "id": "juEbbpWF6TAs"
      }
    },
    {
      "cell_type": "markdown",
      "source": [
        "Trước khi đi sâu vào thuật toán, thì ta cần hỏi bản thân rằng. Tại sao ta phải tìm hiểu thuật toán. Nó có phải là công cụ đến từ thống kê?  \n",
        "Máy học, miêu tả là một *field* sinh ra bằng mô hình dự đoán với sai số nhỏ nhất hay đạt nhiều giá trị chính xác nhất có thể qua các hàm chi phí. Áp dụng thuật toán học máy ta sẽ mượn, tái sử dụng, dáp dụng thuật toán từ nhiểu *field* khác nhau bao gồm cả thống kê sử dụng từ đầu đến cuối của dự án  \n",
        "Như vậy dựa trên những giả thích trên ta có thể hiểu hồi quy tuyến tính được tạo ra dứa trên *field* thống kê, các mô hình học và hiểu dựa trên mối quan hệ giữa biến số đầu vào và đầu ra. Cả hai thuật toán trong thống kê và học máy.  "
      ],
      "metadata": {
        "id": "hQ-hJSMn6TEM"
      }
    },
    {
      "cell_type": "markdown",
      "source": [
        "## **10.2. Nhiều tên gọi trong Linear Regression**\n",
        "Khi ta bắt đầu tìm hiểu thuật toán Linear Regression rằng thuật toán này đã xuất hiện từ rất lâu. Chúng được học tập theo nhiều tên gọi khác nhau mỗi tên gọi có sự mới\n",
        "Thuật toán Linear Regression là một mô hình tuyến tính thực hiện việc ước lượng mối quan hệ giưuax biên input với mối biến output. Tức biến output có thể được tính toán từ các kết hợp của các biến input. Khi chỉ có một biến input ta sẽ có một hàm hồi quy tuyến tính đơn giản, khi ta có nhiều biên input thì ta sẽ có hàm tuyến tính mang nhièu biến ứng với các biến đầu vào\n",
        "\n",
        "Các *techniques* có thể được sử dụng trong việc chuẩn bị hay huấn luyện mô hình tuyến tính từ dữ liệu. Phổ biến nhất thường được gọi là Ordinary Least Squares. Nó phổ biến với việc thưởng sử dụng mô hình chuẩn bị Ordinary Least Squares Linear Regression hay chỉ Least Squares\n",
        "Regression."
      ],
      "metadata": {
        "id": "NNedxRF36THR"
      }
    },
    {
      "cell_type": "markdown",
      "source": [
        "## **10.3. Biểu diễn mô hình Linear Regression**"
      ],
      "metadata": {
        "id": "7dUxIx8D6TKe"
      }
    },
    {
      "cell_type": "markdown",
      "source": [
        "Linear Regression là một mô hình dễ tiếp cận vì chúng khá đơn giản. Biểu diễn chúng sẽ tuỳ theo sự kết hợp của các biến đầu vào trong tâp set với giải pháp cái mà có thể dự đoán output từ chúng. Và dữ liệu input và output phải là dữ liệu số (Numerical)\n",
        "\n",
        "Linear Regression thực hiện gán một scale cho mỗi giá trị input hay cột, gọi là một hệ số. Cách biểu diễn thường thấy là Beta. Cộng dần các giá trị để toạ thành môt hàm số là dường thằng trên mẳt phẳng 2 chiều rồi sau đó cộng với tự do thường được gọi là số chặn hay là hệ số bias. Ví dụ một hàm tuyến tính đơn giản với giá trị x là biến input và y là biến ouput\n",
        "\n",
        "> *y = B0 + B1 X x*\n",
        "\n",
        "Số chiều càng gia tăng nếu có có càng nhiều *input*. đoạn thằng thường được gọi là a plane or a hyper-plane. các hệ số tự do (B0, B1) là hệ số do mô hình tuyến tính tạo ra  \n",
        "\n",
        "Khi hệ số trở về 0, sẽ khiến biến đầu ra của ta cũng bằng 0 điều này sẽ loại bỏ giá trị của *output*"
      ],
      "metadata": {
        "id": "dlN284TMvg_T"
      }
    },
    {
      "cell_type": "markdown",
      "source": [
        "## **10.4. Phương thức học Linear Regression Learning**"
      ],
      "metadata": {
        "id": "WWFKLXoJvji3"
      }
    },
    {
      "cell_type": "markdown",
      "source": [
        "Có nhiều kĩ thuật các phương thức học khác nhau trong mô hình này cụ thể chúng ta sẽ tìm hiểu 4 kĩ thuật để chuẩn bị cho mô hình linear regression.\n",
        "1. **Mô hình Linear Regression đơn giản:** Khi ta có duy nhất một dữ liệu *input*, ta có thể sử dụng thống kê để có thể ước lượng các hệ số. Yêu cầu ta phải tính toán trước các hệ số trong thống kê như mean, std, hệ ố quan hệ, phương sai. Tât cả dữu liệu phải có giá trị thông qua và có thể tính toán được trong thống kê\n",
        "2. **Mô hình Ordinary Least Squares:** Khi ta có nhiều *input* ta có thể sử dụng Ordinary Least Squares để ước lượng giá trị của hệ số bằng cách giảm thiểu tổng bình phương của dữ liệu còn lai . Điều này nói rằng trên những diểm thuôc đường thằng là đường tuyến tính ta phải tính khoảng cách giữa những điểm đó sau đó bình phương rồi cộng bình phương sai số. Đây là số lượng mà thuật toán muốn giảm thiểu  \n",
        "Để tiếp cân thuật toán này ta phải biết đến các ma trận sau đố sử dụng các phép toán đại số tuyến tính để ước lượng các giá trị hệ số. Điều này đồng nghĩa tất cả dữ liệu phải có giá trị và ta phải có đủ bộ nhớ để fit và biểu diễn các phép toán ma trận ma trận. Một các khoong thông thường khác để có thể mô tả the Ordinary Least Squares giống như một bài tập trong đại số tuyến tính. Chúng giống như ta sẽ phải gọi các thủ tục trong các thư viện đại số tuyến tính và các thủ tục này sẽ rất nhanh trong việc tính toán"
      ],
      "metadata": {
        "id": "iq1bLL4TvldM"
      }
    },
    {
      "cell_type": "markdown",
      "source": [
        "## **10.5. Gradient Descent**"
      ],
      "metadata": {
        "id": "o7vHqycGvnrf"
      }
    },
    {
      "cell_type": "markdown",
      "source": [
        "Khi ta có một hay nhiều *input* ta có thể tính toán các giá trị tối ưu của các tham số bằng việc đạo hàm để giảm thiểu các sai số của mô hình trên tập huán luyện của ta. Điều này được gọi là Gradient Descent và chúng làm việc bằng cách bắt đàu với giá trị 0 cho mỗi tham số. Tổng bình phương của sai số được tính toán với mỗi cặp *input* và *output*. Tỷ lệ học sẽ dựa vào hệ số tỷ lệ và những tham số được cập nhật sau mỗi lần sai số đạt giá trị nhỏ. Phương thức này được lặp lại cho đến khi tồng bình phương của sai số đạt giá trị nhỏ nhất và không thể cải thiện được nữa\n",
        "\n",
        "Khi sử dụng phương thức này, ta phải chọn các tham số **learning rate** *(alpha)* xác định kích thước của các bước cải thiện cho mỗi đạo hàm trong phương thức. Gradient descent thường sử dụng với mô hình *linear regression* bởi vì dễ hiểu. Trong thực tế, nếu ta có một tập dữ liệu lớn chúng sẽ rất hữu ích với các số hàng và số cột dữ liệu mà bộ nhớ không thể fit được\n",
        "1. **Các mô hình Regularized Linear Regression (Hồi quy tuyến tính chính quy)**: Phần mở rộng khi huấn luyện trong thuật toán hồi quy tuyến tính được gọi là phương thức chính quy hay regularized. Chúng đều hướng đếm việc giảm thiểu hoá giá trị tổng bình phương sai số trong tập dữ liệu huấn luyện (sử dụng Ordinary Least Squares) nhưng có thể linh hoạt tái sử dụng cho những mô hình (như sô  hay kích thước thực tế của tổng tất cả các tham số trong mô hình). Hai phương thức phổ biến nhất là:\n",
        "  * **Lasso Regression:** nơi Ordinary Least Squares đóng vai trò giảm thiểu tổng các giá trị hệ số thực tế (gọi là L1)\n",
        "  * **Ridge Regression:** nơi nơi Ordinary Least Squares đóng vai trò giảm thiểu giá trị tổnh bình phương của các hộ số thực tế (gọi là L2)\n",
        "* Hai phương thức trên được sử dụng khi *input* có sự đồng dạng và bình phương thông thường sẽ overfit với tập huấn luyện"
      ],
      "metadata": {
        "id": "kCSkFZNLvnoR"
      }
    },
    {
      "cell_type": "markdown",
      "source": [
        "## **10.6. Dự đoán với Linear Regression**"
      ],
      "metadata": {
        "id": "X9E5cGYuvnlC"
      }
    },
    {
      "cell_type": "markdown",
      "source": [
        "Tưởng tượng ta dự đoán cân nặng *(y)* từ chiều cao *(x)*. Mô hình của ta sẽ biểu diễn dưới hàm số\n",
        "\n",
        "> y = B0 + B1 x X1   \n",
        "\n",
        "> cân nặng = B0 + B1 x chiều cao\n",
        "\n",
        "B0 sẽ đóng vai trò là bias và B1 chính là tham số cho cột chiều cao. Ta sử dụng thuật toán để tìm ra hàm số tốt nhất để có thể xây dựng hàm dự đoán cân nặng. Ví dụ nhiw B0 = 0.1 và B1 = 0.5 thay vào hàm số thì ta có thể tính toán và dự đoán được cân nặng của một người với chiều cao là 182 cm\n",
        "\n",
        "> cân nặng = 0.1 + 0.5 x 182\n",
        "\n",
        "> cân nặng = 91.1\n",
        "\n",
        "Ta có thể thấy hàm số trên có thể biểu diễn trên đồ thị hai chiều. B0 là điểm bắt đầu là chiều cao mà ta có. Ta có thể đặt các biến khác nhau trong khoảng từ 100 đến 250 cm và ghép chúng vào hàm số để dụ đoán cân nặng từ đó có thể nhận xét hàm số tuyến tính là 1 đường thằng trên mặt phẳng 2 chiều"
      ],
      "metadata": {
        "id": "9FdVHkvavnhq"
      }
    },
    {
      "cell_type": "markdown",
      "source": [
        "## **10.7. Chuẩn bị dữ liệu cho Linear Regression**"
      ],
      "metadata": {
        "id": "7MF2qoqYvnd8"
      }
    },
    {
      "cell_type": "markdown",
      "source": [
        "Có tổng cộng 5 nguyên tắc chính mà dữ liệu ta phải tuân theo khi thực hiện huấn luyện mô hình Linear Regression\n",
        "* **Linear Assumption (Giả định tuyến tính)**: Rằng mối quan hệ giữa biến *input* và *output* là tuyến tính. Nếu ta có nhiều thuộc tính. Ta phải cần chuyển dữ liệu sao cho chúng có mối quan hệ tuyến tính (biến đổi logarit theo các số hàm mũ)\n",
        "* **Remove Noise**: Loại bỏ dữ liệu bị nhiễu. Sử dụng phương thức làm sạch dữ liệu để giải quyết. Điều quan trọng cho việc dự đoán một biến *output* và ta phỉa loại bỏ hoàn toàn giá trị ngoại lai trong biến *output* nếu có thể\n",
        "* **Remove Collinearity**: Linear regression sẽ quá khớp với dữ liệu khi ta có hệ số quan hệ giữa các biến *input* cao. Giải quyết bằng cách tính toán các mỗi tương quan theo từng cặp trong dữ liệu *input* và loại bỏ các đặc trưng có mối tương quan lớn nhất\n",
        "* **Gaussian Distributions (Phân phối Gauss)** Linear regression sẽ tin cậy hơn nếu biến *input* và *output* có phân phối Gauss. Sử dụng các phương pháp biến đổi trên các bến để khiến chúng có phân phối\n",
        "* **Rescale Inputs**: Sử dụng các phương pháp *standardization hay normalization* để đưa các dữ liệu về chung một thước đo"
      ],
      "metadata": {
        "id": "AijWyxJqvnZ5"
      }
    },
    {
      "cell_type": "markdown",
      "source": [
        "## **10.8. Tóm tắt**\n"
      ],
      "metadata": {
        "id": "Tc9BcChlvnWn"
      }
    },
    {
      "cell_type": "markdown",
      "source": [
        "Chương này khai phá về thuật toán hồi qui tuyến tính (linear regression) gồm:\n",
        "  * Tên gọi thông thường được dùng khi miêu tả thuật toán linear regression\n",
        "  * Trinh bày mô hình\n",
        "  * Thuật toán học để dự đoán, ước lượng một hệ số trong mô hình\n",
        "  * Luật lệ khi sử dụng linear regression"
      ],
      "metadata": {
        "id": "u185-T3avnRa"
      }
    },
    {
      "cell_type": "markdown",
      "source": [
        "* [Chương 11: Thực hiện xây dựng mô hình Linear Regression đơn giản]()\n",
        "* [Chương 12: Thực hiện xây dựng mô hình Linear Regression với Gradient Descent]()"
      ],
      "metadata": {
        "id": "uNQV2XvCLhy-"
      }
    },
    {
      "cell_type": "markdown",
      "source": [
        "## **Chương 13: Logistic Regression**"
      ],
      "metadata": {
        "id": "FmKUh77HvnFq"
      }
    },
    {
      "cell_type": "markdown",
      "source": [
        "Logistic Regression là một technique khác được mượn từ máy học (machine learning) từ thống kê giúp giải quyết các vấn đề về bài toán phân loại nhị phân (binary classification problems) (phân loại với hai giá trị khác nhau). Trong chương này ta sẽ khám phá\n",
        "* Tên gọi cũng như *term* được sử dụng khi mô tả Logistic Regression (logarit hay log odđs)\n",
        "* Diễn tả quá trình thực hiện mô hình Logistic Regression\n",
        "* Phương pháp được sử dụng để học các hệ của Logistic Regression từ tập data\n",
        "* Làm sao để dự đoán chính xác giá trị theo sử dụng mô hingh logistic regression\n",
        "* Đi đến đâu để tìm hiểu sâu thêm về thuật toán"
      ],
      "metadata": {
        "id": "P7zX3EsHvlah"
      }
    },
    {
      "cell_type": "markdown",
      "source": [
        "## **13.1. Hàm Logistic**\n"
      ],
      "metadata": {
        "id": "HaZZKtuhvlXo"
      }
    },
    {
      "cell_type": "markdown",
      "source": [
        "Logistic regression được đặt tên dựa theo hàm Logistic cũng chính là phương thức được sử dụng chính trong mô hình. Hàm Logistic hay còn được gòi là hàm sigmoid được tạo ra bởi phương pháp thông kể để mô tả sự gia tăng population trong ecology, gia taăng nhanh chóng và lớn nhất dựa theo dung tích của môi trường. Có dạng hình S có thể lấy bất kì dữ liệu số thực nào và map chúng với giá trị trong khoảng từ 0 đến 1 nhưng không bao giờ có giới hạn chính xác\n",
        "\n",
        "> Hàm sigmoid: 1 / (1 + e ^ - (giá trị))\n",
        "\n",
        "* *e* là hệ số Ơ-Clit hay EXP() và *giá trị* là biến số thực tế mà ta muốn biến đổi  \n",
        "\n",
        "Miêu tả giá trị từ -5 đến 5 biến đổi trong khoảng từ 0 đến 1 sử dụng hàm logistic\n",
        "\n",
        "![image.png](data:image/png;base64,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)"
      ],
      "metadata": {
        "id": "Q6GfXe7SvlVC"
      }
    },
    {
      "cell_type": "markdown",
      "source": [
        "## **13.2. Cách mà Logistic Regression hoạt động**"
      ],
      "metadata": {
        "id": "4wy57yRVvlSY"
      }
    },
    {
      "cell_type": "markdown",
      "source": [
        "Logistic regression sử dụng các phương thức tính toán phương trình giống với linear regression. Biến *input* sẽ được kết hợp tuyến tính sử dụng cân trọng số hoặc hệ số để có thể dự đoán *output*. Khác với linear regression, *output* của mô hình là biến nhị phân (0 hoặc 1) thay vì các giá trị số\n",
        "\n",
        "> y = e ^ (B0 + B1 * X) / 1 + e ^ (B0 + B1 * X)\n",
        "\n",
        "*y* là giá trị dự đoán, *B0* là hệ số bias hoặc khoảng chặn và *B1* là hệ số cho đươn biến *input* x. Mỗi cột trong input sẽ có một giá trị B đi kèm (hàm số thực) mà phải được học từ tập dữ liệu huấn luyện. Mô hình sẽ thực hiện lưu trữ các hệ số trong phương trình vào bộ nhớ hoặc file (giá trị B hoặc giá trị của B)"
      ],
      "metadata": {
        "id": "NKWZn9LOvlJC"
      }
    },
    {
      "cell_type": "markdown",
      "source": [
        "## **13.3 Dự đoán xác xuất của mô hình Logistic Regression**"
      ],
      "metadata": {
        "id": "lLK7nMz9vlxx"
      }
    },
    {
      "cell_type": "markdown",
      "source": [
        "Mô hình sác xuất Logistic regression được xem như thuộc lớp mặc định. Ví dụ, nếu ta xây dựng mô hình dự đoán giới tính nam hay nữ dựa theo chiều cao của họ, lớp đầu tiên có thể là nam và mô hình Logistic regression sẽ xác định biến cố xác suất là giá trị nam và nữ\n",
        "\n",
        "> P( giới tính = nam | nữ)\n",
        "\n",
        "Một cách viết khác cho biến xác suất với input(X) và mặc định lớp Y = 1. Ta có\n",
        "\n",
        "> P(X) = P(Y = 1 | X)\n",
        "\n",
        "Giá trị dự đoán sẽ được biến đổi thành giá trị nhị phân 0 và 1 thay vì với tên gọi thực tế.\n",
        "\n",
        "Logistic regression là một phương thức tuyến tính, nhưng dự đoán và biến đổi dựa theo hàm logistic. Ta không thẻ hiểu rằng chúng dự đoán dựa theo phương thức tuyến tính ứng với mỗi *input* giống như với thuật toán linear regression. Theo ví dụ trên ta tiếp tục bằng việc áp dụng với hàm logistic của mô hình\n",
        "\n",
        "> P(X) = e ^ (B0 + B1 * X) / 1 + e ^ (B0 + B1 * X)\n",
        "\n",
        "Ta sẽ hiểu đơn giản bằng cách biến đổi chúng thành ( Triệt tiêu e bằng cách biến đổi vè ln() )\n",
        "\n",
        "> ln( P(X) / 1 - P(X)) = B0 + B1 * x\n",
        "\n",
        "Điều này hữu íhc hơn bởi vì ta có thể nhìn thấy bên phải chính là hàm tuyến tính ( giống với linear regression ), và biến input bên trái cùa hàm logrit xác suất là hàm mặc định. Phân số thuộc vé trái trong ln() được gọi là *odds* của lớp mặc định ( giống với biến sác xuất ). Odds được tính theo tỉ lệ xảy ra các sự kiện trong xác suất chia cho những sự kiện không xảy ra trong xác suất. Vì thế ta có thể thu gọn\n",
        "\n",
        "> ln( odds ) = B0 + B1 * X\n",
        "\n",
        "Bởi vì odds khi biển đổi thì sẽ có log nên ta gọi vế trái là log-odds hoặc profit. Ta có thể sử dụng một hàm khác khi biến đổi, những dạng thường thấy sẽ ở djang giống với phương trình hồi qui tuyến tính trong xác suất như là một hàm để liên hệ. hàm liên kết lograrit. Ta có thể biến đổi ngược lại bạn đầu sử dụng theo odds\n",
        "\n",
        "> odds = e ^ (B0 + B1 * X)\n",
        "\n",
        "Thực tế mô hình vẫn hoạt động dựa trên mối kết hợp tuyến tính những mối kết hợp này ở dạng log-odds hay logarit của lớp mặc định\n",
        "\n"
      ],
      "metadata": {
        "id": "AbTDrldFvkAQ"
      }
    },
    {
      "cell_type": "markdown",
      "source": [
        "## **13.4. Phương pháp học của mô hình Logistic Regression**"
      ],
      "metadata": {
        "id": "JBuVST6-vkRg"
      }
    },
    {
      "cell_type": "markdown",
      "source": [
        "Các hệ số của mô hình thuật toán logistic regression phải được ước lượng từ tập huấn luyện của ta. Việc này sẽ kết thúc khi ước lượng xác suất là tối đa. Ước lượng xác xuất tối đa là phương pháp học thường được sử dụng bởi tính đa dạng trong thuật toán máy học, mặc đù chúng chỉ giả định về phân bố của dữ liệu của ta\n",
        "\n",
        "Hệ số tốt nhất có thể là kết quả của mô hình thực hiện dự đoán giá trị gần với 1 ( như giới tính nam ) cho lớp mặc định và giá trị gần với 0 ( giới tính nữ ) với những lớp khác. Việc áp dụng phương thức maximum-likelihood cho logistic regression là tìm kiếm phương thưc để tìm hệ số sap cho đạt giá trị sai số nhỏ nhất trong việc dự đoán xác xuất khi sử dụng mô hình ( xác xuất của 1 nếu dữ liệu có 1 lớp chính)\n",
        "\n",
        "Ta sẽ không đi sâu vào phương thức maximum likelihood.. Chỉ cần biết rằng thuật toán giảm thiểu hoá được sử dụng để tối ưu việc tìm ra giá trị hệ số tốt nhất trong tệp huấn luyện của ta. Thường trong thực tế có thể xử dụng các thuật toán tối ưu sô như ( Quasi-newton ). Ngoài ra cũng có thể sử dụng gradient descent để tối ưu thuật toán"
      ],
      "metadata": {
        "id": "mB3t3lNtvkk2"
      }
    },
    {
      "cell_type": "markdown",
      "source": [
        "## **13.5. Thực hiện dự đoán theo mô hình Logistic Regression**"
      ],
      "metadata": {
        "id": "SyNGrgntpFId"
      }
    },
    {
      "cell_type": "markdown",
      "source": [
        "Thực hiện dự đoán trong mô hình Logistic Regression bằng cách thay các con số vào phương trình của mô hình và tính toán cho ra kết quả. Lấy vị dú ta có thể xây dựng 1 mô hình dự đoán Logistic Regression. Cho chiều cao một người là 150cm người đó là nam hay nữ\n",
        "\n",
        "Ta đã học được hệ số B0 = -100 và B1 = 0.6. Sử dụng phương trình của các bài trước để tính toán sác xuất năm nam thoe chiều cao 150cm hay theo phương trình *P( male | height = 150 )*. ta sẽ sử dụng ẼXP() cho e, bởi vì đây chính là cách ta biểu diễn nếu được hiện trên bảng tính\n",
        "\n",
        "> y = EXP( B0 + B1 * X) / 1 + EXP(EXP( B0 + B1 * X)) = EXP( -100 + 0.6 * 150) / 1 + EXP(EXP( -100 + 0.6 * 150)) = 0.00004539\n",
        "\n",
        "Hay sác xuất gần 0 nhất mang giới tính nam. Trong thực tế ta có thể tính xác suất trực tiếp. Bởi vì đây là bài toán phân loại và ta muốn trả lời rõ ràng, ta có thể quy ước hay kết luận đối với các giá trị lớp nhị phân ta có:\n",
        "\n",
        "> dự đoán = 0  nếu p( nam ) < 0.5\n",
        "\n",
        "> dự đoán = 1 nếu p( nam ) >= 05\n",
        "\n"
      ],
      "metadata": {
        "id": "-xHcCILNpFAN"
      }
    },
    {
      "cell_type": "markdown",
      "source": [
        "## **13.6. Chuẩn bị dữ liệu cho Logistic Regression**"
      ],
      "metadata": {
        "id": "uDs2Fll8pE0g"
      }
    },
    {
      "cell_type": "markdown",
      "source": [
        "Giống với thuật toán hồi qui tuyến tính ta cũng có 5 quy tắc để có thể chuẩn bị dữ liệu khi thực hiện mô hình Hồi qui Logistic. Ta sẽ tập trung vào độ chính xác thay vì chỉ mô tả kết quả\n",
        "* **Binary Output Variable:** Phải xuất hiện 2 biến nhị phân. Bởi vì mô hình sẽ thực hiện dự đoán theo xác suất của càc dòng dựa theo một lớp mặc định thứ mà có thể phân loại 0 hay 1\n",
        "* **Remove Noise:** Mô hình nhạy cảm với các dữ liệu bị nhiễu cũng như ngoại lai. Do đó mà ta cần phải loại bỏ giá trị ngoại lai và các giá trị có thể dự đoán sai trong tập huấn luyện\n",
        "\n",
        "* **Gaussian Distribution:** Là một thuật toán tuyến tính nên chúng sẽ ước lượng các mối quan hệ tuyến tính giữa biến input và output. Biến đổi dữ liệu input làm cải thiện mối quan hệ có thể đạt được kết quả gia tăng độ chính xác của mô hình ( Có thể sử dụng Box-Cox) hay đơn biến khác để có thể đi sâu vào mối quan hệ\n",
        "\n",
        "* **Remove Correlated Inputs:** Giống với hồi qui mô hình có thể quá khớp với các cột có mối quan hệ cao. Do vậy cần xem xét, tính toán các hệ số quan hệ theo từng cặp input và sau đó loại bỏ các cặp có mối quan hệ cao\n",
        "\n",
        "* **Fail to Converge:** Việc không thể tìm thấy điểm hội tụ có thể xảy ra trong quá trình thuật toán thục hiện việc xác định khả năng mong đợi do có quá nhiều input có mối quan hệ lớn với nhau hay dữ liệu của ta là dạng dữ liệu thưa thớt"
      ],
      "metadata": {
        "id": "8dH7hj-XpEsx"
      }
    },
    {
      "cell_type": "markdown",
      "source": [
        "## **13.7. Tóm tắt**"
      ],
      "metadata": {
        "id": "L4gS7qhRr_4W"
      }
    },
    {
      "cell_type": "markdown",
      "source": [
        "Chương này ta đã khai phá nhiều ngõ ngách của Logistic Regression cho học máy mà xây dựng mô hình dự đoán\n",
        "* Hàm logistic là gì và làm sao để dùng chúng trong thuật toán\n",
        "* Chìa khoa cho việc diẽn tả các tham số trong LR và giống với hồi qui tuyến tính\n",
        "* Cấc hệ số trong logistic regression được xác định sử dụng phương pháp gọi là maximum-likelihood estimation (ước lượng khả năng tối đa).\n",
        "* Thực hiện dự đoán sử dụng logistic regression rất dễ và có thể thực hiện chúng trong bảng tính\n",
        "* Chuẩn bị dữ liệu trong mô hình logistic regression giống với linear regression.\n",
        "\n",
        "Ta cũng đã biết thuật toán logistic regression cho việc phân loại các biến nhị phân. Chương sau ta sẽ thực hiện việc logistic regression sử dụng stochastic gradient descent"
      ],
      "metadata": {
        "id": "OxaeLkkPr_0p"
      }
    },
    {
      "cell_type": "markdown",
      "source": [
        "[Chương 14: Logistic Regression]()"
      ],
      "metadata": {
        "id": "JBXBUr5Cxjjr"
      }
    },
    {
      "cell_type": "markdown",
      "source": [
        "## **Chương 15: Linear Discriminant Analysis (LDA)**"
      ],
      "metadata": {
        "id": "BddhcQQzxjg0"
      }
    },
    {
      "cell_type": "markdown",
      "source": [],
      "metadata": {
        "id": "m0R61JqTxjeB"
      }
    }
  ]
}