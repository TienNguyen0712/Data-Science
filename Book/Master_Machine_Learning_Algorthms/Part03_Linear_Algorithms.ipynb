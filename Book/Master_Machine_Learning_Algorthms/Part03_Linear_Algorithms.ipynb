{
  "nbformat": 4,
  "nbformat_minor": 0,
  "metadata": {
    "colab": {
      "provenance": [],
      "include_colab_link": true
    },
    "kernelspec": {
      "name": "python3",
      "display_name": "Python 3"
    },
    "language_info": {
      "name": "python"
    }
  },
  "cells": [
    {
      "cell_type": "markdown",
      "metadata": {
        "id": "view-in-github",
        "colab_type": "text"
      },
      "source": [
        "<a href=\"https://colab.research.google.com/github/TienNguyen0712/Data-Science/blob/main/Book/Master_Machine_Learning_Algorthms/Part03_Linear_Algorithms.ipynb\" target=\"_parent\"><img src=\"https://colab.research.google.com/assets/colab-badge.svg\" alt=\"Open In Colab\"/></a>"
      ]
    },
    {
      "cell_type": "markdown",
      "source": [
        "## **Chương 8: Cấp tốc về bảng Tính toán**"
      ],
      "metadata": {
        "id": "NRuzqqMI6Rg4"
      }
    },
    {
      "cell_type": "markdown",
      "source": [
        "Chương này ta sẽ đi qua nhanh về các khái niệm, hàm chức năng trong Toán học. Cụ thể như:\n",
        "* Làm sao để thực hiện các phép tính toán học trong *spreadsheet*\n",
        "* Làm sao để sử dụng các hàm trong thống kê để mô tả dữ liệu\n",
        "* Làm sao để tạo các số ngẫu nhiên để sử dụng trong tập *test* kiểm thử\n",
        "\n",
        "Ta đã không quá xa lạ đối với đối tượng *spreadsheet* hay là bảng tính. Tất cả những hàm cơ bản được xử dụng trong bảng tính đều tương tự khi ta áp dụng trong nhiều chương trình khác như:\n",
        "* Excel\n",
        "* Libre\n",
        "* Google Sheets\n"
      ],
      "metadata": {
        "id": "YnLjq5uU6Rku"
      }
    },
    {
      "cell_type": "markdown",
      "source": [
        "## **8.1. Số học (Arithmetic)**"
      ],
      "metadata": {
        "id": "X7J1aT2m6RoW"
      }
    },
    {
      "cell_type": "markdown",
      "source": [
        "Bắt đầu với thành phàn cơ bản nhất như việc điều hướng *bảng tính* và số học\n",
        "* Một *cell* có thể đánh giá một *phép tính hay công thức* thông qua dấu **(=)** và sau đó là các phép tính Ví dụ như **= 1 + 1** thì kết quả sẽ là **2**\n",
        "* Ta có thể sử dụng các hàm trên một *cell* như hàm **=SUM()** tính tống các phần tử số. Ví dụ như **=SUM(A1:F1)** cộng tất cả các phần tử số từ dòng A1 đến F1\n",
        "* Cũng có thể sử dụng hàm **=COUNT()** để có thể đếm các *cell* có dữ liệu (không null)\n",
        "* Có thể biểu diễn số mũ qua toán từ **^**. Ví dụ muốn biểu diễu **2 bình phương** thì ta có thể **=2^2**\n",
        "* Sử dụng hàm **=LOG()** để biểu diễn logarit và dùng **=SQRT()** để biểu diễn căn bậc\n",
        "* Ta có thể sử dụng hàm **EXP()** để tính hệ số *Ơ-clit* lấy ví dụ như **EXP(2)** sẽ biểu diễn cho *e^2*\n",
        "* Hay ta có thể suy ngược lại từ hệ số Ơ clit để suy ra số mũ dựa theo hàm **LN()**\n",
        "* Biểu diễn PI trong toán học sử dụng hàm **=PI()**"
      ],
      "metadata": {
        "id": "7goTmUP56RrE"
      }
    },
    {
      "cell_type": "markdown",
      "source": [
        "## **8.2. Tóm tắt thống kê (Statistical Summaries)**"
      ],
      "metadata": {
        "id": "ubdc9Wyi6RuD"
      }
    },
    {
      "cell_type": "markdown",
      "source": [
        "Trong nhiều thuật toán học máy việc biết tóm tắt thống kê là cực kì quan trọng. Hãy đến với các hàm được sử dụng để tóm tắt thống kê dữ liệu *input* đầu vào:\n",
        "* Hàm **=AVERAGE()** để tính giá trị *mean (giá trị trung bình)* của dữ liệu\n",
        "* Sử dùng hàm **=MODE()** để tìm giá trị *mode (giá trị xuất hiện nhiều nhất)* của dữ liệu\n",
        "* Dùng hàm **=STDEV()** để tính toán *Statistical Summaries (độ lệch chuẩn)* thường tham chiếu qua kí hiệu *sigma*\n",
        "* Ta cũng có thể tính toán hệ số quan hệ **correlation (chính là điểm cân bằng giữa hai danh sách dữ liệu)** giữa hai danh sách dữ liệu số sử dụng **=PEARSON**"
      ],
      "metadata": {
        "id": "1ZCbcb4m6RxU"
      }
    },
    {
      "cell_type": "markdown",
      "source": [
        "## **8.3. Số ngẫu nhiên**"
      ],
      "metadata": {
        "id": "Za2xQ5PS6R0l"
      }
    },
    {
      "cell_type": "markdown",
      "source": [
        "Trong quá trình đào tạo mô hình học máy ta cần sử dụng dữ liệu mẫu *sampling* và không bị trùng nhau. Điều đó khiến ta phải dự dụng số ngẫu nhiên\n",
        "\n",
        "* Sử dụng hàm **=RAND** để sinh số ngẫu nhiên từ 0 đến 1\n",
        "* Ta có thể tính các số ngẫu nhiên Gauss bằng hàm **NORMINV()** Nhiều thuật toán tuyến tính đều sử dụng phân phối *Gauss*. Ví dụ như **=NORMINV(RAND(), 10, 1)** sẽ tạo ra một dãy số ngẫu nhiên theo phân phối *Gauss* với *mean* của chúng là 10 và *a standard deviation* là 1"
      ],
      "metadata": {
        "id": "yY81g6Ej6R32"
      }
    },
    {
      "cell_type": "markdown",
      "source": [
        "## **8.4. Flow Control**"
      ],
      "metadata": {
        "id": "_72uHamc6R7v"
      }
    },
    {
      "cell_type": "markdown",
      "source": [
        "Ta có thể sử dụng hàm **=IF(điều kiện, mệnh đề 1, mệnh đề 2)** để thực hiện đặt điều kiện cho một hàng nếu \"điều kiện\" đúng thì mệnh đề 1 sẽ thực hiện và nếu sai thì mệnh đề 2 sẽ thực hiện"
      ],
      "metadata": {
        "id": "BNrv-VsZ6R-d"
      }
    },
    {
      "cell_type": "markdown",
      "source": [
        "## **8.5. Tóm tắt**"
      ],
      "metadata": {
        "id": "wdRKr3ZA6SB8"
      }
    },
    {
      "cell_type": "markdown",
      "source": [
        "Ta đã biết được một số các hàm toán học đại số để thực hiện thap tác trên *bảng tính*\n",
        "* Làm sao để có thể diễn tả các hàm toán học với dữ liệu số trong bảng tính như hàm đếm, cộng, logarit và hệ số e\n",
        "* Làm sao để sử dụng các hàm thống kê để tính toán nhằm tóm tắt dữ liệu như mean, mode hay std\n",
        "* Làm sao để có thể tạo ra sự đồng nhất và số ngẫu nhiên Gauss để sử dụng trong *test data*"
      ],
      "metadata": {
        "id": "9YV-yE-v6SFJ"
      }
    },
    {
      "cell_type": "markdown",
      "source": [
        "## **Chương 9: Gradient Descent Trong Học Máy**"
      ],
      "metadata": {
        "id": "DFg25x5E6SIU"
      }
    },
    {
      "cell_type": "markdown",
      "source": [
        "Tối ưu hoá là phần lớn nhất trong học máy. Nhiều thuật toán máy học lấy việc tối ưu hoá làm phần cốt lõi. Trong chương này chúng ta sẽ tìm hiểu thuật toán tối ưu đơn giản nhất để áp dụng với tất cả các thuật toán máy học:\n",
        "* Chúng ta sẽ học về thuật toán gradient descent thuật toán tối ưu\n",
        "* Làm sao để có thể sử dụng thuật toán gradient descent vào mô hình máy học\n",
        "* Làm sao để thuật toán gradient descent tính toán với một dữ liệu lớn\n",
        "* Mẹo để có thể luyện tập xây dựng thuật toán gradient descent"
      ],
      "metadata": {
        "id": "K-l7PYQJ6SLk"
      }
    },
    {
      "cell_type": "markdown",
      "source": [
        "## **9.1. Gradient Descent**"
      ],
      "metadata": {
        "id": "aqW9ODGN6SOv"
      }
    },
    {
      "cell_type": "markdown",
      "source": [
        "Là một thuật toán tối ưu được sử dụng để tìm các giá trị tham số của hàm *(f)* có thể giới hạn khoảng giá trị của hàm chi phí *(cost)*. Thuật toán này được sử dụng nhiều nhất khi mà các tham số không thể dược tính toán theo phương pháp phân tích và phải được tìm kiếm bằng huật toán tối ưu"
      ],
      "metadata": {
        "id": "7yMkjIn96SSH"
      }
    },
    {
      "cell_type": "markdown",
      "source": [
        "### **9.1.1. Intuition for Gradient Descent**"
      ],
      "metadata": {
        "id": "XYTt5qTS6SWJ"
      }
    },
    {
      "cell_type": "markdown",
      "source": [
        "Mục đích của *Gradient Descent* là thử nghiệm nhiều giá trị tham số khác nhau nhằm đánh giá các hàm chi phí và lựa chọn một tham số mới có thể làm giảm giá trị của hàm chi phí. Lặp lại quá trình này cho đến khi kết quả của hàm chi phí đạt mức gần nhỏ nhất"
      ],
      "metadata": {
        "id": "E_0aB2I-6SbP"
      }
    },
    {
      "cell_type": "markdown",
      "source": [
        "### **9.1.2. Gradient Descent Procedure**"
      ],
      "metadata": {
        "id": "j3UvXiGG6Sdk"
      }
    },
    {
      "cell_type": "markdown",
      "source": [
        "Thuật toán bắt đầu bằng một giá trị tham số giả định có thể là 0.0 hay một giá trị ngẫu nhiên rất nhỏ\n",
        "\n",
        "Các tham số được đư vào các hàm *f* nhằm dự đoán cũng như tính toán chi phí\n",
        "\n",
        "> *cost = f(hệ số)*    \n",
        "   *cost = evaluate(f(hệ số))*\n",
        "\n",
        "Tính toán đạo hàm của hàm chi phí. Ta cần biết được độ dốc vì thế mà chúng ta cũng cần được biét đạo hàm để có thể điều chỉnh tham số sao cho hàm chi phí đạt giá trị nhỏ nhất\n",
        "\n",
        "> *delta = đạo hàm (cost)*\n",
        "\n",
        "Trong quá trình nâng cáp giá trị tham số. Tham số tỉ lệ quá trình học *(alpha)* phải được chỉ định nhằm chỉ định số lượng thay đổi của tham số sau mỗi lần update\n",
        "\n",
        "> *Tham số = Tham số - (delta x alpha)*\n",
        "\n",
        "Quá trình này lặp đi lặp lại cho đến khi hệ số của hàm chi phí bằng 0 hoặc không thể cải thiện thêm về hàm chi phí. Đối với thuật toán đơn giản nhất chúng yêu cầu ta biết về gradient của hàm chi phí của ta hoặc một hàm mà ta có thể tối ưu."
      ],
      "metadata": {
        "id": "P2Ivh60B6SgX"
      }
    },
    {
      "cell_type": "markdown",
      "source": [],
      "metadata": {
        "id": "iptxAYEt6Si_"
      }
    },
    {
      "cell_type": "markdown",
      "source": [],
      "metadata": {
        "id": "bscci1Pl6Sl-"
      }
    },
    {
      "cell_type": "markdown",
      "source": [],
      "metadata": {
        "id": "BYcn4T-L6SpO"
      }
    },
    {
      "cell_type": "markdown",
      "source": [],
      "metadata": {
        "id": "GxOrRwI96Stg"
      }
    },
    {
      "cell_type": "markdown",
      "source": [],
      "metadata": {
        "id": "_gCsk97V6SwT"
      }
    },
    {
      "cell_type": "markdown",
      "source": [],
      "metadata": {
        "id": "AVCnb7UF6Szm"
      }
    },
    {
      "cell_type": "markdown",
      "source": [],
      "metadata": {
        "id": "V_yC7p2V6S22"
      }
    },
    {
      "cell_type": "markdown",
      "source": [],
      "metadata": {
        "id": "2T_vtvZI6S6I"
      }
    },
    {
      "cell_type": "markdown",
      "source": [],
      "metadata": {
        "id": "sh3GyDPn6S9W"
      }
    },
    {
      "cell_type": "markdown",
      "source": [],
      "metadata": {
        "id": "juEbbpWF6TAs"
      }
    },
    {
      "cell_type": "markdown",
      "source": [],
      "metadata": {
        "id": "hQ-hJSMn6TEM"
      }
    },
    {
      "cell_type": "markdown",
      "source": [],
      "metadata": {
        "id": "NNedxRF36THR"
      }
    },
    {
      "cell_type": "markdown",
      "source": [],
      "metadata": {
        "id": "7dUxIx8D6TKe"
      }
    }
  ]
}