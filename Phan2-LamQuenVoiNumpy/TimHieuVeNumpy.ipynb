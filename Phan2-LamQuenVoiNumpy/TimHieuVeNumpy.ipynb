{
 "cells": [
  {
   "cell_type": "markdown",
   "id": "1c44e2b3-8531-4f8f-81f7-5638b0474c17",
   "metadata": {},
   "source": [
    "# Numby là thư viện giành cho việc sử lý các con số\n"
   ]
  },
  {
   "cell_type": "markdown",
   "id": "8c7e30f4-8f1c-42b0-bc59-847e0fed6392",
   "metadata": {},
   "source": [
    "## Các thư viện khác được xây dựng dựa trên Numpy"
   ]
  },
  {
   "cell_type": "markdown",
   "id": "bb1ff991-9cd2-4974-947f-0668df7d073c",
   "metadata": {},
   "source": [
    "Viêt lên dựa trên ngôn ngữ C => Khi viết trển Python thì có kiểu dữ liệu \"List\" ( Danh sách ) thì ở Numpy ta có kiểu dữ liệu \"Mảng\" cho phép thực hiện các thao tác trên mảng"
   ]
  },
  {
   "cell_type": "markdown",
   "id": "ce06e8b1-894c-462f-adbb-8e0960d492bc",
   "metadata": {},
   "source": [
    "## Khai báo thư viện Numpy"
   ]
  },
  {
   "cell_type": "code",
   "execution_count": 16,
   "id": "85cc5a87-ceb1-41ee-8c98-ccb96071c6d6",
   "metadata": {},
   "outputs": [],
   "source": [
    "import numpy as np # Khai báo thư viện với tên np"
   ]
  },
  {
   "cell_type": "markdown",
   "id": "8a9f2539-f536-4517-868d-28a3b655ba71",
   "metadata": {},
   "source": [
    "## Tạo mảng Numpy từ List Python"
   ]
  },
  {
   "cell_type": "code",
   "execution_count": 10,
   "id": "0e099777-afba-4d56-a5ab-5fd3f7087f95",
   "metadata": {},
   "outputs": [
    {
     "data": {
      "text/plain": [
       "array([1, 2, 3, 4])"
      ]
     },
     "execution_count": 10,
     "metadata": {},
     "output_type": "execute_result"
    }
   ],
   "source": [
    "np.array([1, 2, 3, 4]) # Tạo mảng 1 , 2, 3, 4"
   ]
  },
  {
   "cell_type": "code",
   "execution_count": 14,
   "id": "bddd5c56-1cbc-4831-bd6b-16829d6f562b",
   "metadata": {},
   "outputs": [
    {
     "data": {
      "text/plain": [
       "array([1. , 2. , 3. , 4.1, 5. ])"
      ]
     },
     "execution_count": 14,
     "metadata": {},
     "output_type": "execute_result"
    }
   ],
   "source": [
    "np.array([1, 2, 3, 4.1, 5]) # Mảng chuyển về kiểu số thực từ thấp lên cao"
   ]
  },
  {
   "cell_type": "code",
   "execution_count": 16,
   "id": "fbcf11be-d678-4eff-8087-05c389040fa3",
   "metadata": {},
   "outputs": [
    {
     "data": {
      "text/plain": [
       "dtype('float64')"
      ]
     },
     "execution_count": 16,
     "metadata": {},
     "output_type": "execute_result"
    }
   ],
   "source": [
    "np.array([1, 2, 3, 4.1, 5]).dtype # Float 64bit"
   ]
  },
  {
   "cell_type": "code",
   "execution_count": 22,
   "id": "021d5594-e189-4d84-b5f5-e4f8b641b58f",
   "metadata": {},
   "outputs": [
    {
     "data": {
      "text/plain": [
       "array([1, 2, 3, 4, 5], dtype=int64)"
      ]
     },
     "execution_count": 22,
     "metadata": {},
     "output_type": "execute_result"
    }
   ],
   "source": [
    "np.array([1, 2, 3, 4.1, 5], dtype= 'int64') # Chuẩn hóa kiểu dữ liều về số nguyên 64 bit"
   ]
  },
  {
   "cell_type": "code",
   "execution_count": 24,
   "id": "7795af0d-2436-4c09-872c-15e01beddbe5",
   "metadata": {},
   "outputs": [],
   "source": [
    "a1 = np.array([1, 2, 3, 4, 5]) # Gán biến a1 với Mảng"
   ]
  },
  {
   "cell_type": "code",
   "execution_count": 26,
   "id": "8bf3077e-baab-4ae7-a20f-2a963f790443",
   "metadata": {},
   "outputs": [
    {
     "data": {
      "text/plain": [
       "numpy.ndarray"
      ]
     },
     "execution_count": 26,
     "metadata": {},
     "output_type": "execute_result"
    }
   ],
   "source": [
    "type(a1) # Kiễu dữ liệu Mảng nd.array"
   ]
  },
  {
   "cell_type": "code",
   "execution_count": 30,
   "id": "0086423e-7d6c-415e-b28c-3d3719bf3a31",
   "metadata": {},
   "outputs": [],
   "source": [
    "a2 = np.array([[1, 2, 3], # Khai báo mảng 2 chiều\n",
    "             [4, 5, 6]])"
   ]
  },
  {
   "cell_type": "code",
   "execution_count": 32,
   "id": "0afb0858-f5e9-4fc0-a418-f1ce9c84deb7",
   "metadata": {},
   "outputs": [
    {
     "data": {
      "text/plain": [
       "numpy.ndarray"
      ]
     },
     "execution_count": 32,
     "metadata": {},
     "output_type": "execute_result"
    }
   ],
   "source": [
    "type(a2)"
   ]
  },
  {
   "cell_type": "code",
   "execution_count": 34,
   "id": "94ad23cf-29a3-4586-b7ae-4bbafc67a1f4",
   "metadata": {},
   "outputs": [
    {
     "data": {
      "text/plain": [
       "(2, 3)"
      ]
     },
     "execution_count": 34,
     "metadata": {},
     "output_type": "execute_result"
    }
   ],
   "source": [
    "a2.shape # Xuất số cột và hàng của a2"
   ]
  },
  {
   "cell_type": "code",
   "execution_count": 36,
   "id": "2e4b7ee1-2e9d-4e90-97f7-847776894ad8",
   "metadata": {},
   "outputs": [
    {
     "data": {
      "text/plain": [
       "2"
      ]
     },
     "execution_count": 36,
     "metadata": {},
     "output_type": "execute_result"
    }
   ],
   "source": [
    "a2.ndim # Xuất số chiều của Mảng"
   ]
  },
  {
   "cell_type": "code",
   "execution_count": 38,
   "id": "9eb0e907-51b7-423e-a27e-b3a364aba5b4",
   "metadata": {},
   "outputs": [
    {
     "data": {
      "text/plain": [
       "dtype('int32')"
      ]
     },
     "execution_count": 38,
     "metadata": {},
     "output_type": "execute_result"
    }
   ],
   "source": [
    "a2.dtype # Xuất kiểu dữu liệu trong Mảng"
   ]
  },
  {
   "cell_type": "code",
   "execution_count": 40,
   "id": "9000342e-a9c6-472d-8060-cbc99e51f68e",
   "metadata": {},
   "outputs": [
    {
     "data": {
      "text/plain": [
       "6"
      ]
     },
     "execution_count": 40,
     "metadata": {},
     "output_type": "execute_result"
    }
   ],
   "source": [
    "a2.size # Trả lại số thành phần trong Mảng"
   ]
  },
  {
   "cell_type": "markdown",
   "id": "9eb3a3a8-ccc0-496e-a30e-752b066d641d",
   "metadata": {},
   "source": [
    "## Tạo Mảng Numpy từ các hàm cho sẵn của Numpy"
   ]
  },
  {
   "cell_type": "markdown",
   "id": "e1ea569e-72c1-4f3f-850d-c6bd2cd182f4",
   "metadata": {},
   "source": [
    "### zeros, ones, full, arange, linspace"
   ]
  },
  {
   "cell_type": "code",
   "execution_count": 55,
   "id": "185a890f-ac5b-45f2-8672-ba33ff58bfbd",
   "metadata": {},
   "outputs": [
    {
     "data": {
      "text/plain": [
       "array([[0, 0, 0, 0],\n",
       "       [0, 0, 0, 0]])"
      ]
     },
     "execution_count": 55,
     "metadata": {},
     "output_type": "execute_result"
    }
   ],
   "source": [
    "np.zeros([2, 4], dtype='int') #  Xuất 2 cột 4 hàng số 0"
   ]
  },
  {
   "cell_type": "code",
   "execution_count": 63,
   "id": "e8defbf8-980b-4701-bced-7f4986413300",
   "metadata": {},
   "outputs": [
    {
     "data": {
      "text/plain": [
       "array([[1, 1, 1],\n",
       "       [1, 1, 1],\n",
       "       [1, 1, 1],\n",
       "       [1, 1, 1],\n",
       "       [1, 1, 1]])"
      ]
     },
     "execution_count": 63,
     "metadata": {},
     "output_type": "execute_result"
    }
   ],
   "source": [
    "np.ones([5, 3], dtype='int') # Xuất 2 cột và 3 hàng là số 1"
   ]
  },
  {
   "cell_type": "code",
   "execution_count": 67,
   "id": "13855527-bb55-41a8-a003-5e16dde8e725",
   "metadata": {},
   "outputs": [
    {
     "data": {
      "text/plain": [
       "array([ 0,  2,  4,  6,  8, 10, 12, 14, 16, 18])"
      ]
     },
     "execution_count": 67,
     "metadata": {},
     "output_type": "execute_result"
    }
   ],
   "source": [
    "np.arange(0, 20, 2) # Tạo mảng từ 0 dến 20 bước nhảy là 2"
   ]
  },
  {
   "cell_type": "code",
   "execution_count": 71,
   "id": "30606772-13d9-4401-b023-a8dba50e3745",
   "metadata": {},
   "outputs": [
    {
     "data": {
      "text/plain": [
       "array([[6.9, 6.9, 6.9, 6.9, 6.9],\n",
       "       [6.9, 6.9, 6.9, 6.9, 6.9],\n",
       "       [6.9, 6.9, 6.9, 6.9, 6.9]])"
      ]
     },
     "execution_count": 71,
     "metadata": {},
     "output_type": "execute_result"
    }
   ],
   "source": [
    "np.full([3, 5], 6.9) # Tạo mảng 3 cột 5 dòng là 6.9"
   ]
  },
  {
   "cell_type": "code",
   "execution_count": 77,
   "id": "08459b78-c0bb-4477-a242-d622340e71fa",
   "metadata": {},
   "outputs": [
    {
     "data": {
      "text/plain": [
       "array([0.  , 0.25, 0.5 , 0.75, 1.  ])"
      ]
     },
     "execution_count": 77,
     "metadata": {},
     "output_type": "execute_result"
    }
   ],
   "source": [
    "np.linspace(0,1, 5) # Tạo mảng từ 0 đến 1 bước nahry chia đều cho 5"
   ]
  },
  {
   "cell_type": "markdown",
   "id": "b667a43d-32d7-441d-a231-06bf086c940e",
   "metadata": {},
   "source": [
    "### Random"
   ]
  },
  {
   "cell_type": "code",
   "execution_count": 94,
   "id": "61305212-75f3-4c17-a06b-9eb236a29770",
   "metadata": {},
   "outputs": [
    {
     "data": {
      "text/plain": [
       "array([[0.5488135 , 0.71518937, 0.60276338, 0.54488318],\n",
       "       [0.4236548 , 0.64589411, 0.43758721, 0.891773  ],\n",
       "       [0.96366276, 0.38344152, 0.79172504, 0.52889492],\n",
       "       [0.56804456, 0.92559664, 0.07103606, 0.0871293 ]])"
      ]
     },
     "execution_count": 94,
     "metadata": {},
     "output_type": "execute_result"
    }
   ],
   "source": [
    "np.random.seed(0) # Giữ lại dãy số random trong Mảng\n",
    "np.random.random([4,4]) # Tạo hàm 4 hàng 4 cột với giá trị từ 0 đến 1"
   ]
  },
  {
   "cell_type": "code",
   "execution_count": 102,
   "id": "20bb84f6-f444-4334-9a78-3c008001815f",
   "metadata": {},
   "outputs": [
    {
     "data": {
      "text/plain": [
       "array([[-0.74216502,  2.26975462, -1.45436567],\n",
       "       [ 0.04575852, -0.18718385,  1.53277921],\n",
       "       [ 1.46935877,  0.15494743,  0.37816252]])"
      ]
     },
     "execution_count": 102,
     "metadata": {},
     "output_type": "execute_result"
    }
   ],
   "source": [
    "np.random.normal(0, 1,(3,3)) # 0 là giá trị trung bình 1 là độ lệch chuẩn với mảng 3 hàng 3 cột"
   ]
  },
  {
   "cell_type": "code",
   "execution_count": 110,
   "id": "c0c09f02-8161-49ab-83af-7faabffc7784",
   "metadata": {},
   "outputs": [
    {
     "data": {
      "text/plain": [
       "array([[4, 4, 8, 4, 3],\n",
       "       [7, 5, 5, 0, 1],\n",
       "       [5, 9, 3, 0, 5],\n",
       "       [0, 1, 2, 4, 2]])"
      ]
     },
     "execution_count": 110,
     "metadata": {},
     "output_type": "execute_result"
    }
   ],
   "source": [
    "np.random.randint(0, 10, (4, 5)) # Tảo bảng ngẫu nhiên nguyên dương từ 0 và không gồm 10"
   ]
  },
  {
   "cell_type": "code",
   "execution_count": 115,
   "id": "b55cc0ea-a081-4570-a6e4-739500de0060",
   "metadata": {},
   "outputs": [
    {
     "data": {
      "text/plain": [
       "array([[0.50896896, 0.91672295, 0.92115761, 0.08311249],\n",
       "       [0.27771856, 0.0093567 , 0.84234208, 0.64717414],\n",
       "       [0.84138612, 0.26473016, 0.39782075, 0.55282148],\n",
       "       [0.16494046, 0.36980809, 0.14644176, 0.56961841]])"
      ]
     },
     "execution_count": 115,
     "metadata": {},
     "output_type": "execute_result"
    }
   ],
   "source": [
    "np.random.rand(4,4) # Tjao ma trận ngẫu nhiên 4 cột 4 hàng"
   ]
  },
  {
   "cell_type": "markdown",
   "id": "e8aa4c05-deec-4dec-b874-5aaa7d99faf3",
   "metadata": {},
   "source": [
    "### Tiếp cận Mảng Numpy và Cắt Mảng"
   ]
  },
  {
   "cell_type": "markdown",
   "id": "b1f48c2e-18a6-4658-b1c2-288c928b5a91",
   "metadata": {},
   "source": [
    "#### Truy cập vào thành phân trong Mảng"
   ]
  },
  {
   "cell_type": "code",
   "execution_count": 22,
   "id": "2f15d640-8b0f-4551-9759-5dc1fc02c02a",
   "metadata": {},
   "outputs": [],
   "source": [
    "x1 = np.random.randint(20, size = 6) # Tọa  mảng ngẫu nhiên từ 0 đến 20 gồm 6 thành phần"
   ]
  },
  {
   "cell_type": "code",
   "execution_count": 24,
   "id": "7ad0b394-d181-4faa-92ef-4a7c47ef4168",
   "metadata": {},
   "outputs": [
    {
     "data": {
      "text/plain": [
       "array([19, 19,  6, 16, 18,  4])"
      ]
     },
     "execution_count": 24,
     "metadata": {},
     "output_type": "execute_result"
    }
   ],
   "source": [
    "x1"
   ]
  },
  {
   "cell_type": "markdown",
   "id": "4c2b1f57-19e6-4b08-b45b-928ddef6651f",
   "metadata": {},
   "source": [
    "Muốn tiếp cận vị trí số 3 trong Mảng"
   ]
  },
  {
   "cell_type": "code",
   "execution_count": 34,
   "id": "bd44d507-99cd-4469-a1ea-767553fead16",
   "metadata": {},
   "outputs": [
    {
     "data": {
      "text/plain": [
       "18"
      ]
     },
     "execution_count": 34,
     "metadata": {},
     "output_type": "execute_result"
    }
   ],
   "source": [
    "x1[4] # Truy cập thành phần thứ 5 trong Mảng"
   ]
  },
  {
   "cell_type": "code",
   "execution_count": 36,
   "id": "346a75a8-ec22-4ce4-8611-f25b7a51d3f6",
   "metadata": {},
   "outputs": [
    {
     "data": {
      "text/plain": [
       "19"
      ]
     },
     "execution_count": 36,
     "metadata": {},
     "output_type": "execute_result"
    }
   ],
   "source": [
    "x1[0] # Truy cập thành phân đầu tiên trong Mảng"
   ]
  },
  {
   "cell_type": "code",
   "execution_count": 38,
   "id": "7a7cf328-bc9b-4f42-8d36-ce54cf17d89e",
   "metadata": {},
   "outputs": [
    {
     "data": {
      "text/plain": [
       "4"
      ]
     },
     "execution_count": 38,
     "metadata": {},
     "output_type": "execute_result"
    }
   ],
   "source": [
    "x1[-1] # Truy cập thành phần cuối cùng trong Mảng "
   ]
  },
  {
   "cell_type": "markdown",
   "id": "9b75c9b5-dee1-4a8a-a485-03c4c5520800",
   "metadata": {},
   "source": [
    "Giống với Mảng một chiều ta có thể truy cập vào phần từ đối với các ma trận đa chiều = INDEX"
   ]
  },
  {
   "cell_type": "code",
   "execution_count": 61,
   "id": "644492e7-bfa6-4dbc-aaee-5bbf4bd8189a",
   "metadata": {},
   "outputs": [],
   "source": [
    "x2 = np.random.randint(10, size = (3, 4)) # Tạo mảng 2 chiều 3 x 4 gồm các số ngẫu nhiên từ 0 đến 310"
   ]
  },
  {
   "cell_type": "code",
   "execution_count": 63,
   "id": "a0964267-1078-4a49-b126-e9fa6b275663",
   "metadata": {},
   "outputs": [
    {
     "data": {
      "text/plain": [
       "array([[0, 8, 4, 6],\n",
       "       [1, 5, 8, 8],\n",
       "       [9, 3, 4, 9]])"
      ]
     },
     "execution_count": 63,
     "metadata": {},
     "output_type": "execute_result"
    }
   ],
   "source": [
    "x2"
   ]
  },
  {
   "cell_type": "code",
   "execution_count": 67,
   "id": "ee1ea5c0-cd08-41a0-bf13-2c5c29178564",
   "metadata": {},
   "outputs": [
    {
     "data": {
      "text/plain": [
       "8"
      ]
     },
     "execution_count": 67,
     "metadata": {},
     "output_type": "execute_result"
    }
   ],
   "source": [
    "x2[1,2] # Vị trí cột 3 hàng 1"
   ]
  },
  {
   "cell_type": "code",
   "execution_count": 73,
   "id": "7360088f-8ab4-44c0-a5dc-c78213f0f7da",
   "metadata": {},
   "outputs": [],
   "source": [
    "x2[2, 2] = 6 # Thay đổi gia trị của Mảng bằng Index hàng 3 cột 3 "
   ]
  },
  {
   "cell_type": "code",
   "execution_count": 75,
   "id": "26250965-7d12-4364-be38-63fd4e5f82d5",
   "metadata": {},
   "outputs": [
    {
     "data": {
      "text/plain": [
       "array([[0, 8, 4, 6],\n",
       "       [1, 5, 8, 8],\n",
       "       [9, 3, 6, 9]])"
      ]
     },
     "execution_count": 75,
     "metadata": {},
     "output_type": "execute_result"
    }
   ],
   "source": [
    "x2"
   ]
  },
  {
   "cell_type": "markdown",
   "id": "4c9f0118-7ec3-48b1-8430-a98471a8cb90",
   "metadata": {},
   "source": [
    "#### Cắt Numpy Array"
   ]
  },
  {
   "cell_type": "markdown",
   "id": "9e93fbf5-b422-4ee7-b0e8-c4363f62cc09",
   "metadata": {},
   "source": [
    "`x[bắt dầu : kết thúc : bước nhảy]`"
   ]
  },
  {
   "cell_type": "code",
   "execution_count": 89,
   "id": "8c56e360-2b89-4950-805c-f750a9ff5cc9",
   "metadata": {},
   "outputs": [
    {
     "data": {
      "text/plain": [
       "array([19, 19,  6, 16, 18,  4])"
      ]
     },
     "execution_count": 89,
     "metadata": {},
     "output_type": "execute_result"
    }
   ],
   "source": [
    "x1"
   ]
  },
  {
   "cell_type": "code",
   "execution_count": 84,
   "id": "8290de62-93b3-4b30-b1f7-cbe0ef287994",
   "metadata": {},
   "outputs": [
    {
     "data": {
      "text/plain": [
       "array([19, 19,  6])"
      ]
     },
     "execution_count": 84,
     "metadata": {},
     "output_type": "execute_result"
    }
   ],
   "source": [
    "x1[0:3] # Không bao gồm gia trị cuối"
   ]
  },
  {
   "cell_type": "code",
   "execution_count": 87,
   "id": "f014b7f4-efd8-4832-bcfc-f39684cab369",
   "metadata": {},
   "outputs": [
    {
     "data": {
      "text/plain": [
       "array([ 6, 16])"
      ]
     },
     "execution_count": 87,
     "metadata": {},
     "output_type": "execute_result"
    }
   ],
   "source": [
    "x1[2:4]"
   ]
  },
  {
   "cell_type": "code",
   "execution_count": 95,
   "id": "372fc98e-296b-4d82-b095-8e6ce6f93b3b",
   "metadata": {},
   "outputs": [
    {
     "data": {
      "text/plain": [
       "array([19,  6, 18])"
      ]
     },
     "execution_count": 95,
     "metadata": {},
     "output_type": "execute_result"
    }
   ],
   "source": [
    "x1[::2] # Căt các thành phần với index tăng mỗi 2 bước"
   ]
  },
  {
   "cell_type": "code",
   "execution_count": 97,
   "id": "e6d6b42a-c46b-4583-9805-1c88065ae080",
   "metadata": {},
   "outputs": [
    {
     "data": {
      "text/plain": [
       "array([[0, 8, 4, 6],\n",
       "       [1, 5, 8, 8],\n",
       "       [9, 3, 6, 9]])"
      ]
     },
     "execution_count": 97,
     "metadata": {},
     "output_type": "execute_result"
    }
   ],
   "source": [
    "x2 # Đới với Mảng 3 x 4"
   ]
  },
  {
   "cell_type": "code",
   "execution_count": 105,
   "id": "180b5972-b127-4688-ab9d-466bdee01c8f",
   "metadata": {},
   "outputs": [
    {
     "data": {
      "text/plain": [
       "array([[0, 8, 4],\n",
       "       [1, 5, 8]])"
      ]
     },
     "execution_count": 105,
     "metadata": {},
     "output_type": "execute_result"
    }
   ],
   "source": [
    "x2[:2,:3] # Cắt mảng 2 cột và 3 hàng"
   ]
  },
  {
   "cell_type": "code",
   "execution_count": 107,
   "id": "c94b47a6-945f-4d32-8a8c-5b39f172adfb",
   "metadata": {},
   "outputs": [
    {
     "data": {
      "text/plain": [
       "array([[0, 8],\n",
       "       [1, 5],\n",
       "       [9, 3]])"
      ]
     },
     "execution_count": 107,
     "metadata": {},
     "output_type": "execute_result"
    }
   ],
   "source": [
    "x2[:,:2]"
   ]
  },
  {
   "cell_type": "markdown",
   "id": "223f7bf7-0a05-4ff5-aeaa-cf88c2bde85a",
   "metadata": {},
   "source": [
    "#### Thay đổi Ma trận và Transpose"
   ]
  },
  {
   "cell_type": "code",
   "execution_count": 110,
   "id": "f31a4731-80ac-4cd8-9188-ac6666eb182b",
   "metadata": {},
   "outputs": [
    {
     "data": {
      "text/plain": [
       "(9,)"
      ]
     },
     "execution_count": 110,
     "metadata": {},
     "output_type": "execute_result"
    }
   ],
   "source": [
    "grid = np.arange(1, 10)\n",
    "grid.shape # Là Mảng 1 chiều"
   ]
  },
  {
   "cell_type": "code",
   "execution_count": 128,
   "id": "4a8f2012-06a8-40ed-b3bd-5d9277664681",
   "metadata": {},
   "outputs": [
    {
     "data": {
      "text/plain": [
       "(3, 3)"
      ]
     },
     "execution_count": 128,
     "metadata": {},
     "output_type": "execute_result"
    }
   ],
   "source": [
    "x = grid.reshape((3,3))\n",
    "x.shape # Chuyển đổi Mảng 1 chiều thành Mảng 3 x 3"
   ]
  },
  {
   "cell_type": "markdown",
   "id": "dc63e97a-566e-4fd3-b25c-6148dfff3cad",
   "metadata": {},
   "source": [
    "#### Transposes : Chuyển cột thành hàng"
   ]
  },
  {
   "cell_type": "code",
   "execution_count": 118,
   "id": "c6f5fd51-e728-46d5-93e4-bf8924f45681",
   "metadata": {},
   "outputs": [
    {
     "data": {
      "text/plain": [
       "array([[0, 8, 4, 6],\n",
       "       [1, 5, 8, 8],\n",
       "       [9, 3, 6, 9]])"
      ]
     },
     "execution_count": 118,
     "metadata": {},
     "output_type": "execute_result"
    }
   ],
   "source": [
    "x2"
   ]
  },
  {
   "cell_type": "code",
   "execution_count": 122,
   "id": "888000e4-901f-409a-90a2-ca88e7129aa9",
   "metadata": {},
   "outputs": [
    {
     "data": {
      "text/plain": [
       "array([[0, 1, 9],\n",
       "       [8, 5, 3],\n",
       "       [4, 8, 6],\n",
       "       [6, 8, 9]])"
      ]
     },
     "execution_count": 122,
     "metadata": {},
     "output_type": "execute_result"
    }
   ],
   "source": [
    "x2.T # Chuyển cột thành hàng"
   ]
  },
  {
   "cell_type": "markdown",
   "id": "f14889ec-d5d7-4840-b1f8-d3ca8432dd26",
   "metadata": {},
   "source": [
    "#### Nối Numoy Array và Cắt Numpy thành phần nhỏ"
   ]
  },
  {
   "cell_type": "code",
   "execution_count": 137,
   "id": "811edf9b-262f-4e91-b4b7-69054f107415",
   "metadata": {},
   "outputs": [],
   "source": [
    "a = np.array([1, 2, 3])\n",
    "b = np.array([3, 2, 1])"
   ]
  },
  {
   "cell_type": "code",
   "execution_count": 141,
   "id": "8639a2fb-31b5-4aae-a44d-644743acb533",
   "metadata": {},
   "outputs": [
    {
     "data": {
      "text/plain": [
       "array([1, 2, 3, 3, 2, 1])"
      ]
     },
     "execution_count": 141,
     "metadata": {},
     "output_type": "execute_result"
    }
   ],
   "source": [
    "np.concatenate((a, b)) # Nối 2 Mảng a, b với nhau"
   ]
  },
  {
   "cell_type": "code",
   "execution_count": 157,
   "id": "1212c72d-2ce4-4d66-aace-e62ddda2a44e",
   "metadata": {},
   "outputs": [],
   "source": [
    "gird_1 = np.array(([1, 2, 3],\n",
    "               [4, 5, 6]))"
   ]
  },
  {
   "cell_type": "code",
   "execution_count": 161,
   "id": "b06bd36c-1d10-4d32-a0a6-f7392a3f4fa4",
   "metadata": {},
   "outputs": [
    {
     "data": {
      "text/plain": [
       "array([[1, 2, 3],\n",
       "       [4, 5, 6]])"
      ]
     },
     "execution_count": 161,
     "metadata": {},
     "output_type": "execute_result"
    }
   ],
   "source": [
    "gird_1 # Mảng 2 x 3"
   ]
  },
  {
   "cell_type": "code",
   "execution_count": 167,
   "id": "13e97b98-aa17-48d4-89e0-607428ecbc04",
   "metadata": {},
   "outputs": [
    {
     "data": {
      "text/plain": [
       "array([[1, 2, 3],\n",
       "       [4, 5, 6],\n",
       "       [1, 2, 3],\n",
       "       [4, 5, 6]])"
      ]
     },
     "execution_count": 167,
     "metadata": {},
     "output_type": "execute_result"
    }
   ],
   "source": [
    "np.concatenate((gird_1, gird)) # Nối với nhau theo chiều hàng axis = 0"
   ]
  },
  {
   "cell_type": "code",
   "execution_count": 175,
   "id": "0daf15a8-b735-4fdc-82a2-8b4b1ff19c9b",
   "metadata": {},
   "outputs": [
    {
     "data": {
      "text/plain": [
       "array([[1, 2, 3, 1, 2, 3],\n",
       "       [4, 5, 6, 4, 5, 6]])"
      ]
     },
     "execution_count": 175,
     "metadata": {},
     "output_type": "execute_result"
    }
   ],
   "source": [
    "np.concatenate((gird_1, gird), axis = 1) # Nối với nhau theo cột axis = 1"
   ]
  },
  {
   "cell_type": "code",
   "execution_count": 199,
   "id": "477875e6-5eeb-4bcc-9dd9-fe8403a2bca8",
   "metadata": {},
   "outputs": [],
   "source": [
    "# vstack\n",
    "x = np.array(([1, 2, 3]))\n",
    "y = np.array(([1, 2, 3],\n",
    "             [4, 5, 6]))"
   ]
  },
  {
   "cell_type": "code",
   "execution_count": 203,
   "id": "c7ab83cd-b2fa-43af-91bf-4885578e1841",
   "metadata": {},
   "outputs": [
    {
     "data": {
      "text/plain": [
       "array([[1, 2, 3],\n",
       "       [1, 2, 3],\n",
       "       [4, 5, 6]])"
      ]
     },
     "execution_count": 203,
     "metadata": {},
     "output_type": "execute_result"
    }
   ],
   "source": [
    "np.vstack((x, y)) # Gộp theo cột "
   ]
  },
  {
   "cell_type": "code",
   "execution_count": 213,
   "id": "e3c9cf12-632f-46ed-a218-a1d7919413dc",
   "metadata": {},
   "outputs": [
    {
     "data": {
      "text/plain": [
       "array([[2, 9, 7, 8],\n",
       "       [9, 1, 3, 4]])"
      ]
     },
     "execution_count": 213,
     "metadata": {},
     "output_type": "execute_result"
    }
   ],
   "source": [
    "x3 = np.array(([2],\n",
    "              [9])) # Nối theo chiều ngang\n",
    "np.hstack((x3, y))"
   ]
  },
  {
   "cell_type": "markdown",
   "id": "bf3bca53-33f0-468c-8905-4a9449e542d5",
   "metadata": {},
   "source": [
    "#### Chia nhỏ Mảng"
   ]
  },
  {
   "cell_type": "code",
   "execution_count": 238,
   "id": "6dbca5d4-6804-4ab4-99dc-87cc4a2e337c",
   "metadata": {},
   "outputs": [],
   "source": [
    "x = np.array([1, 2, 3, 4 ,5 ,6 , 7, 8, 9, 10])"
   ]
  },
  {
   "cell_type": "code",
   "execution_count": 244,
   "id": "4b7bbce3-835b-4f12-8ae3-4e9c89b2bd16",
   "metadata": {},
   "outputs": [],
   "source": [
    "x1, x2, x3 = np.split(x, [3,5]) # Lưu mảng chia nhỏ lấy vị trí 4 và 6"
   ]
  },
  {
   "cell_type": "code",
   "execution_count": 242,
   "id": "0f25496a-d43c-4c4c-900c-0548273a1339",
   "metadata": {},
   "outputs": [
    {
     "data": {
      "text/plain": [
       "(array([1, 2, 3]), array([4, 5]), array([ 6,  7,  8,  9, 10]))"
      ]
     },
     "execution_count": 242,
     "metadata": {},
     "output_type": "execute_result"
    }
   ],
   "source": [
    "x1 , x2, x3 "
   ]
  },
  {
   "cell_type": "markdown",
   "id": "461b7f19-f3ba-402d-9b78-a8af47e287df",
   "metadata": {},
   "source": [
    "#### Broadcasting and Vecto"
   ]
  },
  {
   "cell_type": "markdown",
   "id": "7c763a02-1db9-4f50-8444-08024273aa4c",
   "metadata": {},
   "source": [
    "Hiểu đơn giản là tạo bảng tương đương rồi thực hiện các phép Toán học dựa theo Mảng"
   ]
  },
  {
   "cell_type": "code",
   "execution_count": 250,
   "id": "b7d8d174-c068-49ea-9578-3b06e796abcb",
   "metadata": {},
   "outputs": [],
   "source": [
    "a = np.arange(3)"
   ]
  },
  {
   "cell_type": "code",
   "execution_count": 252,
   "id": "389f5db7-549e-4c0b-9604-bfb8dd93d03d",
   "metadata": {},
   "outputs": [
    {
     "data": {
      "text/plain": [
       "array([5, 6, 7])"
      ]
     },
     "execution_count": 252,
     "metadata": {},
     "output_type": "execute_result"
    }
   ],
   "source": [
    "a + 5 # Từ số 5 tạo mảng 3 phần tử gồm 3 số 5 rồi cộng cho mảng a"
   ]
  },
  {
   "cell_type": "code",
   "execution_count": 258,
   "id": "36136de7-a18b-426c-a971-6c15d38926a6",
   "metadata": {},
   "outputs": [],
   "source": [
    "b = np.ones((3, 3), dtype = 'int')"
   ]
  },
  {
   "cell_type": "code",
   "execution_count": 272,
   "id": "e1184e1f-cb3f-4a61-b844-5747371d7526",
   "metadata": {},
   "outputs": [
    {
     "data": {
      "text/plain": [
       "array([[1, 2, 3],\n",
       "       [1, 2, 3],\n",
       "       [1, 2, 3]])"
      ]
     },
     "execution_count": 272,
     "metadata": {},
     "output_type": "execute_result"
    }
   ],
   "source": [
    "b + a # Nhân bản Mảng a bằng size với Mảng b rồi thực hành phép tính"
   ]
  },
  {
   "cell_type": "code",
   "execution_count": 274,
   "id": "5ded5b48-b5db-4f0f-ad0c-d6bcdb665958",
   "metadata": {},
   "outputs": [
    {
     "data": {
      "text/plain": [
       "array([[0, 1, 2],\n",
       "       [0, 1, 2],\n",
       "       [0, 1, 2]])"
      ]
     },
     "execution_count": 274,
     "metadata": {},
     "output_type": "execute_result"
    }
   ],
   "source": [
    "b * a"
   ]
  },
  {
   "cell_type": "code",
   "execution_count": 290,
   "id": "ddc407ae-c8ad-41d8-91f4-05ce6bcb7f5e",
   "metadata": {},
   "outputs": [
    {
     "data": {
      "text/plain": [
       "array([[0],\n",
       "       [1],\n",
       "       [2]])"
      ]
     },
     "execution_count": 290,
     "metadata": {},
     "output_type": "execute_result"
    }
   ],
   "source": [
    "c = np.arange(3).reshape((3, 1))\n",
    "c # Ba hàng 1 cột"
   ]
  },
  {
   "cell_type": "code",
   "execution_count": 292,
   "id": "5d25df60-a126-4ee0-b4ef-fea731101794",
   "metadata": {},
   "outputs": [
    {
     "data": {
      "text/plain": [
       "array([[0, 1, 2],\n",
       "       [1, 2, 3],\n",
       "       [2, 3, 4]])"
      ]
     },
     "execution_count": 292,
     "metadata": {},
     "output_type": "execute_result"
    }
   ],
   "source": [
    "a + c"
   ]
  },
  {
   "cell_type": "markdown",
   "id": "64807f02-0cf3-4d48-a375-c7db15212d2c",
   "metadata": {},
   "source": [
    "Tạo thành ma trận 3 nhân ba với c thì nhân 3 và a cũng nhân 3 lên"
   ]
  },
  {
   "cell_type": "markdown",
   "id": "78f250c8-8c37-4f88-9500-0e993c680d56",
   "metadata": {},
   "source": [
    "### Manipulating"
   ]
  },
  {
   "cell_type": "markdown",
   "id": "9de8fba6-8681-46be-87d3-32f395244642",
   "metadata": {},
   "source": [
    "#### Aggregation: Phép toán cho 1 Array"
   ]
  },
  {
   "cell_type": "code",
   "execution_count": 297,
   "id": "0c0c6416-8a1d-47a1-b881-49dafd9f8f9a",
   "metadata": {},
   "outputs": [],
   "source": [
    "ll = [1, 2, 3]\n",
    "list_n = np.array(ll)"
   ]
  },
  {
   "cell_type": "code",
   "execution_count": 299,
   "id": "4c3fac88-1baa-448d-86b9-5884ffec85f1",
   "metadata": {},
   "outputs": [
    {
     "data": {
      "text/plain": [
       "array([1, 2, 3])"
      ]
     },
     "execution_count": 299,
     "metadata": {},
     "output_type": "execute_result"
    }
   ],
   "source": [
    "list_n"
   ]
  },
  {
   "cell_type": "code",
   "execution_count": 305,
   "id": "c001efb4-3551-4c00-bfc8-648a761dd2a3",
   "metadata": {},
   "outputs": [
    {
     "data": {
      "text/plain": [
       "6"
      ]
     },
     "execution_count": 305,
     "metadata": {},
     "output_type": "execute_result"
    }
   ],
   "source": [
    "np.sum(list_n) # Tính toàn từ thư viện Numpy"
   ]
  },
  {
   "cell_type": "code",
   "execution_count": 307,
   "id": "a1b4deb0-af37-478f-bc7f-0be5d8d2441f",
   "metadata": {},
   "outputs": [
    {
     "data": {
      "text/plain": [
       "6"
      ]
     },
     "execution_count": 307,
     "metadata": {},
     "output_type": "execute_result"
    }
   ],
   "source": [
    "sum(list_n) # Tính toán nhanh chóng hơn"
   ]
  },
  {
   "cell_type": "code",
   "execution_count": 309,
   "id": "5acc615e-3edc-40ac-b051-b92488e25088",
   "metadata": {},
   "outputs": [
    {
     "data": {
      "text/plain": [
       "(1000,)"
      ]
     },
     "execution_count": 309,
     "metadata": {},
     "output_type": "execute_result"
    }
   ],
   "source": [
    "# Tạo mảng lớn\n",
    "d = np.random.random(1000)\n",
    "d[:5]\n",
    "d.shape"
   ]
  },
  {
   "cell_type": "markdown",
   "id": "4bddebc2-3977-4bf8-aa61-d4de308887d5",
   "metadata": {},
   "source": [
    "Numpy dùng phép toán nhanh hơn Python trong bảng đa chiều"
   ]
  },
  {
   "cell_type": "code",
   "execution_count": 318,
   "id": "bb523ce5-5701-40ed-b2ce-719151a653ba",
   "metadata": {},
   "outputs": [
    {
     "data": {
      "text/plain": [
       "0.503547102984419"
      ]
     },
     "execution_count": 318,
     "metadata": {},
     "output_type": "execute_result"
    }
   ],
   "source": [
    "np.mean(d) # Trung bình"
   ]
  },
  {
   "cell_type": "code",
   "execution_count": 320,
   "id": "eeaada3c-1c2a-452b-af25-d8f1f22c0daa",
   "metadata": {},
   "outputs": [
    {
     "data": {
      "text/plain": [
       "0.9979151723971315"
      ]
     },
     "execution_count": 320,
     "metadata": {},
     "output_type": "execute_result"
    }
   ],
   "source": [
    "np.max(d) # Gía trị lớn nhất"
   ]
  },
  {
   "cell_type": "code",
   "execution_count": 322,
   "id": "422caa81-3a16-44a4-bedb-77ebd78fec1e",
   "metadata": {},
   "outputs": [
    {
     "data": {
      "text/plain": [
       "0.0013085300252044796"
      ]
     },
     "execution_count": 322,
     "metadata": {},
     "output_type": "execute_result"
    }
   ],
   "source": [
    "np.min(d) # Gía trị nhỏ nhất"
   ]
  },
  {
   "cell_type": "markdown",
   "id": "855370ea-4c02-4e8d-abf5-8ebccbd5da61",
   "metadata": {},
   "source": [
    " ### Độ lệch chuẩn và Phương sai ( Xắc suất thống kê )"
   ]
  },
  {
   "cell_type": "markdown",
   "id": "e06d1fb0-33ec-4a17-99fb-3e00da43ad8e",
   "metadata": {},
   "source": [
    "Độ lệch chuẩn: là kích thước độ phân tán của dữ liệu so vói giá trị mean\n",
    "Phương sai: Từng điểm trong dữ liệu trừ đi giá trị trung bình rồi bình phương rồi tính giá trị trung bình của bình phương đó với nhau"
   ]
  },
  {
   "cell_type": "code",
   "execution_count": 331,
   "id": "f35ceedc-135a-4f7a-8cc0-9b221fb97d1c",
   "metadata": {},
   "outputs": [],
   "source": [
    "dog_height = [600, 470, 170, 430, 300] # Tạo Mảng lưu trữ chiều cao của những con chó\n",
    "e = np.array(dog_height)"
   ]
  },
  {
   "cell_type": "code",
   "execution_count": 349,
   "id": "00f26bda-b8b5-4f2b-9a19-630ae025eedc",
   "metadata": {},
   "outputs": [
    {
     "data": {
      "text/plain": [
       "147.32277488562318"
      ]
     },
     "execution_count": 349,
     "metadata": {},
     "output_type": "execute_result"
    }
   ],
   "source": [
    "np.std(e) # Tính độ lệch chuẩn"
   ]
  },
  {
   "cell_type": "code",
   "execution_count": 351,
   "id": "00d7aa5b-64e9-467b-b8a4-e4bbbe9d5602",
   "metadata": {},
   "outputs": [
    {
     "data": {
      "text/plain": [
       "21704.0"
      ]
     },
     "execution_count": 351,
     "metadata": {},
     "output_type": "execute_result"
    }
   ],
   "source": [
    "np.var(e) # Tính phương sai"
   ]
  },
  {
   "cell_type": "code",
   "execution_count": 353,
   "id": "7931398a-fb0b-4442-a534-2ef30b131ff9",
   "metadata": {},
   "outputs": [
    {
     "data": {
      "text/plain": [
       "147.32277488562318"
      ]
     },
     "execution_count": 353,
     "metadata": {},
     "output_type": "execute_result"
    }
   ],
   "source": [
    "np.sqrt(np.var(e))"
   ]
  },
  {
   "cell_type": "code",
   "execution_count": 355,
   "id": "a33fe6d2-0a4a-4b54-8521-5aaeb1910fb0",
   "metadata": {},
   "outputs": [
    {
     "data": {
      "text/plain": [
       "394.0"
      ]
     },
     "execution_count": 355,
     "metadata": {},
     "output_type": "execute_result"
    }
   ],
   "source": [
    "np.mean(e) # Tính trung bình"
   ]
  },
  {
   "cell_type": "markdown",
   "id": "1ba6366f-fc56-41fc-8fe1-b54af3b56ee2",
   "metadata": {},
   "source": [
    "### Sắp xếp Mảng"
   ]
  },
  {
   "cell_type": "code",
   "execution_count": 371,
   "id": "86a2d8a1-af58-4487-a51f-8089c01a8412",
   "metadata": {},
   "outputs": [
    {
     "data": {
      "text/plain": [
       "array([1, 2, 5, 7, 9])"
      ]
     },
     "execution_count": 371,
     "metadata": {},
     "output_type": "execute_result"
    }
   ],
   "source": [
    "arr = np.array([2, 5, 7, 9, 1])\n",
    "np.sort(arr) # Sắp xếp măng tăng dần"
   ]
  },
  {
   "cell_type": "code",
   "execution_count": 381,
   "id": "7b768bf2-1333-4abb-999b-567682a2b5c0",
   "metadata": {},
   "outputs": [
    {
     "data": {
      "text/plain": [
       "array([4, 0, 1, 2, 3], dtype=int64)"
      ]
     },
     "execution_count": 381,
     "metadata": {},
     "output_type": "execute_result"
    }
   ],
   "source": [
    "np.argsort(arr) # Trả về vị trí của Index trước khi xắp xếp"
   ]
  },
  {
   "cell_type": "markdown",
   "id": "ec5e4220-f987-40fc-84dd-effcf28c5e4b",
   "metadata": {},
   "source": [
    "#### Xắp sếp mảng đa chiều"
   ]
  },
  {
   "cell_type": "code",
   "execution_count": 390,
   "id": "2e50474f-9b76-46e6-9a7b-4c235969a26a",
   "metadata": {},
   "outputs": [],
   "source": [
    "np.random.seed(42)\n",
    "f = np.random.randint(0,10, size=(4, 6))"
   ]
  },
  {
   "cell_type": "code",
   "execution_count": 394,
   "id": "ebcf204c-81ae-43f4-9a4e-4a86e00a6573",
   "metadata": {},
   "outputs": [
    {
     "data": {
      "text/plain": [
       "array([[6, 3, 7, 4, 6, 9],\n",
       "       [2, 6, 7, 4, 3, 7],\n",
       "       [7, 2, 5, 4, 1, 7],\n",
       "       [5, 1, 4, 0, 9, 5]])"
      ]
     },
     "execution_count": 394,
     "metadata": {},
     "output_type": "execute_result"
    }
   ],
   "source": [
    "f"
   ]
  },
  {
   "cell_type": "code",
   "execution_count": 398,
   "id": "0c524b59-d9fa-4359-abcc-9c04c9f66a0b",
   "metadata": {},
   "outputs": [
    {
     "data": {
      "text/plain": [
       "array([[2, 1, 4, 0, 1, 5],\n",
       "       [5, 2, 5, 4, 3, 7],\n",
       "       [6, 3, 7, 4, 6, 7],\n",
       "       [7, 6, 7, 4, 9, 9]])"
      ]
     },
     "execution_count": 398,
     "metadata": {},
     "output_type": "execute_result"
    }
   ],
   "source": [
    "np.sort(f, axis=0) # Xắp xếp theo cột"
   ]
  },
  {
   "cell_type": "code",
   "execution_count": 402,
   "id": "cf06a207-5c96-41ea-b967-385869963fc7",
   "metadata": {},
   "outputs": [
    {
     "data": {
      "text/plain": [
       "array([[3, 4, 6, 6, 7, 9],\n",
       "       [2, 3, 4, 6, 7, 7],\n",
       "       [1, 2, 4, 5, 7, 7],\n",
       "       [0, 1, 4, 5, 5, 9]])"
      ]
     },
     "execution_count": 402,
     "metadata": {},
     "output_type": "execute_result"
    }
   ],
   "source": [
    "np.sort(f, axis=1) # Sắp xếp theo hàng"
   ]
  },
  {
   "cell_type": "markdown",
   "id": "22cb5a01-d453-4ceb-8b22-e579263238b1",
   "metadata": {},
   "source": [
    "### Đại số tuyến tính ( Nhân Ma Trận )"
   ]
  },
  {
   "cell_type": "code",
   "execution_count": 407,
   "id": "12ecb6af-a251-41f9-a5fb-d2a7395f289a",
   "metadata": {},
   "outputs": [],
   "source": [
    "MarA = np.array(([1, 2, 3],\n",
    "               [4, 5, 6],\n",
    "               [7, 8, 9]))"
   ]
  },
  {
   "cell_type": "code",
   "execution_count": 411,
   "id": "9422fdb3-ea02-4489-8069-457bd6516e41",
   "metadata": {},
   "outputs": [
    {
     "data": {
      "text/plain": [
       "array([[1, 2, 3],\n",
       "       [4, 5, 6],\n",
       "       [7, 8, 9]])"
      ]
     },
     "execution_count": 411,
     "metadata": {},
     "output_type": "execute_result"
    }
   ],
   "source": [
    "MarA"
   ]
  },
  {
   "cell_type": "code",
   "execution_count": 413,
   "id": "20963863-027c-47e1-807f-b97a96a93325",
   "metadata": {},
   "outputs": [],
   "source": [
    "MarB = np.array(([6, 5],\n",
    "                [4, 3],\n",
    "                [2, 1]))"
   ]
  },
  {
   "cell_type": "markdown",
   "id": "34f46308-8286-42b3-b227-3139b9c34960",
   "metadata": {},
   "source": [
    "Tích vô hướng giữa ma trận A và B là một ma trận 2 x 3"
   ]
  },
  {
   "cell_type": "code",
   "execution_count": 419,
   "id": "1a4db2a0-f099-4934-b779-e3a16889ff3f",
   "metadata": {},
   "outputs": [
    {
     "data": {
      "text/plain": [
       "array([[20, 14],\n",
       "       [56, 41],\n",
       "       [92, 68]])"
      ]
     },
     "execution_count": 419,
     "metadata": {},
     "output_type": "execute_result"
    }
   ],
   "source": [
    "MarA.dot(MarB) # Tính tích vô hướng giữa Ma Trận A và B"
   ]
  },
  {
   "cell_type": "code",
   "execution_count": 424,
   "id": "aa5956af-ab74-4f2a-b8d3-1cd202212298",
   "metadata": {},
   "outputs": [
    {
     "data": {
      "text/plain": [
       "array([[20, 14],\n",
       "       [56, 41],\n",
       "       [92, 68]])"
      ]
     },
     "execution_count": 424,
     "metadata": {},
     "output_type": "execute_result"
    }
   ],
   "source": [
    "MarA @ MarB # Cũng được dùng để tính tích vô hướng"
   ]
  },
  {
   "cell_type": "code",
   "execution_count": 428,
   "id": "80e54dfd-365b-46b4-a1c7-d0f62b6a9ed4",
   "metadata": {},
   "outputs": [
    {
     "data": {
      "text/plain": [
       "array([[36, 48, 60],\n",
       "       [24, 33, 42]])"
      ]
     },
     "execution_count": 428,
     "metadata": {},
     "output_type": "execute_result"
    }
   ],
   "source": [
    "MarB.T @ MarA # Tích vô hướng của Ma trận B đổi chiều và Ma trận A"
   ]
  },
  {
   "cell_type": "markdown",
   "id": "7cfc152c-0f70-4e38-9430-6c6c73c76355",
   "metadata": {},
   "source": [
    "#### Ví dụ về Tích Vô Hướng"
   ]
  },
  {
   "cell_type": "code",
   "execution_count": 439,
   "id": "2339498e-6f27-4ded-93c0-4902bcf8918a",
   "metadata": {},
   "outputs": [],
   "source": [
    "np.random.seed(0)\n",
    "sales_amounts = np.random.randint(20, size=(5,3))"
   ]
  },
  {
   "cell_type": "code",
   "execution_count": 443,
   "id": "f117ee93-753b-4f93-be06-99a06d0abcec",
   "metadata": {},
   "outputs": [],
   "source": [
    "import pandas as pd \n",
    "weekly_series = pd.DataFrame(sales_amounts, index = [\"Mon\", \"Tues\", \"Wed \",\"Thurs\", \"Fri\"],\n",
    "                                            columns = [\"Almond Butter\", \"Peanut Butter\",\"Cashew Butter\"])"
   ]
  },
  {
   "cell_type": "code",
   "execution_count": 447,
   "id": "c3f492be-6dc2-4055-9635-3b0f1f72df55",
   "metadata": {},
   "outputs": [
    {
     "data": {
      "text/html": [
       "<div>\n",
       "<style scoped>\n",
       "    .dataframe tbody tr th:only-of-type {\n",
       "        vertical-align: middle;\n",
       "    }\n",
       "\n",
       "    .dataframe tbody tr th {\n",
       "        vertical-align: top;\n",
       "    }\n",
       "\n",
       "    .dataframe thead th {\n",
       "        text-align: right;\n",
       "    }\n",
       "</style>\n",
       "<table border=\"1\" class=\"dataframe\">\n",
       "  <thead>\n",
       "    <tr style=\"text-align: right;\">\n",
       "      <th></th>\n",
       "      <th>Almond Butter</th>\n",
       "      <th>Peanut Butter</th>\n",
       "      <th>Cashew Butter</th>\n",
       "    </tr>\n",
       "  </thead>\n",
       "  <tbody>\n",
       "    <tr>\n",
       "      <th>Mon</th>\n",
       "      <td>12</td>\n",
       "      <td>15</td>\n",
       "      <td>0</td>\n",
       "    </tr>\n",
       "    <tr>\n",
       "      <th>Tues</th>\n",
       "      <td>3</td>\n",
       "      <td>3</td>\n",
       "      <td>7</td>\n",
       "    </tr>\n",
       "    <tr>\n",
       "      <th>Wed</th>\n",
       "      <td>9</td>\n",
       "      <td>19</td>\n",
       "      <td>18</td>\n",
       "    </tr>\n",
       "    <tr>\n",
       "      <th>Thurs</th>\n",
       "      <td>4</td>\n",
       "      <td>6</td>\n",
       "      <td>12</td>\n",
       "    </tr>\n",
       "    <tr>\n",
       "      <th>Fri</th>\n",
       "      <td>1</td>\n",
       "      <td>6</td>\n",
       "      <td>7</td>\n",
       "    </tr>\n",
       "  </tbody>\n",
       "</table>\n",
       "</div>"
      ],
      "text/plain": [
       "       Almond Butter  Peanut Butter  Cashew Butter\n",
       "Mon               12             15              0\n",
       "Tues               3              3              7\n",
       "Wed                9             19             18\n",
       "Thurs              4              6             12\n",
       "Fri                1              6              7"
      ]
     },
     "execution_count": 447,
     "metadata": {},
     "output_type": "execute_result"
    }
   ],
   "source": [
    "weekly_series # Tạo DâtFrame từ dư liệu thô Pandas"
   ]
  },
  {
   "cell_type": "code",
   "execution_count": 455,
   "id": "e6f5ec5c-f0a0-4657-9553-e181f0a3fc5d",
   "metadata": {},
   "outputs": [
    {
     "data": {
      "text/plain": [
       "(3,)"
      ]
     },
     "execution_count": 455,
     "metadata": {},
     "output_type": "execute_result"
    }
   ],
   "source": [
    "prices = np.array([10, 8 ,12]) # Tạo mảng chứa giá sản phẩm\n",
    "prices.shape"
   ]
  },
  {
   "cell_type": "code",
   "execution_count": 465,
   "id": "02d4266a-d6ad-43dc-9bdc-5b6418cf6c9d",
   "metadata": {},
   "outputs": [],
   "source": [
    "butter_prices = pd.DataFrame(prices.reshape(1, 3), index = [\"Prices\"], columns=[\"Almond Butter\", \"Peanut Butter\",\"Cashew Butter\"])"
   ]
  },
  {
   "cell_type": "code",
   "execution_count": 467,
   "id": "3fa12e14-b7b6-4d4e-9dde-dd8a227afc6b",
   "metadata": {},
   "outputs": [
    {
     "data": {
      "text/html": [
       "<div>\n",
       "<style scoped>\n",
       "    .dataframe tbody tr th:only-of-type {\n",
       "        vertical-align: middle;\n",
       "    }\n",
       "\n",
       "    .dataframe tbody tr th {\n",
       "        vertical-align: top;\n",
       "    }\n",
       "\n",
       "    .dataframe thead th {\n",
       "        text-align: right;\n",
       "    }\n",
       "</style>\n",
       "<table border=\"1\" class=\"dataframe\">\n",
       "  <thead>\n",
       "    <tr style=\"text-align: right;\">\n",
       "      <th></th>\n",
       "      <th>Almond Butter</th>\n",
       "      <th>Peanut Butter</th>\n",
       "      <th>Cashew Butter</th>\n",
       "    </tr>\n",
       "  </thead>\n",
       "  <tbody>\n",
       "    <tr>\n",
       "      <th>Prices</th>\n",
       "      <td>10</td>\n",
       "      <td>8</td>\n",
       "      <td>12</td>\n",
       "    </tr>\n",
       "  </tbody>\n",
       "</table>\n",
       "</div>"
      ],
      "text/plain": [
       "        Almond Butter  Peanut Butter  Cashew Butter\n",
       "Prices             10              8             12"
      ]
     },
     "execution_count": 467,
     "metadata": {},
     "output_type": "execute_result"
    }
   ],
   "source": [
    "butter_prices"
   ]
  },
  {
   "cell_type": "code",
   "execution_count": 469,
   "id": "6ffca80d-0e4e-4b50-ae13-ec838e531e69",
   "metadata": {},
   "outputs": [
    {
     "data": {
      "text/plain": [
       "((1, 3), (5, 3))"
      ]
     },
     "execution_count": 469,
     "metadata": {},
     "output_type": "execute_result"
    }
   ],
   "source": [
    "butter_prices.shape, weekly_series.shape"
   ]
  },
  {
   "cell_type": "code",
   "execution_count": 471,
   "id": "8e8bfbec-9588-450e-ba25-15b2f5c9f40c",
   "metadata": {},
   "outputs": [],
   "source": [
    "total_prices = weekly_series @ butter_prices.T"
   ]
  },
  {
   "cell_type": "code",
   "execution_count": 473,
   "id": "902647f1-5976-47b6-8faf-afcd7deaa3ea",
   "metadata": {},
   "outputs": [],
   "source": [
    "weekly_series[\"Total_Prices\"] = total_prices"
   ]
  },
  {
   "cell_type": "code",
   "execution_count": 475,
   "id": "124c7d4e-682d-40b0-b2de-005ec703435f",
   "metadata": {},
   "outputs": [
    {
     "data": {
      "text/html": [
       "<div>\n",
       "<style scoped>\n",
       "    .dataframe tbody tr th:only-of-type {\n",
       "        vertical-align: middle;\n",
       "    }\n",
       "\n",
       "    .dataframe tbody tr th {\n",
       "        vertical-align: top;\n",
       "    }\n",
       "\n",
       "    .dataframe thead th {\n",
       "        text-align: right;\n",
       "    }\n",
       "</style>\n",
       "<table border=\"1\" class=\"dataframe\">\n",
       "  <thead>\n",
       "    <tr style=\"text-align: right;\">\n",
       "      <th></th>\n",
       "      <th>Almond Butter</th>\n",
       "      <th>Peanut Butter</th>\n",
       "      <th>Cashew Butter</th>\n",
       "      <th>Total_Prices</th>\n",
       "    </tr>\n",
       "  </thead>\n",
       "  <tbody>\n",
       "    <tr>\n",
       "      <th>Mon</th>\n",
       "      <td>12</td>\n",
       "      <td>15</td>\n",
       "      <td>0</td>\n",
       "      <td>240</td>\n",
       "    </tr>\n",
       "    <tr>\n",
       "      <th>Tues</th>\n",
       "      <td>3</td>\n",
       "      <td>3</td>\n",
       "      <td>7</td>\n",
       "      <td>138</td>\n",
       "    </tr>\n",
       "    <tr>\n",
       "      <th>Wed</th>\n",
       "      <td>9</td>\n",
       "      <td>19</td>\n",
       "      <td>18</td>\n",
       "      <td>458</td>\n",
       "    </tr>\n",
       "    <tr>\n",
       "      <th>Thurs</th>\n",
       "      <td>4</td>\n",
       "      <td>6</td>\n",
       "      <td>12</td>\n",
       "      <td>232</td>\n",
       "    </tr>\n",
       "    <tr>\n",
       "      <th>Fri</th>\n",
       "      <td>1</td>\n",
       "      <td>6</td>\n",
       "      <td>7</td>\n",
       "      <td>142</td>\n",
       "    </tr>\n",
       "  </tbody>\n",
       "</table>\n",
       "</div>"
      ],
      "text/plain": [
       "       Almond Butter  Peanut Butter  Cashew Butter  Total_Prices\n",
       "Mon               12             15              0           240\n",
       "Tues               3              3              7           138\n",
       "Wed                9             19             18           458\n",
       "Thurs              4              6             12           232\n",
       "Fri                1              6              7           142"
      ]
     },
     "execution_count": 475,
     "metadata": {},
     "output_type": "execute_result"
    }
   ],
   "source": [
    "weekly_series"
   ]
  }
 ],
 "metadata": {
  "kernelspec": {
   "display_name": "Python 3 (ipykernel)",
   "language": "python",
   "name": "python3"
  },
  "language_info": {
   "codemirror_mode": {
    "name": "ipython",
    "version": 3
   },
   "file_extension": ".py",
   "mimetype": "text/x-python",
   "name": "python",
   "nbconvert_exporter": "python",
   "pygments_lexer": "ipython3",
   "version": "3.12.4"
  }
 },
 "nbformat": 4,
 "nbformat_minor": 5
}
